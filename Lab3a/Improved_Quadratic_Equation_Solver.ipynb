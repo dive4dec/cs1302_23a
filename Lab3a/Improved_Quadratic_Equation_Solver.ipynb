{
 "cells": [
  {
   "cell_type": "markdown",
   "id": "803d8c44",
   "metadata": {
    "slideshow": {
     "slide_type": "slide"
    }
   },
   "source": [
    "# Improved Quadratic Equation Solver"
   ]
  },
  {
   "cell_type": "markdown",
   "id": "6d1a10ee",
   "metadata": {
    "slideshow": {
     "slide_type": "-"
    },
    "tags": [
     "remove-cell"
    ]
   },
   "source": [
    "CS1302 Introduction to Computer Programming\n",
    "___"
   ]
  },
  {
   "cell_type": "code",
   "execution_count": null,
   "id": "3270acce",
   "metadata": {},
   "outputs": [],
   "source": [
    "import math\n",
    "import numpy as np\n",
    "from ipywidgets import interact"
   ]
  },
  {
   "cell_type": "markdown",
   "id": "65d4533e",
   "metadata": {
    "slideshow": {
     "slide_type": "subslide"
    }
   },
   "source": [
    "In this notebook, we will improve the quadratic equation solver in the previous lab using conditional executions."
   ]
  },
  {
   "cell_type": "markdown",
   "id": "d1194d33",
   "metadata": {
    "slideshow": {
     "slide_type": "subslide"
    }
   },
   "source": [
    "## Discriminant"
   ]
  },
  {
   "cell_type": "markdown",
   "id": "ce3fa234",
   "metadata": {
    "slideshow": {
     "slide_type": "fragment"
    }
   },
   "source": [
    "Recall that a quadratic equation is\n",
    "\n",
    "$$\n",
    "ax^2+bx+c=0\n",
    "$$ (eq:quadratic)\n",
    "\n",
    "where $a$, $b$, and $c$ are real-valued coefficients, and $x$ is the unknown variable."
   ]
  },
  {
   "cell_type": "markdown",
   "id": "114df871",
   "metadata": {},
   "source": [
    "::::{prf:definition} Discriminant\n",
    "\n",
    "\n",
    "The disciminant of a quadratic equation is defined as\n",
    "\n",
    "$$\n",
    "\\Delta := b^2 - 4ac.\n",
    "$$ (eq:discriminant)\n",
    "\n",
    "::::"
   ]
  },
  {
   "cell_type": "markdown",
   "id": "dbafd189",
   "metadata": {},
   "source": [
    "The discriminant $\\Delta$ discriminates the roots \n",
    "\n",
    "$$\\frac{-b\\pm \\sqrt{\\Delta}}{2a}$$ (roots)\n",
    "\n",
    "of a quadratic equation:"
   ]
  },
  {
   "cell_type": "markdown",
   "id": "0e0e01f8",
   "metadata": {
    "slideshow": {
     "slide_type": "fragment"
    }
   },
   "source": [
    "::::{prf:proposition}\n",
    "\n",
    "The roots of a quadratic equation {eq}`eq:quadratic` are both equal to \n",
    "\n",
    "$$-\\frac{b}{2a}$$ (eq:repeated_root)\n",
    "\n",
    "if and only if the discriminant is zero, i.e., $\\Delta=0$.\n",
    "\n",
    "::::"
   ]
  },
  {
   "cell_type": "markdown",
   "id": "5d9b2dcb",
   "metadata": {},
   "source": [
    "For example, if $(a,b,c)=(1,-2,1)$, then \n",
    "\n",
    "$$\\Delta = (-2)^2 - 4(1\\cdot 1) = 0$$\n",
    "\n",
    "and so the repeated root is\n",
    "\n",
    "$$\n",
    "- \\frac{b}{2a} = \\frac{2}2 = 1.\n",
    "$$\n",
    "\n",
    "$(x-1)^2 = x^2 - 2x + 1$ as expected."
   ]
  },
  {
   "cell_type": "markdown",
   "id": "246808fa",
   "metadata": {
    "slideshow": {
     "slide_type": "subslide"
    }
   },
   "source": [
    "::::{exercise}  \n",
    ":label: zero-determinant\n",
    "\n",
    "Complete the following function by assigning `roots` only one root when the discriminant is zero. E.g., if `(a, b, c) == (1, -2, 1)`, then `roots` should be assigned the value `1.0` instead of `1.0, 1.0`.\n",
    "\n",
    ":::{hint}\n",
    ":class: dropdown\n",
    "\n",
    "You may use the [`if` statement](https://docs.python.org/3/reference/compound_stmts.html#if) as follows:\n",
    "\n",
    "```python\n",
    "def get_roots(a, b, c):\n",
    "    d = b**2 - 4 * a * c    # discriminant\n",
    "    if math.isclose(d, 0):\n",
    "        roots = ...  # repeated root\n",
    "    else:\n",
    "        d **= 0.5\n",
    "        roots = ...\n",
    "    return root\n",
    "```\n",
    "\n",
    "Replace `...` in the above code cell by your code. If you have a better implementation, you need *not* follow the solution template. E.g., you can write your solution entirely using boolean operations without any `if` statement.\n",
    ":::\n",
    "\n",
    "::::"
   ]
  },
  {
   "cell_type": "code",
   "execution_count": null,
   "id": "eabd9518",
   "metadata": {
    "deletable": false,
    "nbgrader": {
     "cell_type": "code",
     "checksum": "d714929836f19c943b792e1658f5a8e1",
     "grade": false,
     "grade_id": "zero_determininant",
     "locked": false,
     "schema_version": 3,
     "solution": true,
     "task": false
    },
    "slideshow": {
     "slide_type": "fragment"
    },
    "tags": [
     "remove-output"
    ]
   },
   "outputs": [],
   "source": [
    "def get_roots(a, b, c):\n",
    "    d = b**2 - 4 * a * c    # discriminant\n",
    "    if math.isclose(d, 0):\n",
    "    # YOUR CODE HERE\n",
    "    raise NotImplementedError()\n",
    "    return roots"
   ]
  },
  {
   "cell_type": "code",
   "execution_count": null,
   "id": "7bc0e498",
   "metadata": {
    "code_folding": [
     0
    ],
    "deletable": false,
    "editable": false,
    "nbgrader": {
     "cell_type": "code",
     "checksum": "e8c362e0e7b5e5fd9e28381852c32c4a",
     "grade": true,
     "grade_id": "test-zero_determinant",
     "locked": true,
     "points": 1,
     "schema_version": 3,
     "solution": false,
     "task": false
    },
    "tags": [
     "hide-input",
     "remove-output"
    ]
   },
   "outputs": [],
   "source": [
    "# tests\n",
    "assert np.isclose(get_roots(1, 1, 0), (-1.0, 0.0)).all()\n",
    "assert np.isclose(get_roots(1, 0, 0), 0.0).all()"
   ]
  },
  {
   "cell_type": "code",
   "execution_count": null,
   "id": "29408599",
   "metadata": {
    "code_folding": [
     0
    ],
    "deletable": false,
    "editable": false,
    "nbgrader": {
     "cell_type": "code",
     "checksum": "ea74289e50129048beb923088ce499c8",
     "grade": true,
     "grade_id": "hidden_test-zero_determinant",
     "locked": true,
     "points": 1,
     "schema_version": 3,
     "solution": false,
     "task": false
    },
    "tags": [
     "remove-cell"
    ]
   },
   "outputs": [],
   "source": [
    "# hidden tests"
   ]
  },
  {
   "cell_type": "markdown",
   "id": "6ddb09a0",
   "metadata": {
    "slideshow": {
     "slide_type": "fragment"
    }
   },
   "source": [
    "::::{exercise}\n",
    ":label: ex:isclose\n",
    "\n",
    "Why use `math.isclose(d, 0)` instead of `d == 0`?\n",
    "\n",
    "::::"
   ]
  },
  {
   "cell_type": "markdown",
   "id": "967cda28",
   "metadata": {
    "deletable": false,
    "nbgrader": {
     "cell_type": "markdown",
     "checksum": "12889805830e3af64988ae0de141f1b7",
     "grade": true,
     "grade_id": "isclose",
     "locked": false,
     "points": 1,
     "schema_version": 3,
     "solution": true,
     "task": false
    },
    "slideshow": {
     "slide_type": "fragment"
    }
   },
   "source": [
    "YOUR ANSWER HERE"
   ]
  },
  {
   "cell_type": "markdown",
   "id": "ac508b21",
   "metadata": {
    "slideshow": {
     "slide_type": "slide"
    }
   },
   "source": [
    "## Linear equation"
   ]
  },
  {
   "cell_type": "markdown",
   "id": "57967ac4",
   "metadata": {
    "slideshow": {
     "slide_type": "fragment"
    }
   },
   "source": [
    "::::{exercise}\n",
    ":label: ex:zero-a\n",
    "\n",
    "Give the name of the error that the formula {eq}`roots` implemented in python will raise when $a=0$. Explain whether it is a runtime error or not.\n",
    "\n",
    "::::"
   ]
  },
  {
   "cell_type": "markdown",
   "id": "797eb7b6",
   "metadata": {
    "deletable": false,
    "nbgrader": {
     "cell_type": "markdown",
     "checksum": "2834199d60471cb799ae58c813746d4a",
     "grade": true,
     "grade_id": "zero-a",
     "locked": false,
     "points": 1,
     "schema_version": 3,
     "solution": true,
     "task": false
    },
    "slideshow": {
     "slide_type": "fragment"
    }
   },
   "source": [
    "YOUR ANSWER HERE"
   ]
  },
  {
   "cell_type": "markdown",
   "id": "10d0da0f",
   "metadata": {},
   "source": [
    "Nevertheless, the quadratic equation remains valid:\n",
    "\n",
    "$$\n",
    "bx + c=0,\n",
    "$$\n",
    "\n",
    "the root of which is $x = -\\frac{c}b$."
   ]
  },
  {
   "cell_type": "markdown",
   "id": "ade410a2",
   "metadata": {},
   "source": [
    "::::{exercise}\n",
    ":label: linear\n",
    "\n",
    "Improve the function `get_roots` to return the root $-\\frac{c}{b}$ when $a=0$.\n",
    "\n",
    ":::{hint}\n",
    ":class: dropdown\n",
    "\n",
    "Solution template:\n",
    "\n",
    "```python\n",
    "def get_roots(a, b, c):\n",
    "    d = b**2 - 4 * a * c    # discriminant\n",
    "    if ...:\n",
    "        roots = ...\n",
    "    elif math.isclose(d, 0):\n",
    "        roots = ...  # repeated root\n",
    "    else:\n",
    "        d **= 0.5\n",
    "        roots = ...\n",
    "    return roots\n",
    "```\n",
    "\n",
    "::::"
   ]
  },
  {
   "cell_type": "code",
   "execution_count": null,
   "id": "0903d9fe",
   "metadata": {
    "deletable": false,
    "nbgrader": {
     "cell_type": "code",
     "checksum": "91cb96a126c80c4bee75a1b75d10817d",
     "grade": false,
     "grade_id": "linear",
     "locked": false,
     "schema_version": 3,
     "solution": true,
     "task": false
    },
    "tags": [
     "remove-output"
    ]
   },
   "outputs": [],
   "source": [
    "def get_roots(a, b, c):\n",
    "    d = b**2 - 4 * a * c\n",
    "    # YOUR CODE HERE\n",
    "    raise NotImplementedError()\n",
    "    return roots"
   ]
  },
  {
   "cell_type": "code",
   "execution_count": null,
   "id": "c44e1f6e",
   "metadata": {
    "code_folding": [],
    "deletable": false,
    "editable": false,
    "nbgrader": {
     "cell_type": "code",
     "checksum": "cc2f2a8fdbfa61094c61c5e02a4b1551",
     "grade": true,
     "grade_id": "test-linear",
     "locked": true,
     "points": 1,
     "schema_version": 3,
     "solution": false,
     "task": false
    },
    "tags": [
     "remove-output",
     "hide-input"
    ]
   },
   "outputs": [],
   "source": [
    "# tests\n",
    "assert np.isclose(get_roots(1, 1, 0), (-1.0, 0.0)).all()\n",
    "assert np.isclose(get_roots(1, 0, 0), 0.0).all()\n",
    "assert np.isclose(get_roots(1, -2, 1), 1.0).all()\n",
    "assert np.isclose(get_roots(0, -2, 1), 0.5).all()"
   ]
  },
  {
   "cell_type": "code",
   "execution_count": null,
   "id": "91524b3e",
   "metadata": {
    "code_folding": [
     0
    ],
    "deletable": false,
    "editable": false,
    "nbgrader": {
     "cell_type": "code",
     "checksum": "0b77d8b49baaccd677119a45a0a2a230",
     "grade": true,
     "grade_id": "hidden_test-linear",
     "locked": true,
     "points": 1,
     "schema_version": 3,
     "solution": false,
     "task": false
    },
    "tags": [
     "remove-cell"
    ]
   },
   "outputs": [],
   "source": [
    "# hidden tests"
   ]
  },
  {
   "cell_type": "markdown",
   "id": "85c5024f",
   "metadata": {},
   "source": [
    "## Degenerate cases"
   ]
  },
  {
   "cell_type": "markdown",
   "id": "dd8a8448",
   "metadata": {},
   "source": [
    "What if $a=b=0$? In this case, the equation becomes\n",
    "\n",
    "$$\n",
    "c = 0\n",
    "$$\n",
    "which is always satisfied if $c=0$ but never satisfied if $c\\neq 0$."
   ]
  },
  {
   "cell_type": "markdown",
   "id": "8587e792",
   "metadata": {
    "slideshow": {
     "slide_type": "fragment"
    }
   },
   "source": [
    "::::{exercise}\n",
    ":label: degenerate\n",
    "\n",
    "Improve the function `get_roots` to return root(s) under all the following cases:\n",
    "- If $a=0$ and $b\\neq 0$, assign `roots` to the single root $-\\frac{c}{b}$. \n",
    "- If $a=b=0$ and $c\\neq 0$, assign `roots` to `None`.\n",
    "- If $a=b=c=0$, there are infinitely many roots. Assign to `roots` the tuple `-float('inf'), float('inf')`.  \n",
    "    Note that `float('inf')` converts the string `'inf'` to a floating point value that represents $\\infty$.\n",
    "    \n",
    ":::{caution}\n",
    "- `None` a *python keyword* that refers to a special object. You should *NOT* regard it as a string or quote it. (~~`\"None\"`~~).\n",
    "- `float('inf')` converts the string `'inf'` to a floating point number no smaller than any other floating point numbers. You should *NOT* write `inf`, which needs not refer to `float('inf')`.\n",
    ":::\n",
    "\n",
    "::::"
   ]
  },
  {
   "cell_type": "code",
   "execution_count": null,
   "id": "94856cf7",
   "metadata": {
    "deletable": false,
    "nbgrader": {
     "cell_type": "code",
     "checksum": "6aaa3285d06d9abdffda6e734b924ac1",
     "grade": false,
     "grade_id": "degenerate",
     "locked": false,
     "schema_version": 3,
     "solution": true,
     "task": false
    },
    "slideshow": {
     "slide_type": "skip"
    },
    "tags": [
     "remove-output"
    ]
   },
   "outputs": [],
   "source": [
    "def get_roots(a, b, c):\n",
    "    d = b**2 - 4 * a * c\n",
    "    # YOUR CODE HERE\n",
    "    raise NotImplementedError()\n",
    "    return roots"
   ]
  },
  {
   "cell_type": "code",
   "execution_count": null,
   "id": "a6b319f9",
   "metadata": {
    "code_folding": [
     0
    ],
    "deletable": false,
    "editable": false,
    "nbgrader": {
     "cell_type": "code",
     "checksum": "d9a28fdc2a389dd0c7c64957c4c97828",
     "grade": true,
     "grade_id": "test-degenerate",
     "locked": true,
     "points": 1,
     "schema_version": 3,
     "solution": false,
     "task": false
    },
    "slideshow": {
     "slide_type": "skip"
    },
    "tags": [
     "hide-input",
     "remove-output"
    ]
   },
   "outputs": [],
   "source": [
    "# tests\n",
    "assert np.isclose(get_roots(1, 1, 0), (-1.0, 0.0)).all()\n",
    "assert np.isclose(get_roots(1, 0, 0), 0.0).all()\n",
    "assert np.isclose(get_roots(1, -2, 1), 1.0).all()\n",
    "assert np.isclose(get_roots(0, -2, 1), 0.5).all()\n",
    "assert np.isclose(get_roots(0, 0, 0), (-float('inf'), float('inf'))).all()\n",
    "assert get_roots(0, 0, 1) is None"
   ]
  },
  {
   "cell_type": "code",
   "execution_count": null,
   "id": "513b676a",
   "metadata": {
    "code_folding": [
     0
    ],
    "deletable": false,
    "editable": false,
    "nbgrader": {
     "cell_type": "code",
     "checksum": "8ee8bbfeb16c1bf80e555537f093154d",
     "grade": true,
     "grade_id": "test_test-degenerate",
     "locked": true,
     "points": 1,
     "schema_version": 3,
     "solution": false,
     "task": false
    },
    "tags": [
     "remove-cell"
    ]
   },
   "outputs": [],
   "source": [
    "# hidden tests"
   ]
  },
  {
   "cell_type": "markdown",
   "id": "52875e28",
   "metadata": {},
   "source": [
    "After you have complete the exercises, you can run your robust solver below:"
   ]
  },
  {
   "cell_type": "code",
   "execution_count": null,
   "id": "836935a8",
   "metadata": {
    "code_folding": [
     0
    ],
    "slideshow": {
     "slide_type": "-"
    },
    "tags": [
     "remove-output"
    ]
   },
   "outputs": [],
   "source": [
    "# quadratic equations solver\n",
    "@interact(a=(-10, 10, 1), b=(-10, 10, 1), c=(-10, 10, 1))\n",
    "def quadratic_equation_solver(a=1, b=2, c=1):\n",
    "    print(\"Root(s):\", get_roots(a, b, c))"
   ]
  }
 ],
 "metadata": {
  "kernelspec": {
   "display_name": "Python 3 (ipykernel)",
   "language": "python",
   "name": "python3"
  }
 },
 "nbformat": 4,
 "nbformat_minor": 5
}
