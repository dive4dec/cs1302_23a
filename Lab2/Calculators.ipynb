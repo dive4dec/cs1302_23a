{
 "cells": [
  {
   "cell_type": "markdown",
   "id": "4643c88a",
   "metadata": {
    "slideshow": {
     "slide_type": "slide"
    }
   },
   "source": [
    "# Calculators"
   ]
  },
  {
   "cell_type": "markdown",
   "id": "aedac68e",
   "metadata": {
    "slideshow": {
     "slide_type": "-"
    },
    "tags": [
     "remove-cell"
    ]
   },
   "source": [
    "CS1302 Introduction to Computer Programming\n",
    "___"
   ]
  },
  {
   "cell_type": "markdown",
   "id": "1cd827af",
   "metadata": {
    "slideshow": {
     "slide_type": "subslide"
    }
   },
   "source": [
    "Run the following to load additional tools required for this lab.  \n",
    "In particular, the `math` library provides many useful mathematical functions and constants."
   ]
  },
  {
   "cell_type": "code",
   "execution_count": null,
   "id": "a248b74c",
   "metadata": {
    "hide_input": false,
    "init_cell": true,
    "slideshow": {
     "slide_type": "-"
    }
   },
   "outputs": [],
   "source": [
    "import math\n",
    "from math import cos, exp, log, pi, sin, tan\n",
    "\n",
    "import jsxgraphs\n",
    "import matplotlib.pyplot as plt\n",
    "import numpy as np\n",
    "import sympy as sp\n",
    "from ipywidgets import interact\n",
    "\n",
    "%matplotlib widget"
   ]
  },
  {
   "cell_type": "markdown",
   "id": "6308ddca",
   "metadata": {
    "slideshow": {
     "slide_type": "subslide"
    }
   },
   "source": [
    "The following code is a Python one-liner that creates a calculator.  \n",
    "Evaluate the cell with `Ctrl+Enter`:"
   ]
  },
  {
   "cell_type": "code",
   "execution_count": null,
   "id": "926edb5f",
   "metadata": {
    "slideshow": {
     "slide_type": "-"
    }
   },
   "outputs": [],
   "source": [
    "print(eval(input()))"
   ]
  },
  {
   "cell_type": "markdown",
   "id": "9566b607",
   "metadata": {
    "slideshow": {
     "slide_type": "fragment"
    }
   },
   "source": [
    "Try some calculations below using this calculator:\n",
    "1. $2^3$ by entering `2**3`;\n",
    "1. $\\frac23$ by entering `2/3`;\n",
    "1. $\\left\\lceil\\frac32\\right\\rceil$ by entering `3//2`;\n",
    "1. $3\\mod 2$ by entering `3%2`;\n",
    "1. $\\sqrt{2}$ by entering `2**0.5`; and\n",
    "1. $\\sin(\\pi/6)$ by entering `sin(pi/6)`;"
   ]
  },
  {
   "cell_type": "markdown",
   "id": "6328d4ce",
   "metadata": {
    "slideshow": {
     "slide_type": "fragment"
    }
   },
   "source": [
    "For this lab, you will create different calculators. We will first show you a demo. Then, it will be your turn to create the calculators."
   ]
  },
  {
   "cell_type": "markdown",
   "id": "1f7717eb",
   "metadata": {
    "slideshow": {
     "slide_type": "slide"
    }
   },
   "source": [
    "## Hypotenuse Calculator"
   ]
  },
  {
   "cell_type": "markdown",
   "id": "be0f30f6",
   "metadata": {
    "slideshow": {
     "slide_type": "fragment"
    }
   },
   "source": [
    "::::{prf:proposition} Pythagoras Theorem\n",
    ":label: pro:pythagorus\n",
    "\n",
    "By the Pythagoras theorem, given a right-angled triangle,\n",
    "\n",
    "![Right-angled triangle](images/pythagoras.dio.svg)\n",
    "\n",
    "the length of the hypotenuse is\n",
    "\n",
    "$$\n",
    "c = \\sqrt{a^2 + b^2}\n",
    "$$ (eq:hypotenuse)\n",
    "\n",
    "where $a$ and $b$ are the lengths of the other sides of the triangle.\n",
    "\n",
    "::::"
   ]
  },
  {
   "cell_type": "markdown",
   "id": "a951023f",
   "metadata": {},
   "source": [
    "You can verify the theorem using the JSXGraph app below:"
   ]
  },
  {
   "cell_type": "code",
   "execution_count": null,
   "id": "4704efb2",
   "metadata": {},
   "outputs": [],
   "source": [
    "jsxgraphs.pythagorean1"
   ]
  },
  {
   "cell_type": "markdown",
   "id": "731a0974",
   "metadata": {},
   "source": [
    "::::{seealso}\n",
    "\n",
    "Click the button `scratch` to show and edit the Javascript code. Other mathematical illustrations created using `divewidgets` can be found [here](https://dive4dec.github.io/lab/?path=divemath%2Fdivemath.ipynb) and was presented in [JSXGraph conference](https://jsxgraph.uni-bayreuth.de/conf2022/program/).\n",
    "\n",
    "::::"
   ]
  },
  {
   "cell_type": "markdown",
   "id": "7fea32aa",
   "metadata": {},
   "source": [
    "The following is an interactive graphical proof:"
   ]
  },
  {
   "cell_type": "code",
   "execution_count": null,
   "id": "7b86d8b8",
   "metadata": {},
   "outputs": [],
   "source": [
    "jsxgraphs.pythagorean2"
   ]
  },
  {
   "cell_type": "markdown",
   "id": "ccdfee9a",
   "metadata": {},
   "source": [
    "Another interactive proof is as follows:"
   ]
  },
  {
   "cell_type": "code",
   "execution_count": null,
   "id": "10b8c2e0",
   "metadata": {},
   "outputs": [],
   "source": [
    "jsxgraphs.pythagorean3"
   ]
  },
  {
   "cell_type": "markdown",
   "id": "195d7353",
   "metadata": {},
   "source": [
    "We can define the following function to calculate the length `c` of the hypotenuse when given the lengths `a` and `b` of the other sides: \n",
    "\n",
    ":::{code-block} python\n",
    ":name: code:length_of_hypotenuse\n",
    ":caption: A function that computes the length of hypotenuse\n",
    "\n",
    "def length_of_hypotenuse(a, b):\n",
    "    c = (a**2 + b**2) ** (0.5)  # Pythagoras\n",
    "    return c\n",
    ":::"
   ]
  },
  {
   "cell_type": "markdown",
   "id": "9d7e6c06",
   "metadata": {
    "slideshow": {
     "slide_type": "fragment"
    }
   },
   "source": [
    ":::{note}\n",
    "\n",
    "- Equation [](#eq:hypotenuse) in [](#pro:pythagorus) is written as a python expression in [](#code:length_of_hypotenuse) using the exponentiation operator `**`.\n",
    "- The variable `c` is assigned to the value of the expression using the assignment operator `=`.\n",
    "\n",
    ":::"
   ]
  },
  {
   "cell_type": "markdown",
   "id": "fc6daca1",
   "metadata": {
    "slideshow": {
     "slide_type": "fragment"
    }
   },
   "source": [
    "::::{exercise} length of hypotenuse\n",
    "\n",
    "Complete the function below to return the length `c` of the hypotenuse given the lengths `a` and `b`.\n",
    "\n",
    ":::{hint}\n",
    ":class: dropdown\n",
    "\n",
    "See [](#code:length_of_hypotenuse).\n",
    "\n",
    ":::\n",
    "\n",
    "\n",
    ":::{note}\n",
    "\n",
    "- You should still complete this exercise to get the credit even though the answer is obvious. Instead of copy-and-paste the answer, type it yourself.\n",
    "- Indentation affects the execution of python code. In particular, the assignment statement must be indented to indicate that it is part of the *body* of the function.\n",
    "\n",
    ":::\n",
    "\n",
    "::::"
   ]
  },
  {
   "cell_type": "code",
   "execution_count": null,
   "id": "c61f8fb6",
   "metadata": {
    "deletable": false,
    "nbgrader": {
     "cell_type": "code",
     "checksum": "9f8cd82c449d76657e17c6b1397ddeb2",
     "grade": false,
     "grade_id": "length_of_hypotenus",
     "locked": false,
     "schema_version": 3,
     "solution": true,
     "task": false
    },
    "slideshow": {
     "slide_type": "-"
    }
   },
   "outputs": [],
   "source": [
    "def length_of_hypotenuse(a, b):\n",
    "    # YOUR CODE HERE\n",
    "    raise NotImplementedError()\n",
    "    return c"
   ]
  },
  {
   "cell_type": "markdown",
   "id": "3216b524",
   "metadata": {
    "slideshow": {
     "slide_type": "subslide"
    }
   },
   "source": [
    "You can check your code against a few cases listed in the test cell below."
   ]
  },
  {
   "cell_type": "code",
   "execution_count": null,
   "id": "bfc6a1f0",
   "metadata": {
    "code_folding": [],
    "deletable": false,
    "editable": false,
    "nbgrader": {
     "cell_type": "code",
     "checksum": "79ca6bb23595e22e0ff7b8adaba7ea57",
     "grade": true,
     "grade_id": "test-length_of_hypotenus",
     "locked": true,
     "points": 1,
     "schema_version": 3,
     "solution": false,
     "task": false
    },
    "slideshow": {
     "slide_type": "-"
    }
   },
   "outputs": [],
   "source": [
    "# tests\n",
    "assert np.isclose(length_of_hypotenuse(0, 0), 0)\n",
    "assert np.isclose(length_of_hypotenuse(3, 4), 5)\n",
    "assert np.isclose(length_of_hypotenuse(4, 7), 8.06225774829855)"
   ]
  },
  {
   "cell_type": "markdown",
   "id": "b273e655",
   "metadata": {},
   "source": [
    "::::{tip} If you are curious about the hidden test...\n",
    ":class: dropdown\n",
    "\n",
    "The hidden test will look like the following but with a \"truely\" random random `_seed_`:\n",
    "\n",
    "```python\n",
    "rng = np.random.default_rng(_seed_)\n",
    "a, b = rng.random(2)\n",
    "\n",
    "assert np.isclose(length_of_hypotenuse(a, b), (a**2 + b**2) ** (0.5))\n",
    "```\n",
    "::::"
   ]
  },
  {
   "cell_type": "code",
   "execution_count": null,
   "id": "92d244c7",
   "metadata": {
    "deletable": false,
    "editable": false,
    "nbgrader": {
     "cell_type": "code",
     "checksum": "291ad430a53d236e2c00e62a50467c4d",
     "grade": true,
     "grade_id": "htest-length_of_hypotenus",
     "locked": true,
     "points": 1,
     "schema_version": 3,
     "solution": false,
     "task": false
    }
   },
   "outputs": [],
   "source": [
    "# hidden tests"
   ]
  },
  {
   "cell_type": "markdown",
   "id": "b6b1274e",
   "metadata": {
    "slideshow": {
     "slide_type": "subslide"
    }
   },
   "source": [
    "We will use `ipywidgets` to let user interact with the calculator more easily as illustrated in [](#fig:hypotenuse-calculator):\n",
    "\n",
    "- After running the cell, move the sliders to change the values of `a` and `b`. \n",
    "- Observer that the value of `c` is updated immediately."
   ]
  },
  {
   "cell_type": "markdown",
   "id": "b4bc557e",
   "metadata": {
    "slideshow": {
     "slide_type": "-"
    }
   },
   "source": [
    "::::{figure} images/hypotenuse-calculator.gif\n",
    ":name: fig:hypotenuse-calculator\n",
    ":alt: The hypotenuse calculator\n",
    ":align: center\n",
    "\n",
    "Illustration of the hypotenuse calculator\n",
    "\n",
    "::::"
   ]
  },
  {
   "cell_type": "code",
   "execution_count": null,
   "id": "19e90021",
   "metadata": {
    "code_folding": [],
    "slideshow": {
     "slide_type": "-"
    }
   },
   "outputs": [],
   "source": [
    "# hypotenuse calculator\n",
    "@interact(a=(0, 10, 1), b=(0, 10, 1))\n",
    "def calculate_hypotenuse(a=3, b=4):\n",
    "    print('c: {:.2f}'.format(length_of_hypotenuse(a, b)))"
   ]
  },
  {
   "cell_type": "markdown",
   "id": "972e9758",
   "metadata": {
    "slideshow": {
     "slide_type": "fragment"
    }
   },
   "source": [
    "::::{note}\n",
    "\n",
    "The hypotenuse is printed up to 2 decimal places using the format specification `{:.2f}`.\n",
    "\n",
    "::::"
   ]
  },
  {
   "cell_type": "markdown",
   "id": "0b6e7066",
   "metadata": {
    "slideshow": {
     "slide_type": "slide"
    }
   },
   "source": [
    "## Quadratic Equation"
   ]
  },
  {
   "cell_type": "markdown",
   "id": "ad9516f2",
   "metadata": {
    "slideshow": {
     "slide_type": "subslide"
    }
   },
   "source": [
    "### Graphical Calculator for Parabola"
   ]
  },
  {
   "cell_type": "markdown",
   "id": "6ab677a4",
   "metadata": {
    "slideshow": {
     "slide_type": "-"
    }
   },
   "source": [
    "::::{figure} images/plot_parabola.gif\n",
    ":name: fig:parabola\n",
    ":alt: The parabola calculator\n",
    ":align: center\n",
    "\n",
    "Illustration of the parabola calculator\n",
    "\n",
    "::::"
   ]
  },
  {
   "cell_type": "markdown",
   "id": "6d69b406",
   "metadata": {
    "slideshow": {
     "slide_type": "subslide"
    }
   },
   "source": [
    "::::{prf:definition} Parabola\n",
    ":label: def:parabola\n",
    "\n",
    "The collection of points $(x,y)$ satisfying the following equation forms a *parabola*:\n",
    "\n",
    "$$\n",
    "y=ax^2+bx+c\n",
    "$$ (eq:parabola)\n",
    "\n",
    "where $a$, $b$, and $c$ are real numbers called the *coefficients*.\n",
    "\n",
    "::::"
   ]
  },
  {
   "cell_type": "markdown",
   "id": "c4e2489d",
   "metadata": {},
   "source": [
    "The following plots the parabola with difference choices of coefficients."
   ]
  },
  {
   "cell_type": "code",
   "execution_count": null,
   "id": "6f82669a",
   "metadata": {},
   "outputs": [],
   "source": [
    "jsxgraphs.parabola"
   ]
  },
  {
   "cell_type": "markdown",
   "id": "55dfafcb",
   "metadata": {
    "slideshow": {
     "slide_type": "fragment"
    }
   },
   "source": [
    "::::{exercise}\n",
    ":label: ex:parabola\n",
    "\n",
    "Given the variables `x`, `a`, `b`, and `c` store the $x$-coordinate and the coefficients $a$, $b$, and $c$ respectively, assign `y` the corresponding $y$-coordinate of the parabola [](#eq:parabola).\n",
    "\n",
    "::::"
   ]
  },
  {
   "cell_type": "code",
   "execution_count": null,
   "id": "2313caee",
   "metadata": {
    "deletable": false,
    "nbgrader": {
     "cell_type": "code",
     "checksum": "2c86fa4ce83bcbe0906f9b64b5c1a032",
     "grade": false,
     "grade_id": "get_y",
     "locked": false,
     "schema_version": 3,
     "solution": true,
     "task": false
    },
    "slideshow": {
     "slide_type": "-"
    }
   },
   "outputs": [],
   "source": [
    "def get_y(x, a, b, c):\n",
    "    # YOUR CODE HERE\n",
    "    raise NotImplementedError()\n",
    "    return y"
   ]
  },
  {
   "cell_type": "markdown",
   "id": "52ec4e0a",
   "metadata": {},
   "source": [
    "To test your code:"
   ]
  },
  {
   "cell_type": "code",
   "execution_count": null,
   "id": "13a2a412",
   "metadata": {
    "code_folding": [],
    "deletable": false,
    "editable": false,
    "nbgrader": {
     "cell_type": "code",
     "checksum": "baf7164d7d7a36ebda475ef4f4bb89b7",
     "grade": true,
     "grade_id": "test-get_y",
     "locked": true,
     "points": 1,
     "schema_version": 3,
     "solution": false,
     "task": false
    },
    "slideshow": {
     "slide_type": "fragment"
    }
   },
   "outputs": [],
   "source": [
    "# tests\n",
    "assert np.isclose(get_y(0, 0, 0, 0), 0)\n",
    "assert np.isclose(get_y(0, 1, 2, 1), 1)\n",
    "assert np.isclose(get_y(0, 2, 1, 2), 2)\n",
    "assert np.isclose(get_y(1.2, 2, 3, 4), 10.48)\n",
    "assert np.isclose(get_y(2, 3.3, 4, 5), 26.2)\n",
    "assert np.isclose(get_y(3, 4.4, 5, 6), 60.6)"
   ]
  },
  {
   "cell_type": "code",
   "execution_count": null,
   "id": "f919fda8",
   "metadata": {
    "deletable": false,
    "editable": false,
    "nbgrader": {
     "cell_type": "code",
     "checksum": "0adfafae7b0307eb4e3a7be0bd936147",
     "grade": true,
     "grade_id": "htest-get_y",
     "locked": true,
     "points": 1,
     "schema_version": 3,
     "solution": false,
     "task": false
    }
   },
   "outputs": [],
   "source": [
    "# hidden tests"
   ]
  },
  {
   "cell_type": "markdown",
   "id": "881420d9",
   "metadata": {},
   "source": [
    "To run the graphical calculator illustrate in [](#fig:parabola):"
   ]
  },
  {
   "cell_type": "code",
   "execution_count": null,
   "id": "30d88d76",
   "metadata": {
    "code_folding": [],
    "slideshow": {
     "slide_type": "subslide"
    }
   },
   "outputs": [],
   "source": [
    "# graphical calculator for parabola\n",
    "fig, ax = plt.subplots()\n",
    "xmin, xmax, ymin, ymax, resolution = -10, 10, -10, 10, 50\n",
    "x = np.linspace(xmin, xmax, resolution)\n",
    "ax.set_title(r\"$y=ax^2+bx+c$\")\n",
    "ax.set_xlabel(r\"$x$\")\n",
    "ax.set_ylabel(r\"$y$\")\n",
    "ax.set_xlim([xmin, xmax])\n",
    "ax.set_ylim([ymin, ymax])\n",
    "ax.grid()\n",
    "(p,) = ax.plot(x, get_y(x, 0, 0, 0))\n",
    "\n",
    "\n",
    "@interact(a=(-10, 10, 1), b=(-10, 10, 1), c=(-10, 10, 1))\n",
    "def plot_parabola(a, b, c):\n",
    "    p.set_ydata(get_y(x, a, b, c))"
   ]
  },
  {
   "cell_type": "markdown",
   "id": "851de4e1",
   "metadata": {
    "slideshow": {
     "slide_type": "slide"
    }
   },
   "source": [
    "### Quadratic Equation Solver"
   ]
  },
  {
   "cell_type": "markdown",
   "id": "e80c1f79",
   "metadata": {
    "slideshow": {
     "slide_type": "-"
    }
   },
   "source": [
    "::::{figure} images/quadratic-equation-solver.gif\n",
    ":name: fig:quadratic\n",
    ":alt: The quadratic equation solver\n",
    ":align: center\n",
    "\n",
    "Illustration of the quadratic equation solver\n",
    "\n",
    "::::"
   ]
  },
  {
   "cell_type": "markdown",
   "id": "95b8dfec",
   "metadata": {
    "slideshow": {
     "slide_type": "subslide"
    }
   },
   "source": [
    "::::{prf:proposition} quadratic equation\n",
    ":label: quadratic\n",
    "\n",
    "For the quadratic equation\n",
    "\n",
    "$$\n",
    "ax^2+bx+c=0,\n",
    "$$ (eq:quadratic)\n",
    "the *roots* (solutions for $x$) are give by\n",
    "\n",
    "$$\n",
    "\\frac{-b-\\sqrt{b^2-4ac}}{2a},\\frac{-b+\\sqrt{b^2-4ac}}{2a}.\n",
    "$$ (eq:quadratic_roots)\n",
    "\n",
    "::::"
   ]
  },
  {
   "cell_type": "markdown",
   "id": "efc7b435",
   "metadata": {
    "slideshow": {
     "slide_type": "fragment"
    }
   },
   "source": [
    "::::{exercise} roots\n",
    ":label: ex:roots\n",
    "\n",
    "Assign to `root1` and `root2` the values of the first and second roots in [](#eq:quadratic_roots) above respectively.\n",
    "\n",
    ":::{caution}\n",
    "\n",
    "Return the roots in the correct order and pay attention to the associativity of the arithmetic operators.\n",
    "\n",
    ":::\n",
    "\n",
    "::::"
   ]
  },
  {
   "cell_type": "code",
   "execution_count": null,
   "id": "d9a768df",
   "metadata": {
    "deletable": false,
    "nbgrader": {
     "cell_type": "code",
     "checksum": "ac8d52d2f7328a894d73bce80d19dafc",
     "grade": false,
     "grade_id": "get_roots",
     "locked": false,
     "schema_version": 3,
     "solution": true,
     "task": false
    },
    "slideshow": {
     "slide_type": "fragment"
    }
   },
   "outputs": [],
   "source": [
    "def get_roots(a, b, c):\n",
    "    # YOUR CODE HERE\n",
    "    raise NotImplementedError()\n",
    "    return root1, root2"
   ]
  },
  {
   "cell_type": "markdown",
   "id": "23c8d588",
   "metadata": {},
   "source": [
    "To test your code:"
   ]
  },
  {
   "cell_type": "code",
   "execution_count": null,
   "id": "efbfce15",
   "metadata": {
    "code_folding": [],
    "deletable": false,
    "editable": false,
    "nbgrader": {
     "cell_type": "code",
     "checksum": "1d32bad676d5099e00b47a6f7b479c7b",
     "grade": true,
     "grade_id": "test-get_roots",
     "locked": true,
     "points": 1,
     "schema_version": 3,
     "solution": false,
     "task": false
    },
    "slideshow": {
     "slide_type": "fragment"
    }
   },
   "outputs": [],
   "source": [
    "# tests\n",
    "assert np.isclose(get_roots(1, 1, 0), (-1.0, 0.0)).all()\n",
    "assert np.isclose(get_roots(1, 2, 1), (-1.0, -1.0)).all()\n",
    "assert np.isclose(get_roots(2, 2, 1), (-0.5 - 0.5j, -0.5 + 0.5j)).all()"
   ]
  },
  {
   "cell_type": "code",
   "execution_count": null,
   "id": "759910a8",
   "metadata": {
    "deletable": false,
    "editable": false,
    "nbgrader": {
     "cell_type": "code",
     "checksum": "79a531007ec3cae77b0a47be0ba9710c",
     "grade": true,
     "grade_id": "htest-get_roots",
     "locked": true,
     "points": 1,
     "schema_version": 3,
     "solution": false,
     "task": false
    }
   },
   "outputs": [],
   "source": [
    "# hidden tests"
   ]
  },
  {
   "cell_type": "markdown",
   "id": "1558b1de",
   "metadata": {},
   "source": [
    "To run the calculator illustrated in [](#fig:quadratic):"
   ]
  },
  {
   "cell_type": "code",
   "execution_count": null,
   "id": "4999df9f",
   "metadata": {
    "code_folding": [
     0
    ],
    "slideshow": {
     "slide_type": "fragment"
    }
   },
   "outputs": [],
   "source": [
    "# quadratic equations solver\n",
    "@interact(a=(-10,10,1),b=(-10,10,1),c=(-10,10,1))\n",
    "def quadratic_equation_solver(a=1,b=2,c=1):\n",
    "    print('Roots: {}, {}'.format(*get_roots(a,b,c)))"
   ]
  },
  {
   "cell_type": "markdown",
   "id": "d9b6e170",
   "metadata": {
    "slideshow": {
     "slide_type": "slide"
    }
   },
   "source": [
    "## Number Conversion"
   ]
  },
  {
   "cell_type": "markdown",
   "id": "422bb60e",
   "metadata": {
    "slideshow": {
     "slide_type": "subslide"
    }
   },
   "source": [
    "### Byte-to-Decimal Calculator"
   ]
  },
  {
   "cell_type": "markdown",
   "id": "83cc48b2",
   "metadata": {
    "slideshow": {
     "slide_type": "-"
    }
   },
   "source": [
    "::::{figure} images/byte-to-decimal.gif\n",
    ":name: fig:byte-to-decimal\n",
    ":alt: The byte-to-decimal calculator\n",
    ":align: center\n",
    "\n",
    "Illustration of the byte-to-decimal calculator\n",
    "\n",
    "::::"
   ]
  },
  {
   "cell_type": "markdown",
   "id": "494922c0",
   "metadata": {
    "slideshow": {
     "slide_type": "subslide"
    }
   },
   "source": [
    "Denote a binary number stored as a byte ($8$-bit) as\n",
    "\n",
    "$$ \n",
    "b_7\\circ b_6\\circ b_5\\circ b_4\\circ b_3\\circ b_2\\circ b_1\\circ b_0, \n",
    "$$\n",
    "where $\\circ$ concatenates $b_i$'s together into a binary string."
   ]
  },
  {
   "cell_type": "markdown",
   "id": "5cd7fa7d",
   "metadata": {
    "slideshow": {
     "slide_type": "fragment"
    }
   },
   "source": [
    "The binary string can be converted to a decimal number by the formula\n",
    "\n",
    "$$ \n",
    "b_7\\cdot 2^7 + b_6\\cdot 2^6 + b_5\\cdot 2^5 + b_4\\cdot 2^4 + b_3\\cdot 2^3 + b_2\\cdot 2^2 + b_1\\cdot 2^1 + b_0\\cdot 2^0. \n",
    "$$"
   ]
  },
  {
   "cell_type": "markdown",
   "id": "2a61fecc",
   "metadata": {
    "slideshow": {
     "slide_type": "fragment"
    }
   },
   "source": [
    "E.g., the binary string `'11111111'` is the largest integer represented by a byte:\n",
    "\n",
    "$$\n",
    "2^7+2^6+2^5+2^4+2^3+2^2+2^1+2^0=255=2^8-1.\n",
    "$$"
   ]
  },
  {
   "cell_type": "markdown",
   "id": "584551e3",
   "metadata": {
    "slideshow": {
     "slide_type": "fragment"
    }
   },
   "source": [
    "::::{exercise}\n",
    "\n",
    "Assign to `decimal` the *integer* value represented by the binary sequence `b7,b6,b5,b4,b3,b2,b1,b0` of *characters* `'0'` or `'1'`.\n",
    "\n",
    "::::"
   ]
  },
  {
   "cell_type": "code",
   "execution_count": null,
   "id": "05e99955",
   "metadata": {
    "deletable": false,
    "nbgrader": {
     "cell_type": "code",
     "checksum": "49bcaefae2cc5329793860287a1bc35e",
     "grade": false,
     "grade_id": "byte_to_decimal",
     "locked": false,
     "schema_version": 3,
     "solution": true,
     "task": false
    },
    "slideshow": {
     "slide_type": "fragment"
    }
   },
   "outputs": [],
   "source": [
    "def byte_to_decimal(b7, b6, b5, b4, b3, b2, b1, b0):\n",
    "    \"\"\"\n",
    "    Parameters\n",
    "    ----------\n",
    "    b7, ..., b0: single characters either '0' or '1'.\n",
    "    \"\"\"\n",
    "    # YOUR CODE HERE\n",
    "    raise NotImplementedError()\n",
    "    return decimal"
   ]
  },
  {
   "cell_type": "markdown",
   "id": "d49b40b9",
   "metadata": {},
   "source": [
    "To test your code:"
   ]
  },
  {
   "cell_type": "code",
   "execution_count": null,
   "id": "a25f0e1c",
   "metadata": {
    "code_folding": [
     0
    ],
    "deletable": false,
    "editable": false,
    "nbgrader": {
     "cell_type": "code",
     "checksum": "22ecacb91d8ae70a0541dca75c3737a9",
     "grade": true,
     "grade_id": "test-byte_to_decimal",
     "locked": true,
     "points": 1,
     "schema_version": 3,
     "solution": false,
     "task": false
    },
    "slideshow": {
     "slide_type": "fragment"
    }
   },
   "outputs": [],
   "source": [
    "# tests\n",
    "def test_byte_to_decimal(decimal, b7, b6, b5, b4, b3, b2, b1, b0):\n",
    "    decimal_ = byte_to_decimal(b7, b6, b5, b4, b3, b2, b1, b0)\n",
    "    assert decimal == decimal_ and isinstance(decimal_, int)\n",
    "\n",
    "\n",
    "test_byte_to_decimal(38, \"0\", \"0\", \"1\", \"0\", \"0\", \"1\", \"1\", \"0\")\n",
    "test_byte_to_decimal(20, \"0\", \"0\", \"0\", \"1\", \"0\", \"1\", \"0\", \"0\")\n",
    "test_byte_to_decimal(22, \"0\", \"0\", \"0\", \"1\", \"0\", \"1\", \"1\", \"0\")\n",
    "test_byte_to_decimal(146, '1', '0', '0', '1', '0', '0', '1', '0')\n",
    "test_byte_to_decimal(128, '1', '0', '0', '0', '0', '0', '0', '0')\n",
    "test_byte_to_decimal(71, '0', '1', '0', '0', '0', '1', '1', '1')"
   ]
  },
  {
   "cell_type": "code",
   "execution_count": null,
   "id": "9f1a943c",
   "metadata": {
    "deletable": false,
    "editable": false,
    "nbgrader": {
     "cell_type": "code",
     "checksum": "368a00935ff0f11755434b00e27eeaff",
     "grade": true,
     "grade_id": "htest-byte_to_decimal",
     "locked": true,
     "points": 1,
     "schema_version": 3,
     "solution": false,
     "task": false
    }
   },
   "outputs": [],
   "source": [
    "# hidden tests"
   ]
  },
  {
   "cell_type": "markdown",
   "id": "01c59051",
   "metadata": {},
   "source": [
    "To run the calculator illustrate in [](#fig:byte-to-decimal):"
   ]
  },
  {
   "cell_type": "code",
   "execution_count": null,
   "id": "587f8fc6",
   "metadata": {
    "code_folding": [
     0
    ]
   },
   "outputs": [],
   "source": [
    "# byte-to-decimal calculator\n",
    "bit = ['0', '1']\n",
    "\n",
    "\n",
    "@interact(b7=bit, b6=bit, b5=bit, b4=bit, b3=bit, b2=bit, b1=bit, b0=bit)\n",
    "def convert_byte_to_decimal(b7, b6, b5, b4, b3, b2, b1, b0):\n",
    "    print('decimal:', byte_to_decimal(b7, b6, b5, b4, b3, b2, b1, b0))"
   ]
  },
  {
   "cell_type": "markdown",
   "id": "6304f8c4",
   "metadata": {
    "slideshow": {
     "slide_type": "subslide"
    }
   },
   "source": [
    "### Decimal-to-Byte Calculator"
   ]
  },
  {
   "cell_type": "markdown",
   "id": "ff952959",
   "metadata": {
    "slideshow": {
     "slide_type": "-"
    }
   },
   "source": [
    "::::{figure} images/decimal-to-byte.gif\n",
    ":name: fig:decimal-to-byte\n",
    ":alt: The decimal-to-byte calculator\n",
    ":align: center\n",
    "\n",
    "Illustration of the decimal-to-byte calculator\n",
    "\n",
    "::::"
   ]
  },
  {
   "cell_type": "markdown",
   "id": "d9bb13c7",
   "metadata": {
    "slideshow": {
     "slide_type": "subslide"
    }
   },
   "source": [
    "::::{exercise}\n",
    ":label: ex:decimal-to-byte\n",
    "\n",
    "Assign to `byte` a *string of 8 bits* that represents the value of `decimal`, a non-negative decimal integer from $0$ to $2^8-1=255$.  \n",
    "\n",
    ":::{important}\n",
    "\n",
    "Use the operators `//` and `%`, but not the function `int`.\n",
    ":::\n",
    "\n",
    "::::"
   ]
  },
  {
   "cell_type": "code",
   "execution_count": null,
   "id": "72974581",
   "metadata": {
    "deletable": false,
    "nbgrader": {
     "cell_type": "code",
     "checksum": "9de8a3c79ad6c5af5db8a55ce33675e4",
     "grade": false,
     "grade_id": "decimal_to_byte",
     "locked": false,
     "schema_version": 3,
     "solution": true,
     "task": false
    },
    "slideshow": {
     "slide_type": "-"
    }
   },
   "outputs": [],
   "source": [
    "def decimal_to_byte(decimal):\n",
    "    # YOUR CODE HERE\n",
    "    raise NotImplementedError()\n",
    "    return byte"
   ]
  },
  {
   "cell_type": "markdown",
   "id": "22dd2214",
   "metadata": {},
   "source": [
    "To test your code:"
   ]
  },
  {
   "cell_type": "code",
   "execution_count": null,
   "id": "eddbefa8",
   "metadata": {
    "code_folding": [
     0
    ],
    "deletable": false,
    "editable": false,
    "nbgrader": {
     "cell_type": "code",
     "checksum": "9c9637c807d290cf78e639b74c45f3fe",
     "grade": true,
     "grade_id": "test-decimal_to_byte",
     "locked": true,
     "points": 1,
     "schema_version": 3,
     "solution": false,
     "task": false
    },
    "slideshow": {
     "slide_type": "fragment"
    }
   },
   "outputs": [],
   "source": [
    "# tests\n",
    "def test_decimal_to_byte(byte, decimal):\n",
    "    byte_ = decimal_to_byte(decimal)\n",
    "    assert byte == byte_ and isinstance(byte, str) and len(byte) == 8\n",
    "\n",
    "\n",
    "test_decimal_to_byte(\"01100111\", 103)\n",
    "test_decimal_to_byte(\"00000011\", 3)\n",
    "test_decimal_to_byte(\"00011100\", 28)\n",
    "test_decimal_to_byte('11011111', 223)\n",
    "test_decimal_to_byte('00000100', 4)\n",
    "test_decimal_to_byte('10011001', 153)\n",
    "\n",
    "\n",
    "def test_decimal_to_byte(byte,decimal):\n",
    "    byte_ = decimal_to_byte(decimal)\n",
    "    correct = byte == byte_ and isinstance(byte, str) and len(byte) == 8\n",
    "    if not correct:\n",
    "        print(\n",
    "            f'{decimal} should be represented as the byte {byte}, not {byte_}.'\n",
    "        )\n",
    "    assert correct\n",
    "\n",
    "\n",
    "test_decimal_to_byte('01100111', 103)\n",
    "test_decimal_to_byte('00000011', 3)\n",
    "test_decimal_to_byte('00011100', 28)"
   ]
  },
  {
   "cell_type": "code",
   "execution_count": null,
   "id": "f754735d",
   "metadata": {
    "deletable": false,
    "editable": false,
    "nbgrader": {
     "cell_type": "code",
     "checksum": "7f8a949776449868af9155c44585aa19",
     "grade": true,
     "grade_id": "htest-decimal_to_byte",
     "locked": true,
     "points": 1,
     "schema_version": 3,
     "solution": false,
     "task": false
    }
   },
   "outputs": [],
   "source": [
    "# hidden tests"
   ]
  },
  {
   "cell_type": "markdown",
   "id": "c0229e2a",
   "metadata": {},
   "source": [
    "To run the calculator illustrate in [](#fig:decimal-to-byte):"
   ]
  },
  {
   "cell_type": "code",
   "execution_count": null,
   "id": "14afa15e",
   "metadata": {
    "code_folding": [
     0
    ],
    "slideshow": {
     "slide_type": "fragment"
    }
   },
   "outputs": [],
   "source": [
    "# decimal-to-byte calculator\n",
    "@interact(decimal=(0, 255, 1))\n",
    "def convert_decimal_to_byte(decimal=0):\n",
    "    print(\"byte:\", decimal_to_byte(decimal))"
   ]
  },
  {
   "cell_type": "markdown",
   "id": "108639ed",
   "metadata": {},
   "source": [
    "## Symbolic calculators"
   ]
  },
  {
   "cell_type": "markdown",
   "id": "06dfd249",
   "metadata": {},
   "source": [
    "Can we do complicated arithmetics with python. What about Calculus?"
   ]
  },
  {
   "cell_type": "markdown",
   "id": "a8ec9445",
   "metadata": {},
   "source": [
    "$$\n",
    "\\int \\tan(x)\\, dx = \\color{red}{?}\n",
    "$$"
   ]
  },
  {
   "cell_type": "markdown",
   "id": "d7351225",
   "metadata": {},
   "source": [
    "Try [SymPy Gamma](https://gamma.sympy.org/input/?i=integrate%28tan%28x%29%29) or [SymPy Beta](https://sympy-beta.vercel.app/input/integrate%28tan%28x%29%29)."
   ]
  },
  {
   "cell_type": "markdown",
   "id": "0b8f776d",
   "metadata": {},
   "source": [
    "::::{tip}\n",
    "\n",
    "- Take a look at the different panels to learn about the solution: `Steps`, `Plot`, and `Derivative`.\n",
    "- Try different [random examples](https://gamma.sympy.org/).\n",
    "\n",
    "::::"
   ]
  },
  {
   "cell_type": "markdown",
   "id": "cbed5129",
   "metadata": {},
   "source": [
    "**How does SymPy Gamma work?**"
   ]
  },
  {
   "cell_type": "markdown",
   "id": "80566536",
   "metadata": {},
   "source": [
    "- [SymPy Gamma](https://gamma.sympy.org/) is a web application running [SymPy](https://docs.sympy.org/latest/index.html), which is a python library for symbolic computation.\n",
    "- [SymPy Beta](https://github.com/eagleoflqj/sympy_beta) is a fork of SymPy Gamma that can run totally in the browser."
   ]
  },
  {
   "cell_type": "markdown",
   "id": "31df21b4",
   "metadata": {},
   "source": [
    "**How to use SymPy?**"
   ]
  },
  {
   "cell_type": "markdown",
   "id": "66e1048c",
   "metadata": {},
   "source": [
    "The following line in the initialization cell imports the library:\n",
    "\n",
    "```python\n",
    "import sympy as sp\n",
    "```"
   ]
  },
  {
   "cell_type": "markdown",
   "id": "14c7955d",
   "metadata": {},
   "source": [
    "We need to define a symbolic variable and assign it to a python variable."
   ]
  },
  {
   "cell_type": "code",
   "execution_count": null,
   "id": "4a4b7ac8",
   "metadata": {},
   "outputs": [],
   "source": [
    "x = sp.symbols(\"x\")\n",
    "x"
   ]
  },
  {
   "cell_type": "markdown",
   "id": "035ab209",
   "metadata": {},
   "source": [
    "The SymPy expression for $\\tan(x)$ is:"
   ]
  },
  {
   "cell_type": "code",
   "execution_count": null,
   "id": "957fe538",
   "metadata": {},
   "outputs": [],
   "source": [
    "f = sp.tan(x)\n",
    "f"
   ]
  },
  {
   "cell_type": "markdown",
   "id": "10425d47",
   "metadata": {},
   "source": [
    "To compute the integration:\n",
    "\n",
    "$$\n",
    "\\int f(x) dx\n",
    "$$"
   ]
  },
  {
   "cell_type": "code",
   "execution_count": null,
   "id": "fa743e21",
   "metadata": {},
   "outputs": [],
   "source": [
    "g = sp.integrate(f)\n",
    "g"
   ]
  },
  {
   "cell_type": "markdown",
   "id": "1918e6c9",
   "metadata": {},
   "source": [
    "To compute the derivative:\n",
    "\n",
    "$$\n",
    "\\frac{d}{dx}g(x)\n",
    "$$"
   ]
  },
  {
   "cell_type": "code",
   "execution_count": null,
   "id": "5eb0511b",
   "metadata": {},
   "outputs": [],
   "source": [
    "diff_g = sp.diff(g)\n",
    "diff_g"
   ]
  },
  {
   "cell_type": "markdown",
   "id": "4549ad4f",
   "metadata": {},
   "source": [
    "The answer can be simplified as expected:"
   ]
  },
  {
   "cell_type": "code",
   "execution_count": null,
   "id": "1e626fff",
   "metadata": {},
   "outputs": [],
   "source": [
    "diff_g.simplify()"
   ]
  },
  {
   "cell_type": "markdown",
   "id": "8da40b5a",
   "metadata": {},
   "source": [
    "To plot the functions:"
   ]
  },
  {
   "cell_type": "code",
   "execution_count": null,
   "id": "36a83992",
   "metadata": {},
   "outputs": [],
   "source": [
    "p = sp.plot(f, g, (x, -2 * sp.pi / 5, 2 * sp.pi / 5), ylabel=\"y\", legend=True)"
   ]
  },
  {
   "cell_type": "markdown",
   "id": "fe497f70",
   "metadata": {},
   "source": [
    "::::{exercise} sympy\n",
    ":label: ex:sympy\n",
    "\n",
    "Using SymPy expressions\n",
    "\n",
    "- assign to `x` a SymPy variable named `\"x\"`,\n",
    "- assign to `f` the expression $\\frac{1}{\\sqrt{1 - x^2}}$ in terms of `x`,\n",
    "- assign to `g` the result of $\\int \\frac{1}{\\sqrt{1 - x^2}} dx$, and\n",
    "- *optionally*, plot `f` and `g` for $x\\in \\left[-\\frac45, \\frac45\\right]$.\n",
    "\n",
    ":::{caution}\n",
    "\n",
    "Use `sp.sqrt` or `**(sp.S(1)/2)` for square root instead of `**0.5`. See [SymPy gotchas](https://docs.sympy.org/latest/gotchas.html).\n",
    ":::\n",
    "::::"
   ]
  },
  {
   "cell_type": "code",
   "execution_count": null,
   "id": "b3e5f26a",
   "metadata": {
    "deletable": false,
    "nbgrader": {
     "cell_type": "code",
     "checksum": "ee7f1d33d0236a519f0937beabd1e00a",
     "grade": false,
     "grade_id": "sympy",
     "locked": false,
     "schema_version": 3,
     "solution": true,
     "task": false
    }
   },
   "outputs": [],
   "source": [
    "# YOUR CODE HERE\n",
    "raise NotImplementedError()"
   ]
  },
  {
   "cell_type": "markdown",
   "id": "e40b7cf4",
   "metadata": {},
   "source": [
    "The following test should plot your expression `f` in SymPy."
   ]
  },
  {
   "cell_type": "code",
   "execution_count": null,
   "id": "b4ecb9e7",
   "metadata": {
    "deletable": false,
    "editable": false,
    "nbgrader": {
     "cell_type": "code",
     "checksum": "5adba0005d1a0c565b2c556edac5ef6a",
     "grade": true,
     "grade_id": "test-sympy",
     "locked": true,
     "points": 1,
     "schema_version": 3,
     "solution": false,
     "task": false
    }
   },
   "outputs": [],
   "source": [
    "# tests\n",
    "assert sp.simplify(f.subs(x, 0) - 1) == 0\n",
    "assert sp.simplify(f.subs(x, sp.S(1)/2) - sp.sqrt(3)*2/3) == 0"
   ]
  },
  {
   "cell_type": "code",
   "execution_count": null,
   "id": "e96433db",
   "metadata": {
    "deletable": false,
    "editable": false,
    "nbgrader": {
     "cell_type": "code",
     "checksum": "bf2c275108b854c86f0a4765dd43c2d7",
     "grade": true,
     "grade_id": "htest-sympy",
     "locked": true,
     "points": 1,
     "schema_version": 3,
     "solution": false,
     "task": false
    }
   },
   "outputs": [],
   "source": [
    "# hidden tests"
   ]
  }
 ],
 "metadata": {
  "kernelspec": {
   "display_name": "Python 3 (ipykernel)",
   "language": "python",
   "name": "python3"
  }
 },
 "nbformat": 4,
 "nbformat_minor": 5
}
