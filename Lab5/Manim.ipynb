{
 "cells": [
  {
   "cell_type": "markdown",
   "id": "5dbfe01a",
   "metadata": {},
   "source": [
    "# Manim (optional)"
   ]
  },
  {
   "cell_type": "markdown",
   "id": "05e7bb24",
   "metadata": {
    "slideshow": {
     "slide_type": "-"
    },
    "tags": [
     "remove-cell"
    ]
   },
   "source": [
    "CS1302 Introduction to Computer Programming\n",
    "___"
   ]
  },
  {
   "cell_type": "code",
   "execution_count": null,
   "id": "557d3911",
   "metadata": {},
   "outputs": [],
   "source": [
    "import math\n",
    "\n",
    "from manim import *\n",
    "\n",
    "%reload_ext mytutor"
   ]
  },
  {
   "cell_type": "markdown",
   "id": "0f2b2ee8",
   "metadata": {},
   "source": [
    "[Manim](https://github.com/3b1b/manim) is a powerful **anim**ation engine for **ma**themetics developed by [3Blue1Brown](https://www.youtube.com/channel/UCYO_jab_esuFRV4b17AJtAw). We will use manim to domenstrate how object-oriented programming uses classes and objects to make it create complex animation."
   ]
  },
  {
   "cell_type": "markdown",
   "id": "003ecc8d",
   "metadata": {},
   "source": [
    "## Creating a scene"
   ]
  },
  {
   "cell_type": "markdown",
   "id": "1316eda8",
   "metadata": {},
   "source": [
    "**How to create an animation with `manim`?**"
   ]
  },
  {
   "cell_type": "markdown",
   "id": "e75da667",
   "metadata": {},
   "source": [
    "In jupyter notebook, we can use `%%manim` cell magic:"
   ]
  },
  {
   "cell_type": "code",
   "execution_count": null,
   "id": "d624f33b",
   "metadata": {},
   "outputs": [],
   "source": [
    "%%manim -qm --progress_bar=none --disable_caching --flush_cache -v ERROR HelloWorld\n",
    "class HelloWorld(Scene):\n",
    "    def construct(self):\n",
    "        self.play(Write(Text(\"Hello, World!\")))"
   ]
  },
  {
   "cell_type": "markdown",
   "id": "03981ef4",
   "metadata": {},
   "source": [
    "In the line starting with `%%`:\n",
    "- `-qm` is the alias for `--quality=m`, which means the video is rendered in medium quality. Change it to `-ql` (`-qh`) for low (high) quality.\n",
    "- `--progress_bar=none --disable_caching --flush_cache -v ERROR` are [additional configurations](https://docs.manim.community/en/stable/tutorials/configuration.html) to turn off some features. \n",
    "- `HelloWorld` is the class to render, which is defined in the body:\n",
    "    ```Python \n",
    "    class HelloWorld(Scene):\n",
    "        def construct(self):\n",
    "            ...\n",
    "    ```"
   ]
  },
  {
   "cell_type": "markdown",
   "id": "aa4f0080",
   "metadata": {},
   "source": [
    "**How to define a class?**"
   ]
  },
  {
   "cell_type": "markdown",
   "id": "b0fbbca6",
   "metadata": {},
   "source": [
    "As a toy example, the following [defines a class](https://docs.python.org/3/tutorial/classes.html?highlight=inheritance#class-definition-syntax) `Pet` and its [subclasses](https://docs.python.org/3/tutorial/classes.html?highlight=inheritance#inheritance) `Cat` and `Dog`:"
   ]
  },
  {
   "cell_type": "code",
   "execution_count": null,
   "id": "fd98d753",
   "metadata": {},
   "outputs": [],
   "source": [
    "%%mytutor -h 700\n",
    "class Pet:\n",
    "    kind = \"Pet\"\n",
    "\n",
    "    def __init__(self, name):\n",
    "        self.name = name\n",
    "\n",
    "    def __str__(self):\n",
    "        return f\"{self.kind} {self.name}\"\n",
    "\n",
    "\n",
    "class Cat(Pet):\n",
    "    kind = \"Cat\"\n",
    "\n",
    "\n",
    "class Dog(Pet):\n",
    "    kind = \"Dog\"\n",
    "\n",
    "\n",
    "p1 = Pet(\"Alfie\")\n",
    "p2 = Dog(\"Bobbie\")\n",
    "p3, p4 = Cat(\"Bella\"), Cat(\"Kelly\")\n",
    "print(p1, p2, p3, p4, sep=\", \")"
   ]
  },
  {
   "cell_type": "markdown",
   "id": "b1182340",
   "metadata": {},
   "source": [
    "- Each pet has its own `name` but they share `kind` from their class without duplicating it.\n",
    "- Subclasses can reuse (inherit) code from their superclass but produce different results:\n",
    "    - Line 19-21 calls `Pet.__init__` implicitly to create pets with different `name`s.\n",
    "    - Line 22 calls `Pet.__str__` implicitly to return a string containing pets' specific `kind` in addition to its `name`."
   ]
  },
  {
   "cell_type": "markdown",
   "id": "d18fe362",
   "metadata": {},
   "source": [
    "## Animating an Object"
   ]
  },
  {
   "cell_type": "markdown",
   "id": "5b2cc8ce",
   "metadata": {},
   "source": [
    "**How to add objects to a `Scene`?**"
   ]
  },
  {
   "cell_type": "markdown",
   "id": "e2b13604",
   "metadata": {},
   "source": [
    "We can create a square and add it to the scene as follows:"
   ]
  },
  {
   "cell_type": "code",
   "execution_count": null,
   "id": "199d5fd6",
   "metadata": {},
   "outputs": [],
   "source": [
    "%%manim -qm --progress_bar=none --disable_caching --flush_cache -v ERROR BlueSquare1\n",
    "class BlueSquare1(Scene):\n",
    "    def construct(self):\n",
    "        s = Square(fill_color=BLUE, color=WHITE)\n",
    "        self.add(s)"
   ]
  },
  {
   "cell_type": "markdown",
   "id": "493a683b",
   "metadata": {},
   "source": [
    "- The square object is create using `Square`, `BLUE` and `WHITE` imported from `manim`.\n",
    "- It is then placed to to the scene using `self.add` inherited from `Scene`."
   ]
  },
  {
   "cell_type": "markdown",
   "id": "a9d1b580",
   "metadata": {},
   "source": [
    "**How to animate an object?**"
   ]
  },
  {
   "cell_type": "markdown",
   "id": "9c355045",
   "metadata": {},
   "source": [
    "The following shows the creation of a square:"
   ]
  },
  {
   "cell_type": "code",
   "execution_count": null,
   "id": "bac59b09",
   "metadata": {},
   "outputs": [],
   "source": [
    "%%manim -qm --progress_bar=none --disable_caching --flush_cache -v ERROR BlueSquare2\n",
    "class BlueSquare2(Scene):\n",
    "    def construct(self):\n",
    "        s = Square(color=WHITE, fill_color=BLUE, fill_opacity=0.8)\n",
    "        self.play(Create(s))\n",
    "        self.wait()"
   ]
  },
  {
   "cell_type": "markdown",
   "id": "6430af23",
   "metadata": {},
   "source": [
    "- `self.play` plays the animation `Create(s)`.\n",
    "- `self.wait()` creates a pause \"animation\"."
   ]
  },
  {
   "cell_type": "markdown",
   "id": "ce92d5b0",
   "metadata": {},
   "source": [
    "**How to transform an object?**"
   ]
  },
  {
   "cell_type": "markdown",
   "id": "aae5350a",
   "metadata": {},
   "source": [
    "To scale, move, or rotate the shape:"
   ]
  },
  {
   "cell_type": "code",
   "execution_count": null,
   "id": "f2e88fdc",
   "metadata": {},
   "outputs": [],
   "source": [
    "%%manim -qm --progress_bar=none --disable_caching --flush_cache -v ERROR BlueSquare3\n",
    "class BlueSquare3(Scene):\n",
    "    def construct(self):\n",
    "        s = Square(color=WHITE, fill_color=BLUE, fill_opacity=0.8)\n",
    "        self.play(Create(s))\n",
    "        self.play(s.animate.scale(1.5).rotate(PI / 4))\n",
    "        self.play(s.animate.move_to([-3, 0, 0]))\n",
    "        self.play(s.animate.move_to([3, 0, 0]))\n",
    "        self.play(s.animate.scale(0.5).move_to(ORIGIN).rotate(-PI / 4))\n",
    "        self.wait()"
   ]
  },
  {
   "cell_type": "markdown",
   "id": "528fa970",
   "metadata": {},
   "source": [
    "::::{exercise}\n",
    ":label: ex:manim1\n",
    " \n",
    "The attribute `s.animate` is an object that provides the methods `scale`, `move_to`, and `rotate`. Note that the methods can be called successively as in `s.animate.scale(0.5).move_to(ORIGIN).rotate(-PI/4)`. Why?\n",
    "\n",
    "::::"
   ]
  },
  {
   "cell_type": "markdown",
   "id": "9337c106",
   "metadata": {},
   "source": [
    "## Animating multiple objects"
   ]
  },
  {
   "cell_type": "markdown",
   "id": "fd42a7de",
   "metadata": {},
   "source": [
    "**Tessellation with regular polygons**"
   ]
  },
  {
   "cell_type": "markdown",
   "id": "a3c77ca4",
   "metadata": {},
   "source": [
    "Consider tiling a 12-by-6 plane using squares:"
   ]
  },
  {
   "cell_type": "code",
   "execution_count": null,
   "id": "bfe2d0d9",
   "metadata": {},
   "outputs": [],
   "source": [
    "%%manim -qm --progress_bar=none --disable_caching --flush_cache -v ERROR SquareTiling1\n",
    "class SquareTiling1(Scene):\n",
    "    WIDTH = 12\n",
    "    HEIGHT = 6\n",
    "    EDGE = 1\n",
    "\n",
    "    def construct(self):\n",
    "        plane = Rectangle(width=self.WIDTH, height=self.HEIGHT)\n",
    "        unit = Square(color=WHITE, fill_color=BLUE, fill_opacity=0.8).scale(\n",
    "            self.EDGE / 2\n",
    "        )\n",
    "        self.add(plane, unit)"
   ]
  },
  {
   "cell_type": "markdown",
   "id": "dc2fc7e1",
   "metadata": {},
   "source": [
    "The first line of squares can be animated as follows:"
   ]
  },
  {
   "cell_type": "code",
   "execution_count": null,
   "id": "65308149",
   "metadata": {},
   "outputs": [],
   "source": [
    "%%manim -qm --progress_bar=none --disable_caching --flush_cache -v ERROR SquareTiling2\n",
    "class SquareTiling2(Scene):\n",
    "    WIDTH = 12\n",
    "    HEIGHT = 6\n",
    "    EDGE = 1\n",
    "\n",
    "    def construct(self):\n",
    "\n",
    "        plane = Rectangle(width=self.WIDTH, height=self.HEIGHT)\n",
    "        self.add(plane)\n",
    "\n",
    "        unit = Square(color=WHITE, fill_color=BLUE, fill_opacity=0.8).scale(\n",
    "            self.EDGE / 2\n",
    "        )\n",
    "        self.play(Create(unit))\n",
    "        self.play(\n",
    "            unit.animate.move_to(\n",
    "                [-self.WIDTH / 2 + self.EDGE / 2, self.HEIGHT / 2 - self.EDGE / 2, 0]\n",
    "            )\n",
    "        )\n",
    "\n",
    "        for i in range(1, self.WIDTH // self.EDGE):\n",
    "            self.play(unit.copy().animate.shift([i, 0, 0]), run_time=1 / i)\n",
    "        self.wait()"
   ]
  },
  {
   "cell_type": "markdown",
   "id": "92f7affc",
   "metadata": {},
   "source": [
    "We can use `VGroup` method to create a group of shapes."
   ]
  },
  {
   "cell_type": "code",
   "execution_count": null,
   "id": "cf20e2b1",
   "metadata": {},
   "outputs": [],
   "source": [
    "%%manim -qm --progress_bar=none --disable_caching --flush_cache -v ERROR SquareTiling3\n",
    "class SquareTiling3(Scene):\n",
    "    WIDTH = 12\n",
    "    HEIGHT = 6\n",
    "    EDGE = 1\n",
    "\n",
    "    def construct(self):\n",
    "\n",
    "        plane = Rectangle(width=self.WIDTH, height=self.HEIGHT)\n",
    "        self.add(plane)\n",
    "\n",
    "        unit = Square(color=WHITE, fill_color=BLUE, fill_opacity=0.8).scale(\n",
    "            self.EDGE / 2\n",
    "        )\n",
    "        self.play(Create(unit))\n",
    "        self.play(\n",
    "            unit.animate.move_to(\n",
    "                [-self.WIDTH / 2 + self.EDGE / 2, self.HEIGHT / 2 - self.EDGE / 2, 0]\n",
    "            )\n",
    "        )\n",
    "\n",
    "        for i in range(1, math.floor(self.WIDTH / self.EDGE)):\n",
    "            self.play(unit.copy().animate.shift([i * self.EDGE, 0, 0]), run_time=1 / i)\n",
    "\n",
    "        line = VGroup(\n",
    "            *[\n",
    "                unit.copy().shift([i * self.EDGE, 0, 0])\n",
    "                for i in range(math.floor(self.WIDTH / self.EDGE))\n",
    "            ]\n",
    "        )\n",
    "        for i in range(1, math.floor(self.HEIGHT / self.EDGE)):\n",
    "            self.play(line.copy().animate.shift([0, -i * self.EDGE, 0]), run_time=1 / i)\n",
    "\n",
    "        self.wait()"
   ]
  },
  {
   "cell_type": "markdown",
   "id": "d041a52d",
   "metadata": {},
   "source": [
    "::::{exercise}\n",
    ":label: ex:manim2\n",
    " \n",
    "Use manim to show the other two ways of tiling with regular polygons (triangle and hexagon). (see [tiling with regular polygons](https://en.wikipedia.org/wiki/Euclidean_tilings_by_convex_regular_polygons))\n",
    "\n",
    "::::"
   ]
  }
 ],
 "metadata": {
  "kernelspec": {
   "display_name": "Python 3 (ipykernel)",
   "language": "python",
   "name": "python3"
  }
 },
 "nbformat": 4,
 "nbformat_minor": 5
}
