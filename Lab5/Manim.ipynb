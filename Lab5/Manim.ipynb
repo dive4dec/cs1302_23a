{
 "cells": [
  {
   "cell_type": "markdown",
   "id": "f96281e2",
   "metadata": {},
   "source": [
    "# Manim (optional)"
   ]
  },
  {
   "cell_type": "markdown",
   "id": "a22df3e2",
   "metadata": {
    "slideshow": {
     "slide_type": "-"
    },
    "tags": [
     "remove-cell"
    ]
   },
   "source": [
    "CS1302 Introduction to Computer Programming\n",
    "___"
   ]
  },
  {
   "cell_type": "code",
   "execution_count": null,
   "id": "724e5ffe",
   "metadata": {},
   "outputs": [],
   "source": [
    "import math\n",
    "\n",
    "from manim import *\n",
    "\n",
    "%reload_ext divewidgets"
   ]
  },
  {
   "cell_type": "markdown",
   "id": "6c291b0e",
   "metadata": {},
   "source": [
    "[Manim](https://github.com/3b1b/manim) is a powerful **anim**ation engine for **ma**themetics developed by [3Blue1Brown](https://www.youtube.com/channel/UCYO_jab_esuFRV4b17AJtAw). We will use manim to domenstrate how object-oriented programming uses classes and objects to make it create complex animation."
   ]
  },
  {
   "cell_type": "markdown",
   "id": "9a2ab3b3",
   "metadata": {},
   "source": [
    "## Creating a scene"
   ]
  },
  {
   "cell_type": "markdown",
   "id": "04953582",
   "metadata": {},
   "source": [
    "**How to create an animation with `manim`?**"
   ]
  },
  {
   "cell_type": "markdown",
   "id": "ed9fba9e",
   "metadata": {},
   "source": [
    "In jupyter notebook, we can use `%%manim` cell magic:"
   ]
  },
  {
   "cell_type": "code",
   "execution_count": null,
   "id": "379b5235",
   "metadata": {},
   "outputs": [],
   "source": [
    "%%manim -qm --progress_bar=none --disable_caching --flush_cache -v ERROR HelloWorld\n",
    "class HelloWorld(Scene):\n",
    "    def construct(self):\n",
    "        self.play(Write(Text(\"Hello, World!\")))"
   ]
  },
  {
   "cell_type": "markdown",
   "id": "86dd8a31",
   "metadata": {},
   "source": [
    "In the line starting with `%%`:\n",
    "- `-qm` is the alias for `--quality=m`, which means the video is rendered in medium quality. Change it to `-ql` (`-qh`) for low (high) quality.\n",
    "- `--progress_bar=none --disable_caching --flush_cache -v ERROR` are [additional configurations](https://docs.manim.community/en/stable/tutorials/configuration.html) to turn off some features. \n",
    "- `HelloWorld` is the class to render, which is defined in the body:\n",
    "    ```Python \n",
    "    class HelloWorld(Scene):\n",
    "        def construct(self):\n",
    "            ...\n",
    "    ```"
   ]
  },
  {
   "cell_type": "markdown",
   "id": "aab2eff9",
   "metadata": {},
   "source": [
    "**How to define a class?**"
   ]
  },
  {
   "cell_type": "markdown",
   "id": "3a037f04",
   "metadata": {},
   "source": [
    "As a toy example, the following [defines a class](https://docs.python.org/3/tutorial/classes.html?highlight=inheritance#class-definition-syntax) `Pet` and its [subclasses](https://docs.python.org/3/tutorial/classes.html?highlight=inheritance#inheritance) `Cat` and `Dog`:"
   ]
  },
  {
   "cell_type": "code",
   "execution_count": null,
   "id": "3eebde36",
   "metadata": {},
   "outputs": [],
   "source": [
    "%%optlite -h 700\n",
    "class Pet:\n",
    "    kind = \"Pet\"\n",
    "\n",
    "    def __init__(self, name):\n",
    "        self.name = name\n",
    "\n",
    "    def __str__(self):\n",
    "        return f\"{self.kind} {self.name}\"\n",
    "\n",
    "\n",
    "class Cat(Pet):\n",
    "    kind = \"Cat\"\n",
    "\n",
    "\n",
    "class Dog(Pet):\n",
    "    kind = \"Dog\"\n",
    "\n",
    "\n",
    "p1 = Pet(\"Alfie\")\n",
    "p2 = Dog(\"Bobbie\")\n",
    "p3, p4 = Cat(\"Bella\"), Cat(\"Kelly\")\n",
    "print(p1, p2, p3, p4, sep=\", \")"
   ]
  },
  {
   "cell_type": "markdown",
   "id": "c9b6cf9a",
   "metadata": {},
   "source": [
    "- Each pet has its own `name` but they share `kind` from their class without duplicating it.\n",
    "- Subclasses can reuse (inherit) code from their superclass but produce different results:\n",
    "    - Line 19-21 calls `Pet.__init__` implicitly to create pets with different `name`s.\n",
    "    - Line 22 calls `Pet.__str__` implicitly to return a string containing pets' specific `kind` in addition to its `name`."
   ]
  },
  {
   "cell_type": "markdown",
   "id": "3858b394",
   "metadata": {},
   "source": [
    "## Animating an Object"
   ]
  },
  {
   "cell_type": "markdown",
   "id": "257d2c0b",
   "metadata": {},
   "source": [
    "**How to add objects to a `Scene`?**"
   ]
  },
  {
   "cell_type": "markdown",
   "id": "6b61f4ad",
   "metadata": {},
   "source": [
    "We can create a square and add it to the scene as follows:"
   ]
  },
  {
   "cell_type": "code",
   "execution_count": null,
   "id": "4bb4313d",
   "metadata": {},
   "outputs": [],
   "source": [
    "%%manim -qm --progress_bar=none --disable_caching --flush_cache -v ERROR BlueSquare1\n",
    "class BlueSquare1(Scene):\n",
    "    def construct(self):\n",
    "        s = Square(fill_color=BLUE, color=WHITE)\n",
    "        self.add(s)"
   ]
  },
  {
   "cell_type": "markdown",
   "id": "160cd194",
   "metadata": {},
   "source": [
    "- The square object is create using `Square`, `BLUE` and `WHITE` imported from `manim`.\n",
    "- It is then placed to to the scene using `self.add` inherited from `Scene`."
   ]
  },
  {
   "cell_type": "markdown",
   "id": "13d23e2b",
   "metadata": {},
   "source": [
    "**How to animate an object?**"
   ]
  },
  {
   "cell_type": "markdown",
   "id": "171c1810",
   "metadata": {},
   "source": [
    "The following shows the creation of a square:"
   ]
  },
  {
   "cell_type": "code",
   "execution_count": null,
   "id": "25542042",
   "metadata": {},
   "outputs": [],
   "source": [
    "%%manim -qm --progress_bar=none --disable_caching --flush_cache -v ERROR BlueSquare2\n",
    "class BlueSquare2(Scene):\n",
    "    def construct(self):\n",
    "        s = Square(color=WHITE, fill_color=BLUE, fill_opacity=0.8)\n",
    "        self.play(Create(s))\n",
    "        self.wait()"
   ]
  },
  {
   "cell_type": "markdown",
   "id": "b9ecf5e4",
   "metadata": {},
   "source": [
    "- `self.play` plays the animation `Create(s)`.\n",
    "- `self.wait()` creates a pause \"animation\"."
   ]
  },
  {
   "cell_type": "markdown",
   "id": "f1544887",
   "metadata": {},
   "source": [
    "**How to transform an object?**"
   ]
  },
  {
   "cell_type": "markdown",
   "id": "6f113e41",
   "metadata": {},
   "source": [
    "To scale, move, or rotate the shape:"
   ]
  },
  {
   "cell_type": "code",
   "execution_count": null,
   "id": "6242d07a",
   "metadata": {},
   "outputs": [],
   "source": [
    "%%manim -qm --progress_bar=none --disable_caching --flush_cache -v ERROR BlueSquare3\n",
    "class BlueSquare3(Scene):\n",
    "    def construct(self):\n",
    "        s = Square(color=WHITE, fill_color=BLUE, fill_opacity=0.8)\n",
    "        self.play(Create(s))\n",
    "        self.play(s.animate.scale(1.5).rotate(PI / 4))\n",
    "        self.play(s.animate.move_to([-3, 0, 0]))\n",
    "        self.play(s.animate.move_to([3, 0, 0]))\n",
    "        self.play(s.animate.scale(0.5).move_to(ORIGIN).rotate(-PI / 4))\n",
    "        self.wait()"
   ]
  },
  {
   "cell_type": "markdown",
   "id": "1ad84e68",
   "metadata": {},
   "source": [
    "::::{exercise}\n",
    ":label: ex:manim1\n",
    " \n",
    "The attribute `s.animate` is an object that provides the methods `scale`, `move_to`, and `rotate`. Note that the methods can be called successively as in `s.animate.scale(0.5).move_to(ORIGIN).rotate(-PI/4)`. Why?\n",
    "\n",
    "::::"
   ]
  },
  {
   "cell_type": "markdown",
   "id": "2c50ec38",
   "metadata": {},
   "source": [
    "## Animating multiple objects"
   ]
  },
  {
   "cell_type": "markdown",
   "id": "d1da767e",
   "metadata": {},
   "source": [
    "**Tessellation with regular polygons**"
   ]
  },
  {
   "cell_type": "markdown",
   "id": "7965ee30",
   "metadata": {},
   "source": [
    "Consider tiling a 12-by-6 plane using squares:"
   ]
  },
  {
   "cell_type": "code",
   "execution_count": null,
   "id": "f622d623",
   "metadata": {},
   "outputs": [],
   "source": [
    "%%manim -qm --progress_bar=none --disable_caching --flush_cache -v ERROR SquareTiling1\n",
    "class SquareTiling1(Scene):\n",
    "    WIDTH = 12\n",
    "    HEIGHT = 6\n",
    "    EDGE = 1\n",
    "\n",
    "    def construct(self):\n",
    "        plane = Rectangle(width=self.WIDTH, height=self.HEIGHT)\n",
    "        unit = Square(color=WHITE, fill_color=BLUE, fill_opacity=0.8).scale(\n",
    "            self.EDGE / 2\n",
    "        )\n",
    "        self.add(plane, unit)"
   ]
  },
  {
   "cell_type": "markdown",
   "id": "33d3b2bb",
   "metadata": {},
   "source": [
    "The first line of squares can be animated as follows:"
   ]
  },
  {
   "cell_type": "code",
   "execution_count": null,
   "id": "4b06d1c1",
   "metadata": {},
   "outputs": [],
   "source": [
    "%%manim -qm --progress_bar=none --disable_caching --flush_cache -v ERROR SquareTiling2\n",
    "class SquareTiling2(Scene):\n",
    "    WIDTH = 12\n",
    "    HEIGHT = 6\n",
    "    EDGE = 1\n",
    "\n",
    "    def construct(self):\n",
    "\n",
    "        plane = Rectangle(width=self.WIDTH, height=self.HEIGHT)\n",
    "        self.add(plane)\n",
    "\n",
    "        unit = Square(color=WHITE, fill_color=BLUE, fill_opacity=0.8).scale(\n",
    "            self.EDGE / 2\n",
    "        )\n",
    "        self.play(Create(unit))\n",
    "        self.play(\n",
    "            unit.animate.move_to(\n",
    "                [-self.WIDTH / 2 + self.EDGE / 2, self.HEIGHT / 2 - self.EDGE / 2, 0]\n",
    "            )\n",
    "        )\n",
    "\n",
    "        for i in range(1, self.WIDTH // self.EDGE):\n",
    "            self.play(unit.copy().animate.shift([i, 0, 0]), run_time=1 / i)\n",
    "        self.wait()"
   ]
  },
  {
   "cell_type": "markdown",
   "id": "34160ffc",
   "metadata": {},
   "source": [
    "We can use `VGroup` method to create a group of shapes."
   ]
  },
  {
   "cell_type": "code",
   "execution_count": null,
   "id": "f6aeb4a5",
   "metadata": {},
   "outputs": [],
   "source": [
    "%%manim -qm --progress_bar=none --disable_caching --flush_cache -v ERROR SquareTiling3\n",
    "class SquareTiling3(Scene):\n",
    "    WIDTH = 12\n",
    "    HEIGHT = 6\n",
    "    EDGE = 1\n",
    "\n",
    "    def construct(self):\n",
    "\n",
    "        plane = Rectangle(width=self.WIDTH, height=self.HEIGHT)\n",
    "        self.add(plane)\n",
    "\n",
    "        unit = Square(color=WHITE, fill_color=BLUE, fill_opacity=0.8).scale(\n",
    "            self.EDGE / 2\n",
    "        )\n",
    "        self.play(Create(unit))\n",
    "        self.play(\n",
    "            unit.animate.move_to(\n",
    "                [-self.WIDTH / 2 + self.EDGE / 2, self.HEIGHT / 2 - self.EDGE / 2, 0]\n",
    "            )\n",
    "        )\n",
    "\n",
    "        for i in range(1, math.floor(self.WIDTH / self.EDGE)):\n",
    "            self.play(unit.copy().animate.shift([i * self.EDGE, 0, 0]), run_time=1 / i)\n",
    "\n",
    "        line = VGroup(\n",
    "            *[\n",
    "                unit.copy().shift([i * self.EDGE, 0, 0])\n",
    "                for i in range(math.floor(self.WIDTH / self.EDGE))\n",
    "            ]\n",
    "        )\n",
    "        for i in range(1, math.floor(self.HEIGHT / self.EDGE)):\n",
    "            self.play(line.copy().animate.shift([0, -i * self.EDGE, 0]), run_time=1 / i)\n",
    "\n",
    "        self.wait()"
   ]
  },
  {
   "cell_type": "markdown",
   "id": "1357e8b6",
   "metadata": {},
   "source": [
    "::::{exercise}\n",
    ":label: ex:manim2\n",
    " \n",
    "Use manim to show the other two ways of tiling with regular polygons (triangle and hexagon). (see [tiling with regular polygons](https://en.wikipedia.org/wiki/Euclidean_tilings_by_convex_regular_polygons))\n",
    "\n",
    "::::"
   ]
  }
 ],
 "metadata": {
  "kernelspec": {
   "display_name": "Python 3 (ipykernel)",
   "language": "python",
   "name": "python3"
  }
 },
 "nbformat": 4,
 "nbformat_minor": 5
}
