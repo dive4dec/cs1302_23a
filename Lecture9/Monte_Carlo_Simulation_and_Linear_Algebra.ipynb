{
 "cells": [
  {
   "cell_type": "markdown",
   "id": "1a3f1b7f",
   "metadata": {
    "slideshow": {
     "slide_type": "slide"
    }
   },
   "source": [
    "# Monte Carlo Simulation and Linear Algebra"
   ]
  },
  {
   "cell_type": "markdown",
   "id": "731878ef",
   "metadata": {
    "slideshow": {
     "slide_type": "-"
    },
    "tags": [
     "remove-cell"
    ]
   },
   "source": [
    "**CS1302 Introduction to Computer Programming**\n",
    "___"
   ]
  },
  {
   "cell_type": "code",
   "execution_count": null,
   "id": "148b7f81",
   "metadata": {
    "slideshow": {
     "slide_type": "fragment"
    },
    "tags": [
     "remove-cell"
    ]
   },
   "outputs": [],
   "source": [
    "import math\n",
    "import random\n",
    "import numpy as np\n",
    "import ipywidgets as widgets\n",
    "%reload_ext divewidgets"
   ]
  },
  {
   "cell_type": "markdown",
   "id": "43613e7a",
   "metadata": {
    "slideshow": {
     "slide_type": "subslide"
    }
   },
   "source": [
    "## Monte Carlo simulation"
   ]
  },
  {
   "cell_type": "markdown",
   "id": "da3583f4",
   "metadata": {
    "slideshow": {
     "slide_type": "subslide"
    }
   },
   "source": [
    "**What is Monte Carlo simulation?**"
   ]
  },
  {
   "cell_type": "markdown",
   "id": "8dc970b3",
   "metadata": {
    "slideshow": {
     "slide_type": "fragment"
    }
   },
   "source": [
    " > The name Monte Carlo refers to the [Monte Carlo Casino in Monaco](https://en.wikipedia.org/wiki/Monte_Carlo_Casino) where Ulam's uncle would borrow money from relatives to gamble."
   ]
  },
  {
   "cell_type": "markdown",
   "id": "0c484f80",
   "metadata": {
    "slideshow": {
     "slide_type": "fragment"
    }
   },
   "source": [
    "It would be nice to simulate the casino so Ulam's uncle did not need to borrow money to play in the casino.  \n",
    "Actually...,\n",
    "- Monte Carlo is the code name of the secret project for creating the [hydrogen bomb](https://en.wikipedia.org/wiki/Monte_Carlo_method). \n",
    "- [Ulam](https://en.wikipedia.org/wiki/Stanislaw_Ulam) worked with [John von Neumann](https://en.wikipedia.org/wiki/John_von_Neumann) to program the first electronic computer ENIAC to simulate a computational model of a thermonuclear reaction.\n",
    "\n",
    "(See also [The Beginning of the Monte Carlo Method](https://permalink.lanl.gov/object/tr?what=info:lanl-repo/lareport/LA-UR-88-9067) for a more detailed account.)"
   ]
  },
  {
   "cell_type": "markdown",
   "id": "63774a40",
   "metadata": {
    "slideshow": {
     "slide_type": "subslide"
    }
   },
   "source": [
    "**How to compute the value of $\\pi$**?"
   ]
  },
  {
   "cell_type": "markdown",
   "id": "f107120f",
   "metadata": {
    "slideshow": {
     "slide_type": "fragment"
    }
   },
   "source": [
    "An application of Monte Carlo simulation is to approximate $\\pi$ using \n",
    "the [Buffon's needle](https://en.wikipedia.org/wiki/Buffon%27s_needle_problem).  \n",
    "There is [a program](https://www.khanacademy.org/computer-programming/pi-by-buffons-needle/6695500989890560) written in javascript to do this."
   ]
  },
  {
   "cell_type": "markdown",
   "id": "a31c1e44",
   "metadata": {
    "slideshow": {
     "slide_type": "fragment"
    }
   },
   "source": [
    "The javascript program is long, so we will use an alternative simulation that is easier to understand/program."
   ]
  },
  {
   "cell_type": "markdown",
   "id": "1b93de41",
   "metadata": {
    "slideshow": {
     "slide_type": "subslide"
    }
   },
   "source": [
    "If we uniformly randomly pick a point in a square. What is the chance the point is inside the inscribed circle, i.e., the biggest circle inside the square?"
   ]
  },
  {
   "cell_type": "markdown",
   "id": "95361a9f",
   "metadata": {
    "slideshow": {
     "slide_type": "-"
    }
   },
   "source": [
    "The chance is the circle's area divided by the square's area. Suppose the square has length $\\ell$, then the chance is\n",
    "\n",
    "$$ \\frac{\\pi (\\ell /2)^2}{ (\\ell)^2 } = \\frac{\\pi}4 $$\n",
    "independent of the length $\\ell$."
   ]
  },
  {
   "cell_type": "markdown",
   "id": "38b46ea2",
   "metadata": {
    "slideshow": {
     "slide_type": "subslide"
    }
   },
   "source": [
    "::::{exercise}\n",
    ":label: ex:ml1\n",
    "\n",
    "Complete the following function to return an approximation of $\\pi$ as follows:\n",
    "1. Simulate the random process of picking a point from a square repeatedly `n` times by  \n",
    "  generating the $x$ and $y$ coordinates uniformly randomly from a unit interval $[0,1)$.\n",
    "2. Compute the fraction of times the point is in the first quadrant of the inscribed circle, as shown in the figure below.\n",
    "3. Return $4$ times the fraction as the approximation.\n",
    "<p><a href=\"https://commons.wikimedia.org/wiki/File:Pi_30K.gif#/media/File:Pi_30K.gif\"><img src=\"https://upload.wikimedia.org/wikipedia/commons/8/84/Pi_30K.gif\" alt=\"Pi 30K.gif\"></a></p>\n",
    "\n",
    "::::"
   ]
  },
  {
   "cell_type": "code",
   "execution_count": null,
   "id": "d8afff4e",
   "metadata": {
    "deletable": false,
    "nbgrader": {
     "cell_type": "code",
     "checksum": "bdfa2c8933a6f4cd99844178a10fad66",
     "grade": false,
     "grade_id": "approximate_pi",
     "locked": false,
     "schema_version": 3,
     "solution": true,
     "task": false
    },
    "slideshow": {
     "slide_type": "-"
    }
   },
   "outputs": [],
   "source": [
    "%%timeit -n 1 -r 1\n",
    "def approximate_pi(n):\n",
    "    # YOUR CODE HERE\n",
    "    raise NotImplementedError()\n",
    "print(f\"Approximate: {approximate_pi(int(1e7))}\\nGround truth: {math.pi}\")"
   ]
  },
  {
   "cell_type": "markdown",
   "id": "a51e29e0",
   "metadata": {
    "slideshow": {
     "slide_type": "subslide"
    }
   },
   "source": [
    "**How accurate is the approximation?**"
   ]
  },
  {
   "cell_type": "markdown",
   "id": "20d323ac",
   "metadata": {
    "slideshow": {
     "slide_type": "fragment"
    }
   },
   "source": [
    "The following uses a powerful library `numpy` for computing to return a [$95\\%$-confidence interval](http://onlinestatbook.com/2/estimation/mean.html#:~:text=To%20compute%20the%2095%25%20confidence,be%20between%20the%20cutoff%20points.)."
   ]
  },
  {
   "cell_type": "code",
   "execution_count": null,
   "id": "f8c60c3e",
   "metadata": {
    "slideshow": {
     "slide_type": "-"
    }
   },
   "outputs": [],
   "source": [
    "%%timeit -n 1 -r 1\n",
    "import numpy as np\n",
    "\n",
    "\n",
    "def np_approximate_pi(n):\n",
    "    in_circle = (np.random.random((n, 2)) ** 2).sum(axis=-1) < 1\n",
    "    mean = 4 * in_circle.mean()\n",
    "    std = 4 * in_circle.std() / n ** 0.5\n",
    "    return np.array([mean - 2 * std, mean + 2 * std])\n",
    "\n",
    "\n",
    "interval = np_approximate_pi(int(1e7))\n",
    "print(\n",
    "    f\"\"\"95%-confidence interval: {interval}\n",
    "Estimate: {interval.mean():.4f} ± {(interval[1]-interval[0])/2:.4f}\n",
    "Ground truth: {math.pi}\"\"\"\n",
    ")"
   ]
  },
  {
   "cell_type": "markdown",
   "id": "a858e4a1",
   "metadata": {
    "slideshow": {
     "slide_type": "fragment"
    }
   },
   "source": [
    "::::{note}\n",
    "\n",
    "The computation done using `numpy` is over $5$ times faster despite the additional computation of the standard deviation.\n",
    "::::"
   ]
  },
  {
   "cell_type": "markdown",
   "id": "976b42c0",
   "metadata": {
    "slideshow": {
     "slide_type": "subslide"
    }
   },
   "source": [
    "::::{seealso}\n",
    "\n",
    "There are faster methods to approximate $\\pi$, such as the [Chudnovsky_algorithm](https://en.wikipedia.org/wiki/Chudnovsky_algorithm), but the Monte-Carlo method is helpful in complicated situations.   \n",
    "E.g., see the Monte Carlo simulation of a [real-life situation](https://www.youtube.com/watch?v=-fCVxTTAtFQ) in playing basketball:\n",
    "> \"When down by three and left with only 30 seconds, is it better to attempt a hard 3-point shot or an easy 2-point shot and get another possession?\"   --LeBron James\n",
    "::::"
   ]
  },
  {
   "cell_type": "markdown",
   "id": "2cd4314a",
   "metadata": {
    "slideshow": {
     "slide_type": "slide"
    }
   },
   "source": [
    "## Linear Algebra"
   ]
  },
  {
   "cell_type": "markdown",
   "id": "895ac588",
   "metadata": {
    "slideshow": {
     "slide_type": "subslide"
    }
   },
   "source": [
    "**How to solve a linear equation?**"
   ]
  },
  {
   "cell_type": "markdown",
   "id": "ab44fcd1",
   "metadata": {
    "slideshow": {
     "slide_type": "fragment"
    }
   },
   "source": [
    "Given the following linear equation in variable $x$ with real-valued coefficient $a$ and $b$,\n",
    "\n",
    "$$ a x = b,$$\n",
    "what is the value of $x$ that satisfies the equation?"
   ]
  },
  {
   "cell_type": "markdown",
   "id": "24644bff",
   "metadata": {
    "slideshow": {
     "slide_type": "subslide"
    }
   },
   "source": [
    "::::{exercise}\n",
    ":label: ex:ml2\n",
    "\n",
    "Complete the following function to return either the unique solution of $x$ or `None` if a unique solution does not exist.\n",
    "\n",
    "::::"
   ]
  },
  {
   "cell_type": "code",
   "execution_count": null,
   "id": "f3f490a6",
   "metadata": {
    "deletable": false,
    "nbgrader": {
     "cell_type": "code",
     "checksum": "7243c5495ca33864ba0a19aee281a633",
     "grade": false,
     "grade_id": "solve_linear_equation",
     "locked": false,
     "schema_version": 3,
     "solution": true,
     "task": false
    },
    "slideshow": {
     "slide_type": "-"
    }
   },
   "outputs": [],
   "source": [
    "def solve_linear_equation(a, b):\n",
    "    # YOUR CODE HERE\n",
    "    raise NotImplementedError()\n",
    "\n",
    "\n",
    "@widgets.interact(a=(0, 5, 1), b=(0, 5, 1))\n",
    "def linear_equation_solver(a=2, b=3):\n",
    "    print(\n",
    "        f\"\"\"linear equation: {a}x = {b}\n",
    "       solution: x = {solve_linear_equation(a,b)}\"\"\"\n",
    "    )"
   ]
  },
  {
   "cell_type": "markdown",
   "id": "636010f3",
   "metadata": {
    "slideshow": {
     "slide_type": "subslide"
    }
   },
   "source": [
    "**How to solve multiple linear equations?**"
   ]
  },
  {
   "cell_type": "markdown",
   "id": "100fb491",
   "metadata": {
    "slideshow": {
     "slide_type": "fragment"
    }
   },
   "source": [
    "In the general case, we have a system of $m$ linear equations and $n$ variables:\n",
    "\n",
    "$$ \\begin{aligned}\n",
    "a_{00} x_0 + a_{01} x_1 + \\dots + a_{0(n-1)} x_{n-1} &= b_0\\\\\n",
    "a_{10} x_0 + a_{11} x_1 + \\dots + a_{1(n-1)} x_{n-1} &= b_1\\\\\n",
    " & \\vdots\\\\\n",
    "a_{(m-1)0} x_0 + a_{(m-1)1} x_1 + \\dots + a_{(m-1)(n-1)} x_{n-1} &= b_{m-1}\\\\\n",
    "\\end{aligned}\n",
    "$$\n",
    "where\n",
    "- $x_j$ for $j\\in \\{0,\\dots,n-1\\}$ are the variables, and\n",
    "- $a_{ij}$ and $b_j$ for $i\\in \\{0,\\dots,m-1\\}$ and $j\\in \\{0,\\dots,n-1\\}$ are the coefficients.\n",
    "\n",
    "A fundamental problem in linear algebra is to compute the unique solution to the system if it exists."
   ]
  },
  {
   "cell_type": "markdown",
   "id": "7dda8712",
   "metadata": {
    "slideshow": {
     "slide_type": "fragment"
    }
   },
   "source": [
    "We will consider the simpler 2-by-2 system with 2 variables and 2 equations:\n",
    "\n",
    "$$ \\begin{aligned}\n",
    "a_{00} x_0 + a_{01} x_1 &= b_0\\\\\n",
    "a_{10} x_0 + a_{11} x_1 &= b_1.\n",
    "\\end{aligned}\n",
    "$$"
   ]
  },
  {
   "cell_type": "markdown",
   "id": "69ecbf50",
   "metadata": {
    "slideshow": {
     "slide_type": "subslide"
    }
   },
   "source": [
    "To get an idea of the solution, suppose \n",
    "\n",
    "$$a_{00}=a_{11}=1, a_{01} = a_{10} = 0.$$\n",
    "The system of equations becomes\n",
    "\n",
    "$$ \\begin{aligned}\n",
    "x_0 \\hphantom{+ x_1} &= b_0\\\\\n",
    "\\hphantom{x_0 +}  x_1 &= b_1,\n",
    "\\end{aligned}\n",
    "$$\n",
    "which gives the solution directly."
   ]
  },
  {
   "cell_type": "markdown",
   "id": "312a8f7f",
   "metadata": {
    "slideshow": {
     "slide_type": "fragment"
    }
   },
   "source": [
    "What about $a_{00}=a_{11}=2$ instead?\n",
    "\n",
    "$$ \\begin{aligned}\n",
    "2x_0 \\hphantom{+ x_1} &= b_0\\\\\n",
    "\\hphantom{2x_0 +}  2x_1 &= b_1,\n",
    "\\end{aligned}$$"
   ]
  },
  {
   "cell_type": "markdown",
   "id": "3b9e956d",
   "metadata": {
    "slideshow": {
     "slide_type": "fragment"
    }
   },
   "source": [
    "To obtain the solution, we divide both equations by 2:\n",
    "\n",
    "$$ \\begin{aligned}\n",
    "x_0 \\hphantom{+ x_1} &= \\frac{b_0}2\\\\\n",
    "\\hphantom{x_0 +}  x_1 &= \\frac{b_1}2.\n",
    "\\end{aligned}\n",
    "$$"
   ]
  },
  {
   "cell_type": "markdown",
   "id": "c56ef7c6",
   "metadata": {
    "slideshow": {
     "slide_type": "fragment"
    }
   },
   "source": [
    "What if $a_{01}=2$ instead?\n",
    "\n",
    "$$ \\begin{aligned}\n",
    "2x_0 + 2x_1 &= b_0\\\\\n",
    "\\hphantom{2x_0 +}  2x_1 &= b_1\\\\\n",
    "\\end{aligned}\n",
    "$$"
   ]
  },
  {
   "cell_type": "markdown",
   "id": "298d827f",
   "metadata": {
    "slideshow": {
     "slide_type": "fragment"
    }
   },
   "source": [
    "The second equation gives the solution of $x_1$, and we can use the solution in the first equation to solve for $x_0$. More precisely:\n",
    "- Subtract the second equation from the first one:\n",
    "\n",
    "$$ \\begin{aligned}\n",
    "2x_0 \\hphantom{+2x_1} &= b_0 - b_1\\\\\n",
    "\\hphantom{2x_0 +}  2x_1 &= b_1\\\\\n",
    "\\end{aligned}\n",
    "$$\n",
    "- Divide both equations by 2:\n",
    "\n",
    "$$ \\begin{aligned}\n",
    "x_0 \\hphantom{+ x_1} &= \\frac{b_0 - b_1}2\\\\\n",
    "\\hphantom{x_0 +}  x_1 &= \\frac{b_1}2\\\\\n",
    "\\end{aligned}\n",
    "$$"
   ]
  },
  {
   "cell_type": "markdown",
   "id": "0075f2b3",
   "metadata": {
    "slideshow": {
     "slide_type": "subslide"
    }
   },
   "source": [
    "::::{important}\n",
    "\n",
    "The above operations are called *row operations* in linear algebra: each row is an equation.  \n",
    "A system of linear equations can be solved by the linear operations of \n",
    "1. multiplying an equation by a constant, and\n",
    "2. subtracting one equation from another.\n",
    "::::"
   ]
  },
  {
   "cell_type": "markdown",
   "id": "d676bc23",
   "metadata": {
    "slideshow": {
     "slide_type": "fragment"
    }
   },
   "source": [
    "How to write a program to solve a general 2-by-2 system? We will use the `numpy` library."
   ]
  },
  {
   "cell_type": "markdown",
   "id": "1a40eea2",
   "metadata": {
    "slideshow": {
     "slide_type": "subslide"
    }
   },
   "source": [
    "### Creating `numpy` arrays"
   ]
  },
  {
   "cell_type": "markdown",
   "id": "909f64e4",
   "metadata": {
    "slideshow": {
     "slide_type": "subslide"
    }
   },
   "source": [
    "**How to store the coefficients?**"
   ]
  },
  {
   "cell_type": "markdown",
   "id": "fb918243",
   "metadata": {
    "slideshow": {
     "slide_type": "fragment"
    }
   },
   "source": [
    "In linear algebra, a system of equations such as\n",
    "\n",
    "$$ \\begin{aligned}\n",
    "a_{00} x_0 + a_{01} x_1 &= b_0\\\\\n",
    "a_{10} x_0 + a_{11} x_1 &= b_1\n",
    "\\end{aligned}\n",
    "$$\n",
    "is written concisely in *matrix* form as $ \\mathbf{A} \\mathbf{x} = \\mathbf{b} $:\n",
    "\n",
    "$$\\overbrace{\\begin{bmatrix}\n",
    "a_{00} & a_{01}\\\\\n",
    "a_{10} & a_{11}\n",
    "\\end{bmatrix}}^{\\mathbf{A}}\n",
    "\\overbrace{\n",
    "\\begin{bmatrix}\n",
    "x_0\\\\\n",
    "x_1\n",
    "\\end{bmatrix}}\n",
    "^{\\mathbf{x}}\n",
    "= \\overbrace{\\begin{bmatrix}\n",
    "b_0\\\\\n",
    "b_1\n",
    "\\end{bmatrix}}^{\\mathbf{b}},\n",
    "$$\n",
    "where\n",
    "$ \\mathbf{A} \\mathbf{x}$ is the *matrix multiplication*\n",
    "\n",
    "$$ \\mathbf{A} \\mathbf{x} = \\begin{bmatrix}\n",
    "a_{00} x_0 + a_{01} x_1\\\\\n",
    "a_{10} x_0 + a_{11} x_1\n",
    "\\end{bmatrix}.\n",
    "$$"
   ]
  },
  {
   "cell_type": "markdown",
   "id": "5efbf397",
   "metadata": {
    "slideshow": {
     "slide_type": "fragment"
    }
   },
   "source": [
    "We say that $\\mathbf{A}$ is a [*matrix*](https://en.wikipedia.org/wiki/Matrix_(mathematics)) and its dimension/shape is $2$-by-$2$:\n",
    "- The first dimension/axis has size $2$. We also say that the matrix has $2$ rows.\n",
    "- The second dimension/axis has size $2$. We also say that the matrix has $2$ columns.\n",
    "$\\mathbf{x}$ and $\\mathbf{b}$ are called column vectors, which are matrices with one column."
   ]
  },
  {
   "cell_type": "markdown",
   "id": "af1934f4",
   "metadata": {
    "slideshow": {
     "slide_type": "subslide"
    }
   },
   "source": [
    "Consider the example\n",
    "\n",
    "$$ \\begin{aligned}\n",
    "2x_0 + 2x_1 &= 1\\\\\n",
    "\\hphantom{2x_0 +}  2x_1 &= 1,\n",
    "\\end{aligned}$$\n",
    "\n",
    "or in matrix form with\n",
    "\n",
    "$$ \\begin{aligned}\n",
    "\\mathbf{A}&=\\begin{bmatrix}\n",
    "a_{00} & a_{01} \\\\\n",
    "a_{10} & a_{11} \n",
    "\\end{bmatrix} \n",
    "= \\begin{bmatrix}\n",
    "2 & 2 \\\\\n",
    "0 & 2 \n",
    "\\end{bmatrix}\\\\\n",
    "\\mathbf{b}&=\\begin{bmatrix}\n",
    "b_0\\\\\n",
    "b_1\n",
    "\\end{bmatrix} = \\begin{bmatrix}\n",
    "1\\\\\n",
    "1\n",
    "\\end{bmatrix}\\end{aligned}$$"
   ]
  },
  {
   "cell_type": "markdown",
   "id": "8f8bc9b6",
   "metadata": {
    "slideshow": {
     "slide_type": "fragment"
    }
   },
   "source": [
    "Instead of using `list` to store the matrix, we will use a `numpy` array."
   ]
  },
  {
   "cell_type": "code",
   "execution_count": null,
   "id": "2b670122",
   "metadata": {
    "slideshow": {
     "slide_type": "-"
    }
   },
   "outputs": [],
   "source": [
    "A = np.array([[2.0, 2], [0, 2]])\n",
    "b = np.array([1.0, 1])\n",
    "A, b"
   ]
  },
  {
   "cell_type": "markdown",
   "id": "ee4212c3",
   "metadata": {
    "slideshow": {
     "slide_type": "subslide"
    }
   },
   "source": [
    "Compared to `list`, `numpy` array is often more efficient and has more attributes."
   ]
  },
  {
   "cell_type": "code",
   "execution_count": null,
   "id": "fe3db3d6",
   "metadata": {
    "slideshow": {
     "slide_type": "-"
    }
   },
   "outputs": [],
   "source": [
    "array_attributes = set(attr for attr in dir(np.array([])) if attr[0] != \"_\")\n",
    "list_attributes = set(attr for attr in dir(list) if attr[0] != \"_\")\n",
    "print(\"\\nCommon attributes:\\n\", *(array_attributes & list_attributes))\n",
    "print(\"\\nArray-specific attributes:\\n\", *(array_attributes - list_attributes))\n",
    "print(\"\\nList-specific attributes:\\n\", *(list_attributes - array_attributes))"
   ]
  },
  {
   "cell_type": "markdown",
   "id": "7969b5d9",
   "metadata": {
    "slideshow": {
     "slide_type": "subslide"
    }
   },
   "source": [
    "The following attributes give the dimension/shape, number of dimensions, size, and data type."
   ]
  },
  {
   "cell_type": "code",
   "execution_count": null,
   "id": "54edbc13",
   "metadata": {
    "slideshow": {
     "slide_type": "-"
    }
   },
   "outputs": [],
   "source": [
    "for array in A, b:\n",
    "    print(\n",
    "        f\"\"\"{array}\n",
    "    shape: {array.shape}\n",
    "    ndim: {array.ndim}\n",
    "    size: {array.size}\n",
    "    dtype: {array.dtype}\n",
    "    \"\"\"\n",
    "    )"
   ]
  },
  {
   "cell_type": "markdown",
   "id": "bb120730",
   "metadata": {
    "slideshow": {
     "slide_type": "fragment"
    }
   },
   "source": [
    "Note that the function `len` only returns the size of the first dimension:"
   ]
  },
  {
   "cell_type": "code",
   "execution_count": null,
   "id": "da03ad5a",
   "metadata": {
    "slideshow": {
     "slide_type": "-"
    }
   },
   "outputs": [],
   "source": [
    "assert A.shape[0] == len(A)\n",
    "len(A)"
   ]
  },
  {
   "cell_type": "markdown",
   "id": "4ab1e9dd",
   "metadata": {
    "slideshow": {
     "slide_type": "subslide"
    }
   },
   "source": [
    "Unlike `list`, every `numpy` array has a data type. For efficient computation/storage, numpy implements different data types with different storage sizes:"
   ]
  },
  {
   "cell_type": "code",
   "execution_count": null,
   "id": "dde800a4",
   "metadata": {},
   "outputs": [],
   "source": [
    "np.byte, np.short, np.intc\n",
    "np.ubyte, np.ushort, np.uintc, np.uint\n",
    "np.half, np.single, np.double, np.longfloat\n",
    "np.csingle, np.cdouble, np.clongdouble"
   ]
  },
  {
   "cell_type": "markdown",
   "id": "b74278d1",
   "metadata": {
    "slideshow": {
     "slide_type": "fragment"
    }
   },
   "source": [
    "E.g., `int64` is the 64-bit integer. Unlike `int`, `int64` has a range."
   ]
  },
  {
   "cell_type": "code",
   "execution_count": null,
   "id": "7e7288ce",
   "metadata": {
    "slideshow": {
     "slide_type": "-"
    }
   },
   "outputs": [],
   "source": [
    "%%optlite -h 400\n",
    "import numpy as np\n",
    "min_int64 = np.int64(-2**63)\n",
    "max_int64 = np.int64(2**63-1)\n",
    "np.int64(2 ** 63)  # overflow error"
   ]
  },
  {
   "cell_type": "markdown",
   "id": "113f4f4a",
   "metadata": {
    "slideshow": {
     "slide_type": "subslide"
    }
   },
   "source": [
    "We can use the `astype` method to convert the data type:"
   ]
  },
  {
   "cell_type": "code",
   "execution_count": null,
   "id": "205f2566",
   "metadata": {
    "slideshow": {
     "slide_type": "-"
    }
   },
   "outputs": [],
   "source": [
    "A_int64 = A.astype(int)  # converts to int64 by default\n",
    "A_float32 = A.astype(np.float32)  # converts to float32\n",
    "for array in A_int64, A_float32:\n",
    "    print(array, array.dtype)"
   ]
  },
  {
   "cell_type": "markdown",
   "id": "5ee9b21d",
   "metadata": {
    "slideshow": {
     "slide_type": "fragment"
    }
   },
   "source": [
    "We must be careful about assigning items of different types to an array."
   ]
  },
  {
   "cell_type": "code",
   "execution_count": null,
   "id": "0c1d9394",
   "metadata": {
    "slideshow": {
     "slide_type": "-"
    }
   },
   "outputs": [],
   "source": [
    "A_int64[0, 0] = 1\n",
    "print(A_int64)\n",
    "A_int64[0, 0] = 0.5\n",
    "print(A_int64)  # intended assignment fails\n",
    "np.array([int(1), float(1)])  # will be all floating point numbers"
   ]
  },
  {
   "cell_type": "markdown",
   "id": "317109ab",
   "metadata": {
    "slideshow": {
     "slide_type": "subslide"
    }
   },
   "source": [
    "::::{exercise}\n",
    ":label: ex:ml3\n",
    "\n",
    "Create a heterogeneous `numpy` array to store both integers and strings:\n",
    "```python\n",
    "[0, 1, 2, 'a', 'b', 'c']\n",
    "```\n",
    ":::{hint}\n",
    ":class: dropdown\n",
    "\n",
    "Use the [`object` type](https://numpy.org/devdocs/reference/arrays.scalars.html#numpy.object_).\n",
    ":::\n",
    "\n",
    "::::"
   ]
  },
  {
   "cell_type": "code",
   "execution_count": null,
   "id": "eb960c73",
   "metadata": {
    "deletable": false,
    "nbgrader": {
     "cell_type": "code",
     "checksum": "bcdc08a59bc4b1a65fb10d44503b638a",
     "grade": false,
     "grade_id": "hetero",
     "locked": false,
     "schema_version": 3,
     "solution": true,
     "task": false
    },
    "slideshow": {
     "slide_type": "-"
    }
   },
   "outputs": [],
   "source": [
    "# YOUR CODE HERE\n",
    "raise NotImplementedError()\n",
    "heterogeneous_np_array"
   ]
  },
  {
   "cell_type": "markdown",
   "id": "1978b89c",
   "metadata": {
    "slideshow": {
     "slide_type": "fragment"
    }
   },
   "source": [
    "Be careful when creating arrays of `tuple`/`list`:"
   ]
  },
  {
   "cell_type": "code",
   "execution_count": null,
   "id": "06fa602f",
   "metadata": {},
   "outputs": [],
   "source": [
    "%%optlite -h 350\n",
    "import numpy as np\n",
    "a1 = np.array([(1, 2), [3, 4, 5]], dtype=object)\n",
    "print(a1.shape, a1.size)\n",
    "a2 = np.array([(1, 2), [3, 4]], dtype=object)\n",
    "print(a2.shape, a2.size)"
   ]
  },
  {
   "cell_type": "markdown",
   "id": "8d74aa87",
   "metadata": {
    "slideshow": {
     "slide_type": "subslide"
    }
   },
   "source": [
    "`numpy` provides many functions to create an array:"
   ]
  },
  {
   "cell_type": "code",
   "execution_count": null,
   "id": "294e487f",
   "metadata": {},
   "outputs": [],
   "source": [
    "%%optlite -h 400 -l\n",
    "import numpy as np\n",
    "a = [np.zeros(0)]\n",
    "a.append(np.zeros(1, dtype=int))\n",
    "a.append(np.zeros((2, 3, 4)))"
   ]
  },
  {
   "cell_type": "code",
   "execution_count": null,
   "id": "0f1892bc",
   "metadata": {},
   "outputs": [],
   "source": [
    "%%optlite -h 400 -l\n",
    "import numpy as np\n",
    "a = [np.empty(2)]\n",
    "a.append(np.empty((2, 3, 4), \n",
    "                  dtype=int))"
   ]
  },
  {
   "cell_type": "code",
   "execution_count": null,
   "id": "9cba6d20",
   "metadata": {},
   "outputs": [],
   "source": [
    "%%optlite -h 400 -l\n",
    "import numpy as np\n",
    "a = [np.ones(2)]\n",
    "a.append(np.ones((2, 3, 4),\n",
    "                dtype=int))"
   ]
  },
  {
   "cell_type": "code",
   "execution_count": null,
   "id": "01c719d7",
   "metadata": {},
   "outputs": [],
   "source": [
    "%%optlite -l -h 400\n",
    "import numpy as np\n",
    "a = [np.eye(2)]\n",
    "a.append(np.eye(3, dtype=int))"
   ]
  },
  {
   "cell_type": "code",
   "execution_count": null,
   "id": "ab301f26",
   "metadata": {},
   "outputs": [],
   "source": [
    "%%optlite -l -h 400\n",
    "import numpy as np\n",
    "a = [np.diag(range(1))]\n",
    "a.append(np.diag(range(2)))\n",
    "a.append(np.diag(np.ones(3), k=1))\n",
    "# 1 above main diagonal"
   ]
  },
  {
   "cell_type": "markdown",
   "id": "a0be9bf7",
   "metadata": {
    "slideshow": {
     "slide_type": "subslide"
    }
   },
   "source": [
    "`numpy` also provides functions to build an array using rules."
   ]
  },
  {
   "cell_type": "code",
   "execution_count": null,
   "id": "93c381ed",
   "metadata": {},
   "outputs": [],
   "source": [
    "%%optlite -l -h 400\n",
    "import numpy as np\n",
    "a = [np.arange(5)]\n",
    "# like range but allow non-integer parameters\n",
    "a.append(np.arange(2.5, 5, 0.5))"
   ]
  },
  {
   "cell_type": "code",
   "execution_count": null,
   "id": "67e30944",
   "metadata": {},
   "outputs": [],
   "source": [
    "%%optlite -l -h 400\n",
    "import numpy as np\n",
    "# can specify the number of points instead of the step size\n",
    "a = [np.linspace(0, 4, 5)]\n",
    "a.append(np.linspace(2.5, 4.5, 5))"
   ]
  },
  {
   "cell_type": "code",
   "execution_count": null,
   "id": "51e97fb2",
   "metadata": {},
   "outputs": [],
   "source": [
    "%%optlite -l -h 400\n",
    "import numpy as np\n",
    "a = np.fromfunction(lambda i, j: i * j, (3, 4))"
   ]
  },
  {
   "cell_type": "markdown",
   "id": "3116028b",
   "metadata": {
    "slideshow": {
     "slide_type": "subslide"
    }
   },
   "source": [
    "We can also reshape an array using the `reshape` method/function:"
   ]
  },
  {
   "cell_type": "code",
   "execution_count": null,
   "id": "f8893cde",
   "metadata": {},
   "outputs": [],
   "source": [
    "%%optlite -l -h 500\n",
    "import numpy as np\n",
    "a = np.arange(2 * 3 * 4)\n",
    "c1 = a.reshape(2, 3, 4)\n",
    "# automatically calculate the size specified as `-1`\n",
    "c2 = a.reshape(2, 3, -1)"
   ]
  },
  {
   "cell_type": "code",
   "execution_count": null,
   "id": "e9edecc8",
   "metadata": {},
   "outputs": [],
   "source": [
    "%%optlite -l -h 500\n",
    "import numpy as np\n",
    "a = np.arange(2 * 3 * 4)\n",
    "# default C ordering\n",
    "c = a.reshape((2, 3, -1), order=\"C\")\n",
    "# F ordering\n",
    "f = a.reshape((2, 3, -1), order=\"F\")"
   ]
  },
  {
   "cell_type": "markdown",
   "id": "63929da3",
   "metadata": {},
   "source": [
    "The C ordering and F ordering can be implemented using list comprehension:"
   ]
  },
  {
   "cell_type": "code",
   "execution_count": null,
   "id": "16772357",
   "metadata": {},
   "outputs": [],
   "source": [
    "%%optlite -l -h 500\n",
    "import numpy as np\n",
    "a = np.arange(2 * 3 * 4)\n",
    "# last axis index changes fastest\n",
    "c = np.array(\n",
    "    [[[a[i*3*4+j*4+k] \n",
    "       for k in range(4)]\n",
    "      for j in range(3)]\n",
    "     for i in range(2)])\n",
    "# first axis index changes fastest\n",
    "f = np.array(\n",
    "    [[[a[i+j*2+k*3*2]\n",
    "       for k in range(4)]\n",
    "      for j in range(3)]\n",
    "     for i in range(2)])"
   ]
  },
  {
   "cell_type": "markdown",
   "id": "2e1e61fe",
   "metadata": {
    "slideshow": {
     "slide_type": "fragment"
    }
   },
   "source": [
    "`ravel` is a particular case of reshaping an array to one dimension.  \n",
    "A similar function `flatten` returns a copy of the array but `ravel` and `reshape` returns a dynamic view whenever possible."
   ]
  },
  {
   "cell_type": "code",
   "execution_count": null,
   "id": "3f720ef7",
   "metadata": {
    "slideshow": {
     "slide_type": "-"
    }
   },
   "outputs": [],
   "source": [
    "array = np.arange(2 * 3 * 4).reshape(2, 3, 4)\n",
    "array, array.ravel(), array.reshape(-1), array.ravel(order=\"F\")"
   ]
  },
  {
   "cell_type": "markdown",
   "id": "ea697a86",
   "metadata": {
    "slideshow": {
     "slide_type": "subslide"
    }
   },
   "source": [
    "::::{exercise}\n",
    ":label: ex:ml4\n",
    "\n",
    "Correct the following function to print every element of an array line-by-line.\n",
    "```python\n",
    "def print_array_entries_line_by_line(array):\n",
    "    for i in array:\n",
    "        print(i)\n",
    "```\n",
    "\n",
    "::::"
   ]
  },
  {
   "cell_type": "code",
   "execution_count": null,
   "id": "dbd0266c",
   "metadata": {
    "deletable": false,
    "nbgrader": {
     "cell_type": "code",
     "checksum": "894fc43c96b1e65baf7858e5258af3e3",
     "grade": false,
     "grade_id": "flatten",
     "locked": false,
     "schema_version": 3,
     "solution": true,
     "task": false
    },
    "slideshow": {
     "slide_type": "-"
    },
    "tags": [
     "remove-output"
    ]
   },
   "outputs": [],
   "source": [
    "def print_array_entries_line_by_line(array):\n",
    "    # YOUR CODE HERE\n",
    "    raise NotImplementedError()\n",
    "\n",
    "\n",
    "print_array_entries_line_by_line(np.arange(2 * 3 * 4).reshape(2, 3, 4))"
   ]
  },
  {
   "cell_type": "markdown",
   "id": "0fc2138f",
   "metadata": {
    "slideshow": {
     "slide_type": "slide"
    }
   },
   "source": [
    "### Operating on `numpy` arrays"
   ]
  },
  {
   "cell_type": "markdown",
   "id": "dc41cf31",
   "metadata": {
    "slideshow": {
     "slide_type": "subslide"
    }
   },
   "source": [
    "**How to verify the solution of a system of linear equations?**"
   ]
  },
  {
   "cell_type": "markdown",
   "id": "576d74bf",
   "metadata": {
    "slideshow": {
     "slide_type": "fragment"
    }
   },
   "source": [
    "Before solving the system of linear equations, let us try to verify a solution to the equations:\n",
    "\n",
    "$$ \\begin{aligned}\n",
    "2x_0 + 2x_1 &= 1\\\\\n",
    "\\hphantom{2x_0 +}  2x_1 &= 1\n",
    "\\end{aligned}\n",
    "$$"
   ]
  },
  {
   "cell_type": "markdown",
   "id": "d5a2ca28",
   "metadata": {
    "slideshow": {
     "slide_type": "fragment"
    }
   },
   "source": [
    "`numpy` provides the function `matmul` and the operator `@` for matrix multiplication."
   ]
  },
  {
   "cell_type": "code",
   "execution_count": null,
   "id": "bf1e5a0a",
   "metadata": {
    "slideshow": {
     "slide_type": "-"
    }
   },
   "outputs": [],
   "source": [
    "print(np.matmul(A, np.array([0, 0])) == b)\n",
    "print(A @ np.array([0, 0.5]) == b)"
   ]
  },
  {
   "cell_type": "markdown",
   "id": "9a3e1be5",
   "metadata": {
    "slideshow": {
     "slide_type": "subslide"
    }
   },
   "source": [
    "Note that the comparison on `numpy` arrays returns a boolean array instead of a boolean value, unlike the comparison operations on lists."
   ]
  },
  {
   "cell_type": "markdown",
   "id": "cbc2f907",
   "metadata": {
    "slideshow": {
     "slide_type": "fragment"
    }
   },
   "source": [
    "To check whether all items are true, we use the `all` method."
   ]
  },
  {
   "cell_type": "code",
   "execution_count": null,
   "id": "7ca4075f",
   "metadata": {
    "slideshow": {
     "slide_type": "-"
    }
   },
   "outputs": [],
   "source": [
    "print((np.matmul(A, np.array([0, 0])) == b).all())\n",
    "print((A @ np.array([0, 0.5]) == b).all())"
   ]
  },
  {
   "cell_type": "markdown",
   "id": "9f33b8ee",
   "metadata": {
    "slideshow": {
     "slide_type": "subslide"
    }
   },
   "source": [
    "**How to concatenate arrays?**"
   ]
  },
  {
   "cell_type": "markdown",
   "id": "eb57da02",
   "metadata": {
    "slideshow": {
     "slide_type": "-"
    }
   },
   "source": [
    "We will operate on an augmented matrix of the coefficients:\n",
    "\n",
    "$$ \\begin{aligned} \\mathbf{C} &= \\begin{bmatrix}\n",
    "\\mathbf{A} & \\mathbf{b}\n",
    "\\end{bmatrix}\\\\\n",
    "&= \\begin{bmatrix}\n",
    "a_{00} & a_{01} & b_0 \\\\\n",
    "a_{10} & a_{11} & b_1\n",
    "\\end{bmatrix} \n",
    "\\end{aligned}\n",
    "$$"
   ]
  },
  {
   "cell_type": "markdown",
   "id": "d03cf490",
   "metadata": {
    "slideshow": {
     "slide_type": "fragment"
    }
   },
   "source": [
    "`numpy` provides functions to create block matrices:"
   ]
  },
  {
   "cell_type": "code",
   "execution_count": null,
   "id": "cc9fdfc8",
   "metadata": {
    "slideshow": {
     "slide_type": "-"
    }
   },
   "outputs": [],
   "source": [
    "np.block?\n",
    "C = np.block([A, b.reshape(-1, 1)])  # reshape to ensure same ndim\n",
    "C"
   ]
  },
  {
   "cell_type": "markdown",
   "id": "6a503e2a",
   "metadata": {
    "slideshow": {
     "slide_type": "fragment"
    }
   },
   "source": [
    "To stack an array along different axes:"
   ]
  },
  {
   "cell_type": "code",
   "execution_count": null,
   "id": "dde699dd",
   "metadata": {
    "slideshow": {
     "slide_type": "-"
    }
   },
   "outputs": [],
   "source": [
    "array = np.arange(1 * 2 * 3).reshape(1, 2, 3)\n",
    "for concat_array in [\n",
    "    array,\n",
    "    np.hstack((array, array)),  # stack along the first axis\n",
    "    np.vstack((array, array)),  # second axis\n",
    "    np.concatenate((array, array), axis=-1),  # last axis\n",
    "    np.stack((array, array), axis=0),\n",
    "]:  # new axis\n",
    "    print(concat_array, \"\\nshape:\", concat_array.shape)"
   ]
  },
  {
   "cell_type": "markdown",
   "id": "3385ce11",
   "metadata": {
    "slideshow": {
     "slide_type": "subslide"
    }
   },
   "source": [
    "**How to perform arithmetic operations on a `numpy` array?**"
   ]
  },
  {
   "cell_type": "markdown",
   "id": "fba8d4c9",
   "metadata": {
    "slideshow": {
     "slide_type": "fragment"
    }
   },
   "source": [
    "To divide all the coefficients by $2$, we can write:"
   ]
  },
  {
   "cell_type": "code",
   "execution_count": null,
   "id": "fe986559",
   "metadata": {
    "slideshow": {
     "slide_type": "-"
    }
   },
   "outputs": [],
   "source": [
    "D = C / 2\n",
    "D"
   ]
  },
  {
   "cell_type": "markdown",
   "id": "075661fc",
   "metadata": {
    "slideshow": {
     "slide_type": "fragment"
    }
   },
   "source": [
    "Note that the above does not work for `list`."
   ]
  },
  {
   "cell_type": "code",
   "execution_count": null,
   "id": "5eb8ea5f",
   "metadata": {
    "slideshow": {
     "slide_type": "-"
    }
   },
   "outputs": [],
   "source": [
    "%%optlite -l -h 500\n",
    "[[2, 2, 1], [0, 2, 1]] / 2"
   ]
  },
  {
   "cell_type": "markdown",
   "id": "32a041a7",
   "metadata": {
    "slideshow": {
     "slide_type": "subslide"
    }
   },
   "source": [
    "Arithmetic operations on `numpy` arrays apply if the arrays have compatible dimensions. Two dimensions are compatible when\n",
    "- they are equal, except for\n",
    "- components equal to 1."
   ]
  },
  {
   "cell_type": "markdown",
   "id": "93a783e0",
   "metadata": {
    "slideshow": {
     "slide_type": "fragment"
    }
   },
   "source": [
    "`numpy` uses [broadcasting rules](https://numpy.org/doc/stable/user/basics.broadcasting.html#general-broadcasting-rules) to stretch the axis of size 1 up to match the corresponding axis in other arrays.  \n",
    "`C / 2` is an example where the second operand $2$ is broadcasted to a $2$-by-$2$ matrix before the elementwise division. Another example is as follows."
   ]
  },
  {
   "cell_type": "code",
   "execution_count": null,
   "id": "f29f8681",
   "metadata": {
    "slideshow": {
     "slide_type": "-"
    }
   },
   "outputs": [],
   "source": [
    "three_by_one = np.arange(3).reshape(3, 1)\n",
    "one_by_four = np.arange(4).reshape(1, 4)\n",
    "print(\n",
    "    f\"\"\"\n",
    "{three_by_one}\n",
    "*\n",
    "{one_by_four}\n",
    "==\n",
    "{three_by_one * one_by_four}\n",
    "\"\"\"\n",
    ")"
   ]
  },
  {
   "cell_type": "markdown",
   "id": "6fa0397d",
   "metadata": {
    "slideshow": {
     "slide_type": "subslide"
    }
   },
   "source": [
    "Next, to subtract the second row of the coefficients from the first row:"
   ]
  },
  {
   "cell_type": "code",
   "execution_count": null,
   "id": "721489d8",
   "metadata": {
    "slideshow": {
     "slide_type": "-"
    }
   },
   "outputs": [],
   "source": [
    "D[0, :] = D[0, :] - D[1, :]\n",
    "D"
   ]
  },
  {
   "cell_type": "markdown",
   "id": "aa1badce",
   "metadata": {
    "slideshow": {
     "slide_type": "fragment"
    }
   },
   "source": [
    "Notice the use of commas to index different dimensions instead of using multiple brackets:"
   ]
  },
  {
   "cell_type": "code",
   "execution_count": null,
   "id": "9fd1c679",
   "metadata": {
    "slideshow": {
     "slide_type": "-"
    }
   },
   "outputs": [],
   "source": [
    "assert (D[0][:] == D[0, :]).all()"
   ]
  },
  {
   "cell_type": "markdown",
   "id": "11798333",
   "metadata": {
    "slideshow": {
     "slide_type": "subslide"
    }
   },
   "source": [
    "Using this indexing technique, it is easy to extract the last column as the solution to the system of linear equations:"
   ]
  },
  {
   "cell_type": "code",
   "execution_count": null,
   "id": "2cb5e1e1",
   "metadata": {
    "slideshow": {
     "slide_type": "-"
    }
   },
   "outputs": [],
   "source": [
    "x = D[:, -1]\n",
    "x"
   ]
  },
  {
   "cell_type": "markdown",
   "id": "f1d215df",
   "metadata": {
    "slideshow": {
     "slide_type": "fragment"
    }
   },
   "source": [
    "This gives the desired solution $x_0=0$ and $x_1=0.5$ for\n",
    "\n",
    "$$ \\begin{aligned}\n",
    "2x_0 + 2x_1 &= 1\\\\\n",
    "\\hphantom{2x_0 +}  2x_1 &= 1\\\\\n",
    "\\end{aligned}$$"
   ]
  },
  {
   "cell_type": "markdown",
   "id": "f46eb67a",
   "metadata": {
    "slideshow": {
     "slide_type": "subslide"
    }
   },
   "source": [
    "`numpy` provides many [convenient ways](https://numpy.org/doc/stable/reference/arrays.indexing.html#advanced-indexing) to index an array."
   ]
  },
  {
   "cell_type": "code",
   "execution_count": null,
   "id": "5882574c",
   "metadata": {
    "slideshow": {
     "slide_type": "-"
    }
   },
   "outputs": [],
   "source": [
    "B = np.arange(2 * 3).reshape(2, 3)\n",
    "B, B[(0, 1), (2, 0)]  # selecting the corners using integer array"
   ]
  },
  {
   "cell_type": "code",
   "execution_count": null,
   "id": "f18c8a14",
   "metadata": {
    "slideshow": {
     "slide_type": "-"
    }
   },
   "outputs": [],
   "source": [
    "B = np.arange(2 * 3 * 4).reshape(2, 3, 4)\n",
    "B, B[0], B[0, (1, 2)], B[0, (1, 2), (2, 3)], B[\n",
    "    :, (1, 2), (2, 3)\n",
    "]  # pay attention to the last two cases"
   ]
  },
  {
   "cell_type": "code",
   "execution_count": null,
   "id": "f38036d9",
   "metadata": {
    "slideshow": {
     "slide_type": "-"
    }
   },
   "outputs": [],
   "source": [
    "assert (B[..., -1] == B[:, :, -1]).all()\n",
    "B[..., -1]  # ... expands to selecting all elements of all previous dimensions"
   ]
  },
  {
   "cell_type": "code",
   "execution_count": null,
   "id": "686b8f65",
   "metadata": {
    "slideshow": {
     "slide_type": "-"
    }
   },
   "outputs": [],
   "source": [
    "B[B > 5]  # indexing using boolean array"
   ]
  },
  {
   "cell_type": "markdown",
   "id": "43b93744",
   "metadata": {
    "slideshow": {
     "slide_type": "subslide"
    }
   },
   "source": [
    "Finally, the following function solves 2 linear equations with 2 variables."
   ]
  },
  {
   "cell_type": "code",
   "execution_count": null,
   "id": "f0b018b6",
   "metadata": {
    "slideshow": {
     "slide_type": "-"
    }
   },
   "outputs": [],
   "source": [
    "def solve_2_by_2_system(A, b):\n",
    "    \"\"\"Returns the unique solution of the linear system, if exists,\n",
    "    else returns None.\"\"\"\n",
    "    C = np.hstack((A, b.reshape(-1, 1)))\n",
    "    if C[0, 0] == 0:\n",
    "        C = C[(1, 0), :]\n",
    "    if C[0, 0] == 0:\n",
    "        return None\n",
    "    C[0, :] = C[0, :] / C[0, 0]\n",
    "    C[1, :] = C[1, :] - C[0, :] * C[1, 0]\n",
    "    if C[1, 1] == 0:\n",
    "        return None\n",
    "    C[1, :] = C[1, :] / C[1, 1]\n",
    "    C[0, :] = C[0, :] - C[1, :] * C[0, 1]\n",
    "    return C[:, -1]"
   ]
  },
  {
   "cell_type": "code",
   "execution_count": null,
   "id": "b9b51cf3",
   "metadata": {
    "slideshow": {
     "slide_type": "-"
    }
   },
   "outputs": [],
   "source": [
    "# tests\n",
    "for A in (\n",
    "    np.eye(2),\n",
    "    np.ones((2, 2)),\n",
    "    np.stack((np.ones(2), np.zeros(2))),\n",
    "    np.stack((np.ones(2), np.zeros(2)), axis=1),\n",
    "):\n",
    "    print(f\"A={A}\\nb={b}\\nx={solve_2_by_2_system(A,b)}\\n\")"
   ]
  },
  {
   "cell_type": "markdown",
   "id": "d8c083bf",
   "metadata": {},
   "source": [
    "### Universal functions"
   ]
  },
  {
   "cell_type": "markdown",
   "id": "05659287",
   "metadata": {
    "slideshow": {
     "slide_type": "subslide"
    }
   },
   "source": [
    "Why does the first line of code below return two arrays but the second code return only one array? Shouldn't the first line of code return the following?\n",
    "```python\n",
    "array([[(0,1), (0,2), (0,3)],\n",
    "       [(1,1), (1,2), (1,3)]])\n",
    "```"
   ]
  },
  {
   "cell_type": "code",
   "execution_count": null,
   "id": "70752952",
   "metadata": {
    "slideshow": {
     "slide_type": "-"
    }
   },
   "outputs": [],
   "source": [
    "print(np.fromfunction(lambda i, j: (i, j), (2, 3), dtype=int))\n",
    "print(np.fromfunction(lambda i, j: (i * j), (2, 3), dtype=int))"
   ]
  },
  {
   "cell_type": "markdown",
   "id": "40f48123",
   "metadata": {
    "slideshow": {
     "slide_type": "-"
    }
   },
   "source": [
    "From the documentation, `fromfunction` applies the given function to the two arrays as arguments.\n",
    "- The first line of code returns a tuple of the arrays.\n",
    "- The second line of code multiplies the two arrays to give one array, according to how multiplication works for numpy arrays."
   ]
  },
  {
   "cell_type": "markdown",
   "id": "d7aac19e",
   "metadata": {
    "slideshow": {
     "slide_type": "subslide"
    }
   },
   "source": [
    "Indeed, `numpy` implements [universal/vectorized functions/operators](https://numpy.org/doc/stable/reference/ufuncs.html) that take arrays as arguments and perform operations with appropriate broadcasting rules. The following is an example that uses the universal function `np.sin`:"
   ]
  },
  {
   "cell_type": "code",
   "execution_count": null,
   "id": "5991c0c3",
   "metadata": {
    "slideshow": {
     "slide_type": "-"
    }
   },
   "outputs": [],
   "source": [
    "import matplotlib.pyplot as plt\n",
    "\n",
    "\n",
    "@widgets.interact(a=(0, 5, 1), b=(-1, 1, 0.1))\n",
    "def plot_sin(a=1, b=0):\n",
    "    x = np.linspace(0, 2 * math.pi)\n",
    "    plt.plot(x, np.sin(a * x + b * math.pi))  # np.sin, *, + are universal functions\n",
    "    plt.title(r\"$\\sin(ax+b\\pi)$\")\n",
    "    plt.xlabel(r\"$x$ (radian)\")"
   ]
  },
  {
   "cell_type": "markdown",
   "id": "18ff5a34",
   "metadata": {
    "slideshow": {
     "slide_type": "subslide"
    }
   },
   "source": [
    "In addition to making the code shorter, universal functions are both efficient and flexible. (Recall the Monte Carlo simulation to approximate $\\pi$.)"
   ]
  },
  {
   "cell_type": "markdown",
   "id": "3ee14476",
   "metadata": {
    "slideshow": {
     "slide_type": "fragment"
    }
   },
   "source": [
    "::::{exercise}\n",
    ":label: ex:ml5\n",
    "\n",
    "Explain how the Monte Carlo simulation work using universal functions:\n",
    "```python\n",
    "def np_approximate_pi(n):\n",
    "    in_circle = (np.random.random((n,2))**2).sum(axis=-1) < 1\n",
    "    mean = 4 * in_circle.mean()\n",
    "    std = 4 * in_circle.std() / n**0.5\n",
    "    return np.array([mean - 2*std, mean + 2*std])\n",
    "```\n",
    "\n",
    "::::"
   ]
  },
  {
   "cell_type": "markdown",
   "id": "ee6531cf",
   "metadata": {
    "deletable": false,
    "nbgrader": {
     "cell_type": "markdown",
     "checksum": "4593e0a5f4715a98778bf469557adae6",
     "grade": true,
     "grade_id": "universal",
     "locked": false,
     "points": 0,
     "schema_version": 3,
     "solution": true,
     "task": false
    }
   },
   "source": [
    "YOUR ANSWER HERE"
   ]
  }
 ],
 "metadata": {
  "kernelspec": {
   "display_name": "Python 3 (ipykernel)",
   "language": "python",
   "name": "python3"
  }
 },
 "nbformat": 4,
 "nbformat_minor": 5
}
