{
 "cells": [
  {
   "cell_type": "markdown",
   "id": "5563d82b",
   "metadata": {
    "cell_style": "center",
    "slideshow": {
     "slide_type": "slide"
    }
   },
   "source": [
    "# Decorator"
   ]
  },
  {
   "cell_type": "markdown",
   "id": "c75bd739",
   "metadata": {
    "slideshow": {
     "slide_type": "-"
    },
    "tags": [
     "remove-cell"
    ]
   },
   "source": [
    "**CS1302 Introduction to Computer Programming**\n",
    "___"
   ]
  },
  {
   "cell_type": "code",
   "execution_count": null,
   "id": "1a122946",
   "metadata": {
    "slideshow": {
     "slide_type": "fragment"
    },
    "tags": [
     "remove-cell"
    ]
   },
   "outputs": [],
   "source": [
    "%reload_ext divewidgets"
   ]
  },
  {
   "cell_type": "markdown",
   "id": "f7d311f6",
   "metadata": {
    "slideshow": {
     "slide_type": "slide"
    }
   },
   "source": [
    "## Optional Arguments"
   ]
  },
  {
   "cell_type": "markdown",
   "id": "2d37caed",
   "metadata": {},
   "source": [
    "Recall the generator for Fibonacci numbers:"
   ]
  },
  {
   "cell_type": "code",
   "execution_count": null,
   "id": "7e32fe52",
   "metadata": {},
   "outputs": [],
   "source": [
    "%%optlite -l -h 450\n",
    "def fibonacci_sequence(Fn, Fnn, stop):\n",
    "    \"\"\"Return a generator that generates Fibonacci numbers\n",
    "    starting from Fn and Fnn until stop (exclusive).\"\"\"\n",
    "    while Fn < stop:\n",
    "        yield Fn  # return Fn and pause execution\n",
    "        Fn, Fnn = Fnn, Fnn + Fn\n",
    "\n",
    "\n",
    "for fib in fibonacci_sequence(0, 1, 5):\n",
    "    print(fib)"
   ]
  },
  {
   "cell_type": "markdown",
   "id": "b5894f46",
   "metadata": {
    "slideshow": {
     "slide_type": "fragment"
    }
   },
   "source": [
    "Fibonacci sequence normally starts with `0` and `1` by default. Is it possible to make arguments `Fn` and `Fnn` optional with default values?"
   ]
  },
  {
   "cell_type": "markdown",
   "id": "c3197666",
   "metadata": {
    "slideshow": {
     "slide_type": "fragment"
    }
   },
   "source": [
    "**How to give arguments default values?**"
   ]
  },
  {
   "cell_type": "code",
   "execution_count": null,
   "id": "47f9a682",
   "metadata": {
    "slideshow": {
     "slide_type": "fragment"
    }
   },
   "outputs": [],
   "source": [
    "def fibonacci_sequence(Fn=0, Fnn=1, stop=None):\n",
    "    while stop is None or Fn < stop:\n",
    "        value = yield Fn\n",
    "        Fn, Fnn = Fnn, Fnn + Fn"
   ]
  },
  {
   "cell_type": "markdown",
   "id": "dd035bcc",
   "metadata": {},
   "source": [
    "::::{important}\n",
    "\n",
    "Arguments with default values specified by `=...` are called [default arguments](https://docs.python.org/3/tutorial/controlflow.html#default-argument-values). They are optional in the function call.\n",
    "::::"
   ]
  },
  {
   "cell_type": "code",
   "execution_count": null,
   "id": "bc9a20fe",
   "metadata": {},
   "outputs": [],
   "source": [
    "for fib in fibonacci_sequence(stop=5):\n",
    "    print(fib)  # with default Fn=0, Fnn=1"
   ]
  },
  {
   "cell_type": "markdown",
   "id": "17df567c",
   "metadata": {
    "slideshow": {
     "slide_type": "fragment"
    }
   },
   "source": [
    "::::{important}\n",
    "\n",
    "`stop=5` in the function call is called a [keyword argument](https://docs.python.org/3/glossary.html#term-keyword-argument). As supposed to [*positional arguments*](https://docs.python.org/3/glossary.html#term-argument), it specifies the name of the argument explicitly.\n",
    "::::"
   ]
  },
  {
   "cell_type": "markdown",
   "id": "0fb0d474",
   "metadata": {
    "slideshow": {
     "slide_type": "fragment"
    }
   },
   "source": [
    "::::{exercise}\n",
    ":label: ex:fib1\n",
    "\n",
    "Is `fibonacci_sequence(stop=5)` the same as `fibonacci_sequence(5)`? In particular, what is the behavior of the following code?\n",
    "\n",
    "::::"
   ]
  },
  {
   "cell_type": "code",
   "execution_count": null,
   "id": "e9bdd8c8",
   "metadata": {
    "slideshow": {
     "slide_type": "-"
    }
   },
   "outputs": [],
   "source": [
    "for fib in fibonacci_sequence(5):\n",
    "    print(fib)\n",
    "    if fib > 10:  \n",
    "        break  # Will this be executed?"
   ]
  },
  {
   "cell_type": "markdown",
   "id": "6c5916da",
   "metadata": {
    "deletable": false,
    "nbgrader": {
     "cell_type": "markdown",
     "checksum": "a090f88c9eb74ece1027e9d598d81560",
     "grade": true,
     "grade_id": "stop",
     "locked": false,
     "points": 0,
     "schema_version": 3,
     "solution": true,
     "task": false
    },
    "slideshow": {
     "slide_type": "-"
    }
   },
   "source": [
    "YOUR ANSWER HERE"
   ]
  },
  {
   "cell_type": "markdown",
   "id": "5880f587",
   "metadata": {
    "slideshow": {
     "slide_type": "subslide"
    }
   },
   "source": [
    "::::{important}\n",
    "\n",
    "Rules for specifying arguments:  \n",
    "1. Default (Keyword) arguments must be after all non-default (positional) arguments in a function definition (call).\n",
    "1. The value for an argument cannot be specified more than once in a function definition (call).\n",
    "::::"
   ]
  },
  {
   "cell_type": "markdown",
   "id": "f9356027",
   "metadata": {
    "slideshow": {
     "slide_type": "fragment"
    }
   },
   "source": [
    "E.g., the following results in an error:"
   ]
  },
  {
   "cell_type": "code",
   "execution_count": null,
   "id": "7670eb28",
   "metadata": {
    "slideshow": {
     "slide_type": "-"
    }
   },
   "outputs": [],
   "source": [
    "fibonacci_sequence(stop=10, 1)"
   ]
  },
  {
   "cell_type": "code",
   "execution_count": null,
   "id": "21f01f18",
   "metadata": {
    "slideshow": {
     "slide_type": "-"
    }
   },
   "outputs": [],
   "source": [
    "fibonacci_sequence(1, Fn=1)"
   ]
  },
  {
   "cell_type": "markdown",
   "id": "723b8ba5",
   "metadata": {
    "slideshow": {
     "slide_type": "subslide"
    }
   },
   "source": [
    "The following shows that the behavior of `range` is different."
   ]
  },
  {
   "cell_type": "code",
   "execution_count": null,
   "id": "6b951d62",
   "metadata": {
    "slideshow": {
     "slide_type": "fragment"
    }
   },
   "outputs": [],
   "source": [
    "for count in range(1, 10, 2):\n",
    "    print(count, end=\" \")  # counts from 1 to 10 in steps of 2\n",
    "print()\n",
    "for count in range(1, 10):\n",
    "    print(count, end=\" \")  # default step=1\n",
    "print()\n",
    "for count in range(10):\n",
    "    print(count, end=\" \")  # default start=0, step=1\n",
    "range(stop=10)  # fails"
   ]
  },
  {
   "cell_type": "markdown",
   "id": "2ec8012c",
   "metadata": {
    "slideshow": {
     "slide_type": "fragment"
    }
   },
   "source": [
    "`range` takes only positional arguments.  \n",
    "However, the first positional argument has different intepretations (`start` or `stop`) depending on the number of arguments (2 or 1)."
   ]
  },
  {
   "cell_type": "markdown",
   "id": "7223beea",
   "metadata": {
    "slideshow": {
     "slide_type": "fragment"
    }
   },
   "source": [
    "`range` is indeed NOT a generator."
   ]
  },
  {
   "cell_type": "code",
   "execution_count": null,
   "id": "e12b502d",
   "metadata": {
    "slideshow": {
     "slide_type": "fragment"
    }
   },
   "outputs": [],
   "source": [
    "print(type(range), type(range(10)))"
   ]
  },
  {
   "cell_type": "markdown",
   "id": "e082fc87",
   "metadata": {
    "slideshow": {
     "slide_type": "fragment"
    }
   },
   "source": [
    "**How is range implemented?**"
   ]
  },
  {
   "cell_type": "markdown",
   "id": "02043975",
   "metadata": {
    "slideshow": {
     "slide_type": "subslide"
    }
   },
   "source": [
    "## Variable number of arguments"
   ]
  },
  {
   "cell_type": "markdown",
   "id": "2727070f",
   "metadata": {
    "slideshow": {
     "slide_type": "fragment"
    }
   },
   "source": [
    "[The implementation of range](https://github.com/python/cpython/blob/6afb285ff0790471a6858e44f85d143f07fda70c/Objects/rangeobject.c#L82-L123) uses a [variable number of arguments](https://docs.python.org/3.4/tutorial/controlflow.html#arbitrary-argument-lists)."
   ]
  },
  {
   "cell_type": "code",
   "execution_count": null,
   "id": "066c6554",
   "metadata": {
    "slideshow": {
     "slide_type": "fragment"
    }
   },
   "outputs": [],
   "source": [
    "def print_arguments(*args, **kwargs):\n",
    "    \"\"\"Take any number of arguments and prints them\"\"\"\n",
    "    print(\"args ({}): {}\".format(type(args), args))\n",
    "    print(\"kwargs ({}): {}\".format(type(kwargs), kwargs))\n",
    "\n",
    "\n",
    "print_arguments(0, 10, 2, start=1, stop=2)"
   ]
  },
  {
   "cell_type": "markdown",
   "id": "064841b4",
   "metadata": {
    "slideshow": {
     "slide_type": "fragment"
    }
   },
   "source": [
    "- `args` is a tuple of positional arguments.\n",
    "- `kwargs` is a dictionary of keyword arguments, which is a list of values indexed by unique keys that are not necessary integers."
   ]
  },
  {
   "cell_type": "code",
   "execution_count": null,
   "id": "457bffea",
   "metadata": {},
   "outputs": [],
   "source": [
    "d = {'start': 1, 'stop': 2}\n",
    "d['start'], d['stop'], d.keys(), d.values(), d.items()"
   ]
  },
  {
   "cell_type": "markdown",
   "id": "33d1439b",
   "metadata": {
    "slideshow": {
     "slide_type": "fragment"
    }
   },
   "source": [
    "`*` and `**` are *unpacking operators* for tuple/list and dictionary respectively:"
   ]
  },
  {
   "cell_type": "code",
   "execution_count": null,
   "id": "2c1cc0df",
   "metadata": {
    "slideshow": {
     "slide_type": "fragment"
    }
   },
   "outputs": [],
   "source": [
    "args = (0, 10, 2)\n",
    "kwargs = {\"start\": 1, \"stop\": 2}\n",
    "print_arguments(*args, **kwargs)"
   ]
  },
  {
   "cell_type": "markdown",
   "id": "c7828a8b",
   "metadata": {},
   "source": [
    "The following function converts all the arguments to a string, which will be useful later on."
   ]
  },
  {
   "cell_type": "code",
   "execution_count": null,
   "id": "9e39c115",
   "metadata": {
    "slideshow": {
     "slide_type": "fragment"
    }
   },
   "outputs": [],
   "source": [
    "def argument_string(*args, **kwargs):\n",
    "    \"\"\"Return the string representation of the list of arguments.\"\"\"\n",
    "    return \"({})\".format(\n",
    "        \", \".join(\n",
    "            [\n",
    "                *(f\"{v!r}\" for v in args),  # arguments\n",
    "                *(f\"{k}={v!r}\" for k, v in kwargs.items()),  # keyword arguments\n",
    "            ]\n",
    "        )\n",
    "    )\n",
    "\n",
    "\n",
    "argument_string(0, 10, 2, start=1, stop=2)"
   ]
  },
  {
   "cell_type": "markdown",
   "id": "672fc52e",
   "metadata": {},
   "source": [
    "::::{note}\n",
    " `!r` convert `v` to the string representation (`repr`) that can be evaluated by python `eval`. In particular, `'a'` will be converted to `\"'a'\"`, which has the quotation needed for the string literal. See [token conversion](https://docs.python.org/3/reference/lexical_analysis.html#grammar-token-conversion).\n",
    "::::"
   ]
  },
  {
   "cell_type": "markdown",
   "id": "d239c5b0",
   "metadata": {
    "slideshow": {
     "slide_type": "subslide"
    }
   },
   "source": [
    "::::{exercise}\n",
    ":label: ex:fib2\n",
    "\n",
    "Redefine `fibonacci_sequence` so that the positional arguments depend on the number of arguments:\n",
    "\n",
    "::::"
   ]
  },
  {
   "cell_type": "code",
   "execution_count": null,
   "id": "a737be1c",
   "metadata": {
    "code_folding": [
     19
    ],
    "deletable": false,
    "nbgrader": {
     "cell_type": "code",
     "checksum": "3e8ca4edd431d92703b684f53b0b5c15",
     "grade": false,
     "grade_id": "optional",
     "locked": false,
     "schema_version": 3,
     "solution": true,
     "task": false
    },
    "slideshow": {
     "slide_type": "-"
    },
    "tags": [
     "remove-output"
    ]
   },
   "outputs": [],
   "source": [
    "def fibonacci_sequence(*args):\n",
    "    \"\"\"Return a generator that generates Fibonacci numbers\n",
    "    starting from Fn and Fnn to stop (exclusive).\n",
    "    generator.send(value) sets next number to value.\n",
    "\n",
    "    fibonacci_sequence(stop)\n",
    "    fibonacci_sequence(Fn,Fnn)\n",
    "    fibonacci_sequence(Fn,Fnn,stop)\n",
    "    \"\"\"\n",
    "    Fn, Fnn, stop = 0, 1, None  # default values\n",
    "\n",
    "    # handle different number of arguments\n",
    "    if len(args) == 1:\n",
    "        # YOUR CODE HERE\n",
    "        raise NotImplementedError()\n",
    "    elif len(args) == 2:\n",
    "        Fn, Fnn = args[0], args[1]\n",
    "    elif len(args) > 2:\n",
    "        Fn, Fnn, stop = args[0], args[1], args[2]\n",
    "\n",
    "    while stop is None or Fn < stop:\n",
    "        value = yield Fn\n",
    "        if value is not None:\n",
    "            Fnn = value  # set next number to the value of yield expression\n",
    "        Fn, Fnn = Fnn, Fnn + Fn"
   ]
  },
  {
   "cell_type": "code",
   "execution_count": null,
   "id": "6fcf6b92",
   "metadata": {
    "slideshow": {
     "slide_type": "fragment"
    }
   },
   "outputs": [],
   "source": [
    "for fib in fibonacci_sequence(5):  # default Fn=0, Fn=1\n",
    "    print(fib)"
   ]
  },
  {
   "cell_type": "code",
   "execution_count": null,
   "id": "afbf6f36",
   "metadata": {
    "slideshow": {
     "slide_type": "fragment"
    }
   },
   "outputs": [],
   "source": [
    "for fib in fibonacci_sequence(1, 2):  # default stop=None\n",
    "    print(fib)\n",
    "    if fib > 5:\n",
    "        break"
   ]
  },
  {
   "cell_type": "code",
   "execution_count": null,
   "id": "ac4735b0",
   "metadata": {
    "slideshow": {
     "slide_type": "fragment"
    }
   },
   "outputs": [],
   "source": [
    "args = (1, 2, 5)\n",
    "for fib in fibonacci_sequence(*args):  # default stop=None\n",
    "    print(fib)"
   ]
  },
  {
   "cell_type": "markdown",
   "id": "8da3ef91",
   "metadata": {
    "slideshow": {
     "slide_type": "slide"
    }
   },
   "source": [
    "## Decorator"
   ]
  },
  {
   "cell_type": "markdown",
   "id": "61d66b8d",
   "metadata": {
    "slideshow": {
     "slide_type": "subslide"
    }
   },
   "source": [
    "**What is function decoration?**  \n",
    "**Why decorate a function?**"
   ]
  },
  {
   "cell_type": "code",
   "execution_count": null,
   "id": "1c78c7d7",
   "metadata": {
    "slideshow": {
     "slide_type": "-"
    }
   },
   "outputs": [],
   "source": [
    "def fibonacci(n):\n",
    "    \"\"\"Returns the Fibonacci number of order n.\"\"\"\n",
    "    global count, depth\n",
    "    count += 1\n",
    "    depth += 1\n",
    "    print(\"{:>3}: {}fibonacci({!r})\".format(count, \"|\" * depth, n))\n",
    "\n",
    "    value = fibonacci(n - 1) + fibonacci(n - 2) if n > 1 else 1 if n == 1 else 0\n",
    "\n",
    "    depth -= 1\n",
    "    if depth == -1:  # recursion done\n",
    "        print(\"Done\")\n",
    "        count = 0  # reset count for subsequent recursions\n",
    "    return value\n",
    "\n",
    "\n",
    "count, depth = 0, -1\n",
    "for n in range(6):\n",
    "    print(fibonacci(n))"
   ]
  },
  {
   "cell_type": "markdown",
   "id": "9e0d8d4b",
   "metadata": {
    "slideshow": {
     "slide_type": "fragment"
    }
   },
   "source": [
    "The code decorates the `fibonacci` function by printing each recursive call and the depth of the call stack.  \n",
    "The decoration is useful in showing the efficiency of the function, but it rewrites the function definition."
   ]
  },
  {
   "cell_type": "markdown",
   "id": "e6a0fdd7",
   "metadata": {
    "slideshow": {
     "slide_type": "subslide"
    }
   },
   "source": [
    "**How to decorate a function without changing its implementation?**"
   ]
  },
  {
   "cell_type": "markdown",
   "id": "3963e8a7",
   "metadata": {
    "slideshow": {
     "slide_type": "fragment"
    }
   },
   "source": [
    "Decorations are often temporary. Is it possible to avoid\n",
    "\n",
    "- going through the source codes to remove decorations?\n",
    "- switching back and forth between the original and decorated codes?"
   ]
  },
  {
   "cell_type": "markdown",
   "id": "9d03b326",
   "metadata": {
    "slideshow": {
     "slide_type": "subslide"
    }
   },
   "source": [
    "::::{admonition} Attempt\n",
    "What about defining a new function that calls and decorates the original function?\n",
    "::::"
   ]
  },
  {
   "cell_type": "code",
   "execution_count": null,
   "id": "5b5a275a",
   "metadata": {
    "code_folding": [
     0
    ],
    "slideshow": {
     "slide_type": "fragment"
    }
   },
   "outputs": [],
   "source": [
    "def fibonacci(n):\n",
    "    \"\"\"Returns the Fibonacci number of order n.\"\"\"\n",
    "    return fibonacci(n - 1) + fibonacci(n - 2) if n > 1 else 1 if n == 1 else 0\n",
    "\n",
    "\n",
    "def fibonacci_decorated(n):\n",
    "    \"\"\"Returns the Fibonacci number of order n.\"\"\"\n",
    "    global count, depth\n",
    "    count += 1\n",
    "    depth += 1\n",
    "    print(\"{:>3}: {}fibonacci({!r})\".format(count, \"|\" * depth, n))\n",
    "\n",
    "    value = fibonacci(n)\n",
    "\n",
    "    depth -= 1\n",
    "    if depth == -1:  # recursion done\n",
    "        print(\"Done\")\n",
    "        count = 0  # reset count for subsequent recursions\n",
    "    return value\n",
    "\n",
    "\n",
    "count, depth = 0, -1\n",
    "for n in range(6):\n",
    "    print(fibonacci_decorated(n))"
   ]
  },
  {
   "cell_type": "markdown",
   "id": "53d8bd49",
   "metadata": {},
   "source": [
    "::::{exercise}\n",
    ":label: ex:fib3\n",
    "\n",
    "Explain whether the attempt works.\n",
    "\n",
    "::::"
   ]
  },
  {
   "cell_type": "markdown",
   "id": "05b0d510",
   "metadata": {
    "deletable": false,
    "nbgrader": {
     "cell_type": "markdown",
     "checksum": "05e6c729e649ec63302f35aca4994d20",
     "grade": true,
     "grade_id": "decorator1",
     "locked": false,
     "points": 0,
     "schema_version": 3,
     "solution": true,
     "task": false
    }
   },
   "source": [
    "YOUR ANSWER HERE"
   ]
  },
  {
   "cell_type": "markdown",
   "id": "95fa236c",
   "metadata": {
    "slideshow": {
     "slide_type": "fragment"
    }
   },
   "source": [
    "````{admonition} Attempt\n",
    "What about renaming `fibonacci_decorated` to `fibonacci`?\n",
    "\n",
    "```Python\n",
    "fibonacci = fibonacci_decorated\n",
    "count, depth = 0, -1\n",
    "fibonacci_decorated(10)\n",
    "```\n",
    "\n",
    "(If you are faint-hearted, don't run the above code.)\n",
    "````"
   ]
  },
  {
   "cell_type": "markdown",
   "id": "828b093f",
   "metadata": {},
   "source": [
    "::::{exercise}\n",
    ":label: ex:fib4 \n",
    "\n",
    "Explain whether the attempt works.\n",
    "\n",
    "::::"
   ]
  },
  {
   "cell_type": "markdown",
   "id": "88d2f4bf",
   "metadata": {
    "deletable": false,
    "nbgrader": {
     "cell_type": "markdown",
     "checksum": "487f2e09dd8d24a2455f18d9f50d9b29",
     "grade": true,
     "grade_id": "decorator2",
     "locked": false,
     "points": 0,
     "schema_version": 3,
     "solution": true,
     "task": false
    }
   },
   "source": [
    "YOUR ANSWER HERE"
   ]
  },
  {
   "cell_type": "markdown",
   "id": "4ab57662",
   "metadata": {
    "slideshow": {
     "slide_type": "subslide"
    }
   },
   "source": [
    "An elegant solution is to\n",
    "\n",
    "- capture the function to be decorated in the closure of the decorated function, and\n",
    "- rename the decorated function to the same name as the function to be decorated."
   ]
  },
  {
   "cell_type": "code",
   "execution_count": null,
   "id": "6760a8e2",
   "metadata": {
    "code_folding": [],
    "slideshow": {
     "slide_type": "fragment"
    }
   },
   "outputs": [],
   "source": [
    "def print_function_call(f):\n",
    "    def wrapper(*args, **kwargs):\n",
    "        nonlocal count, depth\n",
    "        count += 1\n",
    "        depth += 1\n",
    "        call = \"{}{}\".format(f.__name__, argument_string(*args, **kwargs))\n",
    "        print(\"{:>3}:{}{}\".format(count, \"|\" * depth, call))\n",
    "        value = f(*args, **kwargs)  # calls f\n",
    "        depth -= 1\n",
    "        if depth == -1:\n",
    "            print(\"Done\")\n",
    "            count = 0\n",
    "        return value\n",
    "    count, depth = 0, -1\n",
    "    return wrapper  # return the decorated function"
   ]
  },
  {
   "cell_type": "markdown",
   "id": "712fef69",
   "metadata": {
    "slideshow": {
     "slide_type": "fragment"
    }
   },
   "source": [
    "The above defines a *decorator* `print_function_call` that takes in a function `f` to be decorated and returns the decorated function `wrapper` that captures and decorates `f`:\n",
    "- `wrapper` expects the same set of arguments for `f`,  \n",
    "- returns the same value returned by `f` on the arguments, but\n",
    "- can execute additional codes before and after calling `f` to print the function call."
   ]
  },
  {
   "cell_type": "markdown",
   "id": "29414e46",
   "metadata": {
    "slideshow": {
     "slide_type": "fragment"
    }
   },
   "source": [
    "By redefining `fibonacci` as the returned `wrapper`, the original `fibonacci` captured by `wrapper` calls `wrapper` as desired."
   ]
  },
  {
   "cell_type": "code",
   "execution_count": null,
   "id": "90ae1fc8",
   "metadata": {
    "code_folding": []
   },
   "outputs": [],
   "source": [
    "def fibonacci(n):\n",
    "    return fibonacci(n - 1) + fibonacci(n - 2) if n > 1 else 1 if n == 1 else 0\n",
    "\n",
    "\n",
    "fibonacci = print_function_call(fibonacci)  # so original fibonnacci calls wrapper\n",
    "fibonacci(5)"
   ]
  },
  {
   "cell_type": "markdown",
   "id": "bfcfdb03",
   "metadata": {
    "slideshow": {
     "slide_type": "fragment"
    }
   },
   "source": [
    "The redefinition does not change the original `fibonacci` captured by `wrapper`."
   ]
  },
  {
   "cell_type": "code",
   "execution_count": null,
   "id": "fb6c1783",
   "metadata": {
    "slideshow": {
     "slide_type": "fragment"
    }
   },
   "outputs": [],
   "source": [
    "import inspect\n",
    "\n",
    "for cell in fibonacci.__closure__:\n",
    "    if callable(cell.cell_contents):\n",
    "        print(inspect.getsource(cell.cell_contents))"
   ]
  },
  {
   "cell_type": "markdown",
   "id": "072be799",
   "metadata": {
    "slideshow": {
     "slide_type": "subslide"
    }
   },
   "source": [
    "Python provides the syntatic sugar below to simplify the redefinition."
   ]
  },
  {
   "cell_type": "code",
   "execution_count": null,
   "id": "f9d371aa",
   "metadata": {
    "code_folding": [],
    "slideshow": {
     "slide_type": "-"
    }
   },
   "outputs": [],
   "source": [
    "@print_function_call\n",
    "def fibonacci(n):\n",
    "    return fibonacci(n - 1) + fibonacci(n - 2) if n > 1 else 1 if n == 1 else 0\n",
    "\n",
    "\n",
    "fibonacci(5)"
   ]
  },
  {
   "cell_type": "markdown",
   "id": "bb7e6989",
   "metadata": {},
   "source": [
    "The following visualizes the execution step-by-step:"
   ]
  },
  {
   "cell_type": "markdown",
   "id": "2d1702fa",
   "metadata": {
    "slideshow": {
     "slide_type": "fragment"
    }
   },
   "source": [
    "::::{exercise}\n",
    ":label: ex:fib5\n",
    "\n",
    "Why use a variable number of arguments in `wrapper`? You may use `optlite` below to visualize the execution step-by-step.\n",
    "\n",
    "::::"
   ]
  },
  {
   "cell_type": "code",
   "execution_count": null,
   "id": "122ad169",
   "metadata": {},
   "outputs": [],
   "source": [
    "%%optlite -l\n",
    "def print_function_call(f):\n",
    "    def wrapper(*args, **kwargs):\n",
    "        nonlocal count, depth\n",
    "        count += 1\n",
    "        depth += 1\n",
    "        call = \"{}{}\".format(f.__name__, \"({})\".format(\", \".join([*(f\"{v!r}\" for v in args), *(f\"{k}={v!r}\" for k, v in kwargs.items())])))\n",
    "        print(\"{:>3}:{}{}\".format(count, \"|\" * depth, call))\n",
    "        value = f(*args, **kwargs)  # calls f\n",
    "        depth -= 1\n",
    "        if depth == -1:\n",
    "            print(\"Done\")\n",
    "            count = 0\n",
    "        return value\n",
    "\n",
    "    count, depth = 0, -1\n",
    "    return wrapper  # return the decorated function\n",
    "\n",
    "@print_function_call\n",
    "def fibonacci(n):\n",
    "    return fibonacci(n - 1) + fibonacci(n - 2) if n > 1 else 1 if n == 1 else 0\n",
    "\n",
    "fibonacci(5)"
   ]
  },
  {
   "cell_type": "markdown",
   "id": "64dbe09c",
   "metadata": {
    "deletable": false,
    "nbgrader": {
     "cell_type": "markdown",
     "checksum": "cd0c1ce2c3a1de95f283550d5410d602",
     "grade": true,
     "grade_id": "variable_n_args",
     "locked": false,
     "points": 0,
     "schema_version": 3,
     "solution": true,
     "task": false
    }
   },
   "source": [
    "YOUR ANSWER HERE"
   ]
  },
  {
   "cell_type": "markdown",
   "id": "9292f3e3",
   "metadata": {},
   "source": [
    "## Applications of decorators"
   ]
  },
  {
   "cell_type": "markdown",
   "id": "40d0947e",
   "metadata": {},
   "source": [
    "Decorator is a software [design pattern](https://en.wikipedia.org/wiki/Software_design_pattern) that are reused in different scenarios for different applications."
   ]
  },
  {
   "cell_type": "markdown",
   "id": "a6e91152",
   "metadata": {},
   "source": [
    "For example, the following uses decoration to improves decoration:"
   ]
  },
  {
   "cell_type": "code",
   "execution_count": null,
   "id": "af4a38f3",
   "metadata": {},
   "outputs": [],
   "source": [
    "%%optlite -r -l\n",
    "import functools\n",
    "\n",
    "def print_function_call(f):\n",
    "    @functools.wraps(f)  # give wrapper the identity of f and more\n",
    "    def wrapper(*args, **kwargs):\n",
    "        nonlocal count, depth\n",
    "        count += 1\n",
    "        depth += 1\n",
    "        call = \"{}{}\".format(f.__name__, \"({})\".format(\", \".join([*(f\"{v!r}\" for v in args), *(f\"{k}={v!r}\" for k, v in kwargs.items())])))\n",
    "        print(\"{:>3}:{}{}\".format(count, \"|\" * depth, call))\n",
    "        value = f(*args, **kwargs)  # calls f\n",
    "        depth -= 1\n",
    "        if depth == -1:\n",
    "            print(\"Done\")\n",
    "            count = 0\n",
    "        return value\n",
    "\n",
    "    count, depth = 0, -1\n",
    "    return wrapper  # return the decorated function\n",
    "\n",
    "@print_function_call\n",
    "def fibonacci(n):\n",
    "    return fibonacci(n - 1) + fibonacci(n - 2) if n > 1 else 1 if n == 1 else 0\n",
    "\n",
    "fibonacci(5)"
   ]
  },
  {
   "cell_type": "markdown",
   "id": "3112cb75",
   "metadata": {},
   "source": [
    "**What is the difference?**"
   ]
  },
  {
   "cell_type": "markdown",
   "id": "6c5354a6",
   "metadata": {
    "slideshow": {
     "slide_type": "fragment"
    }
   },
   "source": [
    "The decoration `@functools.wraps(f)` of the decorated function `wrapper`\n",
    "\n",
    "- makes some attributes (such as `__name__`) of the decorated function the same as those of original function, and\n",
    "- adds some useful attributes such as `__wrapped__` that points to the original function."
   ]
  },
  {
   "cell_type": "markdown",
   "id": "27977e45",
   "metadata": {},
   "source": [
    "In the `optlite` visualization, notice that `wrapper` points to a function named `fibonacci` instead of `wrapper`."
   ]
  },
  {
   "cell_type": "markdown",
   "id": "787c7291",
   "metadata": {},
   "source": [
    "We can also undo the decoration using `__wrapped__`."
   ]
  },
  {
   "cell_type": "code",
   "execution_count": null,
   "id": "28f8cbfe",
   "metadata": {
    "slideshow": {
     "slide_type": "fragment"
    }
   },
   "outputs": [],
   "source": [
    "fibonacci, fibonacci_decorated = fibonacci.__wrapped__, fibonacci  # recover\n",
    "print(\"original fibonacci:\")\n",
    "print(fibonacci(5))\n",
    "\n",
    "fibonacci = fibonacci_decorated  # decorate\n",
    "print(\"decorated fibonacci:\")\n",
    "print(fibonacci(5))"
   ]
  },
  {
   "cell_type": "markdown",
   "id": "d35b7427",
   "metadata": {
    "slideshow": {
     "slide_type": "subslide"
    }
   },
   "source": [
    "**How to use decorator to improve recursion?**"
   ]
  },
  {
   "cell_type": "markdown",
   "id": "46295303",
   "metadata": {
    "slideshow": {
     "slide_type": "fragment"
    }
   },
   "source": [
    "We can also use a decorator to make recursion more efficient by caching the return values.  \n",
    "`cache` is a dictionary where `cache[n]` stores the computed value of $F_n$ to avoid redundant computations."
   ]
  },
  {
   "cell_type": "code",
   "execution_count": null,
   "id": "e182819a",
   "metadata": {
    "slideshow": {
     "slide_type": "fragment"
    }
   },
   "outputs": [],
   "source": [
    "def caching(f):\n",
    "    \"\"\"Cache the return value of a function that takes a single argument.\n",
    "\n",
    "    Parameters\n",
    "    ----------\n",
    "    f: Callable\n",
    "        A function that takes a single argument.\n",
    "\n",
    "    Returns\n",
    "    -------\n",
    "    Callable:\n",
    "        The function same as f but has its return valued automatically cached\n",
    "        when called. It has a method clear_cache to clear its cache.\n",
    "    \"\"\"\n",
    "\n",
    "    @functools.wraps(f)\n",
    "    def wrapper(n):\n",
    "        if n not in cache:\n",
    "            cache[n] = f(n)\n",
    "        else:\n",
    "            print(\"read from cache\")\n",
    "        return cache[n]\n",
    "\n",
    "    cache = {}\n",
    "    wrapper.clear_cache = lambda: cache.clear()  # add method to clear cache\n",
    "    return wrapper\n",
    "\n",
    "\n",
    "@print_function_call\n",
    "@caching\n",
    "def fibonacci(n):\n",
    "    return fibonacci(n - 1) + fibonacci(n - 2) if n > 1 else 1 if n == 1 else 0"
   ]
  },
  {
   "cell_type": "code",
   "execution_count": null,
   "id": "e5bf9316",
   "metadata": {
    "slideshow": {
     "slide_type": "fragment"
    }
   },
   "outputs": [],
   "source": [
    "fibonacci(5)\n",
    "fibonacci(5)\n",
    "fibonacci.clear_cache()\n",
    "fibonacci(5)"
   ]
  },
  {
   "cell_type": "markdown",
   "id": "650ca178",
   "metadata": {
    "slideshow": {
     "slide_type": "fragment"
    }
   },
   "source": [
    "A method `clear_cache` is added to the wrapper to clear the cache.   \n",
    "`lambda <argument list> : <expression>`is called a [*lambda* expression](https://docs.python.org/3/reference/expressions.html#lambda), which conveniently defines an *anonymous function*."
   ]
  },
  {
   "cell_type": "code",
   "execution_count": null,
   "id": "02e3257a",
   "metadata": {
    "slideshow": {
     "slide_type": "fragment"
    }
   },
   "outputs": [],
   "source": [
    "type(fibonacci.clear_cache), fibonacci.clear_cache.__name__"
   ]
  },
  {
   "cell_type": "markdown",
   "id": "b540d97a",
   "metadata": {
    "slideshow": {
     "slide_type": "slide"
    }
   },
   "source": [
    "## Module"
   ]
  },
  {
   "cell_type": "markdown",
   "id": "27c80255",
   "metadata": {
    "slideshow": {
     "slide_type": "subslide"
    }
   },
   "source": [
    "**How to create a module?**"
   ]
  },
  {
   "cell_type": "markdown",
   "id": "c3da4aaf",
   "metadata": {
    "slideshow": {
     "slide_type": "fragment"
    }
   },
   "source": [
    "To create a module, simply put the code in a python source file `<module name>.py` in\n",
    "- the current directory, or\n",
    "- a python *site-packages* directory in system path."
   ]
  },
  {
   "cell_type": "code",
   "execution_count": null,
   "id": "aa623618",
   "metadata": {
    "slideshow": {
     "slide_type": "-"
    }
   },
   "outputs": [],
   "source": [
    "import sys\n",
    "\n",
    "print(sys.path)"
   ]
  },
  {
   "cell_type": "markdown",
   "id": "d5eb1dbd",
   "metadata": {
    "slideshow": {
     "slide_type": "subslide"
    }
   },
   "source": [
    "For example, `recurtools.py` in the current directory defines the module `recurtools`."
   ]
  },
  {
   "cell_type": "code",
   "execution_count": null,
   "id": "19f51393",
   "metadata": {
    "slideshow": {
     "slide_type": "-"
    },
    "tags": [
     "output_scroll"
    ]
   },
   "outputs": [],
   "source": [
    "from IPython.display import Code\n",
    "\n",
    "Code(filename=\"recurtools.py\", language=\"python\")"
   ]
  },
  {
   "cell_type": "markdown",
   "id": "69191cb0",
   "metadata": {},
   "source": [
    "The module provides the decorators `print_function_call` and `caching` defined earlier."
   ]
  },
  {
   "cell_type": "code",
   "execution_count": null,
   "id": "94cd19f9",
   "metadata": {
    "slideshow": {
     "slide_type": "-"
    }
   },
   "outputs": [],
   "source": [
    "import recurtools as rc\n",
    "\n",
    "\n",
    "@rc.print_function_call\n",
    "@rc.caching\n",
    "def factorial(n):\n",
    "    return factorial(n - 1) if n > 1 else 1"
   ]
  },
  {
   "cell_type": "code",
   "execution_count": null,
   "id": "61bb994d",
   "metadata": {
    "slideshow": {
     "slide_type": "-"
    }
   },
   "outputs": [],
   "source": [
    "factorial(5)\n",
    "factorial(5)\n",
    "factorial.clear_cache()\n",
    "factorial(5)"
   ]
  }
 ],
 "metadata": {
  "kernelspec": {
   "display_name": "Python 3 (ipykernel)",
   "language": "python",
   "name": "python3"
  }
 },
 "nbformat": 4,
 "nbformat_minor": 5
}
