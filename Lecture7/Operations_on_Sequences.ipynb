{
 "cells": [
  {
   "cell_type": "markdown",
   "id": "c14f3f57",
   "metadata": {
    "slideshow": {
     "slide_type": "slide"
    }
   },
   "source": [
    "# Operations on Sequences"
   ]
  },
  {
   "cell_type": "markdown",
   "id": "a6a213f8",
   "metadata": {
    "slideshow": {
     "slide_type": "-"
    },
    "tags": [
     "remove-cell"
    ]
   },
   "source": [
    "**CS1302 Introduction to Computer Programming**\n",
    "___"
   ]
  },
  {
   "cell_type": "code",
   "execution_count": null,
   "id": "f379fc79",
   "metadata": {
    "slideshow": {
     "slide_type": "fragment"
    },
    "tags": [
     "remove-cell"
    ]
   },
   "outputs": [],
   "source": [
    "import random\n",
    "%reload_ext divewidgets"
   ]
  },
  {
   "cell_type": "markdown",
   "id": "16f6e3cc",
   "metadata": {
    "slideshow": {
     "slide_type": "slide"
    }
   },
   "source": [
    "## Mutating a list"
   ]
  },
  {
   "cell_type": "markdown",
   "id": "cd998acc",
   "metadata": {
    "slideshow": {
     "slide_type": "fragment"
    }
   },
   "source": [
    "::::{important}\n",
    "\n",
    "For list (but not tuple), subscription and slicing can also be used as the target of an assignment operation to mutate the list.\n",
    "::::"
   ]
  },
  {
   "cell_type": "code",
   "execution_count": null,
   "id": "6bea50d7",
   "metadata": {
    "slideshow": {
     "slide_type": "-"
    }
   },
   "outputs": [],
   "source": [
    "%%optlite -h 350\n",
    "b = [*range(10)]  # aliasing\n",
    "b[::2] = b[:5]\n",
    "b[0:1] = b[:5]\n",
    "b[::2] = b[:5]  # fails"
   ]
  },
  {
   "cell_type": "markdown",
   "id": "745c862d",
   "metadata": {
    "slideshow": {
     "slide_type": "fragment"
    }
   },
   "source": [
    "Last assignment fails because `[::2]` with step size not equal to `1` is an *extended slice*, which can only be assigned to a list of equal size."
   ]
  },
  {
   "cell_type": "markdown",
   "id": "c5b34d2e",
   "metadata": {
    "slideshow": {
     "slide_type": "subslide"
    }
   },
   "source": [
    "**What is the difference between mutation and aliasing?**"
   ]
  },
  {
   "cell_type": "markdown",
   "id": "8bb66e08",
   "metadata": {
    "slideshow": {
     "slide_type": "fragment"
    }
   },
   "source": [
    "In the previous code:\n",
    "- The first assignment `b = [*range(10)]` is aliasing, which gives the list the target name/identifier `b`.\n",
    "- Other assignments such as `b[::2] = b[:5]` are mutations that [calls `__setitem__`](https://docs.python.org/3/reference/simple_stmts.html#assignment-statements) because the target `b[::2]` is not an identifier."
   ]
  },
  {
   "cell_type": "code",
   "execution_count": null,
   "id": "fdb4925b",
   "metadata": {},
   "outputs": [],
   "source": [
    "list.__setitem__?"
   ]
  },
  {
   "cell_type": "markdown",
   "id": "5c8fff3b",
   "metadata": {
    "slideshow": {
     "slide_type": "subslide"
    }
   },
   "source": [
    "::::{exercise}\n",
    ":label: ex:equivalence\n",
    "\n",
    "Explain why the check returns False."
   ]
  },
  {
   "cell_type": "code",
   "execution_count": null,
   "id": "dbbdb817",
   "metadata": {},
   "outputs": [],
   "source": [
    "# %%optlite -l -h 400\n",
    "a = b = [0]\n",
    "b[0] = a[0] + 1\n",
    "print(a[0] < b[0])"
   ]
  },
  {
   "cell_type": "markdown",
   "id": "d995036a",
   "metadata": {},
   "source": [
    "::::"
   ]
  },
  {
   "cell_type": "markdown",
   "id": "0b46dfe4",
   "metadata": {
    "deletable": false,
    "nbgrader": {
     "cell_type": "markdown",
     "checksum": "67e1259061c9a7c45acc8154d325d19a",
     "grade": true,
     "grade_id": "equivalence",
     "locked": false,
     "points": 0,
     "schema_version": 3,
     "solution": true,
     "task": false
    },
    "slideshow": {
     "slide_type": "-"
    }
   },
   "source": [
    "YOUR ANSWER HERE"
   ]
  },
  {
   "cell_type": "markdown",
   "id": "e9512b10",
   "metadata": {
    "slideshow": {
     "slide_type": "subslide"
    }
   },
   "source": [
    "::::{exercise}\n",
    ":label: ex:difference\n",
    "\n",
    "Explain why the mutations below have different effects?\n",
    "\n",
    "::::"
   ]
  },
  {
   "cell_type": "code",
   "execution_count": null,
   "id": "f3560c2f",
   "metadata": {},
   "outputs": [],
   "source": [
    "a = [0, 1]\n",
    "i = 0\n",
    "a.__setitem__(i := i + 1, i)\n",
    "print(a)"
   ]
  },
  {
   "cell_type": "code",
   "execution_count": null,
   "id": "b40f1f55",
   "metadata": {},
   "outputs": [],
   "source": [
    "a = [0, 1]\n",
    "i = 0\n",
    "a[i := i + 1] = a[i]\n",
    "print(a)"
   ]
  },
  {
   "cell_type": "markdown",
   "id": "cf953470",
   "metadata": {
    "deletable": false,
    "nbgrader": {
     "cell_type": "markdown",
     "checksum": "18ad03486ba1506ee967600ae8db1f67",
     "grade": true,
     "grade_id": "difference",
     "locked": false,
     "points": 0,
     "schema_version": 3,
     "solution": true,
     "task": false
    },
    "slideshow": {
     "slide_type": "-"
    }
   },
   "source": [
    "YOUR ANSWER HERE"
   ]
  },
  {
   "cell_type": "markdown",
   "id": "eed2b578",
   "metadata": {
    "slideshow": {
     "slide_type": "subslide"
    }
   },
   "source": [
    "**Why mutate a list?**"
   ]
  },
  {
   "cell_type": "markdown",
   "id": "f61abaac",
   "metadata": {
    "slideshow": {
     "slide_type": "fragment"
    }
   },
   "source": [
    "The following is another implementation of `composite_sequence` that takes advantage of the mutability of list."
   ]
  },
  {
   "cell_type": "code",
   "execution_count": null,
   "id": "67bf200b",
   "metadata": {
    "slideshow": {
     "slide_type": "-"
    }
   },
   "outputs": [],
   "source": [
    "%%optlite -r\n",
    "def sieve_composite_sequence(stop):\n",
    "    is_composite = [False] * stop  # initialization\n",
    "    for factor in range(2, stop):\n",
    "        if is_composite[factor]:\n",
    "            continue\n",
    "        for multiple in range(factor * 2, stop, factor):\n",
    "            is_composite[multiple] = True\n",
    "    return (x for x in range(4, stop) if is_composite[x])\n",
    "\n",
    "\n",
    "for x in sieve_composite_sequence(100):\n",
    "    print(x, end=\" \")"
   ]
  },
  {
   "cell_type": "markdown",
   "id": "6417d9d5",
   "metadata": {
    "slideshow": {
     "slide_type": "fragment"
    }
   },
   "source": [
    "The algorithm \n",
    "1. changes `is_composite[x]` from `False` to `True` if `x` is a multiple of a smaller number `factor`, and\n",
    "2. returns a generator that generates composite numbers according to `is_composite`."
   ]
  },
  {
   "cell_type": "markdown",
   "id": "252114ce",
   "metadata": {
    "slideshow": {
     "slide_type": "subslide"
    }
   },
   "source": [
    "::::{exercise}\n",
    ":label: ex:sieve\n",
    "\n",
    "Is `sieve_composite_sequence` more efficient than your solution `composite_sequence`? Why?\n",
    "\n",
    "::::"
   ]
  },
  {
   "cell_type": "code",
   "execution_count": null,
   "id": "7f9d028a",
   "metadata": {},
   "outputs": [],
   "source": [
    "composite_sequence = lambda stop: (\n",
    "    x for x in range(2, stop) if any(x % divisor == 0 for divisor in range(2, x))\n",
    ")"
   ]
  },
  {
   "cell_type": "code",
   "execution_count": null,
   "id": "eeb5433f",
   "metadata": {
    "slideshow": {
     "slide_type": "-"
    }
   },
   "outputs": [],
   "source": [
    "%%timeit\n",
    "for x in composite_sequence(10000): pass"
   ]
  },
  {
   "cell_type": "code",
   "execution_count": null,
   "id": "2e42d2a6",
   "metadata": {},
   "outputs": [],
   "source": [
    "%%timeit\n",
    "for x in sieve_composite_sequence(10000): pass"
   ]
  },
  {
   "cell_type": "code",
   "execution_count": null,
   "id": "9088a805",
   "metadata": {
    "slideshow": {
     "slide_type": "-"
    }
   },
   "outputs": [],
   "source": [
    "for x in sieve_composite_sequence(10000000): pass"
   ]
  },
  {
   "cell_type": "markdown",
   "id": "23eaebfa",
   "metadata": {
    "deletable": false,
    "nbgrader": {
     "cell_type": "markdown",
     "checksum": "81f9b0c9ad3b1b27fbf504c34d173ac3",
     "grade": true,
     "grade_id": "sieve",
     "locked": false,
     "points": 0,
     "schema_version": 3,
     "solution": true,
     "task": false
    },
    "slideshow": {
     "slide_type": "-"
    }
   },
   "source": [
    "YOUR ANSWER HERE"
   ]
  },
  {
   "cell_type": "markdown",
   "id": "02404916",
   "metadata": {
    "slideshow": {
     "slide_type": "fragment"
    }
   },
   "source": [
    "::::{exercise}\n",
    ":label: ex:init-2D\n",
    "\n",
    "Note that the multiplication operation `*` is the most efficient way to [initialize a 1D list with a specified size](https://www.geeksforgeeks.org/python-which-is-faster-to-initialize-lists/), but we should not use it to initialize a 2D list. Fix the following code so that `a` becomes `[[1, 0], [0, 1]]`.\n",
    "\n",
    "::::"
   ]
  },
  {
   "cell_type": "code",
   "execution_count": null,
   "id": "69da6761",
   "metadata": {
    "slideshow": {
     "slide_type": "-"
    }
   },
   "outputs": [],
   "source": [
    "%%optlite -h 300\n",
    "a = [[0] * 2] * 2\n",
    "a[0][0] = a[1][1] = 1\n",
    "print(a)"
   ]
  },
  {
   "cell_type": "code",
   "execution_count": null,
   "id": "f701c754",
   "metadata": {
    "code_folding": [],
    "deletable": false,
    "nbgrader": {
     "cell_type": "code",
     "checksum": "710b02b9bfdcd905a6e499115e3476a9",
     "grade": false,
     "grade_id": "init-2D",
     "locked": false,
     "schema_version": 3,
     "solution": true,
     "task": false
    },
    "slideshow": {
     "slide_type": "-"
    }
   },
   "outputs": [],
   "source": [
    "# YOUR CODE HERE\n",
    "raise NotImplementedError()\n",
    "a[0][0] = a[1][1] = 1\n",
    "print(a)"
   ]
  },
  {
   "cell_type": "markdown",
   "id": "ea671517",
   "metadata": {
    "slideshow": {
     "slide_type": "slide"
    }
   },
   "source": [
    "## Different methods to operate on a sequence"
   ]
  },
  {
   "cell_type": "markdown",
   "id": "6914da4b",
   "metadata": {
    "slideshow": {
     "slide_type": "subslide"
    }
   },
   "source": [
    "Recall the `quicksort` algorithm:"
   ]
  },
  {
   "cell_type": "code",
   "execution_count": null,
   "id": "0d86b1ad",
   "metadata": {
    "slideshow": {
     "slide_type": "-"
    }
   },
   "outputs": [],
   "source": [
    "def quicksort(seq):\n",
    "    '''Return a sorted list of items from seq.'''\n",
    "    if len(seq) <= 1:\n",
    "        return list(seq)\n",
    "    i = random.randint(0, len(seq) - 1)\n",
    "    pivot, others = seq[i], [*seq[:i], *seq[i + 1:]]\n",
    "    left = quicksort([x for x in others if x < pivot])\n",
    "    right = quicksort([x for x in others if x >= pivot])\n",
    "    return [*left, pivot, *right]\n",
    "\n",
    "\n",
    "seq = [random.randint(0, 99) for i in range(10)]\n",
    "print(seq, quicksort(seq), sep='\\n')"
   ]
  },
  {
   "cell_type": "markdown",
   "id": "edb49a24",
   "metadata": {
    "slideshow": {
     "slide_type": "fragment"
    }
   },
   "source": [
    "There is also a built-in function `sorted` for sorting a sequence:"
   ]
  },
  {
   "cell_type": "code",
   "execution_count": null,
   "id": "f643969a",
   "metadata": {
    "slideshow": {
     "slide_type": "-"
    }
   },
   "outputs": [],
   "source": [
    "sorted?\n",
    "sorted(seq)"
   ]
  },
  {
   "cell_type": "markdown",
   "id": "96a9b32a",
   "metadata": {
    "slideshow": {
     "slide_type": "subslide"
    }
   },
   "source": [
    "**Is `quicksort` quicker?**"
   ]
  },
  {
   "cell_type": "code",
   "execution_count": null,
   "id": "7c5362e8",
   "metadata": {
    "slideshow": {
     "slide_type": "-"
    }
   },
   "outputs": [],
   "source": [
    "%%timeit\n",
    "quicksort(seq)"
   ]
  },
  {
   "cell_type": "code",
   "execution_count": null,
   "id": "55bba7a5",
   "metadata": {
    "slideshow": {
     "slide_type": "-"
    }
   },
   "outputs": [],
   "source": [
    "%%timeit\n",
    "sorted(seq)"
   ]
  },
  {
   "cell_type": "markdown",
   "id": "5b2c25b8",
   "metadata": {
    "slideshow": {
     "slide_type": "fragment"
    }
   },
   "source": [
    "Python implements the [Timsort](https://en.wikipedia.org/wiki/Timsort) algorithm, which is very efficient."
   ]
  },
  {
   "cell_type": "markdown",
   "id": "93956464",
   "metadata": {
    "slideshow": {
     "slide_type": "subslide"
    }
   },
   "source": [
    "**What are other operations on sequences?**"
   ]
  },
  {
   "cell_type": "markdown",
   "id": "5f9b1923",
   "metadata": {
    "slideshow": {
     "slide_type": "fragment"
    }
   },
   "source": [
    "The following compares the lists of public attributes for `tuple` and `list`. \n",
    "- We determine membership using the [operator `in` or `not in`](https://docs.python.org/3/reference/expressions.html#membership-test-operations).\n",
    "- Different from the [keyword `in` in a for loop](https://docs.python.org/3/reference/compound_stmts.html#the-for-statement), operator `in` calls the method `__contains__`."
   ]
  },
  {
   "cell_type": "code",
   "execution_count": null,
   "id": "cbc89fa2",
   "metadata": {
    "slideshow": {
     "slide_type": "-"
    }
   },
   "outputs": [],
   "source": [
    "list_attributes = dir(list)\n",
    "tuple_attributes = dir(tuple)\n",
    "\n",
    "print(\n",
    "    'Common attributes:', ', '.join([\n",
    "        attr for attr in list_attributes\n",
    "        if attr in tuple_attributes and attr[0] != '_'\n",
    "    ]))\n",
    "\n",
    "print(\n",
    "    'Tuple-specific attributes:', ', '.join([\n",
    "        attr for attr in tuple_attributes\n",
    "        if attr not in list_attributes and attr[0] != '_'\n",
    "    ]))\n",
    "\n",
    "print(\n",
    "    'List-specific attributes:', ', '.join([\n",
    "        attr for attr in list_attributes\n",
    "        if attr not in tuple_attributes and attr[0] != '_'\n",
    "    ]))"
   ]
  },
  {
   "cell_type": "markdown",
   "id": "d8e094d4",
   "metadata": {
    "slideshow": {
     "slide_type": "fragment"
    }
   },
   "source": [
    "- There are no public tuple-specific attributes, and\n",
    "- all the list-specific attributes are methods that mutate the list, except `copy`."
   ]
  },
  {
   "cell_type": "markdown",
   "id": "404674df",
   "metadata": {
    "slideshow": {
     "slide_type": "subslide"
    }
   },
   "source": [
    "The common attributes\n",
    "- `count` method returns the number of occurrences of a value in a tuple/list, and\n",
    "- `index` method returns the index of the first occurrence of a value in a tuple/list."
   ]
  },
  {
   "cell_type": "code",
   "execution_count": null,
   "id": "1d8ef6a6",
   "metadata": {
    "slideshow": {
     "slide_type": "-"
    }
   },
   "outputs": [],
   "source": [
    "%%optlite -l -h 450\n",
    "a = (1,2,2,4,5)\n",
    "count_of_2 = a.count(2)\n",
    "index_of_1st_2 = a.index(2)"
   ]
  },
  {
   "cell_type": "markdown",
   "id": "45ec9028",
   "metadata": {
    "slideshow": {
     "slide_type": "subslide"
    }
   },
   "source": [
    "`reverse` method reverses the list instead of returning a reversed list."
   ]
  },
  {
   "cell_type": "code",
   "execution_count": null,
   "id": "33e33dc8",
   "metadata": {
    "slideshow": {
     "slide_type": "-"
    }
   },
   "outputs": [],
   "source": [
    "%%optlite -h 300\n",
    "a = [*range(10)]\n",
    "print(reversed(a))\n",
    "print(*reversed(a))\n",
    "print(a.reverse())"
   ]
  },
  {
   "cell_type": "markdown",
   "id": "01392274",
   "metadata": {
    "slideshow": {
     "slide_type": "subslide"
    }
   },
   "source": [
    "- `copy` method returns a copy of a list.  \n",
    "- `tuple` does not have the `copy` method but it is easy to create a copy by slicing."
   ]
  },
  {
   "cell_type": "code",
   "execution_count": null,
   "id": "1402a9eb",
   "metadata": {
    "slideshow": {
     "slide_type": "fragment"
    }
   },
   "outputs": [],
   "source": [
    "%%optlite -h 400\n",
    "a = [*range(10)]\n",
    "b = tuple(a)\n",
    "a_reversed = a.copy()\n",
    "a_reversed.reverse()\n",
    "b_reversed = b[::-1]"
   ]
  },
  {
   "cell_type": "markdown",
   "id": "adb89a19",
   "metadata": {
    "slideshow": {
     "slide_type": "subslide"
    }
   },
   "source": [
    "`sort` method sorts the list *in place* instead of returning a sorted list."
   ]
  },
  {
   "cell_type": "code",
   "execution_count": null,
   "id": "32a18007",
   "metadata": {
    "slideshow": {
     "slide_type": "-"
    }
   },
   "outputs": [],
   "source": [
    "%%optlite -h 300\n",
    "import random\n",
    "a = [random.randint(0,10) for i in range(10)]\n",
    "print(sorted(a))\n",
    "print(a.sort())"
   ]
  },
  {
   "cell_type": "markdown",
   "id": "5a86a929",
   "metadata": {
    "slideshow": {
     "slide_type": "subslide"
    }
   },
   "source": [
    "- `extend` method that extends a list instead of creating a new concatenated list.\n",
    "- `append` method adds an object to the end of a list.\n",
    "- `insert` method insert an object to a specified location."
   ]
  },
  {
   "cell_type": "code",
   "execution_count": null,
   "id": "abb3e49c",
   "metadata": {
    "slideshow": {
     "slide_type": "-"
    }
   },
   "outputs": [],
   "source": [
    "%%optlite -h 300\n",
    "a = b = [*range(5)]\n",
    "print(a + b)\n",
    "print(a.extend(b))\n",
    "print(a.append('stop'))\n",
    "print(a.insert(0,'start'))"
   ]
  },
  {
   "cell_type": "markdown",
   "id": "78e3cff9",
   "metadata": {
    "slideshow": {
     "slide_type": "subslide"
    }
   },
   "source": [
    "- `pop` method deletes and return the last item of the list.  \n",
    "- `remove` method removes the first occurrence of a value in the list.  \n",
    "- `clear` method clears the entire list.\n",
    "\n",
    "We can also use the function `del` to delete a selection of a list."
   ]
  },
  {
   "cell_type": "code",
   "execution_count": null,
   "id": "555f1fc2",
   "metadata": {
    "slideshow": {
     "slide_type": "-"
    }
   },
   "outputs": [],
   "source": [
    "%%optlite -h 300\n",
    "a = [*range(10)]\n",
    "del a[::2]\n",
    "print(a.pop())\n",
    "print(a.remove(5))\n",
    "print(a.clear())"
   ]
  }
 ],
 "metadata": {
  "kernelspec": {
   "display_name": "Python 3 (ipykernel)",
   "language": "python",
   "name": "python3"
  }
 },
 "nbformat": 4,
 "nbformat_minor": 5
}
