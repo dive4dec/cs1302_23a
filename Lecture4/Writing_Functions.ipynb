{
 "cells": [
  {
   "cell_type": "markdown",
   "id": "d25b8ca8",
   "metadata": {
    "slideshow": {
     "slide_type": "slide"
    }
   },
   "source": [
    "# Writing Function"
   ]
  },
  {
   "cell_type": "markdown",
   "id": "178dd421",
   "metadata": {
    "slideshow": {
     "slide_type": "-"
    },
    "tags": [
     "remove-cell"
    ]
   },
   "source": [
    "**CS1302 Introduction to Computer Programming**\n",
    "___"
   ]
  },
  {
   "cell_type": "code",
   "execution_count": null,
   "id": "cf8ac8b7",
   "metadata": {
    "slideshow": {
     "slide_type": "fragment"
    },
    "tags": [
     "remove-cell"
    ]
   },
   "outputs": [],
   "source": [
    "%reload_ext divewidgets"
   ]
  },
  {
   "cell_type": "markdown",
   "id": "8f75fa54",
   "metadata": {
    "slideshow": {
     "slide_type": "slide"
    }
   },
   "source": [
    "## Function Definition"
   ]
  },
  {
   "cell_type": "markdown",
   "id": "41ab5e41",
   "metadata": {
    "slideshow": {
     "slide_type": "fragment"
    }
   },
   "source": [
    "**How to write a function?**"
   ]
  },
  {
   "cell_type": "markdown",
   "id": "32c15caf",
   "metadata": {
    "slideshow": {
     "slide_type": "fragment"
    }
   },
   "source": [
    "A function is defined using the [`def` keyword](https://docs.python.org/3/tutorial/controlflow.html#defining-functions)."
   ]
  },
  {
   "cell_type": "markdown",
   "id": "43d2c816",
   "metadata": {
    "slideshow": {
     "slide_type": "fragment"
    }
   },
   "source": [
    "E.g., a simple function that prints \"Hello, World!\" can be defined as follows:"
   ]
  },
  {
   "cell_type": "code",
   "execution_count": null,
   "id": "b0e29a3a",
   "metadata": {
    "slideshow": {
     "slide_type": "fragment"
    }
   },
   "outputs": [],
   "source": [
    "# Function definition\n",
    "def say_hello():\n",
    "    print(\"Hello, World!\")"
   ]
  },
  {
   "cell_type": "code",
   "execution_count": null,
   "id": "9503ba7f",
   "metadata": {
    "slideshow": {
     "slide_type": "-"
    }
   },
   "outputs": [],
   "source": [
    "# Function invocation\n",
    "say_hello()"
   ]
  },
  {
   "cell_type": "markdown",
   "id": "67a85d72",
   "metadata": {
    "slideshow": {
     "slide_type": "subslide"
    }
   },
   "source": [
    "To make a function more powerful and solve different problems,\n",
    "- use a [return statement](https://docs.python.org/3/reference/simple_stmts.html#the-return-statement) to return a value that\n",
    "- depends on some input arguments."
   ]
  },
  {
   "cell_type": "code",
   "execution_count": null,
   "id": "289d87d4",
   "metadata": {
    "slideshow": {
     "slide_type": "fragment"
    }
   },
   "outputs": [],
   "source": [
    "def increment(x):\n",
    "    return x + 1\n",
    "\n",
    "\n",
    "increment(3)"
   ]
  },
  {
   "cell_type": "markdown",
   "id": "55b3121a",
   "metadata": {
    "slideshow": {
     "slide_type": "subslide"
    }
   },
   "source": [
    "We can also have multiple input arguments."
   ]
  },
  {
   "cell_type": "code",
   "execution_count": null,
   "id": "922499e5",
   "metadata": {
    "slideshow": {
     "slide_type": "fragment"
    }
   },
   "outputs": [],
   "source": [
    "def length_of_hypotenuse(a, b):\n",
    "    if a >= 0 and b >= 0:\n",
    "        return (a ** 2 + b ** 2) ** 0.5\n",
    "    else:\n",
    "        print(\"Input arguments must be non-negative.\")"
   ]
  },
  {
   "cell_type": "code",
   "execution_count": null,
   "id": "89f34734",
   "metadata": {
    "slideshow": {
     "slide_type": "-"
    }
   },
   "outputs": [],
   "source": [
    "length_of_hypotenuse(3, 4)"
   ]
  },
  {
   "cell_type": "code",
   "execution_count": null,
   "id": "0b22ee8d",
   "metadata": {
    "slideshow": {
     "slide_type": "-"
    }
   },
   "outputs": [],
   "source": [
    "length_of_hypotenuse(-3, 4)"
   ]
  },
  {
   "cell_type": "markdown",
   "id": "b85fcc3a",
   "metadata": {
    "slideshow": {
     "slide_type": "slide"
    }
   },
   "source": [
    "## Documentation"
   ]
  },
  {
   "cell_type": "markdown",
   "id": "3b6af978",
   "metadata": {
    "slideshow": {
     "slide_type": "subslide"
    }
   },
   "source": [
    "**How to document a function?**"
   ]
  },
  {
   "cell_type": "code",
   "execution_count": null,
   "id": "dac0beae",
   "metadata": {
    "slideshow": {
     "slide_type": "fragment"
    }
   },
   "outputs": [],
   "source": [
    "# Author: John Doe\n",
    "# Last modified: 2020-09-14\n",
    "def increment(x):\n",
    "    \"\"\"Increment by 1.\n",
    "\n",
    "    A simple demo of\n",
    "    - parameter passing,\n",
    "    - return statement, and\n",
    "    - function documentation.\"\"\"\n",
    "    return x + 1  # + operation is used and may fail for 'str'"
   ]
  },
  {
   "cell_type": "markdown",
   "id": "0ecd0d0b",
   "metadata": {
    "slideshow": {
     "slide_type": "fragment"
    }
   },
   "source": [
    "The `help` command shows the docstring we write \n",
    "- at the beginning of the function body\n",
    "- delimited using triple single/double quotes."
   ]
  },
  {
   "cell_type": "code",
   "execution_count": null,
   "id": "1f399e17",
   "metadata": {
    "slideshow": {
     "slide_type": "-"
    }
   },
   "outputs": [],
   "source": [
    "help(increment)"
   ]
  },
  {
   "cell_type": "markdown",
   "id": "c6e9f71b",
   "metadata": {
    "slideshow": {
     "slide_type": "fragment"
    }
   },
   "source": [
    "The docstring should contain the *usage guide*, i.e., information for new users to call the function properly. See Python style guide (PEP 257) for\n",
    "- [one-line docstrings](https://www.python.org/dev/peps/pep-0257/#one-line-docstrings) and\n",
    "- [multi-line docstrings](https://www.python.org/dev/peps/pep-0257/#multi-line-docstrings)."
   ]
  },
  {
   "cell_type": "markdown",
   "id": "1a6bb984",
   "metadata": {
    "slideshow": {
     "slide_type": "subslide"
    }
   },
   "source": [
    "**Why doesn't `help` show the comments that start with `#`?**"
   ]
  },
  {
   "cell_type": "markdown",
   "id": "d78541df",
   "metadata": {
    "slideshow": {
     "slide_type": "-"
    }
   },
   "source": [
    "```Python\n",
    "# Author: John Doe\n",
    "# Last modified: 2020-09-14\n",
    "def increment(x):\n",
    "    ...\n",
    "    return x + 1  # + operation is used and may fail for 'str'\n",
    "```"
   ]
  },
  {
   "cell_type": "markdown",
   "id": "d3b8eddc",
   "metadata": {
    "slideshow": {
     "slide_type": "fragment"
    }
   },
   "source": [
    "Those comments are not usage guide. They are intended for programmers who need to maintain/extend the function definition:"
   ]
  },
  {
   "cell_type": "markdown",
   "id": "82d291a6",
   "metadata": {
    "slideshow": {
     "slide_type": "fragment"
    }
   },
   "source": [
    "- Information about the author and modification date facilitate communications among programmers.\n",
    "- Comments within the code help explain important and not-so-obvious implementation details."
   ]
  },
  {
   "cell_type": "markdown",
   "id": "83fcf7e0",
   "metadata": {
    "slideshow": {
     "slide_type": "subslide"
    }
   },
   "source": [
    "**How to let user know the data types of input arguments and return value?**"
   ]
  },
  {
   "cell_type": "markdown",
   "id": "c8984c38",
   "metadata": {
    "slideshow": {
     "slide_type": "subslide"
    }
   },
   "source": [
    "We can [annotate](https://docs.python.org/3/library/typing.html) the function with *hints* of the types of the arguments and return value."
   ]
  },
  {
   "cell_type": "code",
   "execution_count": null,
   "id": "9d49704d",
   "metadata": {
    "slideshow": {
     "slide_type": "-"
    }
   },
   "outputs": [],
   "source": [
    "# Author: John Doe\n",
    "# Last modified: 2020-09-14\n",
    "def increment(x: float) -> float:\n",
    "    \"\"\"Increment by 1.\n",
    "\n",
    "    A simple demo of\n",
    "    - parameter passing,\n",
    "    - return statement, and\n",
    "    - function documentation.\"\"\"\n",
    "    return x + 1  # + operation is used and may fail for 'str'\n",
    "\n",
    "\n",
    "help(increment)"
   ]
  },
  {
   "cell_type": "markdown",
   "id": "f9683d36",
   "metadata": {
    "slideshow": {
     "slide_type": "fragment"
    }
   },
   "source": [
    "Annotations make the code easier to understand and can be used by editor with type-checking tools. However, annotations are not enforced by the Python interpreter."
   ]
  },
  {
   "cell_type": "code",
   "execution_count": null,
   "id": "4daef4d3",
   "metadata": {
    "slideshow": {
     "slide_type": "-"
    }
   },
   "outputs": [],
   "source": [
    "def increment_user_input():\n",
    "    return increment(input())  # does not raise error even though input returns str"
   ]
  },
  {
   "cell_type": "markdown",
   "id": "bc9c6808",
   "metadata": {},
   "source": [
    "Does calling the function lead to any error:\n",
    "\n",
    "```python\n",
    "increment_user_input()\n",
    "```"
   ]
  },
  {
   "cell_type": "markdown",
   "id": "098e279c",
   "metadata": {
    "slideshow": {
     "slide_type": "subslide"
    }
   },
   "source": [
    "The types can also be described in the docstring following the [Numpy](https://numpydoc.readthedocs.io/en/latest/format.html#parameters) or [Google](https://google.github.io/styleguide/pyguide.html#383-functions-and-methods) style."
   ]
  },
  {
   "cell_type": "code",
   "execution_count": null,
   "id": "b1aded87",
   "metadata": {},
   "outputs": [],
   "source": [
    "# Author: John Doe\n",
    "# Last modified: 2020-09-14\n",
    "def increment(x: float) -> float:\n",
    "    \"\"\"Increment by 1.\n",
    "\n",
    "    A simple demo of\n",
    "    - parameter passing,\n",
    "    - return statement, and\n",
    "    - function documentation.\n",
    "\n",
    "    Parameters\n",
    "    ----------\n",
    "    x: float\n",
    "        Value to be incremented.\n",
    "\n",
    "    Returns\n",
    "    -------\n",
    "    float:\n",
    "        Value of x incremented by 1.\n",
    "    \"\"\"\n",
    "    return x + 1  # + operation is used and may fail for 'str'\n",
    "\n",
    "\n",
    "help(increment)"
   ]
  },
  {
   "cell_type": "markdown",
   "id": "beecc07b",
   "metadata": {
    "slideshow": {
     "slide_type": "fragment"
    }
   },
   "source": [
    "There are tools such as [sphinx](https://www.sphinx-doc.org/) to generate documentation in html format and compile the [docstrings automatically into an API reference](https://www.sphinx-doc.org/en/master/usage/extensions/autodoc.html)."
   ]
  },
  {
   "cell_type": "markdown",
   "id": "691b2c3b",
   "metadata": {
    "slideshow": {
     "slide_type": "slide"
    }
   },
   "source": [
    "## Parameter Passing"
   ]
  },
  {
   "cell_type": "markdown",
   "id": "16e1d116",
   "metadata": {
    "slideshow": {
     "slide_type": "fragment"
    }
   },
   "source": [
    "**Can we increment a variable instead of returning its increment?**"
   ]
  },
  {
   "cell_type": "code",
   "execution_count": null,
   "id": "72331840",
   "metadata": {
    "slideshow": {
     "slide_type": "-"
    }
   },
   "outputs": [],
   "source": [
    "def increment(x):\n",
    "    x += 1"
   ]
  },
  {
   "cell_type": "code",
   "execution_count": null,
   "id": "60922bbb",
   "metadata": {
    "slideshow": {
     "slide_type": "fragment"
    }
   },
   "outputs": [],
   "source": [
    "x = 3\n",
    "increment(x)\n",
    "print(x)  # 4?"
   ]
  },
  {
   "cell_type": "markdown",
   "id": "72b89479",
   "metadata": {
    "slideshow": {
     "slide_type": "-"
    }
   },
   "source": [
    "Does the above code increment `x`?"
   ]
  },
  {
   "cell_type": "code",
   "execution_count": null,
   "id": "d2fc9eb0",
   "metadata": {
    "slideshow": {
     "slide_type": "subslide"
    }
   },
   "outputs": [],
   "source": [
    "%%optlite -h 350\n",
    "def increment(x):\n",
    "    x += 1\n",
    "\n",
    "\n",
    "x = 3\n",
    "increment(x)\n",
    "print(x)"
   ]
  },
  {
   "cell_type": "markdown",
   "id": "c87b36a6",
   "metadata": {
    "slideshow": {
     "slide_type": "fragment"
    }
   },
   "source": [
    "- Step 3: The function `increment` is invoked with an argument `x`.\n",
    "- Step 3-4: A local frame is created for variables local to `increment` during its execution.    \n",
    "    - The *formal parameter* `x` in `def increment(x):` becomes a local variable and\n",
    "    - it is assigned the value `3` of the *actual parameter* given by the global variable `x`.\n",
    "- Step 5-6: The local (but not the global) variable `x` is incremented.\n",
    "- Step 6-7: The function call completes and the local frame is removed."
   ]
  },
  {
   "cell_type": "markdown",
   "id": "a721810f",
   "metadata": {},
   "source": [
    "In other languages such as C++, there is a way to [pass the argument by reference](https://pythontutor.com/cpp.html#code=void%20increment%28int%20%26%20x%29%20%7B%0A%20%20x%20%2B%3D%201%3B%0A%7D%0A%0Aint%20main%28%29%20%7B%0A%20%20int%20x%20%3D%203%3B%0A%20%20increment%28x%29%3B%0A%20%20return%200%3B%0A%7D&mode=edit&origin=opt-frontend.js&py=cpp_g%2B%2B9.3.0&rawInputLstJSON=%5B%5D) so that the local parameter points to the same location as the global parameter."
   ]
  }
 ],
 "metadata": {
  "kernelspec": {
   "display_name": "Python 3 (ipykernel)",
   "language": "python",
   "name": "python3"
  }
 },
 "nbformat": 4,
 "nbformat_minor": 5
}
