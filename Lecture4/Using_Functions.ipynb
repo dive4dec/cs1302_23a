{
 "cells": [
  {
   "cell_type": "markdown",
   "id": "5c0d732c",
   "metadata": {
    "slideshow": {
     "slide_type": "slide"
    }
   },
   "source": [
    "# Using Functions"
   ]
  },
  {
   "cell_type": "markdown",
   "id": "b752b55f",
   "metadata": {
    "slideshow": {
     "slide_type": "-"
    },
    "tags": [
     "remove-cell"
    ]
   },
   "source": [
    "CS1302 Introduction to Computer Programming\n",
    "___"
   ]
  },
  {
   "cell_type": "code",
   "execution_count": null,
   "id": "f97d9654",
   "metadata": {
    "slideshow": {
     "slide_type": "fragment"
    },
    "tags": [
     "remove-cell"
    ]
   },
   "outputs": [],
   "source": [
    "%reload_ext divewidgets"
   ]
  },
  {
   "cell_type": "markdown",
   "id": "a8d7ec4f",
   "metadata": {
    "slideshow": {
     "slide_type": "slide"
    }
   },
   "source": [
    "## Motivation"
   ]
  },
  {
   "cell_type": "markdown",
   "id": "ff87ebb3",
   "metadata": {
    "slideshow": {
     "slide_type": "fragment"
    }
   },
   "source": [
    "**How to reuse code so we can write less?**"
   ]
  },
  {
   "cell_type": "markdown",
   "id": "6156551d",
   "metadata": {
    "slideshow": {
     "slide_type": "fragment"
    }
   },
   "source": [
    "Writing a loop is a simple way of code reuse because a piece of code is executed multiple times, once for each iteration."
   ]
  },
  {
   "cell_type": "markdown",
   "id": "9d395906",
   "metadata": {
    "slideshow": {
     "slide_type": "fragment"
    }
   },
   "source": [
    "::::{important}\n",
    "\n",
    "*Code reuse* gives the code an elegant *structure* that\n",
    "- can be executed efficiently by a computer, and\n",
    "- *interpreted* easily by a programmer.\n",
    "::::"
   ]
  },
  {
   "cell_type": "markdown",
   "id": "f200216c",
   "metadata": {
    "slideshow": {
     "slide_type": "fragment"
    }
   },
   "source": [
    "**How to repeat execution at different times, in different programs, and in slightly different ways?**"
   ]
  },
  {
   "cell_type": "markdown",
   "id": "d84c7afc",
   "metadata": {
    "slideshow": {
     "slide_type": "slide"
    }
   },
   "source": [
    "## Functions"
   ]
  },
  {
   "cell_type": "markdown",
   "id": "bbcb2ae4",
   "metadata": {
    "slideshow": {
     "slide_type": "fragment"
    }
   },
   "source": [
    "**How to calculate the logarithm?**"
   ]
  },
  {
   "cell_type": "markdown",
   "id": "635be089",
   "metadata": {
    "slideshow": {
     "slide_type": "fragment"
    }
   },
   "source": [
    "There is no arithmetic operator for logarithm.  \n",
    "Do we have to implement it ourselves?"
   ]
  },
  {
   "cell_type": "markdown",
   "id": "da1e4213",
   "metadata": {
    "slideshow": {
     "slide_type": "subslide"
    }
   },
   "source": [
    "We can use the function `log` from the [`math` *module*](https://docs.python.org/3/library/math.html):"
   ]
  },
  {
   "cell_type": "code",
   "execution_count": null,
   "id": "873314e8",
   "metadata": {
    "slideshow": {
     "slide_type": "-"
    }
   },
   "outputs": [],
   "source": [
    "from math import log\n",
    "\n",
    "log(256, 2)  # log base 2 of 256"
   ]
  },
  {
   "cell_type": "markdown",
   "id": "2ea7e65e",
   "metadata": {
    "slideshow": {
     "slide_type": "fragment"
    }
   },
   "source": [
    "The above computes the base-$2$ logarithm, $\\log_2(256)$. Like functions in mathematics, a computer function `log` \n",
    "- is *called/invoked* with some input *arguments* `(256, 2)` following the function, and\n",
    "- *returns* an output value computed from the input arguments."
   ]
  },
  {
   "cell_type": "code",
   "execution_count": null,
   "id": "0fd54a3d",
   "metadata": {
    "slideshow": {
     "slide_type": "fragment"
    }
   },
   "outputs": [],
   "source": [
    "# A function is callable while an integer is not\n",
    "callable(log), callable(1)"
   ]
  },
  {
   "cell_type": "markdown",
   "id": "b9715fed",
   "metadata": {
    "slideshow": {
     "slide_type": "subslide"
    }
   },
   "source": [
    "Unlike mathematical functions:\n",
    "- A python function may require no arguments, but we still need to call it with `()`."
   ]
  },
  {
   "cell_type": "code",
   "execution_count": null,
   "id": "dcd39e8d",
   "metadata": {
    "slideshow": {
     "slide_type": "-"
    },
    "tags": [
     "remove-output"
    ]
   },
   "outputs": [],
   "source": [
    "input()"
   ]
  },
  {
   "cell_type": "markdown",
   "id": "7becf77c",
   "metadata": {
    "slideshow": {
     "slide_type": "fragment"
    }
   },
   "source": [
    "- A python function may have *side effects* and return the value `None`."
   ]
  },
  {
   "cell_type": "code",
   "execution_count": null,
   "id": "3359718c",
   "metadata": {
    "slideshow": {
     "slide_type": "-"
    }
   },
   "outputs": [],
   "source": [
    "x = print()\n",
    "print(x, \"of type\", type(x))"
   ]
  },
  {
   "cell_type": "markdown",
   "id": "54ba3900",
   "metadata": {
    "slideshow": {
     "slide_type": "fragment"
    }
   },
   "source": [
    "An argument of a function call can be any expression."
   ]
  },
  {
   "cell_type": "code",
   "execution_count": null,
   "id": "41de8f35",
   "metadata": {
    "slideshow": {
     "slide_type": "-"
    },
    "tags": [
     "remove-output"
    ]
   },
   "outputs": [],
   "source": [
    "print(\"1st input:\", input(), \"\\n2nd input:\", input())"
   ]
  },
  {
   "cell_type": "markdown",
   "id": "50cdfec2",
   "metadata": {
    "slideshow": {
     "slide_type": "fragment"
    }
   },
   "source": [
    "::::{note}\n",
    "\n",
    "- The argument can also be a function call like function composition in mathematics. \n",
    "- Before a function call is executed, its arguments are evaluated first from left to right.\n",
    "::::"
   ]
  },
  {
   "cell_type": "markdown",
   "id": "02fc2f0f",
   "metadata": {
    "slideshow": {
     "slide_type": "subslide"
    }
   },
   "source": [
    "**Why not implement logarithm yourself?**"
   ]
  },
  {
   "cell_type": "markdown",
   "id": "ac0ccc72",
   "metadata": {
    "slideshow": {
     "slide_type": "fragment"
    }
   },
   "source": [
    "- The function from standard library is efficiently implemented and thoroughly tested/documented.\n",
    "- Knowing what a function does is often insufficient for an efficient implementation.  \n",
    "    (See [how to calculate logarithm](https://en.wikipedia.org/wiki/Logarithm#Calculation) as an example.)"
   ]
  },
  {
   "cell_type": "markdown",
   "id": "1f5b05dc",
   "metadata": {
    "slideshow": {
     "slide_type": "fragment"
    }
   },
   "source": [
    "Indeed, the `math` library does not implement `log` itself:\n",
    "> **CPython implementation detail:** The `math` module consists mostly of thin *wrappers* around the platform C math library functions. - [pydoc last paragraph](https://docs.python.org/3/library/math.html)\n",
    "\n",
    "(See the [source code wrapper for `log`](https://github.com/python/cpython/blob/e5ab0b6aa68009a3f50b141ec013dacee3676db9/Modules/mathmodule.c#L757).)"
   ]
  },
  {
   "cell_type": "markdown",
   "id": "21e08e7c",
   "metadata": {
    "slideshow": {
     "slide_type": "subslide"
    }
   },
   "source": [
    "::::{exercise}\n",
    ":label: ex:function\n",
    "\n",
    "What is a function in programming?\n",
    "\n",
    "::::"
   ]
  },
  {
   "cell_type": "markdown",
   "id": "ab4ec5a1",
   "metadata": {
    "deletable": false,
    "nbgrader": {
     "cell_type": "markdown",
     "checksum": "14282d74b17eb5684868347d7230ab0e",
     "grade": true,
     "grade_id": "what-is-a-function",
     "locked": false,
     "points": 0,
     "schema_version": 3,
     "solution": true,
     "task": false
    },
    "slideshow": {
     "slide_type": "-"
    }
   },
   "source": [
    "YOUR ANSWER HERE"
   ]
  },
  {
   "cell_type": "markdown",
   "id": "ec76382e",
   "metadata": {
    "slideshow": {
     "slide_type": "slide"
    }
   },
   "source": [
    "## Import Functions from Modules"
   ]
  },
  {
   "cell_type": "markdown",
   "id": "80efe9d8",
   "metadata": {
    "slideshow": {
     "slide_type": "fragment"
    }
   },
   "source": [
    "**How to import functions?**"
   ]
  },
  {
   "cell_type": "markdown",
   "id": "295d4a44",
   "metadata": {
    "slideshow": {
     "slide_type": "fragment"
    }
   },
   "source": [
    "We can use the [`import` statement](https://docs.python.org/3/reference/simple_stmts.html#import) to import multiple functions into the program *global frame*."
   ]
  },
  {
   "cell_type": "code",
   "execution_count": null,
   "id": "ed5d53ec",
   "metadata": {
    "slideshow": {
     "slide_type": "-"
    }
   },
   "outputs": [],
   "source": [
    "%%optlite -h 300\n",
    "from math import ceil, log10\n",
    "\n",
    "x = 1234\n",
    "print(\"Number of digits of x:\", ceil(log10(x)))"
   ]
  },
  {
   "cell_type": "markdown",
   "id": "a035906c",
   "metadata": {
    "slideshow": {
     "slide_type": "fragment"
    }
   },
   "source": [
    "The above imports both the functions `log10` and `ceil` from `math` to compute the number $\\lceil \\log_{10}(x)\\rceil$ of digits of a *strictly positive* integer $x$."
   ]
  },
  {
   "cell_type": "markdown",
   "id": "8138f10c",
   "metadata": {
    "slideshow": {
     "slide_type": "subslide"
    }
   },
   "source": [
    "**How to import all functions from a library?**"
   ]
  },
  {
   "cell_type": "code",
   "execution_count": null,
   "id": "f2eb2358",
   "metadata": {
    "slideshow": {
     "slide_type": "fragment"
    }
   },
   "outputs": [],
   "source": [
    "%%optlite -h 300\n",
    "from math import *  # import all except names starting with an underscore\n",
    "\n",
    "print(\"{:.2f}, {:.2f}, {:.2f}\".format(sin(pi / 6), cos(pi / 3), tan(pi / 4)))"
   ]
  },
  {
   "cell_type": "markdown",
   "id": "197229f2",
   "metadata": {
    "slideshow": {
     "slide_type": "fragment"
    }
   },
   "source": [
    "The above uses the wildcard `*` to import ([nearly](https://docs.python.org/3/tutorial/modules.html#more-on-modules)) all the functions/variables provided in `math`."
   ]
  },
  {
   "cell_type": "markdown",
   "id": "9827ccaa",
   "metadata": {
    "slideshow": {
     "slide_type": "slide"
    }
   },
   "source": [
    "**What if different packages define the same function?**"
   ]
  },
  {
   "cell_type": "code",
   "execution_count": null,
   "id": "06a5749a",
   "metadata": {
    "slideshow": {
     "slide_type": "fragment"
    }
   },
   "outputs": [],
   "source": [
    "%%optlite -h 500\n",
    "print(\"{}\".format(pow(-1, 2)))\n",
    "print(\"{:.2f}\".format(pow(-1, 1 / 2)))\n",
    "from math import *\n",
    "\n",
    "print(\"{}\".format(pow(-1, 2)))\n",
    "print(\"{:.2f}\".format(pow(-1, 1 / 2)))"
   ]
  },
  {
   "cell_type": "markdown",
   "id": "a85252d1",
   "metadata": {
    "slideshow": {
     "slide_type": "fragment"
    }
   },
   "source": [
    "- The function `pow` imported from `math` overwrites the built-in function `pow`.  \n",
    "- Unlike the built-in function, `pow` from `math` returns only floats but not integers or complex numbers. \n",
    "- We say that the import statement *polluted the namespace of the global frame* and caused a *name collision*."
   ]
  },
  {
   "cell_type": "markdown",
   "id": "cc4d7a82",
   "metadata": {
    "slideshow": {
     "slide_type": "subslide"
    }
   },
   "source": [
    "**How to avoid name collisions?**"
   ]
  },
  {
   "cell_type": "code",
   "execution_count": null,
   "id": "17cd4129",
   "metadata": {
    "slideshow": {
     "slide_type": "-"
    }
   },
   "outputs": [],
   "source": [
    "%%optlite -h 350\n",
    "import math\n",
    "\n",
    "print(\"{:.2f}, {:.2f}\".format(math.pow(-1, 2), pow(-1, 1 / 2)))"
   ]
  },
  {
   "cell_type": "markdown",
   "id": "d819bd71",
   "metadata": {
    "slideshow": {
     "slide_type": "fragment"
    }
   },
   "source": [
    "We can use the full name (*fully-qualified name*) `math.pow` prefixed with the module name (and possibly package names containing the module)."
   ]
  },
  {
   "cell_type": "markdown",
   "id": "89b4cd14",
   "metadata": {
    "slideshow": {
     "slide_type": "subslide"
    }
   },
   "source": [
    "**Can we shorten a name?**"
   ]
  },
  {
   "cell_type": "markdown",
   "id": "7fbc3c8c",
   "metadata": {
    "slideshow": {
     "slide_type": "fragment"
    }
   },
   "source": [
    "The name of a library can be very long and there can be a hierarchical structure as well.  \n",
    "E.g., to plot a sequence using `pyplot` module from `matplotlib` package:"
   ]
  },
  {
   "cell_type": "code",
   "execution_count": null,
   "id": "b4e92535",
   "metadata": {
    "slideshow": {
     "slide_type": "-"
    }
   },
   "outputs": [],
   "source": [
    "%matplotlib widget\n",
    "import matplotlib.pyplot\n",
    "\n",
    "matplotlib.pyplot.stem([4, 3, 2, 1])\n",
    "matplotlib.pyplot.ylabel(r\"$x_n$\")\n",
    "matplotlib.pyplot.xlabel(r\"$n$\")\n",
    "matplotlib.pyplot.title(\"A sequence of numbers\")\n",
    "matplotlib.pyplot.show()"
   ]
  },
  {
   "cell_type": "markdown",
   "id": "d74144b7",
   "metadata": {
    "slideshow": {
     "slide_type": "fragment"
    }
   },
   "source": [
    "It is common to rename `matplotlib.pyplot` as `plt`:"
   ]
  },
  {
   "cell_type": "code",
   "execution_count": null,
   "id": "61f13980",
   "metadata": {
    "slideshow": {
     "slide_type": "-"
    }
   },
   "outputs": [],
   "source": [
    "import matplotlib.pyplot as plt\n",
    "\n",
    "plt.stem([4, 3, 2, 1])\n",
    "plt.ylabel(r\"$x_n$\")\n",
    "plt.xlabel(r\"$n$\")\n",
    "plt.title(\"A sequence of numbers\")\n",
    "plt.show()"
   ]
  },
  {
   "cell_type": "markdown",
   "id": "b1f74d99",
   "metadata": {
    "slideshow": {
     "slide_type": "subslide"
    }
   },
   "source": [
    "We can also rename a function as we import it to avoid name collision:"
   ]
  },
  {
   "cell_type": "code",
   "execution_count": null,
   "id": "e1fb91c5",
   "metadata": {
    "slideshow": {
     "slide_type": "fragment"
    }
   },
   "outputs": [],
   "source": [
    "from math import pow as fpow\n",
    "\n",
    "fpow(2, 2), pow(2, 2)"
   ]
  },
  {
   "cell_type": "markdown",
   "id": "d40dbb3c",
   "metadata": {
    "slideshow": {
     "slide_type": "subslide"
    }
   },
   "source": [
    "::::{exercise}\n",
    ":label: ex:name \n",
    "\n",
    "What is wrong with the following code?\n",
    "\n",
    "::::"
   ]
  },
  {
   "cell_type": "code",
   "execution_count": null,
   "id": "b3ef6b08",
   "metadata": {
    "slideshow": {
     "slide_type": "fragment"
    }
   },
   "outputs": [],
   "source": [
    "%%optlite -h 500\n",
    "import math as m\n",
    "\n",
    "for m in range(5):\n",
    "    m.pow(m, 2)"
   ]
  },
  {
   "cell_type": "markdown",
   "id": "f685e4d4",
   "metadata": {
    "deletable": false,
    "nbgrader": {
     "cell_type": "markdown",
     "checksum": "19569c7bfd49e9f4f471c78221131c1f",
     "grade": true,
     "grade_id": "name-conflict",
     "locked": false,
     "points": 0,
     "schema_version": 3,
     "solution": true,
     "task": false
    },
    "slideshow": {
     "slide_type": "-"
    }
   },
   "source": [
    "YOUR ANSWER HERE"
   ]
  },
  {
   "cell_type": "markdown",
   "id": "f15ee5d7",
   "metadata": {},
   "source": [
    "::::{exercise}\n",
    ":label: ex:label \n",
    "\n",
    "Use the `randint` function from `random` to simulate the rolling of a die, by printing a random integer from 1 to 6. \n",
    "\n",
    "::::"
   ]
  },
  {
   "cell_type": "code",
   "execution_count": null,
   "id": "8c24df9f",
   "metadata": {
    "deletable": false,
    "nbgrader": {
     "cell_type": "code",
     "checksum": "394f3f20ec67f7e053ad6866f04507c2",
     "grade": true,
     "grade_id": "random",
     "locked": false,
     "points": 0,
     "schema_version": 3,
     "solution": true,
     "task": false
    }
   },
   "outputs": [],
   "source": [
    "# YOUR CODE HERE\n",
    "raise NotImplementedError()"
   ]
  },
  {
   "cell_type": "markdown",
   "id": "7aa96137",
   "metadata": {
    "slideshow": {
     "slide_type": "slide"
    }
   },
   "source": [
    "## Built-in Functions"
   ]
  },
  {
   "cell_type": "markdown",
   "id": "b85ef0fc",
   "metadata": {
    "slideshow": {
     "slide_type": "fragment"
    }
   },
   "source": [
    "**How to learn more about a function such as `randint`?**"
   ]
  },
  {
   "cell_type": "markdown",
   "id": "f1ef511f",
   "metadata": {
    "slideshow": {
     "slide_type": "fragment"
    }
   },
   "source": [
    "There is a built-in function `help` for showing the *docstring* (documentation string)."
   ]
  },
  {
   "cell_type": "code",
   "execution_count": null,
   "id": "ae37d509",
   "metadata": {
    "slideshow": {
     "slide_type": "-"
    }
   },
   "outputs": [],
   "source": [
    "import random\n",
    "\n",
    "help(random.randint)  # random must be imported before"
   ]
  },
  {
   "cell_type": "code",
   "execution_count": null,
   "id": "5dff6dce",
   "metadata": {
    "slideshow": {
     "slide_type": "-"
    },
    "tags": [
     "output_scroll",
     "remove-output"
    ]
   },
   "outputs": [],
   "source": [
    "help(random)  # can also show the docstring of a module"
   ]
  },
  {
   "cell_type": "code",
   "execution_count": null,
   "id": "1f02f142",
   "metadata": {
    "tags": [
     "output_scroll",
     "remove-output"
    ]
   },
   "outputs": [],
   "source": [
    "help(help)"
   ]
  },
  {
   "cell_type": "markdown",
   "id": "df74b3ef",
   "metadata": {},
   "source": [
    "We can also print the source using the inspect module:"
   ]
  },
  {
   "cell_type": "code",
   "execution_count": null,
   "id": "8478072c",
   "metadata": {},
   "outputs": [],
   "source": [
    "import inspect\n",
    "\n",
    "print(inspect.getsource(random.randint))"
   ]
  },
  {
   "cell_type": "markdown",
   "id": "c4ed3964",
   "metadata": {
    "slideshow": {
     "slide_type": "subslide"
    }
   },
   "source": [
    "**Does built-in functions belong to a module?**"
   ]
  },
  {
   "cell_type": "markdown",
   "id": "088889e4",
   "metadata": {
    "slideshow": {
     "slide_type": "fragment"
    }
   },
   "source": [
    "Indeed, every function must come from a module."
   ]
  },
  {
   "cell_type": "code",
   "execution_count": null,
   "id": "5cbd6da2",
   "metadata": {
    "slideshow": {
     "slide_type": "-"
    }
   },
   "outputs": [],
   "source": [
    "__builtin__.print(\"I am from the __builtin__ module.\")"
   ]
  },
  {
   "cell_type": "markdown",
   "id": "ca5c80b3",
   "metadata": {
    "slideshow": {
     "slide_type": "fragment"
    }
   },
   "source": [
    "`__builtin__` module is automatically loaded because it provides functions that are commonly use for all programs."
   ]
  },
  {
   "cell_type": "markdown",
   "id": "568e0e61",
   "metadata": {
    "slideshow": {
     "slide_type": "subslide"
    }
   },
   "source": [
    "**How to list everything in a module?**"
   ]
  },
  {
   "cell_type": "markdown",
   "id": "92c7f046",
   "metadata": {
    "slideshow": {
     "slide_type": "fragment"
    }
   },
   "source": [
    "We can use the built-in function `dir` (*directory*)."
   ]
  },
  {
   "cell_type": "code",
   "execution_count": null,
   "id": "ad22f96e",
   "metadata": {
    "slideshow": {
     "slide_type": "-"
    },
    "tags": [
     "output_scroll",
     "remove-output"
    ]
   },
   "outputs": [],
   "source": [
    "dir(__builtin__)"
   ]
  },
  {
   "cell_type": "markdown",
   "id": "6a35b8b9",
   "metadata": {
    "slideshow": {
     "slide_type": "subslide"
    }
   },
   "source": [
    "::::{exercise}\n",
    ":label: ex:dir \n",
    "\n",
    "We can also call `dir` without arguments. What does it print?\n",
    "\n",
    "::::\n",
    "\n",
    "::::{hint}\n",
    "Try `help(dir)` or `dir?` in jupyter notebook.\n",
    "::::"
   ]
  },
  {
   "cell_type": "code",
   "execution_count": null,
   "id": "e2275c56",
   "metadata": {
    "slideshow": {
     "slide_type": "-"
    },
    "tags": [
     "output_scroll",
     "remove-output"
    ]
   },
   "outputs": [],
   "source": [
    "dir()"
   ]
  },
  {
   "cell_type": "code",
   "execution_count": null,
   "id": "78341b72",
   "metadata": {},
   "outputs": [],
   "source": [
    "dir?"
   ]
  },
  {
   "cell_type": "markdown",
   "id": "641f77ac",
   "metadata": {
    "deletable": false,
    "nbgrader": {
     "cell_type": "markdown",
     "checksum": "4d8dc105fcc4543e2dde58060672b84f",
     "grade": true,
     "grade_id": "dir",
     "locked": false,
     "points": 0,
     "schema_version": 3,
     "solution": true,
     "task": false
    },
    "slideshow": {
     "slide_type": "-"
    }
   },
   "source": [
    "YOUR ANSWER HERE"
   ]
  }
 ],
 "metadata": {
  "kernelspec": {
   "display_name": "Python 3 (ipykernel)",
   "language": "python",
   "name": "python3"
  }
 },
 "nbformat": 4,
 "nbformat_minor": 5
}
