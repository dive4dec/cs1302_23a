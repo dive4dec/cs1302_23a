{
 "cells": [
  {
   "cell_type": "markdown",
   "id": "b2192f5d",
   "metadata": {
    "slideshow": {
     "slide_type": "slide"
    }
   },
   "source": [
    "# Values and Variables"
   ]
  },
  {
   "cell_type": "markdown",
   "id": "8b9e7937",
   "metadata": {
    "slideshow": {
     "slide_type": "-"
    },
    "tags": [
     "remove-cell"
    ]
   },
   "source": [
    "CS1302 Introduction to Computer Programming\n",
    "___"
   ]
  },
  {
   "cell_type": "code",
   "execution_count": null,
   "id": "ec45b361",
   "metadata": {
    "slideshow": {
     "slide_type": "fragment"
    },
    "tags": [
     "remove-cell"
    ]
   },
   "outputs": [],
   "source": [
    "import sys  # to access system-specific parameters\n",
    "\n",
    "from ipywidgets import interact  # for interactive user interface controls\n",
    "\n",
    "%reload_ext divewidgets\n",
    "# use OPTLite to visualize code execution"
   ]
  },
  {
   "cell_type": "markdown",
   "id": "82f78e5c",
   "metadata": {},
   "source": [
    "## Values"
   ]
  },
  {
   "cell_type": "markdown",
   "id": "c6e877f2",
   "metadata": {},
   "source": [
    "Programming is the art of instructing a computer to perform tasks by manipulating data, which is represented as values. In mathematical terms, a computer is a model of how values are stored and manipulated. Values are the building blocks of programs, and they represent a specific piece of data that can be manipulated in various ways.\n",
    "\n",
    "While a machine language only uses binary numbers as values, higher-level programming languages provide more flexible and expressive ways to represent and manipulate values. Understanding the concept of value is crucial in programming, as it is the foundation upon which all computations are built."
   ]
  },
  {
   "cell_type": "markdown",
   "id": "4e35dc3c",
   "metadata": {
    "slideshow": {
     "slide_type": "slide"
    }
   },
   "source": [
    "### Integers"
   ]
  },
  {
   "cell_type": "markdown",
   "id": "862ab102",
   "metadata": {},
   "source": [
    "In Python, we can enter an [integer](https://docs.python.org/3/reference/lexical_analysis.html#integer-literals) in different number systems other than the binary one:"
   ]
  },
  {
   "cell_type": "code",
   "execution_count": null,
   "id": "5da7390c",
   "metadata": {
    "slideshow": {
     "slide_type": "fragment"
    }
   },
   "outputs": [],
   "source": [
    "# in decimal (base 10)\n",
    "15"
   ]
  },
  {
   "cell_type": "code",
   "execution_count": null,
   "id": "89145d39",
   "metadata": {
    "slideshow": {
     "slide_type": "-"
    }
   },
   "outputs": [],
   "source": [
    "# in binary (base 2)\n",
    "0b1111"
   ]
  },
  {
   "cell_type": "code",
   "execution_count": null,
   "id": "ecea212a",
   "metadata": {},
   "outputs": [],
   "source": [
    "# in octadecimal (base 8)\n",
    "0o17"
   ]
  },
  {
   "cell_type": "code",
   "execution_count": null,
   "id": "06a0181c",
   "metadata": {
    "slideshow": {
     "slide_type": "-"
    }
   },
   "outputs": [],
   "source": [
    "# in hexadecimal (base 16)\n",
    "0xF"
   ]
  },
  {
   "cell_type": "markdown",
   "id": "ed5bfe12",
   "metadata": {
    "slideshow": {
     "slide_type": "fragment"
    }
   },
   "source": [
    "::::{important}\n",
    "\n",
    "- All the above expressions are *integer literals*, namely, integers written out literally.\n",
    "- All of the integer literals have the same value, which is displayed by Jupyter Notebook in the outputs as the decimal number 15.\n",
    "\n",
    "::::"
   ]
  },
  {
   "cell_type": "markdown",
   "id": "3bcb0b29",
   "metadata": {},
   "source": [
    "There are also expressions with integer values but are not integer literal:"
   ]
  },
  {
   "cell_type": "code",
   "execution_count": null,
   "id": "a39a954e",
   "metadata": {
    "slideshow": {
     "slide_type": "fragment"
    }
   },
   "outputs": [],
   "source": [
    "4 + 5 + 6"
   ]
  },
  {
   "cell_type": "markdown",
   "id": "d53a849c",
   "metadata": {
    "slideshow": {
     "slide_type": "subslide"
    }
   },
   "source": [
    "::::{exercise} big integer\n",
    ":label: ex:big-integer\n",
    "\n",
    "Enter an expression that evaluates to an integer value, as big as possible.\n",
    "\n",
    ":::{hint}\n",
    ":class: dropdown\n",
    "\n",
    "Is there a maximum value for an integer for Python3?\n",
    "See the [documentation](https://docs.python.org/3.1/whatsnew/3.0.html#integers) about `sys.maxint`.\n",
    ":::\n",
    "\n",
    "::::"
   ]
  },
  {
   "cell_type": "code",
   "execution_count": null,
   "id": "0b1b946e",
   "metadata": {
    "deletable": false,
    "nbgrader": {
     "cell_type": "code",
     "checksum": "d6ce032e84f49cd962816c07606a6ff4",
     "grade": true,
     "grade_id": "big-int",
     "locked": false,
     "points": 0,
     "schema_version": 3,
     "solution": true,
     "task": false
    },
    "slideshow": {
     "slide_type": "-"
    },
    "tags": [
     "remove-output"
    ]
   },
   "outputs": [],
   "source": [
    "# YOUR CODE HERE\n",
    "raise NotImplementedError()"
   ]
  },
  {
   "cell_type": "markdown",
   "id": "e2d04f31",
   "metadata": {
    "slideshow": {
     "slide_type": "slide"
    }
   },
   "source": [
    "### Strings"
   ]
  },
  {
   "cell_type": "markdown",
   "id": "b023fe15",
   "metadata": {},
   "source": [
    "A string value is a sequence of characters that can be written literally using quotes:"
   ]
  },
  {
   "cell_type": "code",
   "execution_count": null,
   "id": "237dca2c",
   "metadata": {
    "slideshow": {
     "slide_type": "fragment"
    }
   },
   "outputs": [],
   "source": [
    "# single quote\n",
    "print('\\U0001f600:\\n\\tI\\'m a string.')"
   ]
  },
  {
   "cell_type": "code",
   "execution_count": null,
   "id": "7dc97804",
   "metadata": {
    "slideshow": {
     "slide_type": "fragment"
    }
   },
   "outputs": [],
   "source": [
    "# double quote\n",
    "print(\"\\N{grinning face}:\\n\\tI'm a string.\")"
   ]
  },
  {
   "cell_type": "code",
   "execution_count": null,
   "id": "fd837a4c",
   "metadata": {
    "slideshow": {
     "slide_type": "fragment"
    }
   },
   "outputs": [],
   "source": [
    "# triple double quote\n",
    "print(\n",
    "    \"\"\"😀:\n",
    "\tI'm a string.\"\"\"\n",
    ")"
   ]
  },
  {
   "cell_type": "markdown",
   "id": "b376fc8d",
   "metadata": {},
   "source": [
    ":::::{note}\n",
    "\n",
    "All the literals represent the same value:\n",
    "\n",
    "::::{grid} 1 1 2 2\n",
    "\n",
    ":::{card}\n",
    ":header: escape sequence\n",
    "\n",
    "`\\U0001f600` and `\\N{grinning face}` are *escape sequences* representing the same grinning face emoji 😀 where\n",
    "\n",
    "- `0001f600` is the unicode in hexadecimal,\n",
    "- `grinning face` is the [name][CLDR], and\n",
    "- `\\` is called the *escape symbol*.\n",
    "\n",
    "[CLDR]: https://unicode.org/emoji/charts/full-emoji-list.html\n",
    "\n",
    ":::\n",
    "\n",
    ":::{card}\n",
    ":header: control code\n",
    "\n",
    "`\\n` and `\\t` are *control code* that does not represent any symbol.\n",
    "- `\\n` creates a new line when printing the string.  \n",
    "- `\\t` creates a tab to indent the line.\n",
    "\n",
    ":::\n",
    "\n",
    "::::\n",
    "\n",
    ":::::"
   ]
  },
  {
   "cell_type": "markdown",
   "id": "759837e0",
   "metadata": {},
   "source": [
    "With Python, there are often many ways to do the same thing. \n",
    "The following one-line code ([one-liner](https://en.wikipedia.org/wiki/One-liner_program)) also prints the multiple lines of strings:"
   ]
  },
  {
   "cell_type": "code",
   "execution_count": null,
   "id": "2cc05785",
   "metadata": {},
   "outputs": [],
   "source": [
    "print(\"\\N{grinning face}:\", \"\\tI'm a string.\", sep=\"\\n\")  # one liner"
   ]
  },
  {
   "cell_type": "markdown",
   "id": "d5bbc563",
   "metadata": {
    "slideshow": {
     "slide_type": "subslide"
    }
   },
   "source": [
    "::::{note}\n",
    "\n",
    "- `sep=\"\\n\"` is a *keyword argument* that specifies the separator of the list of strings.\n",
    "- By default, `sep=\" \"`, a single space character.\n",
    "\n",
    ":::{tip}\n",
    "\n",
    "We can get the *docstring* (document string) of a function conveniently using the symbol `?`.\n",
    "\n",
    "```python\n",
    "print?\n",
    "```\n",
    "\n",
    "You can also use the contextual help by placing the cursor over a function name and click the menu item `Help`$\\to$`Show Contextual Help` or short-cut key `Shift-Tab`.\n",
    "\n",
    "\n",
    "\n",
    ":::\n",
    "\n",
    "::::"
   ]
  },
  {
   "cell_type": "markdown",
   "id": "5b9d01a9",
   "metadata": {},
   "source": [
    "What are benefits of allowing single, double, and triple quotes for string literals?"
   ]
  },
  {
   "cell_type": "markdown",
   "id": "f9eb49a6",
   "metadata": {
    "slideshow": {
     "slide_type": "fragment"
    }
   },
   "source": [
    "- By using double quotes, we don't need to escape the single quote in strings such as \"I'm\".\n",
    "- Triple quotes enable a multi-line string literal to include the newline character directly, resulting in a more readable representation of the literal."
   ]
  },
  {
   "cell_type": "markdown",
   "id": "331aafe4",
   "metadata": {
    "slideshow": {
     "slide_type": "subslide"
    }
   },
   "source": [
    "::::{exercise} multi-line string\n",
    ":label: multi-line\n",
    "\n",
    "Print a cool multi-line string below.\n",
    "\n",
    ":::{seealso}\n",
    ":class: dropdown\n",
    "\n",
    "- `art`: <https://www.ascii-art.site>\n",
    "- `bashplotlib`: <https://github.com/glamp/bashplotlib>\n",
    "- Star Wars via Telnet: <http://asciimation.co.nz/>\n",
    "\n",
    ":::\n",
    "\n",
    "::::"
   ]
  },
  {
   "cell_type": "code",
   "execution_count": null,
   "id": "50db72a7",
   "metadata": {
    "deletable": false,
    "nbgrader": {
     "cell_type": "code",
     "checksum": "8768be1d510ea6cc2305f282e0d8c402",
     "grade": true,
     "grade_id": "multi-line",
     "locked": false,
     "points": 0,
     "schema_version": 3,
     "solution": true,
     "task": false
    },
    "slideshow": {
     "slide_type": "-"
    }
   },
   "outputs": [],
   "source": [
    "# YOUR CODE HERE\n",
    "raise NotImplementedError()"
   ]
  },
  {
   "cell_type": "markdown",
   "id": "9cac7183",
   "metadata": {
    "slideshow": {
     "slide_type": "subslide"
    }
   },
   "source": [
    "### User Input"
   ]
  },
  {
   "cell_type": "markdown",
   "id": "bb1e131e",
   "metadata": {},
   "source": [
    "Instead of entering a value in a program, a programmer can get user input values at *runtime*, i.e., as a program executes:"
   ]
  },
  {
   "cell_type": "code",
   "execution_count": null,
   "id": "e571471a",
   "metadata": {
    "slideshow": {
     "slide_type": "-"
    },
    "tags": [
     "remove-output"
    ]
   },
   "outputs": [],
   "source": [
    "print(\"Your name is\", input(\"Please input your name: \"))"
   ]
  },
  {
   "cell_type": "markdown",
   "id": "e7490a49",
   "metadata": {
    "slideshow": {
     "slide_type": "fragment"
    }
   },
   "source": [
    ":::{note}\n",
    "\n",
    "- The `input` method prints its argument, if any, as a [prompt](https://en.wikipedia.org/wiki/Command-line_interface#Command_prompt).  \n",
    "- The method takes user's input and *returns* it as a string.\n",
    "- There is no need to delimit the input string by quotation marks. Simply press `enter` after typing a string.\n",
    "\n",
    "\n",
    ":::"
   ]
  },
  {
   "cell_type": "markdown",
   "id": "67c98b7d",
   "metadata": {
    "slideshow": {
     "slide_type": "subslide"
    }
   },
   "source": [
    "::::{exercise}\n",
    ":label: ex:print-returns-none\n",
    "\n",
    "Explain whether the following code prints `'My name is Python'`. Does `print` return a value? \n",
    "::::"
   ]
  },
  {
   "cell_type": "code",
   "execution_count": null,
   "id": "660f28e9",
   "metadata": {
    "slideshow": {
     "slide_type": "-"
    }
   },
   "outputs": [],
   "source": [
    "print(\"My name is\", print(\"Python\"))"
   ]
  },
  {
   "cell_type": "markdown",
   "id": "abec81f3",
   "metadata": {
    "deletable": false,
    "nbgrader": {
     "cell_type": "markdown",
     "checksum": "b46e46183a992620cdad06cf2e6ac08d",
     "grade": true,
     "grade_id": "print-returns-none",
     "locked": false,
     "points": 0,
     "schema_version": 3,
     "solution": true,
     "task": false
    },
    "slideshow": {
     "slide_type": "-"
    }
   },
   "source": [
    "YOUR ANSWER HERE"
   ]
  },
  {
   "cell_type": "markdown",
   "id": "2317fee8",
   "metadata": {},
   "source": [
    "## Variables"
   ]
  },
  {
   "cell_type": "markdown",
   "id": "04c7e474",
   "metadata": {},
   "source": [
    "To perform complex computations, computers require data to be stored in memory and accessed through addresses. This is where variables come in - they serve as a simplified storage unit that abstracts away the complexities of memory addressing and value storage. With variables, programmers can assign a meaningful name and a value of various types without having to worry about the underlying memory addresses and binary interpretations. This simplifies the programming process and enables developers to focus on the logic of their code, rather than the intricacies of memory management."
   ]
  },
  {
   "cell_type": "markdown",
   "id": "ec0ddd91",
   "metadata": {
    "slideshow": {
     "slide_type": "slide"
    }
   },
   "source": [
    "### Assignment"
   ]
  },
  {
   "cell_type": "markdown",
   "id": "67f8c49d",
   "metadata": {
    "slideshow": {
     "slide_type": "subslide"
    }
   },
   "source": [
    "To define a variable, we can use the assignment operator `=` as follows:"
   ]
  },
  {
   "cell_type": "code",
   "execution_count": null,
   "id": "9299f313",
   "metadata": {
    "slideshow": {
     "slide_type": "fragment"
    }
   },
   "outputs": [],
   "source": [
    "x = 15\n",
    "print(x)"
   ]
  },
  {
   "cell_type": "markdown",
   "id": "f51cd925",
   "metadata": {
    "slideshow": {
     "slide_type": "subslide"
    }
   },
   "source": [
    "::::{caution} Assignment vs equality\n",
    "\n",
    "An assignment operation `x = 15` is different from\n",
    "- a statement of equality that $x$ is equal to 15, or\n",
    "- a definition that $x$ is defined to be $15$.\n",
    "\n",
    "::::"
   ]
  },
  {
   "cell_type": "markdown",
   "id": "9fadd619",
   "metadata": {
    "slideshow": {
     "slide_type": "subslide"
    }
   },
   "source": [
    "To understand the difference, let's see the effect of the following assignments step-by-step using OPTLite:"
   ]
  },
  {
   "cell_type": "code",
   "execution_count": null,
   "id": "bb27652b",
   "metadata": {
    "slideshow": {
     "slide_type": "-"
    }
   },
   "outputs": [],
   "source": [
    "%%optlite -h 300\n",
    "x = 15\n",
    "x = x + 1"
   ]
  },
  {
   "cell_type": "markdown",
   "id": "4b9128a8",
   "metadata": {},
   "source": [
    "In the second line, the value of `x` is incremented, i.e., increased by `1`. It would not make sense to say $x$ is equal to or defined to be $x + 1$, since no choices of $x$ (other than $\\infty$) satisfy this."
   ]
  },
  {
   "cell_type": "markdown",
   "id": "edd1ed17",
   "metadata": {
    "slideshow": {
     "slide_type": "subslide"
    }
   },
   "source": [
    "It is possible to assign different values to multiple variables in one line using the so-called *tuple assignment* syntax:"
   ]
  },
  {
   "cell_type": "code",
   "execution_count": null,
   "id": "cea48e44",
   "metadata": {
    "slideshow": {
     "slide_type": "-"
    }
   },
   "outputs": [],
   "source": [
    "%%optlite -h 300\n",
    "x, y, z = \"15\", \"30\", 15"
   ]
  },
  {
   "cell_type": "markdown",
   "id": "9cd82c08",
   "metadata": {
    "slideshow": {
     "slide_type": "fragment"
    }
   },
   "source": [
    "One can also assign the same value to different variables in one line using a *chained assignment*:"
   ]
  },
  {
   "cell_type": "code",
   "execution_count": null,
   "id": "9e834ef3",
   "metadata": {
    "slideshow": {
     "slide_type": "-"
    }
   },
   "outputs": [],
   "source": [
    "%%optlite -h 300\n",
    "x = y = z = 0"
   ]
  },
  {
   "cell_type": "markdown",
   "id": "d56dc367",
   "metadata": {
    "slideshow": {
     "slide_type": "subslide"
    }
   },
   "source": [
    "Once defined, variables can be deleted using `del`. Accessing a variable not assigned any value raises an error."
   ]
  },
  {
   "cell_type": "code",
   "execution_count": null,
   "id": "5e13ced5",
   "metadata": {},
   "outputs": [],
   "source": [
    "%%optlite -h 350\n",
    "x = y = 0\n",
    "del x, y\n",
    "x, y"
   ]
  },
  {
   "cell_type": "markdown",
   "id": "dc01d4da",
   "metadata": {
    "slideshow": {
     "slide_type": "slide"
    }
   },
   "source": [
    "### Identifiers"
   ]
  },
  {
   "cell_type": "markdown",
   "id": "e82bd59c",
   "metadata": {},
   "source": [
    "In Python, *identifiers* such as variable names are case sensitive, unlike older languages such as Pascal and Fortran. Furthermore, not all strings are valid identifiers:"
   ]
  },
  {
   "cell_type": "markdown",
   "id": "f2aa69ab",
   "metadata": {
    "slideshow": {
     "slide_type": "fragment"
    }
   },
   "source": [
    "::::{card} \n",
    ":header: What is the syntax for identifiers?\n",
    "\n",
    "1. Must start with a letter or `_` (an underscore) followed by letters, digits, or `_`.\n",
    "1. Must not be a [keyword](https://docs.python.org/3.7/reference/lexical_analysis.html#keywords) reserved by python:\n",
    "\n",
    "    ```python\n",
    "    False      await      else       import     pass\n",
    "    None       break      except     in         raise\n",
    "    True       class      finally    is         return\n",
    "    and        continue   for        lambda     try\n",
    "    as         def        from       nonlocal   while\n",
    "    assert     del        global     not        with\n",
    "    async      elif       if         or         yield\n",
    "    ```\n",
    "\n",
    "::::"
   ]
  },
  {
   "cell_type": "markdown",
   "id": "4e6ab1d6",
   "metadata": {
    "slideshow": {
     "slide_type": "fragment"
    }
   },
   "source": [
    "::::{exercise}\n",
    ":label: ex:identifiers-syntax\n",
    "\n",
    "Evaluate the following cell and check if any of the rules above is violated.\n",
    "\n",
    ":::{note}\n",
    "The code uses `interact` imported at the beginning of the notebook with:\n",
    "````python\n",
    "from ipywidgets import interact\n",
    "````\n",
    ":::\n",
    "\n",
    ":::{hint}\n",
    ":class: dropdown\n",
    "\n",
    "- `del` is a keyword and `Del` is not because identifiers are case sensitive.\n",
    "- Function names such as `print`, `input`, `type`, etc., are not keywords and can be reassigned.  \n",
    "  This can be useful if you want to modify the default implementations without changing their source code.\n",
    ":::\n",
    "\n",
    "::::"
   ]
  },
  {
   "cell_type": "code",
   "execution_count": null,
   "id": "2dfea383",
   "metadata": {
    "code_folding": [],
    "slideshow": {
     "slide_type": "-"
    }
   },
   "outputs": [],
   "source": [
    "@interact\n",
    "def identifier_syntax(\n",
    "    assignment=[\n",
    "        \"a-number = 15\",\n",
    "        \"a_number = 15\",\n",
    "        \"15 = 15\",\n",
    "        \"_15 = 15\",\n",
    "        \"del = 15\",\n",
    "        \"Del = 15\",\n",
    "        \"type = print\",\n",
    "        \"print = type\",\n",
    "        \"input = print\",\n",
    "    ]\n",
    "):\n",
    "    exec(assignment)\n",
    "    print(\"Ok.\")"
   ]
  },
  {
   "cell_type": "markdown",
   "id": "3ec04c53",
   "metadata": {
    "deletable": false,
    "nbgrader": {
     "cell_type": "markdown",
     "checksum": "5ecc235f0ae5be5c77beeed2f6b6dd2e",
     "grade": true,
     "grade_id": "invalid-identifiers",
     "locked": false,
     "points": 0,
     "schema_version": 3,
     "solution": true,
     "task": false
    },
    "slideshow": {
     "slide_type": "-"
    }
   },
   "source": [
    "YOUR ANSWER HERE"
   ]
  },
  {
   "cell_type": "markdown",
   "id": "cbcf07c1",
   "metadata": {
    "slideshow": {
     "slide_type": "-"
    }
   },
   "source": [
    "::::{seealso}\n",
    "\n",
    "To help make the code more readable, programmers follow additional style guides such as [Python Enhancement Proposals (PEP) 8](https://www.python.org/dev/peps/pep-0008/#function-and-variable-names):\n",
    "- Function names should be lowercase, with words separated by underscores as necessary to improve readability.  \n",
    "- Variable names follow the same convention as function names.\n",
    "\n",
    "::::"
   ]
  },
  {
   "cell_type": "markdown",
   "id": "32588a3f",
   "metadata": {
    "slideshow": {
     "slide_type": "slide"
    }
   },
   "source": [
    "### Type Conversion"
   ]
  },
  {
   "cell_type": "markdown",
   "id": "51c1261b",
   "metadata": {
    "slideshow": {
     "slide_type": "subslide"
    }
   },
   "source": [
    "The following program tries to compute the sum of two numbers from user inputs:"
   ]
  },
  {
   "cell_type": "code",
   "execution_count": null,
   "id": "8f42b07c",
   "metadata": {
    "slideshow": {
     "slide_type": "-"
    },
    "tags": [
     "remove-output"
    ]
   },
   "outputs": [],
   "source": [
    "num1 = input(\"Please input an integer: \")\n",
    "num2 = input(\"Please input another integer: \")\n",
    "print(num1, \"+\", num2, \"is equal to\", num1 + num2)"
   ]
  },
  {
   "cell_type": "markdown",
   "id": "941f8a52",
   "metadata": {
    "slideshow": {
     "slide_type": "fragment"
    }
   },
   "source": [
    "::::{exercise}\n",
    ":label: ex:bug\n",
    "\n",
    "Unfortunately, there is a [bug](https://en.wikipedia.org/wiki/Software_bug) in the above code. Can you locate the error?\n",
    "\n",
    "::::"
   ]
  },
  {
   "cell_type": "markdown",
   "id": "e129bd92",
   "metadata": {
    "deletable": false,
    "nbgrader": {
     "cell_type": "markdown",
     "checksum": "5242ad43e12cfbc589a2f021142b56f4",
     "grade": true,
     "grade_id": "cell-d1d22bc89eb9f7b6",
     "locked": false,
     "points": 0,
     "schema_version": 3,
     "solution": true,
     "task": false
    },
    "slideshow": {
     "slide_type": "-"
    }
   },
   "source": [
    "YOUR ANSWER HERE"
   ]
  },
  {
   "cell_type": "markdown",
   "id": "605ba94c",
   "metadata": {
    "slideshow": {
     "slide_type": "subslide"
    }
   },
   "source": [
    "`input` *returns* user input as a string.  E.g., if the user enters `12`, the input is\n",
    "- not treated as the integer twelve, but rather\n",
    "- treated as a string containing two characters, one followed by two."
   ]
  },
  {
   "cell_type": "markdown",
   "id": "fe4f886f",
   "metadata": {
    "slideshow": {
     "slide_type": "fragment"
    }
   },
   "source": [
    "To confirm this, we can use `type` to return the data type of an expression."
   ]
  },
  {
   "cell_type": "code",
   "execution_count": null,
   "id": "9f78aab8",
   "metadata": {
    "slideshow": {
     "slide_type": "-"
    },
    "tags": [
     "remove-output"
    ]
   },
   "outputs": [],
   "source": [
    "num1 = input(\"Please input an integer: \")\n",
    "print(\"Your input is\", num1, \"with type\", type(num1))"
   ]
  },
  {
   "cell_type": "markdown",
   "id": "831d7cec",
   "metadata": {
    "slideshow": {
     "slide_type": "subslide"
    }
   },
   "source": [
    "::::{exercise}\n",
    "\n",
    "`type` can apply to any expressions. Try it out below.\n",
    "\n",
    "::::"
   ]
  },
  {
   "cell_type": "code",
   "execution_count": null,
   "id": "9ebd930a",
   "metadata": {
    "deletable": false,
    "nbgrader": {
     "cell_type": "code",
     "checksum": "943fc9cf3dea00f3a08ae5e092f43f07",
     "grade": true,
     "grade_id": "type",
     "locked": false,
     "points": 0,
     "schema_version": 3,
     "solution": true,
     "task": false
    },
    "slideshow": {
     "slide_type": "-"
    }
   },
   "outputs": [],
   "source": [
    "# YOUR CODE HERE\n",
    "raise NotImplementedError()"
   ]
  },
  {
   "cell_type": "markdown",
   "id": "665d970f",
   "metadata": {
    "slideshow": {
     "slide_type": "subslide"
    }
   },
   "source": [
    "What happens when we add strings together?"
   ]
  },
  {
   "cell_type": "code",
   "execution_count": null,
   "id": "0fc11efa",
   "metadata": {
    "slideshow": {
     "slide_type": "-"
    }
   },
   "outputs": [],
   "source": [
    "\"4\" + \"5\" + \"6\""
   ]
  },
  {
   "cell_type": "markdown",
   "id": "f8bc5162",
   "metadata": {
    "slideshow": {
     "slide_type": "fragment"
    }
   },
   "source": [
    "How to fix the bug then?"
   ]
  },
  {
   "cell_type": "markdown",
   "id": "32c42fcb",
   "metadata": {
    "slideshow": {
     "slide_type": "fragment"
    }
   },
   "source": [
    "We can convert a string to an integer using `int`."
   ]
  },
  {
   "cell_type": "code",
   "execution_count": null,
   "id": "fc611150",
   "metadata": {
    "slideshow": {
     "slide_type": "-"
    }
   },
   "outputs": [],
   "source": [
    "int(\"4\") + int(\"5\") + int(\"6\")"
   ]
  },
  {
   "cell_type": "markdown",
   "id": "777af3b8",
   "metadata": {
    "slideshow": {
     "slide_type": "fragment"
    }
   },
   "source": [
    "We can also convert an integer to a string using `str`."
   ]
  },
  {
   "cell_type": "code",
   "execution_count": null,
   "id": "075f98c6",
   "metadata": {
    "slideshow": {
     "slide_type": "-"
    }
   },
   "outputs": [],
   "source": [
    "str(4) + str(5) + str(6)"
   ]
  },
  {
   "cell_type": "markdown",
   "id": "97bc3ed4",
   "metadata": {
    "slideshow": {
     "slide_type": "subslide"
    }
   },
   "source": [
    "::::{exercise}\n",
    ":label: ex:fix\n",
    "\n",
    "Fix the bug in the following cell.\n",
    "::::"
   ]
  },
  {
   "cell_type": "code",
   "execution_count": null,
   "id": "612e16cd",
   "metadata": {
    "deletable": false,
    "nbgrader": {
     "cell_type": "code",
     "checksum": "f4a354972c9a6783c5917bdb8dd7d6b6",
     "grade": false,
     "grade_id": "string-concat-bug",
     "locked": false,
     "schema_version": 3,
     "solution": true,
     "task": false
    },
    "slideshow": {
     "slide_type": "-"
    },
    "tags": [
     "remove-output"
    ]
   },
   "outputs": [],
   "source": [
    "num1 = input(\"Please input an integer: \")\n",
    "num2 = input(\"Please input another integer: \")\n",
    "# print(num1, '+', num2, 'is equal to', num1 + num2)  # fix this line below\n",
    "# YOUR CODE HERE\n",
    "raise NotImplementedError()"
   ]
  },
  {
   "cell_type": "markdown",
   "id": "0cacbde0",
   "metadata": {
    "slideshow": {
     "slide_type": "slide"
    }
   },
   "source": [
    "### Error types"
   ]
  },
  {
   "cell_type": "markdown",
   "id": "27c430de",
   "metadata": {
    "slideshow": {
     "slide_type": "fragment"
    }
   },
   "source": [
    "In addition to writing code, a programmer spends significant time in *debugging* code that contains errors."
   ]
  },
  {
   "cell_type": "markdown",
   "id": "928c1501",
   "metadata": {
    "slideshow": {
     "slide_type": "fragment"
    }
   },
   "source": [
    "**Can an error be automatically detected by the computer?**"
   ]
  },
  {
   "cell_type": "markdown",
   "id": "fc4dc769",
   "metadata": {
    "slideshow": {
     "slide_type": "fragment"
    }
   },
   "source": [
    "- You have just seen an example of *logical error*, which is due to an error in the logic.  \n",
    "- The ability to debug or even detect such error is, unfortunately, beyond python's intelligence."
   ]
  },
  {
   "cell_type": "markdown",
   "id": "13a7524c",
   "metadata": {
    "slideshow": {
     "slide_type": "fragment"
    }
   },
   "source": [
    "Other kinds of error may be detected automatically.  \n",
    "As an example, note that we can omit `+` for string concatenation, but we cannot omit it for integer summation:"
   ]
  },
  {
   "cell_type": "code",
   "execution_count": null,
   "id": "00edccdf",
   "metadata": {
    "slideshow": {
     "slide_type": "fragment"
    }
   },
   "outputs": [],
   "source": [
    "print(\"Skipping + for string concatenation\")\n",
    "\"4\" \"5\" \"6\")"
   ]
  },
  {
   "cell_type": "code",
   "execution_count": null,
   "id": "ae66d82d",
   "metadata": {
    "slideshow": {
     "slide_type": "-"
    }
   },
   "outputs": [],
   "source": [
    "print('Skipping + for integer summation')\n",
    "4 5 6"
   ]
  },
  {
   "cell_type": "markdown",
   "id": "96733f4b",
   "metadata": {
    "slideshow": {
     "slide_type": "fragment"
    }
   },
   "source": [
    "Python interpreter detects the bug and raises a *syntax* error."
   ]
  },
  {
   "cell_type": "markdown",
   "id": "14c4636e",
   "metadata": {
    "slideshow": {
     "slide_type": "fragment"
    }
   },
   "source": [
    "::::{card}\n",
    ":header: Why Syntax error can be detected automatically? <br> Why is the print statement before the error not executed?\n",
    "\n",
    "- The Python interpreter can detect syntax error even before executing the code because\n",
    "- the interpreter simply fails to translate the code to lower-level executable code.\n",
    "\n",
    "::::"
   ]
  },
  {
   "cell_type": "markdown",
   "id": "e1a80683",
   "metadata": {
    "slideshow": {
     "slide_type": "subslide"
    }
   },
   "source": [
    "The following code raises a different kind of error."
   ]
  },
  {
   "cell_type": "code",
   "execution_count": null,
   "id": "40d36b2a",
   "metadata": {
    "slideshow": {
     "slide_type": "-"
    }
   },
   "outputs": [],
   "source": [
    "print(\"Evaluating '4' + '5' + 6\")\n",
    "\"4\" + \"5\" + 6  # summing string with integer"
   ]
  },
  {
   "cell_type": "markdown",
   "id": "1816feb9",
   "metadata": {
    "slideshow": {
     "slide_type": "fragment"
    }
   },
   "source": [
    "::::{card}\n",
    ":header: Why Python throws a TypeError when evaluating `'4' + '5' + 6`?\n",
    "\n",
    "There is no implementation of `+` operation on a value of type `str` and a value of type `int`. \n",
    "- Unlike the syntax error, the Python interpreter can only detect a type error at runtime (when executing the code.) \n",
    "- Hence, such an error is called a *runtime error*.\n",
    "\n",
    "::::"
   ]
  },
  {
   "cell_type": "markdown",
   "id": "1c403161",
   "metadata": {
    "slideshow": {
     "slide_type": "subslide"
    }
   },
   "source": [
    "Do other languages work in the same way?"
   ]
  },
  {
   "cell_type": "markdown",
   "id": "e3b3047f",
   "metadata": {},
   "source": [
    "The following cell runs the corresponding javascript code using a cell magic:"
   ]
  },
  {
   "cell_type": "code",
   "execution_count": null,
   "id": "1e1eb6ec",
   "metadata": {
    "slideshow": {
     "slide_type": "-"
    }
   },
   "outputs": [],
   "source": [
    "%%javascript\n",
    "let x = '4' + '5' + 6;\n",
    "element.append(x + ' ' + typeof(x));\n",
    "// no error because 6 is converted to a str implicitly"
   ]
  },
  {
   "cell_type": "code",
   "execution_count": null,
   "id": "7482073c",
   "metadata": {},
   "outputs": [],
   "source": [
    "%%javascript\n",
    "let x = '4' * '5' * 6;\n",
    "element.append(x + ' ' + typeof(x));\n",
    "// no error because 4 and 5 are converted to numbers implicitly"
   ]
  },
  {
   "cell_type": "markdown",
   "id": "cd310270",
   "metadata": {},
   "source": [
    "Javascript forces a type conversion to avoid a type error. It is called a *weakly-typed* language."
   ]
  },
  {
   "cell_type": "markdown",
   "id": "84974d76",
   "metadata": {
    "slideshow": {
     "slide_type": "fragment"
    }
   },
   "source": [
    "::::{important}\n",
    "\n",
    "Python is a [*strongly-and-dynamically-typed*](https://en.wikipedia.org/wiki/Strong_and_weak_typing) language:\n",
    "- *Strongly-typed*: Python does not force a type conversion to avoid a type error.\n",
    "- *Dynamically-typed*: Python checks data type only at runtime after translating the code to machine code.\n",
    "\n",
    "::::"
   ]
  },
  {
   "cell_type": "markdown",
   "id": "fff42ece",
   "metadata": {
    "slideshow": {
     "slide_type": "subslide"
    }
   },
   "source": [
    "In comparison, C/C++ and Java are *statically-typed* languages that checks data type during compilation."
   ]
  },
  {
   "cell_type": "code",
   "execution_count": null,
   "id": "927b2fd5",
   "metadata": {},
   "outputs": [],
   "source": [
    "try:\n",
    "    !gcc 456.cpp\n",
    "except Error:\n",
    "    print('Cannot run shell command.')"
   ]
  },
  {
   "cell_type": "code",
   "execution_count": null,
   "id": "d5d195d9",
   "metadata": {},
   "outputs": [],
   "source": [
    "try:\n",
    "    !javac 456.java\n",
    "except Error:\n",
    "    print('Cannot run shell command.')"
   ]
  },
  {
   "cell_type": "markdown",
   "id": "21f6566e",
   "metadata": {
    "slideshow": {
     "slide_type": "fragment"
    }
   },
   "source": [
    "::::{note}\n",
    "\n",
    "While weakly-typed languages may seem more robust, they can potentially lead to more logical errors. JavaScript, despite its popularity, is known for its tricky behavior, as demonstrated in [wtfjs](https://github.com/denysdovhan/wtfjs).\n",
    "\n",
    ":::{seealso}\n",
    ":class: dropdown\n",
    "To improve readability and avoid logical errors, it's recommended to use a strongly-typed language like TypeScript. TypeScript is a superset of JavaScript that adds optional static typing and other features to the language. By enforcing stronger typing, TypeScript can detect potential errors at compile-time and improve the overall reliability of your code. Learn more about TypeScript at [typescriptlang.org](https://www.typescriptlang.org/).\n",
    ":::\n",
    "\n",
    "::::"
   ]
  },
  {
   "cell_type": "markdown",
   "id": "2c6cc3dc",
   "metadata": {
    "slideshow": {
     "slide_type": "subslide"
    }
   },
   "source": [
    "::::{exercise} break the code\n",
    ":label: ex:break\n",
    "\n",
    "Not all the strings can be converted into integers. Try breaking the following code by providing invalid inputs and record them in the subsequent cell. Explain whether the errors are runtime errors.\n",
    "\n",
    "::::"
   ]
  },
  {
   "cell_type": "code",
   "execution_count": null,
   "id": "d9d801b3",
   "metadata": {
    "slideshow": {
     "slide_type": "-"
    },
    "tags": [
     "remove-output"
    ]
   },
   "outputs": [],
   "source": [
    "num1 = input(\"Please input an integer: \")\n",
    "num2 = input(\"Please input another integer: \")\n",
    "print(num1, \"+\", num2, \"is equal to\", int(num1) + int(num2))"
   ]
  },
  {
   "cell_type": "markdown",
   "id": "d25b4582",
   "metadata": {
    "deletable": false,
    "nbgrader": {
     "cell_type": "markdown",
     "checksum": "397bf914b96707ad1a38ff53085f1c22",
     "grade": true,
     "grade_id": "invalid-input",
     "locked": false,
     "points": 0,
     "schema_version": 3,
     "solution": true,
     "task": false
    },
    "slideshow": {
     "slide_type": "-"
    }
   },
   "source": [
    "YOUR ANSWER HERE"
   ]
  },
  {
   "cell_type": "markdown",
   "id": "5da76c66",
   "metadata": {
    "slideshow": {
     "slide_type": "slide"
    }
   },
   "source": [
    "## Floating Point Numbers"
   ]
  },
  {
   "cell_type": "markdown",
   "id": "3ecb7c24",
   "metadata": {
    "slideshow": {
     "slide_type": "fragment"
    }
   },
   "source": [
    "Not all numbers are integers. In Enginnering, we often need to use fractions."
   ]
  },
  {
   "cell_type": "markdown",
   "id": "f477c112",
   "metadata": {
    "slideshow": {
     "slide_type": "subslide"
    }
   },
   "source": [
    "**How to enter fractions in a program?**"
   ]
  },
  {
   "cell_type": "code",
   "execution_count": null,
   "id": "309b02e4",
   "metadata": {
    "slideshow": {
     "slide_type": "fragment"
    }
   },
   "outputs": [],
   "source": [
    "x = -0.1  # decimal number\n",
    "y = -1.0e-1  # scientific notation\n",
    "z = -1 / 10  # fraction\n",
    "x, y, z, type(x), type(y), type(z)"
   ]
  },
  {
   "cell_type": "markdown",
   "id": "2cbe315b",
   "metadata": {
    "slideshow": {
     "slide_type": "subslide"
    }
   },
   "source": [
    "**What is the type `float`?**"
   ]
  },
  {
   "cell_type": "markdown",
   "id": "7bdd2819",
   "metadata": {
    "slideshow": {
     "slide_type": "fragment"
    }
   },
   "source": [
    "- `float` corresponds to the [*floating point* representation](https://en.wikipedia.org/wiki/Floating-point_arithmetic#Floating-point_numbers).  \n",
    "- A `float` is stored exactly the way we write it in [scientific notation](https://en.wikipedia.org/wiki/Scientific_notation): \n",
    "\n",
    "$$\n",
    "\\overbrace{-}^{\\text{sign}} \\underbrace{1.0}_{\\text{mantissa}\\kern-1em}e\\overbrace{-1}^{\\text{exponent}\\kern-1em}=-1\\times 10^{-1}\n",
    "$$"
   ]
  },
  {
   "cell_type": "markdown",
   "id": "37bf83e2",
   "metadata": {},
   "source": [
    "::::{seealso}\n",
    "\n",
    "An efficient implementation is more complicated. Try the [IEEE-754 Floating Point Converter](https://www.h-schmidt.net/FloatConverter/IEEE754.html) for *single-precision* floating point number:\n",
    "\n",
    "- Starting from the number 0, click the button `+1` to find the smallest positive number.\n",
    "- Find the largest and smallest representable floating point numbers.\n",
    "\n",
    "::::"
   ]
  },
  {
   "cell_type": "markdown",
   "id": "5110910c",
   "metadata": {
    "slideshow": {
     "slide_type": "subslide"
    }
   },
   "source": [
    "Integers in mathematics may be regarded as a `float` instead of `int`:"
   ]
  },
  {
   "cell_type": "code",
   "execution_count": null,
   "id": "bd4885f1",
   "metadata": {
    "slideshow": {
     "slide_type": "-"
    }
   },
   "outputs": [],
   "source": [
    "type(1.0), type(1e2)"
   ]
  },
  {
   "cell_type": "markdown",
   "id": "b4b5a58a",
   "metadata": {
    "slideshow": {
     "slide_type": "fragment"
    }
   },
   "source": [
    "You can also convert an `int` or a `str` to a `float`."
   ]
  },
  {
   "cell_type": "code",
   "execution_count": null,
   "id": "272fa677",
   "metadata": {
    "slideshow": {
     "slide_type": "-"
    }
   },
   "outputs": [],
   "source": [
    "float(1), float(\"1\")"
   ]
  },
  {
   "cell_type": "markdown",
   "id": "e40c842b",
   "metadata": {
    "slideshow": {
     "slide_type": "subslide"
    }
   },
   "source": [
    "**Is it better to store an integer as `float`?**"
   ]
  },
  {
   "cell_type": "markdown",
   "id": "e1f6e7a0",
   "metadata": {
    "slideshow": {
     "slide_type": "fragment"
    }
   },
   "source": [
    "Python stores a [floating point](https://docs.python.org/3/library/sys.html#sys.float_info) with finite precision, usually *64-bit/double* precision:"
   ]
  },
  {
   "cell_type": "code",
   "execution_count": null,
   "id": "0c4a44dc",
   "metadata": {
    "slideshow": {
     "slide_type": "fragment"
    }
   },
   "outputs": [],
   "source": [
    "sys.float_info"
   ]
  },
  {
   "cell_type": "markdown",
   "id": "3e5f0c82",
   "metadata": {
    "slideshow": {
     "slide_type": "subslide"
    }
   },
   "source": [
    "It cannot accurately represent a number larger than the `max`:"
   ]
  },
  {
   "cell_type": "code",
   "execution_count": null,
   "id": "367eebb8",
   "metadata": {
    "slideshow": {
     "slide_type": "-"
    }
   },
   "outputs": [],
   "source": [
    "sys.float_info.max * 2"
   ]
  },
  {
   "cell_type": "markdown",
   "id": "333fa70f",
   "metadata": {
    "slideshow": {
     "slide_type": "fragment"
    }
   },
   "source": [
    "The precision also affects the check for equality."
   ]
  },
  {
   "cell_type": "code",
   "execution_count": null,
   "id": "0b161530",
   "metadata": {
    "slideshow": {
     "slide_type": "-"
    }
   },
   "outputs": [],
   "source": [
    "(\n",
    "    1.0 == 1.0 + sys.float_info.epsilon * 0.5,  # returns true if equal\n",
    "    1.0 == 1.0 + sys.float_info.epsilon * 0.6,\n",
    "    sys.float_info.max + 1 == sys.float_info.max,\n",
    ")"
   ]
  },
  {
   "cell_type": "markdown",
   "id": "ad6f4d49",
   "metadata": {
    "slideshow": {
     "slide_type": "fragment"
    }
   },
   "source": [
    "Another issue with float is that it may keep more decimal places than desired."
   ]
  },
  {
   "cell_type": "code",
   "execution_count": null,
   "id": "426ed5e3",
   "metadata": {
    "slideshow": {
     "slide_type": "-"
    }
   },
   "outputs": [],
   "source": [
    "1 / 3"
   ]
  },
  {
   "cell_type": "markdown",
   "id": "98c9c96c",
   "metadata": {
    "slideshow": {
     "slide_type": "subslide"
    }
   },
   "source": [
    "**How to [round](https://docs.python.org/3/library/functions.html#round) a floating point number to the desired number of decimal places?**"
   ]
  },
  {
   "cell_type": "code",
   "execution_count": null,
   "id": "0d037a70",
   "metadata": {
    "slideshow": {
     "slide_type": "fragment"
    }
   },
   "outputs": [],
   "source": [
    "round(2.665, 2), round(2.675, 2)"
   ]
  },
  {
   "cell_type": "markdown",
   "id": "b0b1c47e",
   "metadata": {
    "slideshow": {
     "slide_type": "fragment"
    }
   },
   "source": [
    "::::{card}\n",
    ":header: Why 2.675 rounds to 2.67 instead of 2.68?\n",
    "\n",
    "- A `float` is actually represented in binary.  \n",
    "- A decimal fraction [may not be represented exactly in binary](https://docs.python.org/3/tutorial/floatingpoint.html#tut-fp-issues).\n",
    "\n",
    "::::"
   ]
  },
  {
   "cell_type": "markdown",
   "id": "30d95c55",
   "metadata": {},
   "source": [
    "::::{exercise} binary representations of fractions\n",
    ":label: ex:float\n",
    "\n",
    "Use the [IEEE-754 Floating Point Converter](https://www.h-schmidt.net/FloatConverter/IEEE754.html) to find out the value actually stored in float for 2.675.\n",
    "\n",
    "::::"
   ]
  },
  {
   "cell_type": "markdown",
   "id": "2e6a3c31",
   "metadata": {
    "deletable": false,
    "nbgrader": {
     "cell_type": "markdown",
     "checksum": "76a95741eb5749c3feb92c3e4bf95d96",
     "grade": true,
     "grade_id": "precision-round",
     "locked": false,
     "points": 0,
     "schema_version": 3,
     "solution": true,
     "task": false
    }
   },
   "source": [
    "YOUR ANSWER HERE"
   ]
  },
  {
   "cell_type": "markdown",
   "id": "42eed3cd",
   "metadata": {
    "slideshow": {
     "slide_type": "subslide"
    }
   },
   "source": [
    "The `round` function can also be applied to an integer."
   ]
  },
  {
   "cell_type": "code",
   "execution_count": null,
   "id": "2777a040",
   "metadata": {
    "slideshow": {
     "slide_type": "fragment"
    }
   },
   "outputs": [],
   "source": [
    "round(150, -2), round(250, -2)"
   ]
  },
  {
   "cell_type": "markdown",
   "id": "d92ce33c",
   "metadata": {
    "slideshow": {
     "slide_type": "fragment"
    }
   },
   "source": [
    "::::{card}\n",
    ":header: Why 250 rounds to 200 instead of 300?\n",
    "\n",
    "- Python 3 implements the default rounding method in [IEEE 754](https://en.wikipedia.org/wiki/IEEE_754#Rounding_rules).\n",
    "\n",
    "::::"
   ]
  },
  {
   "cell_type": "markdown",
   "id": "c256e93f",
   "metadata": {
    "slideshow": {
     "slide_type": "slide"
    }
   },
   "source": [
    "## String Formatting"
   ]
  },
  {
   "cell_type": "markdown",
   "id": "d608652a",
   "metadata": {
    "slideshow": {
     "slide_type": "subslide"
    }
   },
   "source": [
    "**Can we round a `float` or `int` for printing but not calculation?**"
   ]
  },
  {
   "cell_type": "markdown",
   "id": "1daffd7c",
   "metadata": {
    "slideshow": {
     "slide_type": "fragment"
    }
   },
   "source": [
    "This is possible with format strings:"
   ]
  },
  {
   "cell_type": "code",
   "execution_count": null,
   "id": "6fc78315",
   "metadata": {
    "slideshow": {
     "slide_type": "-"
    }
   },
   "outputs": [],
   "source": [
    "x = 10000 / 3\n",
    "print(\"x ≈ {:.2f} (rounded to 2 decimal places)\".format(x))\n",
    "x"
   ]
  },
  {
   "cell_type": "markdown",
   "id": "07028922",
   "metadata": {
    "slideshow": {
     "slide_type": "fragment"
    }
   },
   "source": [
    "- `{:.2f}` is a [*replacement field*][repf] or place holder\n",
    "- that gets replaced by a string \n",
    "- that represents the argument `x` of `format` \n",
    "- according to the [format specification][fspec] `.2f`, i.e.,  \n",
    "  a decimal floating point number rounded to 2 decimal places.\n",
    "  \n",
    "[repf]: https://docs.python.org/3/library/string.html#format-string-syntax\n",
    "[fspec]: https://docs.python.org/3/library/string.html#format-specification-mini-language"
   ]
  },
  {
   "cell_type": "markdown",
   "id": "80d5dbe7",
   "metadata": {
    "slideshow": {
     "slide_type": "subslide"
    }
   },
   "source": [
    "::::{exercise} format `float`\n",
    ":label: ex:format-float\n",
    "\n",
    "Play with the following widget to learn the effect of different format specifications. In particular, print `10000/3` as `3,333.33`.\n",
    "\n",
    "::::"
   ]
  },
  {
   "cell_type": "code",
   "execution_count": null,
   "id": "3dac312a",
   "metadata": {
    "code_folding": [
     7
    ],
    "slideshow": {
     "slide_type": "-"
    }
   },
   "outputs": [],
   "source": [
    "@interact(\n",
    "    x=\"10000/3\",\n",
    "    align={\"None\": \"\", \"<\": \"<\", \">\": \">\", \"=\": \"=\", \"^\": \"^\"},\n",
    "    sign={\"None\": \"\", \"+\": \"+\", \"-\": \"-\", \"SPACE\": \" \"},\n",
    "    width=(0, 20),\n",
    "    grouping={\"None\": \"\", \"_\": \"_\", \",\": \",\"},\n",
    "    precision=(0, 20),\n",
    ")\n",
    "def print_float(x, sign, align, grouping, width=0, precision=2):\n",
    "    format_spec = (\n",
    "        f\"{{:{align}{sign}{'' if width==0 else width}{grouping}.{precision}f}}\"\n",
    "    )\n",
    "    print(\"Format spec:\", format_spec)\n",
    "    print(\"x ≈\", format_spec.format(eval(x)))"
   ]
  },
  {
   "cell_type": "code",
   "execution_count": null,
   "id": "191c51cc",
   "metadata": {
    "deletable": false,
    "nbgrader": {
     "cell_type": "code",
     "checksum": "2d3a6cd240b70a30996852f2a8bcd7d2",
     "grade": true,
     "grade_id": "format-spec",
     "locked": false,
     "points": 0,
     "schema_version": 3,
     "solution": true,
     "task": false
    },
    "slideshow": {
     "slide_type": "-"
    }
   },
   "outputs": [],
   "source": [
    "# YOUR CODE HERE\n",
    "raise NotImplementedError()"
   ]
  },
  {
   "cell_type": "markdown",
   "id": "40c5a2f2",
   "metadata": {
    "slideshow": {
     "slide_type": "subslide"
    }
   },
   "source": [
    "String formatting is useful for different data types other than `float`.  \n",
    "E.g., consider the following program that prints a time specified by some variables."
   ]
  },
  {
   "cell_type": "code",
   "execution_count": null,
   "id": "f48b1a26",
   "metadata": {
    "slideshow": {
     "slide_type": "-"
    }
   },
   "outputs": [],
   "source": [
    "# Some specified time\n",
    "hour = 12\n",
    "minute = 34\n",
    "second = 56\n",
    "\n",
    "print(\"The time is \" + str(hour) + \":\" + str(minute) + \":\" + str(second) + \".\")"
   ]
  },
  {
   "cell_type": "markdown",
   "id": "a8dd7aff",
   "metadata": {
    "slideshow": {
     "slide_type": "fragment"
    }
   },
   "source": [
    "Imagine you have to show also the date in different formats.  \n",
    "The code can become very hard to read/write because \n",
    "- the message is a concatenation of multiple strings and\n",
    "- the integer variables need to be converted to strings."
   ]
  },
  {
   "cell_type": "markdown",
   "id": "c9aadb11",
   "metadata": {
    "slideshow": {
     "slide_type": "fragment"
    }
   },
   "source": [
    "Omitting `+` leads to syntax error. Removing `str` as follows also does not give the desired format."
   ]
  },
  {
   "cell_type": "code",
   "execution_count": null,
   "id": "a14bdc9e",
   "metadata": {
    "slideshow": {
     "slide_type": "-"
    }
   },
   "outputs": [],
   "source": [
    "print(\"The time is \", hour, \":\", minute, \":\", second, \".\")  # note the extra spaces"
   ]
  },
  {
   "cell_type": "markdown",
   "id": "bc432950",
   "metadata": {
    "slideshow": {
     "slide_type": "subslide"
    }
   },
   "source": [
    "To make the code more readable, we can use the `format` function as follows."
   ]
  },
  {
   "cell_type": "code",
   "execution_count": null,
   "id": "17e57c65",
   "metadata": {
    "slideshow": {
     "slide_type": "-"
    }
   },
   "outputs": [],
   "source": [
    "message = \"The time is {}:{}:{}.\"\n",
    "print(message.format(hour, minute, second))"
   ]
  },
  {
   "cell_type": "markdown",
   "id": "78c3ce64",
   "metadata": {
    "slideshow": {
     "slide_type": "fragment"
    }
   },
   "source": [
    "::::{note}\n",
    "\n",
    "- We can have multiple *place-holders* `{}` inside a string.\n",
    "- We can then provide the contents (any type: numbers, strings..) using the `format` function, which\n",
    "- substitutes the place-holders by the function arguments from left to right.\n",
    "::::"
   ]
  },
  {
   "cell_type": "markdown",
   "id": "0fadab05",
   "metadata": {
    "slideshow": {
     "slide_type": "subslide"
    }
   },
   "source": [
    "According to the [string formatting syntax](https://docs.python.org/3/library/string.html#format-string-syntax), we can change the order of substitution using \n",
    "- indices *(0 is the first item)* or \n",
    "- names inside the placeholder `{}`:"
   ]
  },
  {
   "cell_type": "code",
   "execution_count": null,
   "id": "e11e6212",
   "metadata": {
    "slideshow": {
     "slide_type": "fragment"
    }
   },
   "outputs": [],
   "source": [
    "print(\"You should {0} {1} what I say instead of what I {0}.\".format(\"do\", \"only\"))\n",
    "print(\"The surname of {first} {last} is {last}.\".format(first=\"John\", last=\"Doe\"))"
   ]
  },
  {
   "cell_type": "markdown",
   "id": "37b1e508",
   "metadata": {
    "slideshow": {
     "slide_type": "subslide"
    }
   },
   "source": [
    "You can also put variables inside the format specification directly and have a nested string formatting."
   ]
  },
  {
   "cell_type": "code",
   "execution_count": null,
   "id": "a457d7e6",
   "metadata": {
    "slideshow": {
     "slide_type": "-"
    }
   },
   "outputs": [],
   "source": [
    "align, width = \"^\", 5\n",
    "print(f\"{{:*{align}{width}}}\".format(x))  # note the syntax f\"...\""
   ]
  },
  {
   "cell_type": "markdown",
   "id": "5160e1e6",
   "metadata": {
    "slideshow": {
     "slide_type": "fragment"
    }
   },
   "source": [
    "::::{note}\n",
    "\n",
    "In the above, `f\"...\"` is called an [f-string](https://docs.python.org/3/tutorial/inputoutput.html#tut-f-strings), which was introduced in [PEP 498](https://peps.python.org/pep-0498/) in Python 3.6.\n",
    "\n",
    "::::"
   ]
  },
  {
   "cell_type": "markdown",
   "id": "0158f221",
   "metadata": {
    "slideshow": {
     "slide_type": "subslide"
    }
   },
   "source": [
    "::::{exercise} f-string\n",
    ":label: ex:f-string\n",
    "\n",
    "Play with the following widget to learn more about the formating specification.  \n",
    "1. What happens when `align` is none but `fill` is `*`?\n",
    "1. What happens when the `expression` is a multi-line string?\n",
    "\n",
    "::::"
   ]
  },
  {
   "cell_type": "code",
   "execution_count": null,
   "id": "24a80606",
   "metadata": {
    "code_folding": [],
    "slideshow": {
     "slide_type": "-"
    }
   },
   "outputs": [],
   "source": [
    "@interact(\n",
    "    expression=r\"'ABC'\",\n",
    "    fill=\"*\",\n",
    "    align={\"None\": \"\", \"<\": \"<\", \">\": \">\", \"=\": \"=\", \"^\": \"^\"},\n",
    "    width=(0, 20),\n",
    ")\n",
    "def print_objectt(expression, fill, align=\"^\", width=10):\n",
    "    format_spec = f\"{{:{fill}{align}{'' if width==0 else width}}}\"\n",
    "    print(\"Format spec:\", format_spec)\n",
    "    print(\"Print:\", format_spec.format(eval(expression)))"
   ]
  },
  {
   "cell_type": "markdown",
   "id": "a484ce5a",
   "metadata": {
    "deletable": false,
    "nbgrader": {
     "cell_type": "markdown",
     "checksum": "7df87438b481c0581d0b7e425335d263",
     "grade": true,
     "grade_id": "string-formatting",
     "locked": false,
     "points": 0,
     "schema_version": 3,
     "solution": true,
     "task": false
    }
   },
   "source": [
    "YOUR ANSWER HERE"
   ]
  }
 ],
 "metadata": {
  "kernelspec": {
   "display_name": "Python 3 (ipykernel)",
   "language": "python",
   "name": "python3"
  }
 },
 "nbformat": 4,
 "nbformat_minor": 5
}
