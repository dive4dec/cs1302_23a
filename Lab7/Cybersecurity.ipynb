{
 "cells": [
  {
   "cell_type": "markdown",
   "id": "c6affee7",
   "metadata": {
    "slideshow": {
     "slide_type": "slide"
    }
   },
   "source": [
    "# Cybersecurity"
   ]
  },
  {
   "cell_type": "markdown",
   "id": "c926a0d4",
   "metadata": {
    "slideshow": {
     "slide_type": "-"
    },
    "tags": [
     "remove-cell"
    ]
   },
   "source": [
    "CS1302 Introduction to Computer Programming\n",
    "___"
   ]
  },
  {
   "cell_type": "code",
   "execution_count": null,
   "id": "e4eed49b",
   "metadata": {
    "execution": {
     "iopub.execute_input": "2023-11-10T15:08:15.482055Z",
     "iopub.status.busy": "2023-11-10T15:08:15.481396Z",
     "iopub.status.idle": "2023-11-10T15:08:15.538269Z",
     "shell.execute_reply": "2023-11-10T15:08:15.537649Z",
     "shell.execute_reply.started": "2023-11-10T15:08:15.482033Z"
    }
   },
   "outputs": [],
   "source": [
    "%reload_ext divewidgets"
   ]
  },
  {
   "cell_type": "markdown",
   "id": "48516172",
   "metadata": {
    "slideshow": {
     "slide_type": "subslide"
    }
   },
   "source": [
    "Python is a popular tool among hackers and engineers. In this lab, you will learn Cryptology in cybersecurity, which covers\n",
    "- [Cryptography](https://en.wikipedia.org/wiki/Cryptography): Encryption and decryption using a cipher.\n",
    "- [Cryptanalysis](https://en.wikipedia.org/wiki/Cryptanalysis): Devising an attack to break a cipher."
   ]
  },
  {
   "cell_type": "markdown",
   "id": "08a0718d",
   "metadata": {
    "slideshow": {
     "slide_type": "slide"
    }
   },
   "source": [
    "## Caesar symmetric key cipher"
   ]
  },
  {
   "cell_type": "markdown",
   "id": "b51f9824",
   "metadata": {
    "slideshow": {
     "slide_type": "fragment"
    }
   },
   "source": [
    "We first implement a simple cipher called the [Caesar cipher](https://en.wikipedia.org/wiki/Caesar_cipher)."
   ]
  },
  {
   "cell_type": "markdown",
   "id": "afbe17fe-aeb6-4b15-877a-a9219562b6dd",
   "metadata": {},
   "source": [
    "::::{card}\n",
    ":header: The Caesar cipher\n",
    ":footer: [(open in new tab)](https://www.youtube.com/embed/sMOZf4GN3oc)\n",
    "\n",
    ":::{iframe} https://www.youtube.com/embed/sMOZf4GN3oc\n",
    ":align: center\n",
    ":width: 100%\n",
    "\n",
    ":::"
   ]
  },
  {
   "cell_type": "markdown",
   "id": "81773765",
   "metadata": {
    "slideshow": {
     "slide_type": "subslide"
    }
   },
   "source": [
    "### Encrypt/decrypt a character"
   ]
  },
  {
   "cell_type": "markdown",
   "id": "33441e9c",
   "metadata": {
    "slideshow": {
     "slide_type": "fragment"
    }
   },
   "source": [
    "**How to encrypt a character?**"
   ]
  },
  {
   "cell_type": "markdown",
   "id": "d739c5dd",
   "metadata": {
    "slideshow": {
     "slide_type": "fragment"
    }
   },
   "source": [
    "The following code encrypts a character `char` using a non-negative integer `key`."
   ]
  },
  {
   "cell_type": "code",
   "execution_count": null,
   "id": "6c7c6e9b",
   "metadata": {
    "code_folding": [],
    "execution": {
     "iopub.execute_input": "2023-11-10T15:08:15.546937Z",
     "iopub.status.busy": "2023-11-10T15:08:15.546540Z",
     "iopub.status.idle": "2023-11-10T15:08:15.557617Z",
     "shell.execute_reply": "2023-11-10T15:08:15.557040Z",
     "shell.execute_reply.started": "2023-11-10T15:08:15.546920Z"
    },
    "slideshow": {
     "slide_type": "-"
    }
   },
   "outputs": [],
   "source": [
    "cc_n = 1114112\n",
    "\n",
    "\n",
    "def cc_encrypt_character(char, key):\n",
    "    \"\"\"\n",
    "    Return the encryption of a character by an integer key using Caesar cipher.\n",
    "\n",
    "    Parameters\n",
    "    ----------\n",
    "    char: str\n",
    "        a unicode (UTF-8) character to be encrypted.\n",
    "    key int:\n",
    "        secret key to encrypt char.\n",
    "    \"\"\"\n",
    "    char_code = ord(char)\n",
    "    shifted_char_code = (char_code + key) % cc_n\n",
    "    encrypted_char = chr(shifted_char_code)\n",
    "    return encrypted_char"
   ]
  },
  {
   "cell_type": "markdown",
   "id": "042a7e5a",
   "metadata": {
    "slideshow": {
     "slide_type": "fragment"
    }
   },
   "source": [
    "For example, to encrypt the letter `'A'` using a secret key `5`:"
   ]
  },
  {
   "cell_type": "code",
   "execution_count": null,
   "id": "1ea0054f",
   "metadata": {
    "execution": {
     "iopub.execute_input": "2023-11-10T15:08:15.559342Z",
     "iopub.status.busy": "2023-11-10T15:08:15.558955Z",
     "iopub.status.idle": "2023-11-10T15:08:15.573548Z",
     "shell.execute_reply": "2023-11-10T15:08:15.572982Z",
     "shell.execute_reply.started": "2023-11-10T15:08:15.559324Z"
    },
    "slideshow": {
     "slide_type": "-"
    }
   },
   "outputs": [],
   "source": [
    "cc_encrypt_character(\"A\", 5)"
   ]
  },
  {
   "cell_type": "markdown",
   "id": "cd0cab9c",
   "metadata": {
    "slideshow": {
     "slide_type": "fragment"
    }
   },
   "source": [
    "The character `'A'` is encrypted to the character `'F'` as follows:\n",
    "\n",
    "1. `ord(char)` return the integer `65`, which is the code point (integer representation) of the unicode of `'A'`. \n",
    "2. `(char_code + key) % cc_n` cyclic shifts the code by the key `5`.\n",
    "3. `chr(shifted_char_code)` converts the shifted code back to a character, which is `'F'`.\n",
    "\n",
    "| Encryption                      |     |       |     |     |     |     |     |     |\n",
    "| ------------------------------- | --- | ----- | --- | --- | --- | --- | --- | --- |\n",
    "| `char`                          | ... | **A** | B   | C   | D   | E   | F   | ... |\n",
    "| `ord(char)`                     | ... | **65**| 66  | 67  | 68  | 69  | 70  | ... |\n",
    "| `(ord(char) + key) % cc_n`      | ... | **70**| 71  | 72  | 73  | 74  | 75  | ... |\n",
    "| `(chr(ord(char) + key) % cc_n)` | ... | **F** | G   | H   | I   | J   | K   | ... |"
   ]
  },
  {
   "cell_type": "markdown",
   "id": "4e4f6c71",
   "metadata": {
    "slideshow": {
     "slide_type": "fragment"
    }
   },
   "source": [
    "You may learn more about `ord` and `chr` from their docstrings:"
   ]
  },
  {
   "cell_type": "code",
   "execution_count": null,
   "id": "b23fd823",
   "metadata": {
    "execution": {
     "iopub.execute_input": "2023-11-10T15:08:15.574579Z",
     "iopub.status.busy": "2023-11-10T15:08:15.574181Z",
     "iopub.status.idle": "2023-11-10T15:08:15.587939Z",
     "shell.execute_reply": "2023-11-10T15:08:15.587403Z",
     "shell.execute_reply.started": "2023-11-10T15:08:15.574562Z"
    },
    "slideshow": {
     "slide_type": "-"
    }
   },
   "outputs": [],
   "source": [
    "help(ord)\n",
    "help(chr)"
   ]
  },
  {
   "cell_type": "markdown",
   "id": "3f0cf935",
   "metadata": {
    "slideshow": {
     "slide_type": "subslide"
    }
   },
   "source": [
    "**How to decrypt a character?**"
   ]
  },
  {
   "cell_type": "markdown",
   "id": "5c3236d5",
   "metadata": {
    "slideshow": {
     "slide_type": "fragment"
    }
   },
   "source": [
    "Mathematically, we define the encryption and decryption of a character for Caesar cipher as\n",
    "\n",
    "$$ \\begin{aligned} E(x,k) &:= x + k \\mod n & \\text{(encryption)} \\\\\n",
    "D(x,k) &:= x - k \\mod n & \\text{(decryption),} \\end{aligned}\n",
    "$$\n",
    "where $x$ is the character code in $\\{0,\\dots,n\\}$ and $k$ is the secret key. `mod` operator above is the modulo operator. In Mathematics, it has a lower precedence than addition and multiplication and is typeset with an extra space accordingly."
   ]
  },
  {
   "cell_type": "markdown",
   "id": "85d6fe06",
   "metadata": {
    "slideshow": {
     "slide_type": "fragment"
    }
   },
   "source": [
    "The encryption and decryption satisfy the recoverability condition\n",
    "\n",
    "$$ D(E(x,k),k) = x $$\n",
    "so two people with a common secret key can encrypt and decrypt a character, but others without the key cannot. This defines a [symmetric cipher](https://en.wikipedia.org/wiki/Symmetric-key_algorithm)."
   ]
  },
  {
   "cell_type": "markdown",
   "id": "183b4340",
   "metadata": {
    "slideshow": {
     "slide_type": "fragment"
    }
   },
   "source": [
    "The following code decrypts a character using a key."
   ]
  },
  {
   "cell_type": "code",
   "execution_count": null,
   "id": "bdf1fdd4",
   "metadata": {
    "execution": {
     "iopub.execute_input": "2023-11-10T15:08:15.588884Z",
     "iopub.status.busy": "2023-11-10T15:08:15.588692Z",
     "iopub.status.idle": "2023-11-10T15:08:15.601330Z",
     "shell.execute_reply": "2023-11-10T15:08:15.600820Z",
     "shell.execute_reply.started": "2023-11-10T15:08:15.588831Z"
    },
    "slideshow": {
     "slide_type": "-"
    }
   },
   "outputs": [],
   "source": [
    "def cc_decrypt_character(char, key):\n",
    "    \"\"\"\n",
    "    Return the decryption of a character by the key using Caesar cipher.\n",
    "\n",
    "    Parameters\n",
    "    ----------\n",
    "    char: str\n",
    "        a unicode (UTF-8) character to be decrypted.\n",
    "    key: int\n",
    "        secret key to decrypt char.\n",
    "    \"\"\"\n",
    "    char_code = ord(char)\n",
    "    shifted_char_code = (char_code - key) % cc_n\n",
    "    decrypted_char = chr(shifted_char_code)\n",
    "    return decrypted_char"
   ]
  },
  {
   "cell_type": "markdown",
   "id": "4792d581",
   "metadata": {
    "slideshow": {
     "slide_type": "fragment"
    }
   },
   "source": [
    "For instance, to decrypt the letter `'F'` by the secret key `5`:"
   ]
  },
  {
   "cell_type": "code",
   "execution_count": null,
   "id": "c9df754b",
   "metadata": {
    "execution": {
     "iopub.execute_input": "2023-11-10T15:08:15.602189Z",
     "iopub.status.busy": "2023-11-10T15:08:15.602029Z",
     "iopub.status.idle": "2023-11-10T15:08:15.616099Z",
     "shell.execute_reply": "2023-11-10T15:08:15.615537Z",
     "shell.execute_reply.started": "2023-11-10T15:08:15.602177Z"
    },
    "slideshow": {
     "slide_type": "-"
    }
   },
   "outputs": [],
   "source": [
    "cc_decrypt_character(\"F\", 5)"
   ]
  },
  {
   "cell_type": "markdown",
   "id": "598ae107",
   "metadata": {
    "slideshow": {
     "slide_type": "fragment"
    }
   },
   "source": [
    "The character `'F'` is decrypted back to `'A'` because\n",
    "`(char_code - key) % cc_n` reverse cyclic shifts the code by the key `5`.\n",
    "\n",
    "| Encryption                      |     |       |     |     |     |     |     |     | Decryption                      |\n",
    "| ------------------------------- | --- | ----- | --- | --- | --- | --- | --- | --- | ------------------------------- |\n",
    "| `char`                          | ... | **A** | B   | C   | D   | E   | F   | ... | `(chr(ord(char) - key) % cc_n)` |\n",
    "| `ord(char)`                     | ... | **65**| 66  | 67  | 68  | 69  | 70  | ... | `(ord(char) - key) % cc_n`      |\n",
    "| `(ord(char) + key) % cc_n`      | ... | **70**| 71  | 72  | 73  | 74  | 75  | ... | `ord(char)`                     |\n",
    "| `(chr(ord(char) + key) % cc_n)` | ... | **F** | G   | H   | I   | J   | K   | ... | `char`                          |"
   ]
  },
  {
   "cell_type": "markdown",
   "id": "557be748",
   "metadata": {
    "slideshow": {
     "slide_type": "subslide"
    }
   },
   "source": [
    "::::{exercise}\n",
    ":label: ex:modulo-arithmetic\n",
    "\n",
    "Why did we set `cc_n = 1114112`? Explain whether the recoverability property may fail if we set `cc_n` to a bigger number or remove `% cc_n` for both `cc_encrypt_character` and `cc_decrypt_character`.\n",
    "\n",
    "::::"
   ]
  },
  {
   "cell_type": "markdown",
   "id": "72382649",
   "metadata": {
    "deletable": false,
    "nbgrader": {
     "cell_type": "markdown",
     "checksum": "e73c497e70f1a86fe0ead6483b3a7d17",
     "grade": true,
     "grade_id": "modulo",
     "locked": false,
     "points": 1,
     "schema_version": 3,
     "solution": true,
     "task": false
    },
    "slideshow": {
     "slide_type": "-"
    }
   },
   "source": [
    "YOUR ANSWER HERE"
   ]
  },
  {
   "cell_type": "markdown",
   "id": "64b31500",
   "metadata": {
    "slideshow": {
     "slide_type": "slide"
    }
   },
   "source": [
    "### Encrypt a plaintext and decrypt a ciphertext"
   ]
  },
  {
   "cell_type": "markdown",
   "id": "b850e276",
   "metadata": {
    "slideshow": {
     "slide_type": "fragment"
    }
   },
   "source": [
    "Of course, it is more interesting to encrypt a string instead of a character. The following code implements this in one line."
   ]
  },
  {
   "cell_type": "code",
   "execution_count": null,
   "id": "1cd58e1d",
   "metadata": {
    "execution": {
     "iopub.execute_input": "2023-11-10T15:08:15.616955Z",
     "iopub.status.busy": "2023-11-10T15:08:15.616803Z",
     "iopub.status.idle": "2023-11-10T15:08:15.629289Z",
     "shell.execute_reply": "2023-11-10T15:08:15.628779Z",
     "shell.execute_reply.started": "2023-11-10T15:08:15.616941Z"
    },
    "slideshow": {
     "slide_type": "-"
    }
   },
   "outputs": [],
   "source": [
    "def cc_encrypt(plaintext, key):\n",
    "    \"\"\"\n",
    "    Return the ciphertext of a plaintext by the key using the Caesar cipher.\n",
    "\n",
    "    Parameters\n",
    "    ----------\n",
    "    plaintext: str\n",
    "        A unicode (UTF-8) message to be encrypted.\n",
    "    public_key: int\n",
    "        Public key to encrypt plaintext.\n",
    "    \"\"\"\n",
    "    return \"\".join([chr((ord(char) + key) % cc_n) for char in plaintext])"
   ]
  },
  {
   "cell_type": "markdown",
   "id": "b385d3be",
   "metadata": {
    "slideshow": {
     "slide_type": "fragment"
    }
   },
   "source": [
    "The above function encrypts a message, referred to as the *plaintext*, by replacing each character with its encryption.  \n",
    "This is referred to as a [*substitution cipher*](https://en.wikipedia.org/wiki/Substitution_cipher)."
   ]
  },
  {
   "cell_type": "markdown",
   "id": "092310aa",
   "metadata": {
    "slideshow": {
     "slide_type": "subslide"
    }
   },
   "source": [
    "::::{exercise}\n",
    ":label: ex:cc-decrypt\n",
    "\n",
    "Define a function `cc_decrypt` that\n",
    "- takes a string `ciphertext` and an integer `key`, and\n",
    "- returns the plaintext that encrypts to `ciphertext` by the key using Caesar cipher.\n",
    "\n",
    "::::"
   ]
  },
  {
   "cell_type": "code",
   "execution_count": null,
   "id": "ca47f9e2",
   "metadata": {
    "deletable": false,
    "execution": {
     "iopub.execute_input": "2023-11-10T15:08:15.630111Z",
     "iopub.status.busy": "2023-11-10T15:08:15.629964Z",
     "iopub.status.idle": "2023-11-10T15:08:15.642950Z",
     "shell.execute_reply": "2023-11-10T15:08:15.642410Z",
     "shell.execute_reply.started": "2023-11-10T15:08:15.630100Z"
    },
    "nbgrader": {
     "cell_type": "code",
     "checksum": "99cece2794f8673cbc4b9862ba6f38a4",
     "grade": false,
     "grade_id": "cc_decrypt",
     "locked": false,
     "schema_version": 3,
     "solution": true,
     "task": false
    },
    "slideshow": {
     "slide_type": "-"
    },
    "tags": [
     "remove-output"
    ]
   },
   "outputs": [],
   "source": [
    "def cc_decrypt(ciphertext, key):\n",
    "    \"\"\"\n",
    "    Return the plaintext that encrypts to ciphertext by the key using Caesar cipher.\n",
    "\n",
    "    Parameters\n",
    "    ----------\n",
    "    ciphertext: str\n",
    "        message to be decrypted.\n",
    "    key: int\n",
    "        secret key to decrypt the ciphertext.\n",
    "    \"\"\"\n",
    "    # YOUR CODE HERE\n",
    "    raise NotImplementedError()"
   ]
  },
  {
   "cell_type": "code",
   "execution_count": null,
   "id": "47309ef3",
   "metadata": {
    "code_folding": [],
    "deletable": false,
    "editable": false,
    "execution": {
     "iopub.execute_input": "2023-11-10T15:08:15.645450Z",
     "iopub.status.busy": "2023-11-10T15:08:15.644897Z",
     "iopub.status.idle": "2023-11-10T15:08:15.656041Z",
     "shell.execute_reply": "2023-11-10T15:08:15.655490Z",
     "shell.execute_reply.started": "2023-11-10T15:08:15.645434Z"
    },
    "nbgrader": {
     "cell_type": "code",
     "checksum": "94e426a0a59da6e0e8d1b8ff16f8eae5",
     "grade": true,
     "grade_id": "test-cc_decrypt",
     "locked": true,
     "points": 1,
     "schema_version": 3,
     "solution": false,
     "task": false
    },
    "slideshow": {
     "slide_type": "-"
    },
    "tags": [
     "hide-input",
     "remove-output"
    ]
   },
   "outputs": [],
   "source": [
    "# tests\n",
    "assert cc_decrypt(r\"bcdefghijklmnopqrstuvwxyz{\", 1) == \"abcdefghijklmnopqrstuvwxyz\"\n",
    "assert cc_decrypt(r\"Mjqqt1%\\twqi&\", 5) == \"Hello, World!\""
   ]
  },
  {
   "cell_type": "code",
   "execution_count": null,
   "id": "20a410f3",
   "metadata": {
    "deletable": false,
    "editable": false,
    "execution": {
     "iopub.execute_input": "2023-11-10T15:08:15.657179Z",
     "iopub.status.busy": "2023-11-10T15:08:15.656755Z",
     "iopub.status.idle": "2023-11-10T15:08:15.668904Z",
     "shell.execute_reply": "2023-11-10T15:08:15.668382Z",
     "shell.execute_reply.started": "2023-11-10T15:08:15.657164Z"
    },
    "nbgrader": {
     "cell_type": "code",
     "checksum": "3ed1fc9b61f13d29e05e397d6cd4d197",
     "grade": true,
     "grade_id": "h_test-cc_decrypt",
     "locked": true,
     "points": 1,
     "schema_version": 3,
     "solution": false,
     "task": false
    },
    "tags": [
     "hide-input",
     "remove-output"
    ]
   },
   "outputs": [],
   "source": [
    "# HIDDEN"
   ]
  },
  {
   "cell_type": "markdown",
   "id": "2b17781b",
   "metadata": {
    "slideshow": {
     "slide_type": "slide"
    }
   },
   "source": [
    "## Brute-force attack"
   ]
  },
  {
   "cell_type": "markdown",
   "id": "365de58a",
   "metadata": {},
   "source": [
    "### Create an English dictionary"
   ]
  },
  {
   "cell_type": "markdown",
   "id": "9a80358f",
   "metadata": {
    "slideshow": {
     "slide_type": "fragment"
    }
   },
   "source": [
    "You will launch a brute-force attack to guess the key that encrypts an English text. The idea is simple: \n",
    "\n",
    "- You try decrypting the ciphertext with different keys, and \n",
    "- see which of the resulting plaintexts make the most sense (most English-like)."
   ]
  },
  {
   "cell_type": "markdown",
   "id": "23eaa5f1",
   "metadata": {
    "slideshow": {
     "slide_type": "fragment"
    }
   },
   "source": [
    "To check whether a plaintext is English-like, we need to have a list of English words. One way is to type them out\n",
    "but this is tedious. Alternatively, we can obtain the list from the *Natural Language Toolkit (NLTK)*:"
   ]
  },
  {
   "cell_type": "code",
   "execution_count": null,
   "id": "156cab2f",
   "metadata": {
    "execution": {
     "iopub.execute_input": "2023-11-10T15:08:15.669718Z",
     "iopub.status.busy": "2023-11-10T15:08:15.669573Z",
     "iopub.status.idle": "2023-11-10T15:08:19.404882Z",
     "shell.execute_reply": "2023-11-10T15:08:19.404013Z",
     "shell.execute_reply.started": "2023-11-10T15:08:15.669706Z"
    }
   },
   "outputs": [],
   "source": [
    "!pip install nltk"
   ]
  },
  {
   "cell_type": "code",
   "execution_count": null,
   "id": "148c5154",
   "metadata": {
    "execution": {
     "iopub.execute_input": "2023-11-10T15:08:19.406374Z",
     "iopub.status.busy": "2023-11-10T15:08:19.406073Z",
     "iopub.status.idle": "2023-11-10T15:08:21.072609Z",
     "shell.execute_reply": "2023-11-10T15:08:21.072166Z",
     "shell.execute_reply.started": "2023-11-10T15:08:19.406349Z"
    },
    "slideshow": {
     "slide_type": "-"
    }
   },
   "outputs": [],
   "source": [
    "import nltk\n",
    "\n",
    "nltk.download(\"words\")\n",
    "from nltk.corpus import words"
   ]
  },
  {
   "cell_type": "markdown",
   "id": "77a9d4be",
   "metadata": {
    "slideshow": {
     "slide_type": "subslide"
    }
   },
   "source": [
    "`words.words()` returns a list of words. We can check whether a string is in the list using the operator `in`."
   ]
  },
  {
   "cell_type": "code",
   "execution_count": null,
   "id": "3d4632de",
   "metadata": {
    "execution": {
     "iopub.execute_input": "2023-11-10T15:08:21.073595Z",
     "iopub.status.busy": "2023-11-10T15:08:21.073229Z",
     "iopub.status.idle": "2023-11-10T15:08:21.291940Z",
     "shell.execute_reply": "2023-11-10T15:08:21.291470Z",
     "shell.execute_reply.started": "2023-11-10T15:08:21.073579Z"
    },
    "slideshow": {
     "slide_type": "-"
    }
   },
   "outputs": [],
   "source": [
    "for word in \"Ada\", \"ada\", \"Hello\", \"hello\":\n",
    "    print(\"{!r} in dictionary? {}\".format(word, word in words.words()))"
   ]
  },
  {
   "cell_type": "markdown",
   "id": "cff5f1d8",
   "metadata": {
    "slideshow": {
     "slide_type": "fragment"
    }
   },
   "source": [
    "However, there are two issues:\n",
    "- Checking membership is slow for a long list.\n",
    "- Both 'Hello' and 'ada' are English-like but not in the words list."
   ]
  },
  {
   "cell_type": "markdown",
   "id": "ac773c15",
   "metadata": {
    "slideshow": {
     "slide_type": "subslide"
    }
   },
   "source": [
    "::::{exercise}\n",
    ":label: ex:dictionary\n",
    "\n",
    "Using the method `lower` of `str` and the constructor `set`, assign `dictionary` to a set of lowercase English words from `words.words()`.\n",
    "\n",
    "::::"
   ]
  },
  {
   "cell_type": "code",
   "execution_count": null,
   "id": "56a7f35c",
   "metadata": {
    "deletable": false,
    "execution": {
     "iopub.execute_input": "2023-11-10T15:08:21.292817Z",
     "iopub.status.busy": "2023-11-10T15:08:21.292550Z",
     "iopub.status.idle": "2023-11-10T15:08:21.397419Z",
     "shell.execute_reply": "2023-11-10T15:08:21.396901Z",
     "shell.execute_reply.started": "2023-11-10T15:08:21.292801Z"
    },
    "nbgrader": {
     "cell_type": "code",
     "checksum": "c088033e9235e017fc574ee035ead4ba",
     "grade": false,
     "grade_id": "nltk",
     "locked": false,
     "schema_version": 3,
     "solution": true,
     "task": false
    },
    "slideshow": {
     "slide_type": "-"
    },
    "tags": [
     "remove-output"
    ]
   },
   "outputs": [],
   "source": [
    "# YOUR CODE HERE\n",
    "raise NotImplementedError()"
   ]
  },
  {
   "cell_type": "code",
   "execution_count": null,
   "id": "c15bfcf0",
   "metadata": {
    "code_folding": [],
    "deletable": false,
    "editable": false,
    "execution": {
     "iopub.execute_input": "2023-11-10T15:08:21.398334Z",
     "iopub.status.busy": "2023-11-10T15:08:21.398046Z",
     "iopub.status.idle": "2023-11-10T15:08:21.401349Z",
     "shell.execute_reply": "2023-11-10T15:08:21.400972Z",
     "shell.execute_reply.started": "2023-11-10T15:08:21.398318Z"
    },
    "nbgrader": {
     "cell_type": "code",
     "checksum": "c74e6405fd76a61161c63ae219984445",
     "grade": true,
     "grade_id": "test-nltk",
     "locked": true,
     "points": 1,
     "schema_version": 3,
     "solution": false,
     "task": false
    },
    "slideshow": {
     "slide_type": "-"
    },
    "tags": [
     "hide-input",
     "remove-output"
    ]
   },
   "outputs": [],
   "source": [
    "# tests\n",
    "assert isinstance(dictionary, set) and len(dictionary) == 234377\n",
    "assert all(word in dictionary for word in (\"ada\", \"hello\"))\n",
    "assert all(word not in dictionary for word in (\"Ada\", \"hola\"))"
   ]
  },
  {
   "cell_type": "code",
   "execution_count": null,
   "id": "80018953",
   "metadata": {
    "deletable": false,
    "editable": false,
    "execution": {
     "iopub.execute_input": "2023-11-10T15:08:21.402143Z",
     "iopub.status.busy": "2023-11-10T15:08:21.401844Z",
     "iopub.status.idle": "2023-11-10T15:08:21.416720Z",
     "shell.execute_reply": "2023-11-10T15:08:21.416347Z",
     "shell.execute_reply.started": "2023-11-10T15:08:21.402128Z"
    },
    "nbgrader": {
     "cell_type": "code",
     "checksum": "4133a8e8cb47e8f1fe21f21a50e3f942",
     "grade": true,
     "grade_id": "h_test-nltk",
     "locked": true,
     "points": 1,
     "schema_version": 3,
     "solution": false,
     "task": false
    },
    "tags": [
     "hide-input",
     "remove-output"
    ]
   },
   "outputs": [],
   "source": [
    "# HIDDEN"
   ]
  },
  {
   "cell_type": "markdown",
   "id": "5e8377f1",
   "metadata": {
    "slideshow": {
     "slide_type": "subslide"
    }
   },
   "source": [
    "### Identify English-like text"
   ]
  },
  {
   "cell_type": "markdown",
   "id": "b97b61d8",
   "metadata": {
    "slideshow": {
     "slide_type": "fragment"
    }
   },
   "source": [
    "To determine how English-like a text is, we calculate the following score:\n",
    "\n",
    "$$\n",
    "\\frac{\\text{number of English words in the text}}{\\text{number of tokens in the text}} \n",
    "$$\n",
    "\n",
    "where tokens are substrings, not necessarily English words, separated by white space characters in the text."
   ]
  },
  {
   "cell_type": "code",
   "execution_count": null,
   "id": "53322500",
   "metadata": {
    "execution": {
     "iopub.execute_input": "2023-11-10T15:08:21.417431Z",
     "iopub.status.busy": "2023-11-10T15:08:21.417187Z",
     "iopub.status.idle": "2023-11-10T15:08:21.446267Z",
     "shell.execute_reply": "2023-11-10T15:08:21.445856Z",
     "shell.execute_reply.started": "2023-11-10T15:08:21.417416Z"
    },
    "slideshow": {
     "slide_type": "-"
    }
   },
   "outputs": [],
   "source": [
    "def tokenizer(text):\n",
    "    \"\"\"Returns the list of tokens of the text.\"\"\"\n",
    "    return text.split()\n",
    "\n",
    "\n",
    "def get_score(text):\n",
    "    \"\"\"Returns the fraction of tokens which appear in dictionary.\"\"\"\n",
    "    tokens = tokenizer(text)\n",
    "    words = [token for token in tokens if token in dictionary]\n",
    "    return len(words) / len(tokens)\n",
    "\n",
    "\n",
    "# tests\n",
    "get_score(\"hello world\"), get_score(\"Hello, World!\")"
   ]
  },
  {
   "cell_type": "markdown",
   "id": "6a3cb153",
   "metadata": {
    "slideshow": {
     "slide_type": "fragment"
    }
   },
   "source": [
    "As shown in the tests above, the code fails to handle text with punctuations and uppercase letters properly.  \n",
    "In particular, \n",
    "- while `get_score` recognizes `hello world` as English-like and returns the maximum score of 1, \n",
    "- it fails to recognize `Hello, World!` as English-like and returns the minimum score of 0."
   ]
  },
  {
   "cell_type": "markdown",
   "id": "4db621c1",
   "metadata": {
    "slideshow": {
     "slide_type": "fragment"
    }
   },
   "source": [
    "Why? Every word in `dictionary`\n",
    "- are in lowercase, and\n",
    "- have no leading/trailing punctuations."
   ]
  },
  {
   "cell_type": "markdown",
   "id": "948d8a05",
   "metadata": {
    "slideshow": {
     "slide_type": "subslide"
    }
   },
   "source": [
    "::::{exercise}\n",
    ":label: ex:tokenizer\n",
    "\n",
    "Define a function `tokenizer` that \n",
    "- takes a string `text` as an argument, and\n",
    "- returns a `list` of tokens obtained by\n",
    "  1. splitting `text` into a list using `split()`;\n",
    "  2. removing leading/trailing punctuations in `string.punctuation` using the `strip` method; and\n",
    "  3. converting all items of the list to lowercase using `lower()`.\n",
    "\n",
    "::::"
   ]
  },
  {
   "cell_type": "code",
   "execution_count": null,
   "id": "1a7ea760",
   "metadata": {
    "deletable": false,
    "execution": {
     "iopub.execute_input": "2023-11-10T15:08:21.447242Z",
     "iopub.status.busy": "2023-11-10T15:08:21.446780Z",
     "iopub.status.idle": "2023-11-10T15:08:21.460099Z",
     "shell.execute_reply": "2023-11-10T15:08:21.459715Z",
     "shell.execute_reply.started": "2023-11-10T15:08:21.447226Z"
    },
    "nbgrader": {
     "cell_type": "code",
     "checksum": "a4a204dde08af2b839155efdd974a9fa",
     "grade": false,
     "grade_id": "tokenizer",
     "locked": false,
     "schema_version": 3,
     "solution": true,
     "task": false
    },
    "slideshow": {
     "slide_type": "-"
    },
    "tags": [
     "remove-output"
    ]
   },
   "outputs": [],
   "source": [
    "import string\n",
    "\n",
    "\n",
    "def tokenizer(text):\n",
    "    \"\"\"Returns the list of tokens of the text such that\n",
    "    1) each token has no leading or trailing spaces/punctuations, and\n",
    "    2) all letters in each token are in lowercase.\"\"\"\n",
    "    # YOUR CODE HERE\n",
    "    raise NotImplementedError()"
   ]
  },
  {
   "cell_type": "code",
   "execution_count": null,
   "id": "ff29d1e1",
   "metadata": {
    "code_folding": [],
    "deletable": false,
    "editable": false,
    "execution": {
     "iopub.execute_input": "2023-11-10T15:08:21.460927Z",
     "iopub.status.busy": "2023-11-10T15:08:21.460619Z",
     "iopub.status.idle": "2023-11-10T15:08:21.474856Z",
     "shell.execute_reply": "2023-11-10T15:08:21.474482Z",
     "shell.execute_reply.started": "2023-11-10T15:08:21.460913Z"
    },
    "nbgrader": {
     "cell_type": "code",
     "checksum": "5852278c832b32a9b3dce50b7544ccb7",
     "grade": true,
     "grade_id": "test-tokenizer",
     "locked": true,
     "points": 1,
     "schema_version": 3,
     "solution": false,
     "task": false
    },
    "slideshow": {
     "slide_type": "-"
    },
    "tags": [
     "hide-input",
     "remove-output"
    ]
   },
   "outputs": [],
   "source": [
    "# tests\n",
    "assert tokenizer(\"Hello, World!\") == [\"hello\", \"world\"]\n",
    "assert get_score(\"Hello, World!\") >= 0.99999\n",
    "assert tokenizer(\"Do you know Jean-Pierre?\") == [\"do\", \"you\", \"know\", \"jean-pierre\"]\n",
    "assert get_score(\"Do you know Jean-Pierre?\") >= 0.99999"
   ]
  },
  {
   "cell_type": "code",
   "execution_count": null,
   "id": "3db3df55",
   "metadata": {
    "deletable": false,
    "editable": false,
    "execution": {
     "iopub.execute_input": "2023-11-10T15:08:21.475581Z",
     "iopub.status.busy": "2023-11-10T15:08:21.475329Z",
     "iopub.status.idle": "2023-11-10T15:08:21.488431Z",
     "shell.execute_reply": "2023-11-10T15:08:21.488064Z",
     "shell.execute_reply.started": "2023-11-10T15:08:21.475567Z"
    },
    "nbgrader": {
     "cell_type": "code",
     "checksum": "087228dd289fc57a253c58db5d1f9bde",
     "grade": true,
     "grade_id": "h_test-tokenizer",
     "locked": true,
     "points": 1,
     "schema_version": 3,
     "solution": false,
     "task": false
    },
    "tags": [
     "hide-input",
     "remove-output"
    ]
   },
   "outputs": [],
   "source": [
    "# HIDDEN"
   ]
  },
  {
   "cell_type": "markdown",
   "id": "998818e8",
   "metadata": {
    "slideshow": {
     "slide_type": "slide"
    }
   },
   "source": [
    "### Launch a brute-force attack"
   ]
  },
  {
   "cell_type": "markdown",
   "id": "e9e6356f",
   "metadata": {
    "slideshow": {
     "slide_type": "subslide"
    }
   },
   "source": [
    "::::{exercise}\n",
    ":label: ex:cc-attack\n",
    "\n",
    "Define the function `cc_attack` that \n",
    "- takes as arguments\n",
    "    - a string `ciphertext`,\n",
    "    - a floating point number `threshold` in the interval $(0,1)$ with a default value of $0.6$, and\n",
    "- returns a generator that  \n",
    "    - generates one-by-one in ascending order guesses of the key that\n",
    "    - decrypt `ciphertext` to texts with scores at least the `threshold`.\n",
    "\n",
    "::::"
   ]
  },
  {
   "cell_type": "code",
   "execution_count": null,
   "id": "6fe6e155",
   "metadata": {
    "deletable": false,
    "execution": {
     "iopub.execute_input": "2023-11-10T15:08:21.489199Z",
     "iopub.status.busy": "2023-11-10T15:08:21.488898Z",
     "iopub.status.idle": "2023-11-10T15:08:21.502589Z",
     "shell.execute_reply": "2023-11-10T15:08:21.502217Z",
     "shell.execute_reply.started": "2023-11-10T15:08:21.489185Z"
    },
    "nbgrader": {
     "cell_type": "code",
     "checksum": "074c5611790ab330bc0366632c0247bf",
     "grade": false,
     "grade_id": "cc_attack",
     "locked": false,
     "schema_version": 3,
     "solution": true,
     "task": false
    },
    "slideshow": {
     "slide_type": "-"
    },
    "tags": [
     "remove-output"
    ]
   },
   "outputs": [],
   "source": [
    "def cc_attack(ciphertext, threshold=0.6):\n",
    "    \"\"\"Returns a generator that generates the next guess of the key that\n",
    "    decrypts the ciphertext to a text with get_score(text) at least the threshold.\n",
    "    \"\"\"\n",
    "    # YOUR CODE HERE\n",
    "    raise NotImplementedError()"
   ]
  },
  {
   "cell_type": "code",
   "execution_count": null,
   "id": "cd8205f3",
   "metadata": {
    "code_folding": [],
    "deletable": false,
    "editable": false,
    "execution": {
     "iopub.execute_input": "2023-11-10T15:08:21.503286Z",
     "iopub.status.busy": "2023-11-10T15:08:21.503035Z",
     "iopub.status.idle": "2023-11-10T15:08:21.554783Z",
     "shell.execute_reply": "2023-11-10T15:08:21.554417Z",
     "shell.execute_reply.started": "2023-11-10T15:08:21.503271Z"
    },
    "nbgrader": {
     "cell_type": "code",
     "checksum": "a56c491e2a5cf3be5147d6b25662bb7d",
     "grade": true,
     "grade_id": "test-cc_attack",
     "locked": true,
     "points": 1,
     "schema_version": 3,
     "solution": false,
     "task": false
    },
    "slideshow": {
     "slide_type": "-"
    },
    "tags": [
     "hide-input",
     "remove-output"
    ]
   },
   "outputs": [],
   "source": [
    "# tests\n",
    "ciphertext = cc_encrypt(\"Hello, World!\", 12345)\n",
    "key_generator = cc_attack(ciphertext)\n",
    "key_guess = next(key_generator)\n",
    "assert key_guess == 12345\n",
    "text = cc_decrypt(ciphertext, key_guess)\n",
    "print(\"guess of the key: {}\\nscore: {}\\ntext :{}\".format(key_guess, get_score(text), text))"
   ]
  },
  {
   "cell_type": "code",
   "execution_count": null,
   "id": "8c08a68e",
   "metadata": {
    "deletable": false,
    "editable": false,
    "execution": {
     "iopub.execute_input": "2023-11-10T15:08:21.555576Z",
     "iopub.status.busy": "2023-11-10T15:08:21.555268Z",
     "iopub.status.idle": "2023-11-10T15:08:21.558682Z",
     "shell.execute_reply": "2023-11-10T15:08:21.558310Z",
     "shell.execute_reply.started": "2023-11-10T15:08:21.555562Z"
    },
    "nbgrader": {
     "cell_type": "code",
     "checksum": "7a153c1fb908d70b584a36ee90170987",
     "grade": true,
     "grade_id": "h_test-cc_attack",
     "locked": true,
     "points": 1,
     "schema_version": 3,
     "solution": false,
     "task": false
    },
    "tags": [
     "hide-input",
     "remove-output"
    ]
   },
   "outputs": [],
   "source": [
    "# HIDDEN"
   ]
  },
  {
   "cell_type": "markdown",
   "id": "c4d66502",
   "metadata": {
    "slideshow": {
     "slide_type": "slide"
    }
   },
   "source": [
    "## Challenge"
   ]
  },
  {
   "cell_type": "markdown",
   "id": "445c15f4",
   "metadata": {},
   "source": [
    "Another symmetric key cipher is [columnar transposition cipher](https://en.wikipedia.org/wiki/Transposition_cipher#Columnar_transposition). A transposition cipher encrypts a text by permuting instead of substituting characters."
   ]
  },
  {
   "cell_type": "markdown",
   "id": "41c16acb",
   "metadata": {
    "slideshow": {
     "slide_type": "subslide"
    }
   },
   "source": [
    "::::{exercise}\n",
    ":label: ex:columnar\n",
    "\n",
    "Study and implement the irregular case of the [columnar transposition cipher](https://en.wikipedia.org/wiki/Transposition_cipher#Columnar_transposition) as described in the Wikipedia page. Define the functions \n",
    "- `ct_encrypt(plaintext, key)` for encryption, and \n",
    "- `ct_decrypt(ciphertext, key)` for decryption. \n",
    "\n",
    "You can assume the plaintext is in uppercase and has no spaces/punctuations.\n",
    "\n",
    ":::{hint}\n",
    ":class: dropdown\n",
    "\n",
    "See the test cases for examples of `plaintext`, `key`, and the corresponding `ciphertext`. The following is a solution template:\n",
    "\n",
    "```python\n",
    "def argsort(seq):\n",
    "    '''A helper function that returns the tuple of indices that would sort the\n",
    "    sequence seq.'''\n",
    "    return tuple(x[0] for x in sorted(enumerate(seq), key=lambda x: x[1]))\n",
    "\n",
    "\n",
    "def ct_idx(length, key):\n",
    "    '''A helper function that returns the tuple of indices that would permute \n",
    "    the letters of a message according to the key using the irregular case of \n",
    "    columnar transposition cipher.'''\n",
    "    seq = tuple(range(length))\n",
    "    return [i for j in argsort(key) for i in ___]\n",
    "\n",
    "\n",
    "def ct_encrypt(plaintext, key):\n",
    "    '''\n",
    "    Return the ciphertext of a plaintext by the key using the irregular case\n",
    "    of columnar transposition cipher.\n",
    "\n",
    "    Parameters\n",
    "    ----------\n",
    "    plaintext: str\n",
    "        a message in uppercase without punctuations/spaces.\n",
    "    key: str\n",
    "        secret key to encrypt plaintext.\n",
    "    '''\n",
    "    return ''.join([plaintext[i] for i in ct_idx(len(plaintext), key)])\n",
    "\n",
    "\n",
    "def ct_decrypt(ciphertext, key):\n",
    "    '''\n",
    "    Return the plaintext of the ciphertext by the key using the irregular case\n",
    "    of columnar transposition cipher.\n",
    "\n",
    "    Parameters\n",
    "    ----------\n",
    "    ciphertext: str\n",
    "        a string in uppercase without punctuations/spaces.\n",
    "    key: str\n",
    "        secret key to decrypt ciphertext.\n",
    "    '''\n",
    "    return ___\n",
    "```\n",
    "\n",
    "\n",
    ":::\n",
    "\n",
    "::::"
   ]
  },
  {
   "cell_type": "code",
   "execution_count": null,
   "id": "efb9d9d1",
   "metadata": {
    "deletable": false,
    "execution": {
     "iopub.execute_input": "2023-11-10T15:08:21.559409Z",
     "iopub.status.busy": "2023-11-10T15:08:21.559149Z",
     "iopub.status.idle": "2023-11-10T15:08:21.574745Z",
     "shell.execute_reply": "2023-11-10T15:08:21.574376Z",
     "shell.execute_reply.started": "2023-11-10T15:08:21.559395Z"
    },
    "nbgrader": {
     "cell_type": "code",
     "checksum": "98df17cad7f85438965c855febc2b736",
     "grade": false,
     "grade_id": "ct",
     "locked": false,
     "schema_version": 3,
     "solution": true,
     "task": false
    },
    "slideshow": {
     "slide_type": "-"
    },
    "tags": [
     "remove-output"
    ]
   },
   "outputs": [],
   "source": [
    "# YOUR CODE HERE\n",
    "raise NotImplementedError()"
   ]
  },
  {
   "cell_type": "code",
   "execution_count": null,
   "id": "b7bab3f7",
   "metadata": {
    "deletable": false,
    "editable": false,
    "execution": {
     "iopub.execute_input": "2023-11-10T15:08:21.575521Z",
     "iopub.status.busy": "2023-11-10T15:08:21.575216Z",
     "iopub.status.idle": "2023-11-10T15:08:21.590561Z",
     "shell.execute_reply": "2023-11-10T15:08:21.590186Z",
     "shell.execute_reply.started": "2023-11-10T15:08:21.575507Z"
    },
    "nbgrader": {
     "cell_type": "code",
     "checksum": "a893a09904c9aae29dafdd12e68c7318",
     "grade": true,
     "grade_id": "test-ct",
     "locked": true,
     "points": 1,
     "schema_version": 3,
     "solution": false,
     "task": false
    },
    "slideshow": {
     "slide_type": "-"
    },
    "tags": [
     "hide-input",
     "remove-output"
    ]
   },
   "outputs": [],
   "source": [
    "# tests\n",
    "key = \"ZEBRAS\"\n",
    "plaintext = \"WEAREDISCOVEREDFLEEATONCE\"\n",
    "ciphertext = \"EVLNACDTESEAROFODEECWIREE\"\n",
    "assert ct_encrypt(plaintext, key) == ciphertext\n",
    "assert ct_decrypt(ciphertext, key) == plaintext"
   ]
  },
  {
   "cell_type": "code",
   "execution_count": null,
   "id": "8e4d1e5b",
   "metadata": {
    "deletable": false,
    "editable": false,
    "execution": {
     "iopub.execute_input": "2023-11-10T15:08:21.591280Z",
     "iopub.status.busy": "2023-11-10T15:08:21.591023Z",
     "iopub.status.idle": "2023-11-10T15:08:21.606402Z",
     "shell.execute_reply": "2023-11-10T15:08:21.605752Z",
     "shell.execute_reply.started": "2023-11-10T15:08:21.591266Z"
    },
    "nbgrader": {
     "cell_type": "code",
     "checksum": "aa4a81e4c8537d8c111bd4dda213471e",
     "grade": true,
     "grade_id": "h_test-ct",
     "locked": true,
     "points": 1,
     "schema_version": 3,
     "solution": false,
     "task": false
    },
    "tags": [
     "hide-input",
     "remove-output"
    ]
   },
   "outputs": [],
   "source": [
    "# HIDDEN"
   ]
  }
 ],
 "metadata": {
  "kernelspec": {
   "display_name": "Python 3 (ipykernel)",
   "language": "python",
   "name": "python3"
  },
  "language_info": {
   "codemirror_mode": {
    "name": "ipython",
    "version": 3
   },
   "file_extension": ".py",
   "mimetype": "text/x-python",
   "name": "python",
   "nbconvert_exporter": "python",
   "pygments_lexer": "ipython3",
   "version": "3.11.6"
  },
  "widgets": {
   "application/vnd.jupyter.widget-state+json": {
    "state": {},
    "version_major": 2,
    "version_minor": 0
   }
  }
 },
 "nbformat": 4,
 "nbformat_minor": 5
}
