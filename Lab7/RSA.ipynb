{
 "cells": [
  {
   "cell_type": "markdown",
   "id": "06574765",
   "metadata": {
    "tags": []
   },
   "source": [
    "# Public-Key Encryption (Optional)"
   ]
  },
  {
   "cell_type": "markdown",
   "id": "5541aad4",
   "metadata": {},
   "source": [
    "**CS1302 Introduction to Computer Programming**\n",
    "___"
   ]
  },
  {
   "cell_type": "markdown",
   "id": "a7e4563e",
   "metadata": {},
   "source": [
    "This notebook will introduce the idea of public-key (asymmetric key) cryptography called the [RSA algorithm](https://en.wikipedia.org/wiki/RSA_(cryptosystem))."
   ]
  },
  {
   "cell_type": "markdown",
   "id": "2c9e5053",
   "metadata": {
    "tags": []
   },
   "source": [
    "## Motivation"
   ]
  },
  {
   "cell_type": "markdown",
   "id": "11aad967",
   "metadata": {},
   "source": [
    "**What is public key encryption?**"
   ]
  },
  {
   "cell_type": "markdown",
   "id": "f9b62f92",
   "metadata": {},
   "source": [
    "Suppose there is one receiver trying to receive private messsages from multiple senders."
   ]
  },
  {
   "cell_type": "markdown",
   "id": "a68af39f",
   "metadata": {},
   "source": [
    "::::{prf:definition} Asymmetric key cipher\n",
    "\n",
    "Every sender uses the same public key $k_e$ to encrypt a plaintext $x$ to a ciphertext $y$ as\n",
    "\n",
    "$$\n",
    "y = E(x, k_e).\n",
    "$$ (encrypt)\n",
    "\n",
    "The receiver with the private key $k_d$ decrypts the ciphertext back to the plaintext as\n",
    "\n",
    "$$\n",
    "x = D(y, k_d).\n",
    "$$ (decrypt)\n",
    "\n",
    "$k_e, k_d, E, D$ is chosen to ensure\n",
    "\n",
    "- Decryptability: The receiver can recover the plaintext.\n",
    "- Secrecy: Anyone with only the public key but not the private key cannot recover the plaintext.\n",
    "\n",
    "::::"
   ]
  },
  {
   "cell_type": "markdown",
   "id": "a7731387",
   "metadata": {},
   "source": [
    "::::{exercise}\n",
    ":label: ex:rsa1\n",
    "What is the benefit of asymmetric key cipher over symmetric key cipher?\n",
    "\n",
    "::::"
   ]
  },
  {
   "cell_type": "markdown",
   "id": "2d053c9f",
   "metadata": {
    "deletable": false,
    "editable": false,
    "nbgrader": {
     "cell_type": "markdown",
     "checksum": "64c459ab90f9ba35101c8485bb02ee1d",
     "grade": false,
     "grade_id": "benefits",
     "locked": true,
     "points": 0,
     "schema_version": 3,
     "solution": false,
     "task": true
    },
    "tags": [
     "hide-input"
    ]
   },
   "source": [
    "::::{solution} ex:rsa1\n",
    ":class: dropdown\n",
    "\n",
    "- Easy to share keys: Encryption key can be shared to all senders publicly.\n",
    "- Easy to store keys: Only the receiver needs to know the private key.\n",
    "\n",
    "::::"
   ]
  },
  {
   "cell_type": "markdown",
   "id": "f77e6216",
   "metadata": {},
   "source": [
    "**Is public key encryption possible?**"
   ]
  },
  {
   "cell_type": "markdown",
   "id": "3706cd56",
   "metadata": {},
   "source": [
    "Unfortunately, public key encryption is an invertible function given a public key:"
   ]
  },
  {
   "cell_type": "markdown",
   "id": "eb443036",
   "metadata": {},
   "source": [
    "::::{prf:proposition} \n",
    "\n",
    "The plaintext can be recovered from the ciphertext using the public key, even without the private key.  \n",
    "  \n",
    "::::"
   ]
  },
  {
   "cell_type": "markdown",
   "id": "f116d117",
   "metadata": {},
   "source": [
    "::::{exercise}\n",
    ":label: ex:rsa2\n",
    "\n",
    "Prove the above proposition.\n",
    "\n",
    "::::"
   ]
  },
  {
   "cell_type": "markdown",
   "id": "5552939c",
   "metadata": {
    "deletable": false,
    "nbgrader": {
     "cell_type": "markdown",
     "checksum": "d05a74c8b8e76a1782e8ad4c451ebbad",
     "grade": true,
     "grade_id": "invertible",
     "locked": false,
     "points": 0,
     "schema_version": 3,
     "solution": true,
     "task": false
    },
    "tags": [
     "hide-input"
    ]
   },
   "source": [
    "YOUR ANSWER HERE"
   ]
  },
  {
   "cell_type": "markdown",
   "id": "8111d5cf",
   "metadata": {},
   "source": [
    "**How to make public key encryption secure?**"
   ]
  },
  {
   "cell_type": "markdown",
   "id": "9a8eb19d",
   "metadata": {},
   "source": [
    "We can make it computationally infeasible to invert $E(\\cdot, k_e)$ unless with the private key $k_d$ is available. Such a function is called the [trapdoor function](https://en.wikipedia.org/wiki/Trapdoor_function#:~:text=A%20trapdoor%20function%20is%20a,are%20widely%20used%20in%20cryptography.). An example of a trapdoor function is:"
   ]
  },
  {
   "cell_type": "markdown",
   "id": "385c8c99",
   "metadata": {},
   "source": [
    "::::{prf:proposition} Integer factorization\n",
    "\n",
    "Computing the product of of two prime numbers $p$ and $q$, i.e.,\n",
    "\n",
    "$$\n",
    "(p,q)\\mapsto n,\n",
    "$$\n",
    "\n",
    "is a trapdoor function because integer factorization (computing $p$ and $q$ from $n$) is [co-NP](https://en.wikipedia.org/wiki/Integer_factorization) (difficult).\n",
    "\n",
    "::::"
   ]
  },
  {
   "cell_type": "markdown",
   "id": "c35a160f",
   "metadata": {},
   "source": [
    "As the size of $p$ and $q$ increases, the time required to factor $n$ increases dramatically as illustrated [here](https://www.khanacademy.org/computing/computer-science/cryptography/modern-crypt/pi/time-complexity-exploration)."
   ]
  },
  {
   "cell_type": "markdown",
   "id": "ed8799f0",
   "metadata": {
    "tags": []
   },
   "source": [
    "## RSA Algorithm"
   ]
  },
  {
   "cell_type": "markdown",
   "id": "67fe3e3d",
   "metadata": {},
   "source": [
    "**How to encrypt/decrypt?**"
   ]
  },
  {
   "cell_type": "markdown",
   "id": "1e0f6759",
   "metadata": {},
   "source": [
    "The encryption and decryption use modulo exponentiation instead of addition:\n",
    "\n",
    "$$\n",
    "\\begin{align}\n",
    "E(x, k_e) &:= x^e \\bmod n && \\text{where }k_e:=(e,n)\\\\\n",
    "D(c, k_d) &:= c^d \\bmod n && \\text{where }k_d:=(d,n),\n",
    "\\end{align}\n",
    "$$\n",
    " \n",
    "and $e$, $d$, and $n$ are positive integers."
   ]
  },
  {
   "cell_type": "markdown",
   "id": "b20aa601",
   "metadata": {},
   "source": [
    "Computing exponentiation can be fast using [repeated squaring](https://en.wikipedia.org/wiki/Exponentiation_by_squaring). The built-in function `pow` already has an efficient implementation:"
   ]
  },
  {
   "cell_type": "code",
   "execution_count": null,
   "id": "c0796199",
   "metadata": {},
   "outputs": [],
   "source": [
    "%%timeit\n",
    "x, e, n = 3, 2 ** 1000000, 4\n",
    "pow(x, e, n)"
   ]
  },
  {
   "cell_type": "markdown",
   "id": "eeb8e8ba",
   "metadata": {},
   "source": [
    "::::{exercise}\n",
    ":label: ex:rsa3\n",
    "\n",
    "Implement you own `modulo_power` using a recusion.\n",
    "\n",
    "::::"
   ]
  },
  {
   "cell_type": "code",
   "execution_count": null,
   "id": "0c1f6019",
   "metadata": {
    "deletable": false,
    "nbgrader": {
     "cell_type": "code",
     "checksum": "20e9f32d01ddde3dca8c60bd914d313a",
     "grade": false,
     "grade_id": "modulo_power",
     "locked": false,
     "schema_version": 3,
     "solution": true,
     "task": false
    },
    "tags": [
     "hide-input"
    ]
   },
   "outputs": [],
   "source": [
    "%%timeit\n",
    "def modulo_power(x, e, n):\n",
    "    # YOUR CODE HERE\n",
    "    raise NotImplementedError()\n",
    "\n",
    "\n",
    "x, e, n = 3, 2 ** 1000000, 4\n",
    "pow(x, e, n)"
   ]
  },
  {
   "cell_type": "markdown",
   "id": "69c5a57f",
   "metadata": {},
   "source": [
    "**How to ensure decryptability?**"
   ]
  },
  {
   "cell_type": "markdown",
   "id": "f2b7d1b2",
   "metadata": {},
   "source": [
    "For $x = D(E(x, k_e), k_d) = x^{ed} \\bmod n$, we need $0\\leq x < n$ and\n",
    "\n",
    "$$\n",
    "x^{ed} \\equiv x \\mod n.\n",
    "$$ (decryptability)"
   ]
  },
  {
   "cell_type": "markdown",
   "id": "96a1afc9",
   "metadata": {},
   "source": [
    "::::{exercise}\n",
    ":label: ex:rsa4\n",
    "\n",
    "Derive the above condition using $(a^c \\bmod b) = (a\\bmod b)^c \\bmod b$.\n",
    "\n",
    "::::"
   ]
  },
  {
   "cell_type": "markdown",
   "id": "87244b73",
   "metadata": {
    "deletable": false,
    "editable": false,
    "nbgrader": {
     "cell_type": "markdown",
     "checksum": "fe0bb49ac84119fdb3676fd2c8a12585",
     "grade": false,
     "grade_id": "decryptability",
     "locked": true,
     "points": 0,
     "schema_version": 3,
     "solution": false,
     "task": true
    },
    "tags": [
     "hide-input"
    ]
   },
   "source": [
    "::::{solution} ex:rsa4\n",
    ":class: dropdown\n",
    "\n",
    "$$\n",
    "\\begin{align}\n",
    "x &= D(E(x, k_e), k_d) \\\\\n",
    "&= (x^{e} \\bmod n)^{d} \\bmod n \\\\\n",
    "&= x^{ed} \\bmod n.\n",
    "\\end{align}\n",
    "$$\n",
    "\n",
    "::::"
   ]
  },
  {
   "cell_type": "markdown",
   "id": "20904c5f",
   "metadata": {},
   "source": [
    "RSA makes use of the following result to choose $(e, d, n)$:"
   ]
  },
  {
   "cell_type": "markdown",
   "id": "b8121a99",
   "metadata": {},
   "source": [
    "::::{prf:theorem} Fermat's little Theorem\n",
    "\n",
    "If $p$ is prime, then\n",
    "\n",
    "$$\n",
    "x^{p-1}\\equiv 1 \\mod p\n",
    "$$ (fermat)\n",
    "\n",
    "for any integer $x$.\n",
    "\n",
    "::::"
   ]
  },
  {
   "cell_type": "markdown",
   "id": "9cc5e691",
   "metadata": {},
   "source": [
    "There are elegant and elementary [combinatorial proofs](https://en.wikipedia.org/wiki/Proofs_of_Fermat%27s_little_theorem#Combinatorial_proofs)."
   ]
  },
  {
   "cell_type": "markdown",
   "id": "80403656",
   "metadata": {},
   "source": [
    "Since {eq}`fermat` implies $x^p = x \\bmod p$, can we choose   \n",
    "- $n=p$ and \n",
    "- $ed=p$\n",
    "\n",
    "to satisfies {eq}`decryptability`?"
   ]
  },
  {
   "cell_type": "markdown",
   "id": "bab41d92",
   "metadata": {},
   "source": [
    "No because the private key can then be easily computed from the public key: $d = n/e$."
   ]
  },
  {
   "cell_type": "markdown",
   "id": "1f8bf2d0",
   "metadata": {},
   "source": [
    "Alternatively, by raising {eq}`fermat` to the power of any integer $m$,\n",
    "\n",
    "$$\n",
    "x^{m(p-1)} \\equiv 1 \\mod p.\n",
    "$$ (fermat-m)"
   ]
  },
  {
   "cell_type": "markdown",
   "id": "5abbc3b2",
   "metadata": {},
   "source": [
    "Can we have $n=p$ and $ed \\equiv 1 \\bmod p-1$?"
   ]
  },
  {
   "cell_type": "markdown",
   "id": "6a42840e",
   "metadata": {},
   "source": [
    "No because $d$ is the modular multiplicative inverse of $e$, which is [easy to compute](https://en.wikipedia.org/wiki/Modular_multiplicative_inverse#Computation), e.g., using `pow` with an exponent of `-1`. In particular, for prime modulus here, the inverse is $d=e^{p-2}\\bmod p$:"
   ]
  },
  {
   "cell_type": "code",
   "execution_count": null,
   "id": "ab0b342f",
   "metadata": {},
   "outputs": [],
   "source": [
    "e, n = 3, 7\n",
    "d = pow(e, -1, n)\n",
    "d, e * d % n == 1 and d == e ** (n - 2) % n"
   ]
  },
  {
   "cell_type": "markdown",
   "id": "4dbeb1a5",
   "metadata": {},
   "source": [
    "**How to make it difficult to compute $d$?**"
   ]
  },
  {
   "cell_type": "markdown",
   "id": "b6ab3b5d",
   "metadata": {},
   "source": [
    "RSA makes use of the hardness of factoring a product of large primes to create the desired trapdoor function."
   ]
  },
  {
   "cell_type": "markdown",
   "id": "f6028364",
   "metadata": {},
   "source": [
    "In particular, with $m(p-1)$ in {eq}`fermat-m` being the least common multiple $\\operatorname{lcm}(p-1,q-1)$ for another prime number $q$, we have\n",
    "\n",
    "$$\n",
    "\\begin{align}\n",
    "x^{\\operatorname{lcm}(p-1, q-1)} &\\equiv 1 \\mod p && \\text{and}\\\\\n",
    "x^{\\operatorname{lcm}(p-1, q-1)} &\\equiv 1 \\mod q && \\text{by symmetry.}\n",
    "\\end{align}\n",
    "$$"
   ]
  },
  {
   "cell_type": "markdown",
   "id": "0b67f9cd",
   "metadata": {},
   "source": [
    "This implies $x^{\\operatorname{lcm}(p-1, q-1)} - 1$ is divisible by both $p$ and $q$, and so\n",
    "\n",
    "$$\n",
    "x^{\\operatorname{lcm}(p-1, q-1)} \\equiv 1 \\mod p q.\n",
    "$$\n",
    "\n",
    "Raising both sides to the power of any positive integer $m$ give:"
   ]
  },
  {
   "cell_type": "markdown",
   "id": "d7091059",
   "metadata": {},
   "source": [
    "::::{prf:proposition} RSA\n",
    "\n",
    "If $p$ and $q$ are prime, then\n",
    "\n",
    "$$\n",
    "x^{\\overbrace{m \\operatorname{lcm}(p-1, q-1)}^{ed - 1}} \\equiv 1 \\mod \\overbrace{p q}^n\n",
    "$$ (rsa)\n",
    "\n",
    "for any integer $x$. This implies {eq}`decryptability` with by choosing $n = pq$ and\n",
    "\n",
    "$$\n",
    "ed \\equiv 1 \\mod \\operatorname{lcm}(p-1, q-1).\n",
    "$$ (ed)\n",
    "\n",
    "::::"
   ]
  },
  {
   "cell_type": "markdown",
   "id": "7c1c8183",
   "metadata": {},
   "source": [
    "Although $d$ is still the modulo multiplicative inverse of $e$, it is with respect to $\\operatorname{lcm}(p-1, q-1)$, which is not easy to compute without knowing the factors of $n$, namely $p$ and $q$. It can be shown that computing $d$ is [as hard as](https://crypto.stackexchange.com/questions/16036/is-knowing-the-private-key-of-rsa-equivalent-to-the-factorization-of-n) computing $\\operatorname{lcm}(p-1, q-1)$ or factoring $n$."
   ]
  },
  {
   "cell_type": "markdown",
   "id": "51a77551",
   "metadata": {},
   "source": [
    "**How to generate the public key and private key?**"
   ]
  },
  {
   "cell_type": "markdown",
   "id": "65687205",
   "metadata": {},
   "source": [
    "By {eq}`ed`, we can compute $d$ as the modulo multiplicative inverse of $e$. How to choose $e$ then?"
   ]
  },
  {
   "cell_type": "markdown",
   "id": "4d8b8f08",
   "metadata": {},
   "source": [
    "We can choose any $e \\in \\{1, \\dots, \\operatorname{lcm}(p-1, q-1)\\}$ such that $e$ does not divide $\\operatorname{lcm}(p-1, q-1)$."
   ]
  },
  {
   "cell_type": "markdown",
   "id": "7dc4e65d",
   "metadata": {},
   "source": [
    "::::{exercise}\n",
    ":label: ex:rsa5\n",
    "\n",
    "For $e$ to have the modulo multiplicative inverse, it should not divide $\\operatorname{lcm}(p-1, q-1)$. Why? \n",
    "\n",
    "::::"
   ]
  },
  {
   "cell_type": "markdown",
   "id": "4e0e7b5b",
   "metadata": {
    "deletable": false,
    "nbgrader": {
     "cell_type": "markdown",
     "checksum": "ce1d2461804920db0bcff59fd0709d2d",
     "grade": true,
     "grade_id": "inverse",
     "locked": false,
     "points": 0,
     "schema_version": 3,
     "solution": true,
     "task": false
    },
    "tags": [
     "hide-input"
    ]
   },
   "source": [
    "YOUR ANSWER HERE"
   ]
  },
  {
   "cell_type": "markdown",
   "id": "b505500c",
   "metadata": {},
   "source": [
    "The following function randomly generate the `e, d, n` for some given prime numbers `p` and `q`:"
   ]
  },
  {
   "cell_type": "code",
   "execution_count": null,
   "id": "606ae458",
   "metadata": {},
   "outputs": [],
   "source": [
    "from math import gcd\n",
    "from random import randint\n",
    "\n",
    "\n",
    "def get_rsa_keys(p, q):\n",
    "    n = p * q\n",
    "    lcm = (p - 1) * (q - 1) // gcd(p - 1, q - 1)\n",
    "    while True:\n",
    "        e = randint(1, lcm - 1)\n",
    "        if gcd(e, lcm) == 1:\n",
    "            break\n",
    "    d = pow(e, -1, lcm)\n",
    "    return e, d, n, lcm"
   ]
  },
  {
   "cell_type": "markdown",
   "id": "4372b6fe",
   "metadata": {},
   "source": [
    "Note that\n",
    "\n",
    "$$\n",
    "\\operatorname{lcm}(p-1, q-1) = \\frac{(p-1)(q-1)}{\\operatorname{gcd}(p-1, q-1)}.\n",
    "$$"
   ]
  },
  {
   "cell_type": "markdown",
   "id": "3fe1e0d6",
   "metadata": {},
   "source": [
    "As an example, if we choose two prime numbers $p=17094589121$ and $q=1062873761$:"
   ]
  },
  {
   "cell_type": "code",
   "execution_count": null,
   "id": "6644f5fc",
   "metadata": {},
   "outputs": [],
   "source": [
    "e, d, n, lcm = get_rsa_keys(17094589121, 1062873761)\n",
    "e, d, n, e * d % lcm == 1"
   ]
  },
  {
   "cell_type": "markdown",
   "id": "aab39a16",
   "metadata": {},
   "source": [
    "The integer $1302$ can be encrypted as follows:"
   ]
  },
  {
   "cell_type": "code",
   "execution_count": null,
   "id": "e0fc73d2",
   "metadata": {},
   "outputs": [],
   "source": [
    "x = 1302\n",
    "c = pow(x, e, n)\n",
    "print(f'The plain text \"{x}\" has been encrypted into \"{c}\".')"
   ]
  },
  {
   "cell_type": "markdown",
   "id": "ee66b9e7",
   "metadata": {},
   "source": [
    "With the private key $k_d$, the ciphertext can be decrypted easily as"
   ]
  },
  {
   "cell_type": "code",
   "execution_count": null,
   "id": "b41fd0cf",
   "metadata": {},
   "outputs": [],
   "source": [
    "output = pow(c, d, n)\n",
    "print(f'The cipher \"{c}\" has been decrypted into \"{output}\".')"
   ]
  },
  {
   "cell_type": "markdown",
   "id": "cc2d139b",
   "metadata": {},
   "source": [
    "::::{exercise}\n",
    ":label: ex:rsa6\n",
    "\n",
    "Using the `rsa` module, [generate a RSA key pair](https://stuvel.eu/python-rsa-doc/usage.html#generating-keys) with suitable length and then use it to encrypt and decrypt your own message. You can install the module by running the following command in a terminal:\n",
    "\n",
    "```\n",
    "pip install rsa\n",
    "```\n",
    "\n",
    "::::"
   ]
  }
 ],
 "metadata": {
  "kernelspec": {
   "display_name": "Python 3 (ipykernel)",
   "language": "python",
   "name": "python3"
  }
 },
 "nbformat": 4,
 "nbformat_minor": 5
}
