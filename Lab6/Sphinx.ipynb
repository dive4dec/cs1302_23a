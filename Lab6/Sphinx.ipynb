{
 "cells": [
  {
   "cell_type": "markdown",
   "id": "6a376d6b",
   "metadata": {},
   "source": [
    "# Sphinx Autodoc (Optional)"
   ]
  },
  {
   "cell_type": "markdown",
   "id": "872ed5e0",
   "metadata": {
    "slideshow": {
     "slide_type": "-"
    },
    "tags": [
     "remove-cell"
    ]
   },
   "source": [
    "CS1302 Introduction to Computer Programming\n",
    "___"
   ]
  },
  {
   "cell_type": "markdown",
   "id": "dd0a5ece",
   "metadata": {},
   "source": [
    "[Sphinx](https://www.sphinx-doc.org/en/master/index.html) is a tool to generate high-quality documentations such as:\n",
    " - [Python](https://docs.python.org/3/) [(src)](https://github.com/python/cpython/tree/main/Doc)\n",
    " - [Numpy](https://numpy.org/doc/stable/) [(src)](https://github.com/numpy/numpy/blob/main/doc)\n",
    " - [Pandas](https://pandas.pydata.org/docs/) [(src)](https://github.com/pandas-dev/pandas/blob/main/doc)"
   ]
  },
  {
   "cell_type": "markdown",
   "id": "7bcbce2a",
   "metadata": {},
   "source": [
    "Sphinx provides an extension called [autodoc](https://www.sphinx-doc.org/en/master/usage/extensions/autodoc.html) that can automatically generate documentations from the docstrings of a module. We will use it to document our `recurtools` module used in Lecture 6."
   ]
  },
  {
   "cell_type": "markdown",
   "id": "fe26774e",
   "metadata": {},
   "source": [
    "## Getting started"
   ]
  },
  {
   "cell_type": "markdown",
   "id": "6a045574",
   "metadata": {},
   "source": [
    "We will run the sphinx in the terminal. To start a termial session in JupyterLab:\n",
    "\n",
    "- Open the Launcher (`File->New Launcher`).\n",
    "- Start a new termial session by clicking the `Terminal` icon under `Other`."
   ]
  },
  {
   "cell_type": "markdown",
   "id": "c3d91256",
   "metadata": {},
   "source": [
    "You should see the terminal tab with a prompt for your input:\n",
    "\n",
    "```sh\n",
    "(base) {username}@{hostname}:{cd}$ ▯\n",
    "```"
   ]
  },
  {
   "cell_type": "markdown",
   "id": "0dab8944",
   "metadata": {},
   "source": [
    "::::{note}\n",
    "\n",
    "- `(base)` indicates the [conda environment](https://conda.io/projects/conda/en/latest/user-guide/getting-started.html#managing-environments) you are using.\n",
    "- `{username}` shows your username.\n",
    "- `{hostname}` shows the name of the server running your jupyter environment.\n",
    "- `{cd}` shows your current directory. By default, it shows `~`, which is an alias of your home directory `/home/{username}`.\n",
    "- ▯ is the cursor, where you can run a [`bash` command](https://en.wikipedia.org/wiki/Bash_(Unix_shell)).\n",
    "\n",
    "::::"
   ]
  },
  {
   "cell_type": "markdown",
   "id": "59881b65",
   "metadata": {},
   "source": [
    "**How to install sphinx?**"
   ]
  },
  {
   "cell_type": "markdown",
   "id": "bb6754b6",
   "metadata": {},
   "source": [
    "There are many ways to install `sphinx` as detailed in the [documentation](https://www.sphinx-doc.org/en/master/usage/installation.html). E.g., you can install Sphinx using pip, which is the Python package installer. Run the following command:"
   ]
  },
  {
   "cell_type": "markdown",
   "id": "38383d51",
   "metadata": {},
   "source": [
    "`pip install sphinx`"
   ]
  },
  {
   "cell_type": "markdown",
   "id": "36f10736",
   "metadata": {},
   "source": [
    "This command installs `sphinx` globally. Note that restarting your jupyter server will erase global packages you installed. To install it locally to your home directory, you can create and activate a conda environment:"
   ]
  },
  {
   "cell_type": "markdown",
   "id": "2eeabcb3",
   "metadata": {},
   "source": [
    "- You can create a new conda environment named `sphinx` with the following command:\n",
    "  ```sh\n",
    "  conda create --name sphinx\n",
    "  ```\n",
    "  \n",
    "- Before you can use this environment and install packages into it, you need to activate it. You can do this with the following command:\n",
    "  ```sh\n",
    "  conda activate sphinx\n",
    "  ```\n",
    "\n",
    "- Now you can install Sphinx into the \"sphinx\" environment by running the following command:\n",
    "  ```sh\n",
    "  conda install sphinx\n",
    "  ```"
   ]
  },
  {
   "cell_type": "markdown",
   "id": "f7cd087c",
   "metadata": {},
   "source": [
    "You can now start creating the document as described below. When you are done using `sphinx`, you can deactivate the environment using the command:\n",
    "```sh\n",
    "conda deactivate\n",
    "```"
   ]
  },
  {
   "cell_type": "markdown",
   "id": "e9329335",
   "metadata": {},
   "source": [
    "::::{tip}\n",
    "\n",
    "- To list all your conda environments and their corresponding paths, run the command\n",
    "  ```sh\n",
    "  conda env list\n",
    "  ```\n",
    "- You can also create a jupyter notebook kernel for your `sphinx` environment:\n",
    "  ```sh\n",
    "  conda activate sphinx && \\\n",
    "  pip install ipykernel && \\\n",
    "  python -m ipykernel install --user --name sphinx --display-name \"Python (sphinx)\"\n",
    "  ```\n",
    "  After refreshing your browser, you will see a new python kernel called \"Python (sphinx)\" in `File->New Launcher`.\n",
    "\n",
    "::::"
   ]
  },
  {
   "cell_type": "markdown",
   "id": "543531db",
   "metadata": {},
   "source": [
    "**How to configure sphinx?**"
   ]
  },
  {
   "cell_type": "markdown",
   "id": "220c1f05",
   "metadata": {},
   "source": [
    "Run the following quick-start command in a terminal to create the configuration files in a folder called `docs` under your home directory:\n",
    "\n",
    "```sh\n",
    "sphinx-quickstart ~/docs\n",
    "```"
   ]
  },
  {
   "cell_type": "markdown",
   "id": "41a554f4",
   "metadata": {},
   "source": [
    "::::{tip}\n",
    "\n",
    "- You need to press enter to execute the command.\n",
    "- `~/docs` expands to `/home/{username}/docs`. \n",
    "- You can learn more about a command by running it with the option `--help` such as  \n",
    "    ```sh\n",
    "    sphinx-quickstart --help\n",
    "    ```\n",
    "\n",
    "::::"
   ]
  },
  {
   "cell_type": "markdown",
   "id": "af5695e6",
   "metadata": {},
   "source": [
    "You will be asked a few questions:  \n",
    "- Answer `y` to the first question to use separate source and build directories.\n",
    "- Answer whatever you desire for the remaining questions."
   ]
  },
  {
   "cell_type": "markdown",
   "id": "f6831cf2",
   "metadata": {},
   "source": [
    "```sh\n",
    "You have two options for placing the build directory for Sphinx output.\n",
    "Either, you use a directory \"_build\" within the root path, or you separate\n",
    "\"source\" and \"build\" directories within the root path.\n",
    "> Separate source and build directories (y/n) [n]: y\n",
    "\n",
    "The project name will occur in several places in the built documentation.\n",
    "> Project name: Recurtools\n",
    "> Author name(s): CHAN Chung\n",
    "> Project release []: beta\n",
    "```"
   ]
  },
  {
   "cell_type": "markdown",
   "id": "871b5d42",
   "metadata": {},
   "source": [
    "````{note}\n",
    "\n",
    "- [Project release](https://www.sphinx-doc.org/en/master/usage/configuration.html#confval-release) specifies the full project version. See [software versioning](https://en.wikipedia.org/wiki/Software_versioning) for the convention.\n",
    "- If successful, the command will print the message\n",
    "    ```\n",
    "    Finished: An initial directory structure has been created.\n",
    "    ```\n",
    "\n",
    "````"
   ]
  },
  {
   "cell_type": "markdown",
   "id": "f1f62c4c",
   "metadata": {},
   "source": [
    "**How to build the documentation?**"
   ]
  },
  {
   "cell_type": "markdown",
   "id": "2d9b9a25",
   "metadata": {},
   "source": [
    "Run the build script：\n",
    "\n",
    "```sh\n",
    "sphinx-build -b html ~/docs/source ~/www/recurtools\n",
    "```"
   ]
  },
  {
   "cell_type": "markdown",
   "id": "fa3dc34b",
   "metadata": {},
   "source": [
    "````{note}\n",
    "\n",
    "The command uses the html builder to generate static webpages to `~/docs/recurtools` based on the configuration from `~/docs/source`.\n",
    "\n",
    "````"
   ]
  },
  {
   "cell_type": "markdown",
   "id": "7ef4406e",
   "metadata": {},
   "source": [
    "**How to preview the documentation?**"
   ]
  },
  {
   "cell_type": "markdown",
   "id": "4eb1f5a0",
   "metadata": {},
   "source": [
    "You can view the documentation by  \n",
    "- clicking `File->New Launcher`, and\n",
    "- clicking the icon `www` and then folder `recurtools`."
   ]
  },
  {
   "cell_type": "markdown",
   "id": "7ec9d55f",
   "metadata": {},
   "source": [
    "The documentation is currently empty because we have not specified the module to document."
   ]
  },
  {
   "cell_type": "markdown",
   "id": "bf5b6506",
   "metadata": {},
   "source": [
    "## Autodoc"
   ]
  },
  {
   "cell_type": "markdown",
   "id": "9c96f7f7",
   "metadata": {},
   "source": [
    "**How to configure sphinx to document a module automatically from its docstrings?**"
   ]
  },
  {
   "cell_type": "markdown",
   "id": "634e4d3e",
   "metadata": {},
   "source": [
    "From the `File Browser` tab, navigate to the `docs/source` folder under your home directory and open `conf.py` by double clicking it and modify it as follows. A sample can be found in [](./conf.py)."
   ]
  },
  {
   "cell_type": "markdown",
   "id": "3d766036",
   "metadata": {},
   "source": [
    "**Path setup**"
   ]
  },
  {
   "cell_type": "markdown",
   "id": "2de4b50b",
   "metadata": {},
   "source": [
    "Add the module path to the system path at the beginning of the configure file:  \n",
    "\n",
    "```python\n",
    "import os\n",
    "import sys\n",
    "sys.path.insert(0, os.path.expanduser('~/cs1302_23a/Lecture6'))\n",
    "```"
   ]
  },
  {
   "cell_type": "markdown",
   "id": "238a37f4",
   "metadata": {},
   "source": [
    "::::{note}\n",
    "\n",
    "- The module path `~/cs1302_23a/Lecture6` contains the `recurtools` module. \n",
    "- The module path is searched first as it is added to the beginning of the system path.\n",
    "\n",
    "::::"
   ]
  },
  {
   "cell_type": "markdown",
   "id": "befd41a2",
   "metadata": {},
   "source": [
    "**General configuration**"
   ]
  },
  {
   "cell_type": "markdown",
   "id": "8a9efe84",
   "metadata": {},
   "source": [
    "Add the necessary extensions as follows to `extensions`:\n",
    "```python\n",
    "extensions = ['sphinx.ext.autodoc', 'sphinx.ext.napoleon']\n",
    "```"
   ]
  },
  {
   "cell_type": "markdown",
   "id": "56f85477",
   "metadata": {},
   "source": [
    "````{note}\n",
    "\n",
    "- [`sphinx.ext.autodoc`](https://www.sphinx-doc.org/en/master/usage/extensions/autodoc.html) generates documentation from docstrings in [reStructuredText format (rst)](https://www.sphinx-doc.org/en/master/usage/restructuredtext/basics.html) format, which is powerful but makes the docstrings difficult to read.\n",
    "- [`sphinx.ext.napoleon`](https://www.sphinx-doc.org/en/master/usage/extensions/napoleon.html) converts the more readable Numpy-style and Google-style docstrings to rst.\n",
    "\n",
    "````"
   ]
  },
  {
   "cell_type": "markdown",
   "id": "8753e8ae",
   "metadata": {},
   "source": [
    "Change [`exclude_patterns`](https://nbsphinx.readthedocs.io/en/0.5.0/usage.html#exclude_patterns) to exclude temporary files in the hidden `.ipynb_checkpoints` folder:  \n",
    "```sh\n",
    "exclude_patterns = ['**.ipynb_checkpoints']\n",
    "```"
   ]
  },
  {
   "cell_type": "markdown",
   "id": "892dac35",
   "metadata": {},
   "source": [
    "````{note}\n",
    "\n",
    "`.ipynb_checkpoints` keep a backup of your files so you may recover them. However, `sphinx` will build documentation on those backup files unless we exclude them explicitly. \n",
    "\n",
    "````"
   ]
  },
  {
   "cell_type": "markdown",
   "id": "bfd6cd05",
   "metadata": {},
   "source": [
    "**How to generate the documentation from docstrings?**"
   ]
  },
  {
   "cell_type": "markdown",
   "id": "14ae3df1",
   "metadata": {},
   "source": [
    "Run API documentation command to create the rst files for `recurtools`:  \n",
    "```sh\n",
    "sphinx-apidoc -f -o ~/docs/source ~/cs1302_23a/Lecture6\n",
    "```"
   ]
  },
  {
   "cell_type": "markdown",
   "id": "2b7e14dc",
   "metadata": {},
   "source": [
    "````{note}\n",
    "\n",
    "The above creates `modules.rst` and `recurtools.rst` under `~/docs/source`. In particular, `modules.rst` points to `recurtools.rst` as follows:\n",
    "\n",
    "```markdown\n",
    "Lecture6\n",
    "========\n",
    "\n",
    ".. toctree::\n",
    "   :maxdepth: 4\n",
    "\n",
    "   recurtools\n",
    "```\n",
    "\n",
    "````"
   ]
  },
  {
   "cell_type": "markdown",
   "id": "d4bf7a85",
   "metadata": {},
   "source": [
    "Modify `index.rst` to point to `modules.rst` as follows:  \n",
    "```markdown\n",
    ".. Recurtools documentation master file, created by\n",
    "   sphinx-quickstart on Sun Oct 31 11:51:38 2021.\n",
    "   You can adapt this file completely to your liking, but it should at least\n",
    "   contain the root `toctree` directive.\n",
    "\n",
    "Welcome to Recurtools's documentation!\n",
    "======================================\n",
    "\n",
    ".. toctree::\n",
    "   :maxdepth: 2\n",
    "   :caption: Contents:\n",
    "\n",
    "   modules\n",
    "\n",
    "Indices and tables\n",
    "==================\n",
    "\n",
    "* :ref:`genindex`\n",
    "* :ref:`modindex`\n",
    "* :ref:`search`\n",
    "```"
   ]
  },
  {
   "cell_type": "markdown",
   "id": "3bbbd6b0",
   "metadata": {},
   "source": [
    "````{tip}\n",
    "\n",
    "- Note that there is no need to add the extension `.rst` as it is the default.\n",
    "- `modules` is the content of the directive `toctree`. It must have the same indentation as the arguments `:maxdepth:` and `:caption:` above and must be separated by a blank line.\n",
    "\n",
    "````"
   ]
  },
  {
   "cell_type": "markdown",
   "id": "0cf165b0",
   "metadata": {},
   "source": [
    "Rebuild the documentation with  \n",
    "```sh\n",
    "sphinx-build -b html ~/docs/source ~/www/recurtools\n",
    "```"
   ]
  },
  {
   "cell_type": "markdown",
   "id": "56e93eda",
   "metadata": {},
   "source": [
    "Preview the documentation again by refreshing or relaunching the `www` page."
   ]
  },
  {
   "cell_type": "markdown",
   "id": "dde9f29a",
   "metadata": {},
   "source": [
    "**Exercise** (optional) \n",
    "\n",
    "Create a module `combinatorics` for the functions in Lab 6 and document them together with `recurtools` in Lecture 6."
   ]
  }
 ],
 "metadata": {
  "kernelspec": {
   "display_name": "Python 3 (ipykernel)",
   "language": "python",
   "name": "python3"
  }
 },
 "nbformat": 4,
 "nbformat_minor": 5
}
