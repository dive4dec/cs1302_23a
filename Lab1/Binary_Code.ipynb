{
 "cells": [
  {
   "cell_type": "markdown",
   "id": "c957f0f9",
   "metadata": {
    "slideshow": {
     "slide_type": "slide"
    }
   },
   "source": [
    "# Binary Code"
   ]
  },
  {
   "cell_type": "markdown",
   "id": "9ef6d225",
   "metadata": {
    "slideshow": {
     "slide_type": "-"
    },
    "tags": [
     "remove-cell"
    ]
   },
   "source": [
    "CS1302 Introduction to Computer Programming\n",
    "___"
   ]
  },
  {
   "cell_type": "markdown",
   "id": "b148db87",
   "metadata": {},
   "source": [
    "Welcome to this lab where you will explore how computers represent numbers using a fun card-guessing game! Through this lab, you will gain an understanding of how binary numbers are used to represent decimal numbers in computers."
   ]
  },
  {
   "cell_type": "markdown",
   "id": "ac1ef3a4",
   "metadata": {},
   "source": [
    "## Card Guessing Game"
   ]
  },
  {
   "cell_type": "markdown",
   "id": "3f17eba6",
   "metadata": {
    "editable": true,
    "slideshow": {
     "slide_type": "subslide"
    }
   },
   "source": [
    "### Rules"
   ]
  },
  {
   "cell_type": "markdown",
   "id": "f5fb24df",
   "metadata": {
    "editable": true,
    "slideshow": {
     "slide_type": "fragment"
    }
   },
   "source": [
    "::::{list-table} Deck of cards\n",
    ":name: tab:deck\n",
    ":header-rows: 1\n",
    "\n",
    "*   -\n",
    "    - 1\n",
    "    - 2\n",
    "    - 3\n",
    "    - 4\n",
    "    - 5\n",
    "    - 6\n",
    "    - 7\n",
    "    - 8\n",
    "    - 9\n",
    "    - 10\n",
    "    - 11\n",
    "    - 12\n",
    "    - 13\n",
    "*   - Diamond\n",
    "    - ![A-Diamond](https://upload.wikimedia.org/wikipedia/commons/e/e9/Cards-A-Diamond.svg)\n",
    "    - ![2-Diamond](https://upload.wikimedia.org/wikipedia/commons/9/99/Cards-2-Diamond.svg)\n",
    "    - ![3-Diamond](https://upload.wikimedia.org/wikipedia/commons/4/44/Cards-3-Diamond.svg)\n",
    "    - ![4-Diamond](https://upload.wikimedia.org/wikipedia/commons/a/af/Cards-4-Diamond.svg)\n",
    "    - ![5-Diamond](https://upload.wikimedia.org/wikipedia/commons/d/dd/Cards-5-Diamond.svg)\n",
    "    - ![6-Diamond](https://upload.wikimedia.org/wikipedia/commons/4/44/Cards-6-Diamond.svg)\n",
    "    - ![7-Diamond](https://upload.wikimedia.org/wikipedia/commons/2/2b/Cards-7-Diamond.svg)\n",
    "    - ![8-Diamond](https://upload.wikimedia.org/wikipedia/commons/9/90/Cards-8-Diamond.svg)\n",
    "    - ![9-Diamond](https://upload.wikimedia.org/wikipedia/commons/2/25/Cards-9-Diamond.svg)\n",
    "    - ![10-Diamond](https://upload.wikimedia.org/wikipedia/commons/c/c2/Cards-10-Diamond.svg)\n",
    "    - ![J-Diamond](https://upload.wikimedia.org/wikipedia/commons/7/78/Cards-J-Diamond.svg)\n",
    "    - ![Q-Diamond](https://upload.wikimedia.org/wikipedia/commons/c/c3/Cards-Q-Diamond.svg)\n",
    "    - ![K-Diamond](https://upload.wikimedia.org/wikipedia/commons/5/55/Cards-K-Diamond.svg)\n",
    "*   - Club\n",
    "    - ![A-Club](https://upload.wikimedia.org/wikipedia/commons/c/c4/Cards-A-Club.svg)\n",
    "    - ![2-Club](https://upload.wikimedia.org/wikipedia/commons/b/b0/Cards-2-Club.svg)\n",
    "    - ![3-Club](https://upload.wikimedia.org/wikipedia/commons/e/e0/Cards-3-Club.svg)\n",
    "    - ![4-Club](https://upload.wikimedia.org/wikipedia/commons/6/69/Cards-4-Club.svg)\n",
    "    - ![5-Club](https://upload.wikimedia.org/wikipedia/commons/7/7e/Cards-5-Club.svg)\n",
    "    - ![6-Club](https://upload.wikimedia.org/wikipedia/commons/a/af/Cards-6-Club.svg)\n",
    "    - ![7-Club](https://upload.wikimedia.org/wikipedia/commons/8/8e/Cards-7-Club.svg)\n",
    "    - ![8-Club](https://upload.wikimedia.org/wikipedia/commons/f/fd/Cards-8-Club.svg)\n",
    "    - ![9-Club](https://upload.wikimedia.org/wikipedia/commons/a/ac/Cards-9-Club.svg)\n",
    "    - ![10-Club](https://upload.wikimedia.org/wikipedia/commons/2/25/Cards-10-Club.svg)\n",
    "    - ![J-Club](https://upload.wikimedia.org/wikipedia/commons/c/c7/Cards-J-Club.svg)\n",
    "    - ![Q-Club](https://upload.wikimedia.org/wikipedia/commons/3/37/Cards-Q-Club.svg)\n",
    "    - ![K-Club](https://upload.wikimedia.org/wikipedia/commons/9/9e/Cards-K-Club.svg)\n",
    "*   - Heart\n",
    "    - ![A-Heart](https://upload.wikimedia.org/wikipedia/commons/6/60/Cards-A-Heart.svg)\n",
    "    - ![2-Heart](https://upload.wikimedia.org/wikipedia/commons/6/6e/Cards-2-Heart.svg)\n",
    "    - ![3-Heart](https://upload.wikimedia.org/wikipedia/commons/5/57/Cards-3-Heart.svg)\n",
    "    - ![4-Heart](https://upload.wikimedia.org/wikipedia/commons/3/39/Cards-4-Heart.svg)\n",
    "    - ![5-Heart](https://upload.wikimedia.org/wikipedia/commons/9/91/Cards-5-Heart.svg)\n",
    "    - ![6-Heart](https://upload.wikimedia.org/wikipedia/commons/5/55/Cards-6-Heart.svg)\n",
    "    - ![7-Heart](https://upload.wikimedia.org/wikipedia/commons/d/d4/Cards-7-Heart.svg)\n",
    "    - ![8-Heart](https://upload.wikimedia.org/wikipedia/commons/5/55/Cards-8-Heart.svg)\n",
    "    - ![9-Heart](https://upload.wikimedia.org/wikipedia/commons/d/d2/Cards-9-Heart.svg)\n",
    "    - ![10-Heart](https://upload.wikimedia.org/wikipedia/commons/7/76/Cards-10-Heart.svg)\n",
    "    - ![J-Heart](https://upload.wikimedia.org/wikipedia/commons/e/e7/Cards-J-Heart.svg)\n",
    "    - ![Q-Heart](https://upload.wikimedia.org/wikipedia/commons/2/28/Cards-Q-Heart.svg)\n",
    "    - ![K-Heart](https://upload.wikimedia.org/wikipedia/commons/b/bf/Cards-K-Heart.svg)\n",
    "*   - Spade\n",
    "    - ![A-Spade](https://upload.wikimedia.org/wikipedia/commons/9/9d/Cards-A-Spade.svg)\n",
    "    - ![2-Spade](https://upload.wikimedia.org/wikipedia/commons/e/e7/Cards-2-Spade.svg)\n",
    "    - ![3-Spade](https://upload.wikimedia.org/wikipedia/commons/d/d0/Cards-3-Spade.svg)\n",
    "    - ![4-Spade](https://upload.wikimedia.org/wikipedia/commons/4/4e/Cards-4-Spade.svg)\n",
    "    - ![5-Spade](https://upload.wikimedia.org/wikipedia/commons/b/b1/Cards-5-Spade.svg)\n",
    "    - ![6-Spade](https://upload.wikimedia.org/wikipedia/commons/6/68/Cards-6-Spade.svg)\n",
    "    - ![7-Spade](https://upload.wikimedia.org/wikipedia/commons/c/c6/Cards-7-Spade.svg)\n",
    "    - ![8-Spade](https://upload.wikimedia.org/wikipedia/commons/7/7e/Cards-8-Spade.svg)\n",
    "    - ![9-Spade](https://upload.wikimedia.org/wikipedia/commons/0/0a/Cards-9-Spade.svg)\n",
    "    - ![10-Spade](https://upload.wikimedia.org/wikipedia/commons/6/67/Cards-10-Spade.svg)\n",
    "    - ![J-Spade](https://upload.wikimedia.org/wikipedia/commons/e/ea/Cards-J-Spade.svg)\n",
    "    - ![Q-Spade](https://upload.wikimedia.org/wikipedia/commons/e/ef/Cards-Q-Spade.svg)\n",
    "    - ![K-Spade](https://upload.wikimedia.org/wikipedia/commons/1/18/Cards-K-Spade.svg)\n",
    "\n",
    "::::"
   ]
  },
  {
   "cell_type": "markdown",
   "id": "ce049b02",
   "metadata": {
    "editable": true,
    "slideshow": {
     "slide_type": "fragment"
    }
   },
   "source": [
    "[](#tab:deck) shows a deck of 52 cards:\n",
    "-   Each card is in one of the four suits:  \n",
    "  *Diamond*, *Club*, *Heart*, and *Spade*.\n",
    "-   Each card has a value ranging from 1 to 13."
   ]
  },
  {
   "cell_type": "markdown",
   "id": "4b802a59",
   "metadata": {},
   "source": [
    ":::{figure} images/card_game.dio.svg\n",
    ":name: fig:card-guessing\n",
    ":alt: A player guesses a card drawn by a dealer.\n",
    ":align: left\n",
    "\n",
    "Card guessing game\n",
    ":::"
   ]
  },
  {
   "cell_type": "markdown",
   "id": "55e0e2d0",
   "metadata": {
    "editable": true,
    "slideshow": {
     "slide_type": ""
    }
   },
   "source": [
    "::::{card}\n",
    ":header: Rules\n",
    "\n",
    "As depicted in [](#fig:card-guessing), the card-guessing game involves the following steps:\n",
    "\n",
    "- The dealer selects a card without revealing it to the player.\n",
    "- The player's goal is to correctly guess the chosen card.\n",
    "- To make an informed guess, the player can ask up to six yes/no questions.\n",
    "- The dealer must answer each question truthfully and immediately.\n",
    "\n",
    ":::{prf:example} Valid questions\n",
    ":class: dropdown\n",
    ":label: eg:valid-questions\n",
    "\n",
    "For instance, the player may ask:\n",
    "- Is the suit club?\n",
    "- Is the card diamond 1 (A)?\n",
    "- Is the value at least 10?\n",
    "\n",
    ":::\n",
    "\n",
    ":::{prf:example} Invalid questions\n",
    ":class: dropdown\n",
    ":label: eg:invalid-questions\n",
    "\n",
    "However, the player cannot ask:  \n",
    "- What is the value?\n",
    "- What is the suite?\n",
    "\n",
    "because the answers are not **yes/no**.\n",
    "\n",
    ":::\n",
    "\n",
    "::::"
   ]
  },
  {
   "cell_type": "markdown",
   "id": "723bb37d",
   "metadata": {},
   "source": [
    "One strategy is to ask whether the randomly drawn card is a specific card, e.g.,\n",
    "\n",
    ":::{card}\n",
    "\n",
    "Is it the Diamond 1?\n",
    "\n",
    ":::\n",
    "\n",
    "If the answer is yes, the player can confidently guess that the card is Diamond 1 and win the game. However, if the answer is no, the player can continue to check another card, e.g.,\n",
    "\n",
    ":::{card}\n",
    "\n",
    "Is it the Diamond 2?\n",
    "\n",
    ":::\n",
    "\n",
    "and so on..."
   ]
  },
  {
   "cell_type": "markdown",
   "id": "e94748d6",
   "metadata": {},
   "source": [
    "A {term}`pseudocode` that summarizes the above strategy (or {term}`algorithm`) is shown below."
   ]
  },
  {
   "cell_type": "markdown",
   "id": "d247d047",
   "metadata": {},
   "source": [
    "::::{prf:algorithm} Checking one card at a time \n",
    ":label: code:1-by-1\n",
    "\n",
    "```python\n",
    "\n",
    "while the number of questions asked is below six and \\\n",
    "the correct card has not been guessed yet:\n",
    "    pick a new card not chosen before\n",
    "    ask the dealer whether the randomly drawn card is the chosen one\n",
    "    if the answer is \"yes\":\n",
    "        guess the card\n",
    "    else:\n",
    "        increment the number of questions asked\n",
    "```\n",
    "\n",
    "::::"
   ]
  },
  {
   "cell_type": "markdown",
   "id": "a7138fa9",
   "metadata": {
    "editable": true,
    "slideshow": {
     "slide_type": ""
    }
   },
   "source": [
    "::::{exercise} chance\n",
    ":label: ex:chance\n",
    "\n",
    "What is the chance of winning using the strategy in [](#code:1-by-1)? \n",
    "\n",
    ":::{attention}\n",
    "Provide your answer in the following code cell by assigning a fraction to the variable `chance` such as\n",
    "\n",
    "```python\n",
    "chance = 0.5\n",
    "```\n",
    "\n",
    "where the value 0.5 means 50% chance (which is *not* necessarily the correct answer). Your answer should be accurate at least up to *2 decimal places*.\n",
    "\n",
    ":::\n",
    "\n",
    "::::"
   ]
  },
  {
   "cell_type": "code",
   "execution_count": null,
   "id": "121f5caf",
   "metadata": {
    "deletable": false,
    "nbgrader": {
     "cell_type": "code",
     "checksum": "62003250e18a142eb25e58780b718543",
     "grade": false,
     "grade_id": "chance",
     "locked": false,
     "schema_version": 3,
     "solution": true,
     "task": false
    }
   },
   "outputs": [],
   "source": [
    "# YOUR CODE HERE\n",
    "raise NotImplementedError()"
   ]
  },
  {
   "cell_type": "markdown",
   "id": "af952969",
   "metadata": {
    "slideshow": {
     "slide_type": "fragment"
    }
   },
   "source": [
    "::::{tip}\n",
    "\n",
    "Run the following visible tests to check whether the `chance` variable meets the following criteria:\n",
    "\n",
    "- It is greater than or equal to 0.\n",
    "- It is less than or equal to 1.\n",
    "\n",
    "::::"
   ]
  },
  {
   "cell_type": "code",
   "execution_count": null,
   "id": "651ef200",
   "metadata": {
    "deletable": false,
    "editable": false,
    "nbgrader": {
     "cell_type": "code",
     "checksum": "18833ca8b32ec87f1070f52783b0563b",
     "grade": true,
     "grade_id": "test-chance",
     "locked": true,
     "points": 1,
     "schema_version": 3,
     "solution": false,
     "task": false
    },
    "slideshow": {
     "slide_type": ""
    }
   },
   "outputs": [],
   "source": [
    "# tests\n",
    "assert chance >= 0\n",
    "assert chance <= 1"
   ]
  },
  {
   "cell_type": "markdown",
   "id": "26c57cdf",
   "metadata": {},
   "source": [
    "::::{caution}\n",
    "\n",
    "Passing the visible tests does not guarantee that the answer is correct. The actual correctness will be evaluated using a hidden test to be injected into the following cell.\n",
    "\n",
    "::::"
   ]
  },
  {
   "cell_type": "code",
   "execution_count": null,
   "id": "09ca7bd7",
   "metadata": {
    "deletable": false,
    "editable": false,
    "nbgrader": {
     "cell_type": "code",
     "checksum": "7fb5b29aece1c133906b690128e5f9f2",
     "grade": true,
     "grade_id": "htest-chance",
     "locked": true,
     "points": 1,
     "schema_version": 3,
     "solution": false,
     "task": false
    },
    "slideshow": {
     "slide_type": ""
    }
   },
   "outputs": [],
   "source": [
    "# hidden tests"
   ]
  },
  {
   "cell_type": "markdown",
   "id": "eaafaeb6",
   "metadata": {},
   "source": [
    "### Virtual Cards"
   ]
  },
  {
   "cell_type": "markdown",
   "id": "9cc631a4",
   "metadata": {},
   "source": [
    "Instead of drawing a physical card, the dealer can use programming to generate a virtual deck and draw a pseudo-random virtual card from it. Run the code below to get the required tools."
   ]
  },
  {
   "cell_type": "code",
   "execution_count": null,
   "id": "3a1bceaf",
   "metadata": {},
   "outputs": [],
   "source": [
    "from collections import namedtuple  # for naming the cards\n",
    "from random import choice  # for pseudo-randomly drawing cards"
   ]
  },
  {
   "cell_type": "markdown",
   "id": "c78a4fa6",
   "metadata": {
    "editable": true,
    "slideshow": {
     "slide_type": "subslide"
    }
   },
   "source": [
    "::::{note}\n",
    "\n",
    "In a future lecture, you will learn the syntax of the above code. However, even without prior knowledge of the syntax, it is relatively easy to understand that the code imports {term}`libraries <library>` (existing tools) for creating named tuples and making random choices. Python, being a higher-level language, is designed to be easily readable.\n",
    "\n",
    "::::"
   ]
  },
  {
   "cell_type": "markdown",
   "id": "6e4c4ab6",
   "metadata": {},
   "source": [
    "To create a `deck` of cards, run the following cell."
   ]
  },
  {
   "cell_type": "code",
   "execution_count": null,
   "id": "87b1e131",
   "metadata": {
    "editable": true,
    "slideshow": {
     "slide_type": "-"
    },
    "tags": [
     "output-scroll"
    ]
   },
   "outputs": [],
   "source": [
    "suits = (\"Diamond\", \"Club\", \"Heart\", \"Spade\")\n",
    "values = range(1, 14)\n",
    "Card = namedtuple(\"Card\", [\"value\", \"suit\"])\n",
    "deck = [Card(value, suit) for value in values for suit in suits]\n",
    "deck"
   ]
  },
  {
   "cell_type": "markdown",
   "id": "cefc4c99",
   "metadata": {
    "slideshow": {
     "slide_type": "fragment"
    }
   },
   "source": [
    "::::{note}\n",
    "\n",
    "The code above uses {term}`composite data types <composite data type>` like tuples and lists, which will be explained later in the course. They are handy for storing and manipulating collections of values.\n",
    "\n",
    "::::"
   ]
  },
  {
   "cell_type": "markdown",
   "id": "bfdc027b",
   "metadata": {},
   "source": [
    "Now, you can use the following program to play the game with your friends:"
   ]
  },
  {
   "cell_type": "code",
   "execution_count": null,
   "id": "51c0d20f",
   "metadata": {
    "editable": true,
    "slideshow": {
     "slide_type": "-"
    }
   },
   "outputs": [],
   "source": [
    "choice(deck)"
   ]
  },
  {
   "cell_type": "markdown",
   "id": "b6abd924",
   "metadata": {},
   "source": [
    "::::{tip}\n",
    "\n",
    "To play the game multiple times, use `Ctrl-Enter` to run the code.\n",
    "\n",
    "::::"
   ]
  },
  {
   "cell_type": "markdown",
   "id": "ee20aa35",
   "metadata": {},
   "source": [
    "::::{exercise} purity\n",
    ":label: ex:purity\n",
    "\n",
    "If we run a program with the same input multiple times, will it always give the same output every time? Explain using a concrete example.\n",
    "\n",
    "::::"
   ]
  },
  {
   "cell_type": "markdown",
   "id": "5aaecf8f",
   "metadata": {
    "deletable": false,
    "editable": true,
    "nbgrader": {
     "cell_type": "markdown",
     "checksum": "47b8f944b479aa283214e89433fa66e2",
     "grade": true,
     "grade_id": "purity",
     "locked": false,
     "points": 1,
     "schema_version": 3,
     "solution": true,
     "task": false
    },
    "slideshow": {
     "slide_type": ""
    }
   },
   "source": [
    "YOUR ANSWER HERE"
   ]
  },
  {
   "cell_type": "markdown",
   "id": "44442db6",
   "metadata": {
    "editable": true,
    "slideshow": {
     "slide_type": ""
    }
   },
   "source": [
    "### Virtual Player"
   ]
  },
  {
   "cell_type": "markdown",
   "id": "c27e6ed2",
   "metadata": {
    "slideshow": {
     "slide_type": "fragment"
    }
   },
   "source": [
    "Given you have randomly drawn a card,\n",
    "\n",
    "1. run the following code cell, and\n",
    "2. answer the 6 questions raised by the player honestly by entering  \n",
    "    - `1` for yes and\n",
    "    - `0` for no."
   ]
  },
  {
   "cell_type": "code",
   "execution_count": null,
   "id": "e38ce401",
   "metadata": {
    "slideshow": {
     "slide_type": "-"
    },
    "tags": [
     "remove-output"
    ]
   },
   "outputs": [],
   "source": [
    "def is_yes(question):\n",
    "    \"\"\"Get an answer to a yes/no question.\"\"\"\n",
    "    return \"1\" == input(question + \" 1:yes [0:no] \")\n",
    "\n",
    "\n",
    "suit_idx = number = 0\n",
    "if is_yes(\"Is the suite either heart or spade?\"):\n",
    "    suit_idx += 2\n",
    "if is_yes(\"Is the suite either club or spade?\"):\n",
    "    suit_idx += 1\n",
    "for i in range(3, -1, -1):\n",
    "    number += 2**i * is_yes(f\"Is the number {number+2**i} or above?\")\n",
    "print(f\"The card is {suits[suit_idx]} {number}\")"
   ]
  },
  {
   "cell_type": "markdown",
   "id": "edeef6f9",
   "metadata": {
    "slideshow": {
     "slide_type": "fragment"
    }
   },
   "source": [
    "::::{note}\n",
    "\n",
    "The code above provides an overview of various programming syntaxes to be covered in the course. Although you don't need to be familiar with them now, it's good to have a basic understanding:\n",
    "\n",
    ":::{card}\n",
    "The program first defines a function called `is_yes` that checks whether the answer to a given question is yes. To compute the guess, the program modifies the values of the variables `suit_idx` and `number` using {term}`conditional` `if` statements and a `for` {term}`loop <iteration>`, along with different operations such as chained assignment `=`, augmented assignment `+=`, equality comparison `==`, exponentiation `**`.\n",
    ":::\n",
    "\n",
    "::::"
   ]
  },
  {
   "cell_type": "markdown",
   "id": "207c4100",
   "metadata": {
    "editable": true,
    "slideshow": {
     "slide_type": "fragment"
    }
   },
   "source": [
    "::::{exercise} winning strategy\n",
    ":label: ex:always-win\n",
    "\n",
    "Explain whether there is a winning strategy for the game?\n",
    "\n",
    ":::{hint}\n",
    ":class: dropdown\n",
    "\n",
    "Keep playing with the virtual player until you are convinced.\n",
    "\n",
    ":::\n",
    "\n",
    "::::"
   ]
  },
  {
   "cell_type": "markdown",
   "id": "60fccfc1",
   "metadata": {
    "deletable": false,
    "editable": true,
    "nbgrader": {
     "cell_type": "markdown",
     "checksum": "ce1f4ee04d7af92dd551926da19928cd",
     "grade": true,
     "grade_id": "always-win",
     "locked": false,
     "points": 1,
     "schema_version": 3,
     "solution": true,
     "task": false
    },
    "slideshow": {
     "slide_type": ""
    }
   },
   "source": [
    "YOUR ANSWER HERE"
   ]
  },
  {
   "cell_type": "markdown",
   "id": "e7fc55c2",
   "metadata": {},
   "source": [
    "## Binary Number System"
   ]
  },
  {
   "cell_type": "markdown",
   "id": "5a1adf43",
   "metadata": {
    "slideshow": {
     "slide_type": "slide"
    }
   },
   "source": [
    "### Representing non-negative integers"
   ]
  },
  {
   "cell_type": "markdown",
   "id": "d430147e",
   "metadata": {
    "slideshow": {
     "slide_type": "fragment"
    }
   },
   "source": [
    "The following table gives the binary representions of unsigned decimal integers from 0 to 7."
   ]
  },
  {
   "cell_type": "markdown",
   "id": "4448761b",
   "metadata": {},
   "source": [
    "::::{list-table} Encoding positive integers\n",
    ":name: tab:pos-int\n",
    ":header-rows: 1\n",
    "\n",
    "*\n",
    "    - Binary\n",
    "    - Decimal\n",
    "*\n",
    "    - 000\n",
    "    - 0\n",
    "*\n",
    "    - 001\n",
    "    - 1\n",
    "*\n",
    "    - 010\n",
    "    - 2\n",
    "*\n",
    "    - 011\n",
    "    - 3\n",
    "*\n",
    "    - **1**00\n",
    "    - **4**\n",
    "*\n",
    "    - **1**01\n",
    "    - **5**\n",
    "*\n",
    "    - **1**10\n",
    "    - **6**\n",
    "*\n",
    "    - **1**11\n",
    "    - **7**\n",
    "\n",
    "::::"
   ]
  },
  {
   "cell_type": "markdown",
   "id": "93005f26",
   "metadata": {
    "slideshow": {
     "slide_type": "fragment"
    }
   },
   "source": [
    "Observe that the binary representations of 4, 5, 6, and 7 all have **1** in the leftmost (most significant) bit. Consider that bit as the answer to the following **yes/no** question:\n",
    "\n",
    "> Is the integer 4 or above?"
   ]
  },
  {
   "cell_type": "markdown",
   "id": "0c65acf1",
   "metadata": {
    "slideshow": {
     "slide_type": "fragment"
    }
   },
   "source": [
    "Now, to convert the entire binary sequence to decimal, we can think of the conversion as a guessing game where\n",
    "- the binary sequence is a sequence of **yes (1)** or **no (0)** answers to certain **yes/no** questions, and\n",
    "- the informed guess is the integer represented by the binary sequence.\n",
    "\n",
    "![Decoding tree](images/dt.dio.svg)"
   ]
  },
  {
   "cell_type": "markdown",
   "id": "4bc69d38",
   "metadata": {
    "slideshow": {
     "slide_type": "subslide"
    }
   },
   "source": [
    ":::::{exercise} questions to ask\n",
    ":label: ex:questions-to-ask\n",
    "\n",
    "What are the **yes/no** questions (Q2 and Q3 above) corresponding to the 2nd bit and 3rd bit? \n",
    "\n",
    "::::{note}\n",
    "\n",
    "The question must be answerable by an [oracle](https://en.wikipedia.org/wiki/Oracle_machine) that can carry out basic arithmetic operations on integers.\n",
    "\n",
    "::::\n",
    "\n",
    "::::{hint}\n",
    ":class: dropdown\n",
    "\n",
    "Consider *integer division*.\n",
    "\n",
    ":::{seealso}\n",
    "- [Binary Number System](https://www.mathsisfun.com/binary-number-system.html) and\n",
    "- [Binary Number Conversions](https://www.purplemath.com/modules/numbbase.htm).\n",
    ":::\n",
    "::::\n",
    "\n",
    ":::::"
   ]
  },
  {
   "cell_type": "markdown",
   "id": "f395d519",
   "metadata": {
    "deletable": false,
    "nbgrader": {
     "cell_type": "markdown",
     "checksum": "0b732642cfdd5c793b610285974ca766",
     "grade": true,
     "grade_id": "questions-to-ask",
     "locked": false,
     "points": 1,
     "schema_version": 3,
     "solution": true,
     "task": false
    }
   },
   "source": [
    "YOUR ANSWER HERE"
   ]
  },
  {
   "cell_type": "markdown",
   "id": "21bb9da8",
   "metadata": {
    "slideshow": {
     "slide_type": "slide"
    }
   },
   "source": [
    "### Representing negative numbers"
   ]
  },
  {
   "cell_type": "markdown",
   "id": "1c347bb8",
   "metadata": {
    "slideshow": {
     "slide_type": "fragment"
    }
   },
   "source": [
    "The following also uses 3 bits to represent 8 integers but half of them are negative."
   ]
  },
  {
   "cell_type": "markdown",
   "id": "40eb6544",
   "metadata": {
    "slideshow": {
     "slide_type": "-"
    }
   },
   "source": [
    "::::{list-table} Encoding positive integers\n",
    ":name: tab:neg-int\n",
    ":header-rows: 1\n",
    "\n",
    "*\n",
    "    - Binary\n",
    "    - Decimal\n",
    "*\n",
    "    - 000\n",
    "    - 0\n",
    "*\n",
    "    - 001\n",
    "    - 1\n",
    "*\n",
    "    - 010\n",
    "    - 2\n",
    "*\n",
    "    - 011\n",
    "    - 3\n",
    "*\n",
    "    - **1**00\n",
    "    - **-4**\n",
    "*\n",
    "    - **1**01\n",
    "    - **-3**\n",
    "*\n",
    "    - **1**10\n",
    "    - **-2**\n",
    "*\n",
    "    - **1**11\n",
    "    - **-1**\n",
    "\n",
    "::::"
   ]
  },
  {
   "cell_type": "markdown",
   "id": "01399ca7",
   "metadata": {
    "slideshow": {
     "slide_type": "fragment"
    }
   },
   "source": [
    "::::{note}\n",
    "\n",
    "- The numbers 0, 1, 2, and 3 have the same binary representations as before, but\n",
    "- the binary representations for 4, 5, 6, and 7 are now used for -4, -3, -2, and -1. \n",
    "\n",
    "::::"
   ]
  },
  {
   "cell_type": "markdown",
   "id": "83db34a5",
   "metadata": {
    "slideshow": {
     "slide_type": "subslide"
    }
   },
   "source": [
    "**What is the benefit of the above representation?**"
   ]
  },
  {
   "cell_type": "markdown",
   "id": "3234e224",
   "metadata": {
    "slideshow": {
     "slide_type": "fragment"
    }
   },
   "source": [
    "To subtract a positive binary number $x$ from another positive binary number $y$, i.e.,\n",
    "\n",
    "$$x - y,$$\n",
    "\n",
    "it seems we can instead perform the binary addition\n",
    "\n",
    "$$x + (-y)$$\n",
    "\n",
    "of a positive binary number $x$ and a negative binary number $-y$."
   ]
  },
  {
   "cell_type": "markdown",
   "id": "b71dd298",
   "metadata": {
    "slideshow": {
     "slide_type": "subslide"
    }
   },
   "source": [
    "For example,\n",
    "\n",
    "$$\n",
    "\\overbrace{011_2}^{3} + \\overbrace{100_2}^{-4} = \\underbrace{111_2}_{-1}\n",
    "$$"
   ]
  },
  {
   "cell_type": "markdown",
   "id": "97b8d5b8",
   "metadata": {
    "slideshow": {
     "slide_type": "subslide"
    }
   },
   "source": [
    "It seem to work as well if there are bits carried forward, e.g., $1 + (- 3)$ in binary is\n",
    "\n",
    "$$\n",
    "\\begin{array}{rrrr}\n",
    " & 0 & \\overset{\\color{blue} 1}0 & 1 \\\\\n",
    "+ & 1 & 0 & 1 \\\\\\hline\n",
    "& 1 & 1 &  0 \n",
    "\\end{array}\n",
    "$$\n",
    "\n",
    "which translate to $-2$ in decimal as desired."
   ]
  },
  {
   "cell_type": "markdown",
   "id": "a9526486",
   "metadata": {
    "slideshow": {
     "slide_type": "subslide"
    }
   },
   "source": [
    "::::{exercise} overflow\n",
    ":label: ex:overflow\n",
    "\n",
    "There is a subtlety when computing $3 - 2$ using binary addition because \n",
    "\n",
    "$$ \\overbrace{011_2}^3 + \\overbrace{110_2}^{-2} = 1001_2$$\n",
    "\n",
    "which overflows to $4$ bits, a seemingly invalid binary representation. Fortunately, there is a simple fix so binary addition can still apply. Come up with such a fix that also works for other cases such as $3-3$, $2-1$, etc.\n",
    "\n",
    ":::{hint}\n",
    "See [two's complement represenation](https://en.wikipedia.org/wiki/Two%27s_complement).\n",
    "\n",
    ":::\n",
    "\n",
    "::::"
   ]
  },
  {
   "cell_type": "markdown",
   "id": "4c048be3",
   "metadata": {
    "deletable": false,
    "nbgrader": {
     "cell_type": "markdown",
     "checksum": "ebfc611b93ad1ee08e4b194755df8279",
     "grade": true,
     "grade_id": "fix-overflow",
     "locked": false,
     "points": 1,
     "schema_version": 3,
     "solution": true,
     "task": false
    },
    "slideshow": {
     "slide_type": "-"
    }
   },
   "source": [
    "YOUR ANSWER HERE"
   ]
  },
  {
   "cell_type": "markdown",
   "id": "8b9a4721",
   "metadata": {
    "slideshow": {
     "slide_type": "slide"
    }
   },
   "source": [
    "## Logic Gates"
   ]
  },
  {
   "cell_type": "markdown",
   "id": "3a504c0a",
   "metadata": {
    "editable": true,
    "slideshow": {
     "slide_type": "subslide"
    }
   },
   "source": [
    "A computer is built from transistors that operates on binary states *on/off*, \n",
    "which is also represented as bits *1/0*, or the [*boolean*](https://en.wikipedia.org/wiki/Boolean_data_type#:~:text=In%20computer%20science%2C%20the%20Boolean,of%20logic%20and%20Boolean%20algebra.) value *true/false*. Play with the following simulator to see some examples."
   ]
  },
  {
   "cell_type": "markdown",
   "id": "6762c254",
   "metadata": {
    "editable": true,
    "slideshow": {
     "slide_type": ""
    }
   },
   "source": [
    "::::{card}\n",
    ":header: [Logic simulator](https://logic.ly/demo/)\n",
    "\n",
    "1. Click the logic simulator header above.\n",
    "2. Select *1-Bit Full Adder*.\n",
    "3. Change the input and observe the output."
   ]
  },
  {
   "cell_type": "markdown",
   "id": "e2d8395a",
   "metadata": {
    "editable": true,
    "slideshow": {
     "slide_type": "subslide"
    }
   },
   "source": [
    "[](#tab:adder) gives the input and output relationship of a simpler adder, called the half adder, which computes the addition of two input bits $A$ and $B$ as\n",
    "\n",
    "$$\n",
    "A + B = C\\circ S\n",
    "$$\n",
    "\n",
    "where $C$ and $S$ are the output bits, and $C\\circ S$ is the concatenation of two bits $C$ and $S$."
   ]
  },
  {
   "cell_type": "markdown",
   "id": "08334dde",
   "metadata": {
    "editable": true,
    "slideshow": {
     "slide_type": ""
    }
   },
   "source": [
    "::::{list-table} Adder.\n",
    ":name: tab:adder\n",
    ":header-rows: 1\n",
    "\n",
    "*\n",
    "    - A\n",
    "    - B\n",
    "    - C$\\circ$S\n",
    "*\n",
    "    - 0\n",
    "    - 0\n",
    "    - 00\n",
    "*\n",
    "    - 0\n",
    "    - 1\n",
    "    - 01\n",
    "*\n",
    "    - 1\n",
    "    - 0\n",
    "    - 01\n",
    "*\n",
    "    - 1\n",
    "    - 1\n",
    "    - 10\n",
    "\n",
    "::::"
   ]
  },
  {
   "cell_type": "markdown",
   "id": "45eb536c",
   "metadata": {
    "editable": true,
    "slideshow": {
     "slide_type": "fragment"
    }
   },
   "source": [
    "The operation can be built using transistors, called [*logic gates*](https://en.wikipedia.org/wiki/Logic_gate), that can carry out basic logic operations such as\n",
    "\n",
    "- $A \\operatorname{AND} B$: which returns $1$ if and only if both $A$ and $B$ are $1$, and $0$ otherwise.\n",
    "- $A \\operatorname{XOR} B$: which returns $1$ if and only if either $A$ and $B$ are $1$ but not both.\n",
    "\n",
    "The input and output relationships are listed below:"
   ]
  },
  {
   "cell_type": "code",
   "execution_count": null,
   "id": "4454c6fa",
   "metadata": {
    "editable": true,
    "slideshow": {
     "slide_type": ""
    }
   },
   "outputs": [],
   "source": [
    "from pandas import DataFrame\n",
    "\n",
    "DataFrame(\n",
    "    [[A, B, A & B, A ^ B] for A in (0, 1) for B in (0, 1)],\n",
    "    columns=[\"A\", \"B\", \"A AND B\", \"A XOR B\"],\n",
    ")"
   ]
  },
  {
   "cell_type": "markdown",
   "id": "93c0a21d",
   "metadata": {
    "editable": true,
    "slideshow": {
     "slide_type": "fragment"
    }
   },
   "source": [
    "::::{note}\n",
    "\n",
    "The logical functions are computed using {term}`bitwise operators <bitwise operator>` `&` and `^`, and the result is stored as a `DataFrame` object, which is a useful tool for data analysis to be explained later in the course.\n",
    "\n",
    "::::"
   ]
  },
  {
   "cell_type": "markdown",
   "id": "23af002b",
   "metadata": {
    "editable": true,
    "slideshow": {
     "slide_type": "subslide"
    }
   },
   "source": [
    "::::{exercise} adder\n",
    ":label: ex:adder\n",
    "\n",
    "What is the logic in computing $C$ and $S$ from $A$ and $B$? Use the logic gates AND and XOR only.\n",
    "\n",
    "::::"
   ]
  },
  {
   "cell_type": "markdown",
   "id": "9971d308",
   "metadata": {
    "deletable": false,
    "editable": true,
    "nbgrader": {
     "cell_type": "markdown",
     "checksum": "1b3cda11465c28407e17282a89a70995",
     "grade": true,
     "grade_id": "adder",
     "locked": false,
     "points": 1,
     "schema_version": 3,
     "solution": true,
     "task": false
    },
    "slideshow": {
     "slide_type": "-"
    }
   },
   "source": [
    "YOUR ANSWER HERE"
   ]
  },
  {
   "cell_type": "markdown",
   "id": "960553b3",
   "metadata": {
    "editable": true,
    "slideshow": {
     "slide_type": "subslide"
    }
   },
   "source": [
    "::::::{seealso}\n",
    "If you play minecraft, you can build the following devices based on how computers are built from logic gates:\n",
    "\n",
    ":::::{grid} 1 1 2 2\n",
    "\n",
    "::::{card} \n",
    ":header: An adder for binary addition\n",
    ":footer: [open in new tab](https://youtu.be/vtpTri-PZXY)\n",
    "\n",
    ":::{iframe} https://www.youtube.com/embed/vtpTri-PZXY\n",
    ":width: 100%\n",
    "\n",
    ":::\n",
    "\n",
    "::::\n",
    "\n",
    "::::{card} \n",
    ":header: A calculator for calculus\n",
    ":footer: [open in new tab](https://youtu.be/5NzIt9sns6o)\n",
    "\n",
    ":::{iframe} https://www.youtube.com/embed/5NzIt9sns6o\n",
    ":width: 100%\n",
    "\n",
    ":::\n",
    "\n",
    "::::\n",
    "\n",
    ":::::\n",
    "::::::"
   ]
  },
  {
   "cell_type": "markdown",
   "id": "aaece44b",
   "metadata": {
    "editable": true,
    "slideshow": {
     "slide_type": ""
    }
   },
   "source": [
    "## Glossary"
   ]
  },
  {
   "cell_type": "markdown",
   "id": "1820a747",
   "metadata": {
    "editable": true,
    "slideshow": {
     "slide_type": ""
    }
   },
   "source": [
    ":::{glossary}\n",
    "\n",
    "algorithm\n",
    ": An algorithm is a set of instructions that a computer program follows to solve a problem or complete a task. It is a step-by-step approach designed to be efficient and accurate.\n",
    "\n",
    "bitwise operator\n",
    ": Bitwise operators are used to manipulate individual bits of binary numbers. They allow for the manipulation of data at a low level, such as setting or clearing specific bits, shifting bits left or right, or performing logical operations on bits.\n",
    "\n",
    "composite data type\n",
    ": A composite data type groups related data into a single unit so that they can be easily stored and manipulated together.\n",
    "\n",
    "conditional\n",
    ": A conditional statement is used to perform different actions based on different conditions. It allows the program to make decisions and execute specific code blocks based on the evaluation of a given condition.\n",
    "\n",
    "iteration\n",
    ": An iteration is a repeated execution until a condition is met. It allows for the efficient repetition of tasks without the need for writing the same code multiple times. \n",
    "\n",
    "library\n",
    ": A library is a collection of pre-written code that developers can use to perform common tasks. It contains functions, classes, and other reusable code that can be integrated into a larger software application, saving time and effort.\n",
    "\n",
    "pseudocode\n",
    ": Pseudocode is a high-level description of a program or algorithm, using natural language and code-like syntax to express logic without being bound to a specific programming language. It is used during planning and design phases of software development.\n",
    "\n",
    ":::"
   ]
  }
 ],
 "metadata": {
  "kernelspec": {
   "display_name": "Python 3 (ipykernel)",
   "language": "python",
   "name": "python3"
  }
 },
 "nbformat": 4,
 "nbformat_minor": 5
}
