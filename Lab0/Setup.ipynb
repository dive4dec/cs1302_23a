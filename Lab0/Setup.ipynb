{
 "cells": [
  {
   "cell_type": "markdown",
   "id": "94ef8e3f",
   "metadata": {
    "editable": true,
    "slideshow": {
     "slide_type": "slide"
    }
   },
   "source": [
    "# Setup"
   ]
  },
  {
   "cell_type": "markdown",
   "id": "9f9f4fe6",
   "metadata": {
    "editable": true,
    "slideshow": {
     "slide_type": ""
    },
    "tags": [
     "remove-cell"
    ]
   },
   "source": [
    "CS1302 Introduction to Computer Programming\n",
    "___"
   ]
  },
  {
   "cell_type": "markdown",
   "id": "f752e909",
   "metadata": {
    "editable": true,
    "slideshow": {
     "slide_type": "slide"
    }
   },
   "source": [
    "## Course Materials"
   ]
  },
  {
   "cell_type": "markdown",
   "id": "6a9a74f9",
   "metadata": {
    "editable": true,
    "slideshow": {
     "slide_type": "subslide"
    }
   },
   "source": [
    "### How to access the programming environment?"
   ]
  },
  {
   "cell_type": "markdown",
   "id": "5671a3bf",
   "metadata": {},
   "source": [
    "The course's programming environment is conveniently accessible via a JupyterHub server, allowing remote access without the need to install any special software, thanks to <wiki:Project_Jupyter>. This means you can easily write and run programs on your mobile devices using just a web browser."
   ]
  },
  {
   "cell_type": "markdown",
   "id": "6db7c378",
   "metadata": {
    "editable": true,
    "slideshow": {
     "slide_type": "fragment"
    }
   },
   "source": [
    "Open the url of the JupyterHub server given in the course homepage. The first time you access the url, it opens a login page as shown in [](#fig:login-box):\n",
    "  1. Enter your [EID](https://www.cityu.edu.hk/esu/eid.htm) and Password in the fields `Username` and `Password` respectively.\n",
    "  1. Click the `Sign in` button."
   ]
  },
  {
   "cell_type": "markdown",
   "id": "1b1da72e",
   "metadata": {
    "editable": true,
    "slideshow": {
     "slide_type": ""
    }
   },
   "source": [
    ":::{figure} images/login.dio.svg\n",
    ":name: fig:login-box\n",
    ":alt: Login box\n",
    ":align: left\n",
    "\n",
    "Login box\n",
    ":::"
   ]
  },
  {
   "cell_type": "markdown",
   "id": "bb655767",
   "metadata": {
    "editable": true,
    "slideshow": {
     "slide_type": ""
    }
   },
   "source": [
    "To access the Jupyter environment, simply log into the JupyterHub server and select the `Default` option from the list of available Jupyter servers. Click `Start` to begin your session. If the server is spawned successfully, the JupyterLab interface should appear. Each student will have their own Jupyter server, providing individual computer resources such as CPU and memory."
   ]
  },
  {
   "cell_type": "markdown",
   "id": "9cb554b0",
   "metadata": {
    "editable": true,
    "slideshow": {
     "slide_type": "subslide"
    }
   },
   "source": [
    "::::{note} Server options\n",
    "\n",
    "- The `Default` option runs on the Ubuntu operating system and offers a wide range of features.\n",
    "  See the [dockerfile](https://github.com/dive4dec/cs1302jupyter/blob/main/cs1302nb/Dockerfile) for details.\n",
    "- Alternatively, the `Alpine` option may be faster, but it has fewer features. It runs on a lightweight Linux distribution called Alpine Linux.\n",
    "  See the [dockerfile](https://github.com/dive4dec/cs1302jupyter/blob/main/cs1302anb/Dockerfile) for details.\n",
    "- You can switch between the `Default` and other server options at any time by restarting your server and selecting the desired option. Restarting the server is simple and can be done through the hub control panel, as described in the note below.\n",
    "\n",
    ":::{tip} Troubleshooting[^1]\n",
    ":class: dropdown\n",
    "\n",
    "In case the jupyterlab interface fails to show:\n",
    "\n",
    "- Refresh the page or restart your browser.\n",
    "- Restart your server using the `Hub Control Panel` under the `File` and click `Stop My Server` and then `Start My Server`.\n",
    "\n",
    ":::\n",
    "\n",
    "::::\n",
    "\n",
    "[^1]:  click me to expand"
   ]
  },
  {
   "cell_type": "markdown",
   "id": "864377ea",
   "metadata": {
    "editable": true,
    "slideshow": {
     "slide_type": "slide"
    }
   },
   "source": [
    "### How to access the course materials?"
   ]
  },
  {
   "cell_type": "markdown",
   "id": "abb8b506",
   "metadata": {},
   "source": [
    "Course materials are written in the form of Jupyter Notebooks. Jupyter Notebooks provide an interactive literate programming experience, which is a significant benefit for learners:\n",
    "\n",
    "- Jupyter Notebooks allow programs to be mixed with other contents, including figures, videos, and formatted textual explanations.\n",
    "- The notebooks can also run in a Jupyter server, which enables users to write and run their programs while adding formatted notes to it."
   ]
  },
  {
   "cell_type": "markdown",
   "id": "30ffd47d",
   "metadata": {
    "editable": true,
    "slideshow": {
     "slide_type": "fragment"
    }
   },
   "source": [
    "The recommended way is to follow the links to the notebooks on the course homepage as shown in [](#fig:notebook-links)."
   ]
  },
  {
   "cell_type": "markdown",
   "id": "4f0ffc3d",
   "metadata": {
    "editable": true,
    "slideshow": {
     "slide_type": ""
    }
   },
   "source": [
    ":::{figure} images/canvas.dio.svg\n",
    ":name: fig:notebook-links\n",
    ":alt: Links to lecture/lab notebooks\n",
    ":align: left\n",
    "\n",
    "Links to lecture/lab notebooks on course homepage\n",
    ":::"
   ]
  },
  {
   "cell_type": "markdown",
   "id": "63367b37",
   "metadata": {
    "editable": true,
    "slideshow": {
     "slide_type": ""
    }
   },
   "source": [
    "The notebooks reside in a [GitHub repository](https://github.com/dive4dec/cs1302_23a/blob/main/README.md). The first time you access the notebook link, the following steps occur:\n",
    "\n",
    "- Your Jupyter server is opened.\n",
    "- The repository is cloned to the server as a local repository.\n",
    "- The desired notebook is opened in the JupyterLab interface."
   ]
  },
  {
   "cell_type": "markdown",
   "id": "25b6dcba",
   "metadata": {},
   "source": [
    "Afterwards, accessing a notebook link again will\n",
    "\n",
    "- [git-pull](https://git-scm.com/docs/git-pull)s new or existing files in the repository and \n",
    "- merge them with the notebooks stored under the course folder `cs1302_xxx` in your home directory without overwriting your changes."
   ]
  },
  {
   "cell_type": "markdown",
   "id": "0db3dc2d",
   "metadata": {
    "editable": true,
    "slideshow": {
     "slide_type": ""
    }
   },
   "source": [
    "::::{important}\n",
    "\n",
    "Manually fetching the notebooks through other means may not create the local repository required for git version control. This can result in new notebooks or changes to existing notebooks not being pulled properly to your server. To ensure that you have the latest versions of the notebooks with proper version control, use the provided notebook links.\n",
    "\n",
    ":::{seealso}\n",
    "\n",
    "If you are interested in how the link works, see [`nbgitpuller`](https://jupyterhub.github.io/nbgitpuller/index.html). A git-pull link looks as follows:\n",
    "\n",
    "```bash\n",
    "https://{{server_url}}/git-pull        # send request to jupyter server\n",
    "repo={{git_repo}}&                     # pull from the git repository\n",
    "urlpath=lab/tree/{{path_to_notebook}}  # follow the path to open the notebook\n",
    "```\n",
    "\n",
    ":::\n",
    "\n",
    "::::"
   ]
  },
  {
   "cell_type": "markdown",
   "id": "dcefa53b",
   "metadata": {
    "editable": true,
    "slideshow": {
     "slide_type": "slide"
    }
   },
   "source": [
    "## Lab Assignments"
   ]
  },
  {
   "cell_type": "markdown",
   "id": "ea3674a2",
   "metadata": {
    "slideshow": {
     "slide_type": "subslide"
    }
   },
   "source": [
    "### How to complete a lab assignment?"
   ]
  },
  {
   "cell_type": "markdown",
   "id": "736c97ab",
   "metadata": {},
   "source": [
    "The notebooks can be edited in JupyterLab to include your notes and answers for submission. If this is your first time using JupyterLab, take a look at the official video tutorial:"
   ]
  },
  {
   "cell_type": "markdown",
   "id": "1458bd7b",
   "metadata": {},
   "source": [
    ":::{iframe} https://www.youtube.com/embed/A5YyoCKxEOU\n",
    ":width: 100%\n",
    ":align: left\n",
    "\n",
    "Official video tutorial on Jupyter\n",
    ":::"
   ]
  },
  {
   "cell_type": "markdown",
   "id": "27a74545",
   "metadata": {
    "editable": true,
    "slideshow": {
     "slide_type": "fragment"
    }
   },
   "source": [
    "The `Help` menu gives more detailed references. For instance:\n",
    "\n",
    "- Checkout the menu item `Show Keyboard Shortcuts` and try some of the shortcuts to see their effect. `Jupyter Reference` opens the [user guide](https://jupyterlab.readthedocs.io/en/latest/user/interface.html) in a new tab.\n",
    "- Try the [MyST Markdown](https://mystmd.org/guide/typography) syntax to format your notes."
   ]
  },
  {
   "cell_type": "markdown",
   "id": "0e85fb53",
   "metadata": {},
   "source": [
    "In learning a new programming language, the first program to write is often the [\"Hello, World!\"](https://en.wikipedia.org/wiki/%22Hello,_World!%22_program) program, which says Hello to the world. As your first lab exercise, you will write such a program in python."
   ]
  },
  {
   "cell_type": "markdown",
   "id": "131c1316",
   "metadata": {
    "deletable": false,
    "editable": false,
    "nbgrader": {
     "cell_type": "markdown",
     "checksum": "034d20eb0d4040d1822391674b72a1c0",
     "grade": false,
     "grade_id": "qHelloWorld",
     "locked": true,
     "schema_version": 3,
     "solution": false,
     "task": false
    },
    "slideshow": {
     "slide_type": "subslide"
    }
   },
   "source": [
    ":::::{exercise} Hello World\n",
    ":label: ex:Hello-World\n",
    "\n",
    "Complete the program in the solution cell to print the message `Hello, World!`. \n",
    "\n",
    "::::{hint}\n",
    ":class: dropdown\n",
    "\n",
    "One possible solution is:\n",
    "\n",
    ":::{code-block} python\n",
    ":name: code:Hello-World\n",
    ":caption: Python, \"Hello, World!\"\n",
    "\n",
    "def say_hello():\n",
    "    print(\"Hello, World!\")\n",
    "    \n",
    "say_hello()\n",
    ":::\n",
    "\n",
    ":::{caution}\n",
    "You must use a tab or 4 spaces to indent the second line of code `print(...)`.\n",
    ":::\n",
    "\n",
    "::::\n",
    "\n",
    ":::::"
   ]
  },
  {
   "cell_type": "markdown",
   "id": "f5ff2290",
   "metadata": {
    "editable": true,
    "slideshow": {
     "slide_type": ""
    }
   },
   "source": [
    "The following code cell is the solution. Since you are not expected to know python before, you can simply expand the hint above and copy the solution to the solution cell instead."
   ]
  },
  {
   "cell_type": "code",
   "execution_count": null,
   "id": "3516b900",
   "metadata": {
    "code_folding": [],
    "deletable": false,
    "editable": true,
    "nbgrader": {
     "cell_type": "code",
     "checksum": "3b4449a7fd39c719b8d9d63b8101820c",
     "grade": false,
     "grade_id": "helloworld",
     "locked": false,
     "schema_version": 3,
     "solution": true,
     "task": false
    },
    "slideshow": {
     "slide_type": "-"
    },
    "tags": [
     "remove-output"
    ]
   },
   "outputs": [],
   "source": [
    "def say_hello():\n",
    "    # YOUR CODE HERE\n",
    "    raise NotImplementedError()\n",
    "    \n",
    "say_hello()"
   ]
  },
  {
   "cell_type": "markdown",
   "id": "9b45b467",
   "metadata": {
    "editable": true,
    "slideshow": {
     "slide_type": "subslide"
    }
   },
   "source": [
    ":::{important}\n",
    "\n",
    "It's important to follow certain guidelines when writing your answers or code in the notebooks:\n",
    "\n",
    "- Only provide your answers in the cells that are designated for this purpose, which are usually labeled with `YOUR CODE HERE` or `YOUR ANSWER HERE`.\n",
    "- For coding exercises, be sure to remove the line `raise NotImplementedError()` from the cell before submitting your work.\n",
    "- Do not clone or duplicate the answer cells, as this can cause issues with version control and grading.\n",
    "\n",
    ":::"
   ]
  },
  {
   "cell_type": "markdown",
   "id": "399c0016",
   "metadata": {},
   "source": [
    "To test your program:\n",
    "\n",
    "- Run your program by selecting the solution cell and press `Shift`+`Enter`.\n",
    "- Then, run the following visible test to check whether your program prints the correct message."
   ]
  },
  {
   "cell_type": "code",
   "execution_count": null,
   "id": "41bff12b",
   "metadata": {
    "deletable": false,
    "editable": false,
    "nbgrader": {
     "cell_type": "code",
     "checksum": "4068a56e65aec0123a06748ff5b6586b",
     "grade": true,
     "grade_id": "test-helloworld",
     "locked": true,
     "points": 1,
     "schema_version": 3,
     "solution": false,
     "task": false
    },
    "slideshow": {
     "slide_type": "-"
    },
    "tags": [
     "remove-output"
    ]
   },
   "outputs": [],
   "source": [
    "# Run this test cell right after running your \"Hello, World!\" program.\n",
    "import io\n",
    "import sys\n",
    "\n",
    "old_stdout, sys.stdout = sys.stdout, io.StringIO()\n",
    "say_hello()\n",
    "printed = sys.stdout.getvalue()\n",
    "sys.stdout = old_stdout\n",
    "assert printed == \"Hello, World!\\n\""
   ]
  },
  {
   "cell_type": "markdown",
   "id": "50621c4c",
   "metadata": {
    "editable": true,
    "slideshow": {
     "slide_type": ""
    }
   },
   "source": [
    "The test returns an assertion error if your program does not print the correct message."
   ]
  },
  {
   "cell_type": "markdown",
   "id": "f4fb249a",
   "metadata": {
    "editable": true,
    "slideshow": {
     "slide_type": ""
    }
   },
   "source": [
    "```{tip}\n",
    "\n",
    "- You can repeatedly modify your solution and run the test cell until your solution passes the test. There is no mark penalty in failing the test before submission. \n",
    "- You should try to understand the error messages from a failed test.\n",
    "- To assess your solution thoroughly, we will run new tests hidden from you after you have submitted your notebook. Therefore, *you should ensure your solution works in general rather than just the visible tests*.\n",
    "- If you open the same notebook multiple times in different browser windows, be careful in making changes in different windows as you may overwrite your own changes.\n",
    "- If your notebook fails to run any code, the kernel might have died. You can restart the kernel with `Kernel`$\\to$ `Restart`. If restarting fails, check your code cells to see if there is anything that breaks the kernel.\n",
    "\n",
    "```"
   ]
  },
  {
   "cell_type": "markdown",
   "id": "6a31aab4",
   "metadata": {
    "editable": true,
    "slideshow": {
     "slide_type": "slide"
    }
   },
   "source": [
    "### How to submit a notebook"
   ]
  },
  {
   "cell_type": "markdown",
   "id": "f27be286",
   "metadata": {
    "editable": true,
    "slideshow": {
     "slide_type": ""
    }
   },
   "source": [
    ":::{important} Grading policies\n",
    "\n",
    "- Late submissions will not be accepted without valid justifications.\n",
    "- You can submit your assignment repeatedly before the deadline without penalty, so it is recommended to submit your assignment in advance. Please note that you are responsible for any issues related to failed submissions due to network outages that occur too close to the deadline.\n",
    "- It is also important to make a record or backup of your submission that includes the submission timestamp. Double check to ensure that you have submitted the correct lab assignment, since multiple lab assignments may be open for submission at the same time.\n",
    "\n",
    ":::"
   ]
  },
  {
   "cell_type": "markdown",
   "id": "1aca2767",
   "metadata": {
    "editable": true,
    "slideshow": {
     "slide_type": ""
    }
   },
   "source": [
    "You normally have at least 5 days to work on the lab after your lab session. \n",
    "\n",
    "- You can check the due dates of all the labs from the course homepage. \n",
    "- You may seek help from us or your classmates. However, you must write your own solution and indicate who your collaborators are by including their EIDs in a code cell:  \n",
    "    ```Python\n",
    "    COLLABORATORS = [\"xfwong2\", \"mklee3\"]\n",
    "    ```"
   ]
  },
  {
   "cell_type": "markdown",
   "id": "a0946031",
   "metadata": {
    "editable": true,
    "slideshow": {
     "slide_type": ""
    }
   },
   "source": [
    ":::{attention}\n",
    "\n",
    "- Although the first Lab (`Lab0`) does not count towards your final grade, you should still submit it, to get familiar with the procedure.\n",
    "- Lecture notebooks under the subfolders `Lecture*\\` need NOT be submitted. You only need to submit the lab notebooks under `Lab*\\`. \n",
    "\n",
    ":::"
   ]
  },
  {
   "cell_type": "markdown",
   "id": "c7ba4510",
   "metadata": {},
   "source": [
    "[Nbgrader](https://nbgrader.readthedocs.io/en/stable/index.html) is the tool used for grading notebook assignments. It is well-integrated into the JupyterLab interface, allowing students to submit their notebooks directly through the JupyterHub server. Submitted notebooks can be both auto-graded with pre-defined test cases and manually graded with custom feedback. After grading is complete, you can check your scores and access the feedback using the same interface."
   ]
  },
  {
   "cell_type": "markdown",
   "id": "89a0a160",
   "metadata": {
    "deletable": false,
    "editable": false,
    "nbgrader": {
     "cell_type": "markdown",
     "checksum": "7460b7419df989e08a4c3a43ec627825",
     "grade": false,
     "grade_id": "Check",
     "locked": true,
     "schema_version": 3,
     "solution": false,
     "task": false
    },
    "slideshow": {
     "slide_type": "fragment"
    }
   },
   "source": [
    "Before you submit, make sure everything runs as expected:\n",
    "\n",
    "1. **Git-pull the notebooks** (optional): Follow any one of the link on the course homepage to a notebook, which will git-pull any updates/corrections to (all) your notebooks.\n",
    "1. **Save the notebook**: Unsaved changes are not exported, even though they are in the memory.\n",
    "1. **Restart the kernel**: `Kernel`$\\to$ `Restart Kernel...` to have a clean state before running visible tests.\n",
    "1. **run all cells**: `Run`$\\to$ `Run All Cells` to double check the results of the visible tests are as expected."
   ]
  },
  {
   "cell_type": "markdown",
   "id": "469f5154",
   "metadata": {
    "editable": true,
    "slideshow": {
     "slide_type": "subslide"
    }
   },
   "source": [
    "To submit your notebook:\n",
    "\n",
    "1. Select the menu item `Nbgrader`$\\to$`Assignment List`.\n",
    "1. Expand the Lab folder and click the `validate` button next to the notebook(s) to check if all the visible tests pass.\n",
    "1. Click `Submit` to submit your notebook."
   ]
  },
  {
   "cell_type": "markdown",
   "id": "09a73160",
   "metadata": {
    "editable": true,
    "slideshow": {
     "slide_type": ""
    }
   },
   "source": [
    "::::{caution}\n",
    "\n",
    "Your submission may not be graded under the following circumstances:\n",
    "\n",
    "- If the notebook files have been renamed, for example, `Setup.ipynb` being changed or copied to `Setup (Copy).ipynb`.\n",
    "- If an HTML file exists with the same name as a notebook, for example, `Setup.html`.\n",
    "- If the file size exceeds `100MB`.\n",
    "- If the code takes too long to run or requires an excessive amount of memory.\n",
    "\n",
    "It is essential to ensure that your submission meets these guidelines to avoid any issues with grading.\n",
    "\n",
    ":::{tip} Troubleshooting\n",
    ":class: dropdown\n",
    "\n",
    "If you believe your notebooks are corrupted, \n",
    "1. download/backup your existing notebooks,\n",
    "1. remove them from the `Lab*/` folder,\n",
    "1. click the git-pull links from the course homepage to re-pull the notebooks, and\n",
    "1. copy your solutions to the new notebooks.\n",
    "\n",
    "You may also run the course notebooks outside the jupyterhub server and locally on your computer. For more details, see the course homepage.\n",
    "\n",
    ":::\n",
    "\n",
    "::::"
   ]
  }
 ],
 "metadata": {
  "kernelspec": {
   "display_name": "Python 3 (ipykernel)",
   "language": "python",
   "name": "python3"
  },
  "language_info": {
   "codemirror_mode": {
    "name": "ipython",
    "version": 3
   },
   "file_extension": ".py",
   "mimetype": "text/x-python",
   "name": "python",
   "nbconvert_exporter": "python",
   "pygments_lexer": "ipython3",
   "version": "3.11.4"
  }
 },
 "nbformat": 4,
 "nbformat_minor": 5
}
