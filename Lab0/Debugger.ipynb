{
 "cells": [
  {
   "cell_type": "markdown",
   "id": "864ae27e",
   "metadata": {
    "editable": true,
    "slideshow": {
     "slide_type": "slide"
    }
   },
   "source": [
    "# Debugger"
   ]
  },
  {
   "cell_type": "markdown",
   "id": "86fb5c6e",
   "metadata": {
    "tags": [
     "remove-cell"
    ]
   },
   "source": [
    "CS1302 Introduction to Computer Programming\n",
    "___"
   ]
  },
  {
   "cell_type": "markdown",
   "id": "463a8325",
   "metadata": {
    "slideshow": {
     "slide_type": "slide"
    }
   },
   "source": [
    "## Motivation"
   ]
  },
  {
   "cell_type": "markdown",
   "id": "681190db",
   "metadata": {
    "slideshow": {
     "slide_type": "fragment"
    }
   },
   "source": [
    "Computer programs can somtimes behave in an unexpected way due to errors or {term}`bug`s. Finding the errors might be easy for simple programs. However, for programs consisting of many lines of code, finding errors can be very hard."
   ]
  },
  {
   "cell_type": "markdown",
   "id": "b39e378c",
   "metadata": {
    "slideshow": {
     "slide_type": "fragment"
    }
   },
   "source": [
    "A {term}`debugger` allows us to pause the execution of a program at a line, called a {term}`breakpoint`, we specify. This allows us to find errors more easily. In this lab, we will learn to use the [visual debugger](https://jupyterlab.readthedocs.io/en/stable/user/debugger.html) in JupyterLab."
   ]
  },
  {
   "cell_type": "markdown",
   "id": "9c31f32a",
   "metadata": {
    "slideshow": {
     "slide_type": "slide"
    }
   },
   "source": [
    "## Breakpoints"
   ]
  },
  {
   "cell_type": "markdown",
   "id": "bbedcaa4",
   "metadata": {
    "slideshow": {
     "slide_type": "subslide"
    }
   },
   "source": [
    "We will use the following code as an example to set a breakpoint. First, execute the code to see the effect."
   ]
  },
  {
   "cell_type": "code",
   "execution_count": null,
   "id": "5654198f",
   "metadata": {},
   "outputs": [],
   "source": [
    "msg = \"Hello, World!\"\n",
    "print(msg)"
   ]
  },
  {
   "cell_type": "markdown",
   "id": "e97c00eb",
   "metadata": {
    "editable": true,
    "slideshow": {
     "slide_type": "subslide"
    }
   },
   "source": [
    "To enter the debug mode, click on the debugger icon ![](images/bug.svg) in the toolbar. The debugging sidebar should slide open. You can also open/close the sidebar by clicking the debugger icon on the right side bar."
   ]
  },
  {
   "cell_type": "markdown",
   "id": "2b30fafa",
   "metadata": {
    "editable": true,
    "slideshow": {
     "slide_type": "subslide"
    }
   },
   "source": [
    ":::{exercise}\n",
    ":label: ex:debug-mode\n",
    "\n",
    "Code cells looks different in debug mode. What is the difference?\n",
    "\n",
    ":::"
   ]
  },
  {
   "cell_type": "markdown",
   "id": "262f5505",
   "metadata": {
    "deletable": false,
    "editable": true,
    "nbgrader": {
     "cell_type": "markdown",
     "checksum": "723be0a25c4e145cdd163aa7318f3629",
     "grade": true,
     "grade_id": "line-number",
     "locked": false,
     "points": 1,
     "schema_version": 3,
     "solution": true,
     "task": false
    },
    "slideshow": {
     "slide_type": ""
    }
   },
   "source": [
    "YOUR ANSWER HERE"
   ]
  },
  {
   "cell_type": "markdown",
   "id": "8ddccb75",
   "metadata": {
    "slideshow": {
     "slide_type": "subslide"
    }
   },
   "source": [
    "To set a breakpoint, press the dot that appears as you hover to the left of line number 2. Run the cell to see what happens."
   ]
  },
  {
   "cell_type": "code",
   "execution_count": null,
   "id": "02676151",
   "metadata": {
    "tags": [
     "remove-output"
    ]
   },
   "outputs": [],
   "source": [
    "msg = \"Hello, World!\"\n",
    "print(msg)"
   ]
  },
  {
   "cell_type": "markdown",
   "id": "14a1bd81",
   "metadata": {
    "editable": true,
    "slideshow": {
     "slide_type": ""
    }
   },
   "source": [
    "The debugger provides additional information organized into different panels as shown in [](#fig:debugger-panels):"
   ]
  },
  {
   "cell_type": "markdown",
   "id": "86d11c05",
   "metadata": {
    "editable": true,
    "slideshow": {
     "slide_type": ""
    }
   },
   "source": [
    "::::{grid} 1 1 2 2\n",
    "\n",
    "- **Variables panel** shows the current values of different variables.\n",
    "- **Callstack panel** provides a more detailed context of where the execution is paused. It also provides the flow control buttons to resume/stop the execution.\n",
    "- **Breakpoints panel** shows all the breakpoints of the current debug session.\n",
    "- **Source panel** shows the code being debugged. `/TMP/IPYKERNEL_...` is a temporary file that stores the code of the cell being executed.\n",
    "- **Kernel sources** list the code that runs the kernel, which in turn runs the code cell being debugged.\n",
    "\n",
    ":::{figure} images/debugger-panels.svg\n",
    ":name: fig:debugger-panels\n",
    ":align: left\n",
    "\n",
    "Debugger panels\n",
    ":::\n",
    "\n",
    "::::"
   ]
  },
  {
   "cell_type": "markdown",
   "id": "ab5bb429",
   "metadata": {
    "slideshow": {
     "slide_type": "subslide"
    }
   },
   "source": [
    ":::{exercise}\n",
    ":label: ex:executed\n",
    "\n",
    "Explain whether line 1 and 2 are executed. Use the information from the debugger to support your answer.\n",
    "\n",
    ":::"
   ]
  },
  {
   "cell_type": "markdown",
   "id": "e941728a",
   "metadata": {
    "deletable": false,
    "nbgrader": {
     "cell_type": "markdown",
     "checksum": "060b14b2b8a2628bca885fc8273395c3",
     "grade": true,
     "grade_id": "executed",
     "locked": false,
     "points": 1,
     "schema_version": 3,
     "solution": true,
     "task": false
    }
   },
   "source": [
    "YOUR ANSWER HERE"
   ]
  },
  {
   "cell_type": "markdown",
   "id": "02dd987c",
   "metadata": {
    "slideshow": {
     "slide_type": "slide"
    }
   },
   "source": [
    "## Flow Control"
   ]
  },
  {
   "cell_type": "markdown",
   "id": "7f0d0e83",
   "metadata": {},
   "source": [
    "To resume/terminate the execution, use the following {term}`flow control` buttons at the top of the callstack panel:\n",
    "\n",
    "- **Continue** button continues the execution and pause again if it hits a breakpoint.\n",
    "- **Terminate** button stops the execution.\n",
    "- **Next/Step-over** button continues the execution of program to the next line of code to be executed."
   ]
  },
  {
   "cell_type": "markdown",
   "id": "cca1c972",
   "metadata": {
    "slideshow": {
     "slide_type": "subslide"
    }
   },
   "source": [
    "::::{exercise} Identify a function\n",
    ":label: ex:fn\n",
    "\n",
    "What does the following function `f(n)` computes? \n",
    "\n",
    ":::{code-block} python\n",
    ":name: code:fn\n",
    ":caption: The function to identify.\n",
    "\n",
    "def f(n):\n",
    "    return n * f(n - 1) if n > 0 else 1\n",
    "\n",
    "\n",
    "f(3)\n",
    "\n",
    ":::\n",
    "\n",
    "Insert a code cell below to enter the above code. Set a breakpoint and use the flow control to understand how the program works. It is helpful to pay attention to the {term}`callstack`.\n",
    "\n",
    ":::{hint}\n",
    ":class: dropdown\n",
    "\n",
    "Set the breakpoint one at a time but at different locations. If you set your breakpoint at line 5, you should use the **Step In** button to step into the execution of the function.\n",
    "\n",
    "You can also make use of the new console for notebook:\n",
    "- You can run `f(n)` for different values of `n` in the console to understand how the function works. \n",
    "- You can set a breakpoint in Line 2 of the previous code cell containing `def f(n): ...` and run `f(3)` in the console to pause at the breakpoint. The source code containing the breakpoint will also be shown in the **Source panel**. \n",
    "- You can also set a breakpoint in the console input, say `f(3)`, and then step into it.\n",
    "- While the execution is paused, you can enter a new line of code such as `print(msg)` below `f(3)` in the console and then continue the execution to run the new line of code.\n",
    "\n",
    ":::\n",
    "\n",
    "::::"
   ]
  },
  {
   "cell_type": "markdown",
   "id": "d3b95e77",
   "metadata": {
    "deletable": false,
    "nbgrader": {
     "cell_type": "markdown",
     "checksum": "4977f55aff95e93021c125fe6ec165b6",
     "grade": true,
     "grade_id": "factorial",
     "locked": false,
     "points": 1,
     "schema_version": 3,
     "solution": true,
     "task": false
    }
   },
   "source": [
    "YOUR ANSWER HERE"
   ]
  },
  {
   "cell_type": "markdown",
   "id": "c5ba6581",
   "metadata": {
    "slideshow": {
     "slide_type": "slide"
    }
   },
   "source": [
    "## Console"
   ]
  },
  {
   "cell_type": "markdown",
   "id": "dba04587",
   "metadata": {
    "slideshow": {
     "slide_type": "-"
    }
   },
   "source": [
    "Sometimes, it is helpful to run temporary code that shares the same context as the notebook, but without modifying the notebook. This can be done using a {term}`console`:"
   ]
  },
  {
   "cell_type": "markdown",
   "id": "e21909ec",
   "metadata": {},
   "source": [
    "- Right click anywhere on a notebook and choose `New Console for Notebook`:\n",
    "- Type some code such as `msg` into the console input and run it with `Shift-Enter`:"
   ]
  },
  {
   "cell_type": "markdown",
   "id": "9d6b23b2",
   "metadata": {
    "slideshow": {
     "slide_type": "subslide"
    }
   },
   "source": [
    "If you want to run temporary code while debugging a code cell, the above console would not work because the breakpoint pauses the executation of the console as well. In this, a debug console is needed, as illustrated in the following exercise."
   ]
  },
  {
   "cell_type": "markdown",
   "id": "a1bd2431",
   "metadata": {},
   "source": [
    "::::{exercise}\n",
    ":label: ex:debug-console\n",
    "\n",
    "Set a breakpoint at Line 2 of [](#code:fn) and run the it in debug mode.\n",
    "\n",
    "1. Click the ![](images/evaluate-code.svg) icon in the callstack panel to open a debug console. Enter the code `print(f(n-1))` and click `Evaluate`. Explain what gets printed to the cell output.\n",
    "2. Repeat the last step but evaluate the code `n=10` in the debug console instead. Then, remove the breakpoint and resume the execution to see the final value. Is the value `6` printed to the output as before? Why or why not?\n",
    "\n",
    "::::"
   ]
  },
  {
   "cell_type": "markdown",
   "id": "9b45803c",
   "metadata": {
    "deletable": false,
    "nbgrader": {
     "cell_type": "markdown",
     "checksum": "e6f4221e2cdf0221e4fba7d3e302b977",
     "grade": true,
     "grade_id": "debug-console",
     "locked": false,
     "points": 1,
     "schema_version": 3,
     "solution": true,
     "task": false
    }
   },
   "source": [
    "YOUR ANSWER HERE"
   ]
  },
  {
   "cell_type": "markdown",
   "id": "026323d4",
   "metadata": {
    "slideshow": {
     "slide_type": "subslide"
    }
   },
   "source": [
    ":::{seealso}\n",
    "\n",
    "There are several debuggers available across different interfaces. In our JupyterHub server, you have the option to use the VS Code interface by navigating to `File` $\\to$ `New Launcher` $\\to$ `VS Code`. \n",
    "\n",
    "To debug your current notebook using the VS Code interface, simply open the notebook and follow the tutorial available at [this link](https://code.visualstudio.com/docs/datascience/jupyter-notebooks#_debug-a-jupyter-notebook). Additionally, you can enhance the functionality of the VS Code interface by installing additional [extensions](https://code.visualstudio.com/docs/editor/extension-marketplace).\n",
    "\n",
    ":::"
   ]
  },
  {
   "cell_type": "markdown",
   "id": "557ae890",
   "metadata": {
    "slideshow": {
     "slide_type": "slide"
    }
   },
   "source": [
    "## Visualization"
   ]
  },
  {
   "cell_type": "markdown",
   "id": "cccabb66",
   "metadata": {
    "slideshow": {
     "slide_type": "fragment"
    }
   },
   "source": [
    "Seeing is believing. You can also debug your code by visualizing the code execution."
   ]
  },
  {
   "cell_type": "markdown",
   "id": "fa4020b8",
   "metadata": {
    "slideshow": {
     "slide_type": "slide"
    }
   },
   "source": [
    "First, load the `divewidgets` using a line magic:"
   ]
  },
  {
   "cell_type": "code",
   "execution_count": null,
   "id": "4d7d0f98",
   "metadata": {},
   "outputs": [],
   "source": [
    "%reload_ext divewidgets"
   ]
  },
  {
   "cell_type": "markdown",
   "id": "100af1e5",
   "metadata": {
    "slideshow": {
     "slide_type": "fragment"
    }
   },
   "source": [
    "Then, create a cell magic with the python code you want to visualize:"
   ]
  },
  {
   "cell_type": "code",
   "execution_count": null,
   "id": "8dc69b7d",
   "metadata": {},
   "outputs": [],
   "source": [
    "%%optlite --height 500\n",
    "def f(n): # definition of a function\n",
    "    return n * f(n - 1) if n > 0 else 1\n",
    "\n",
    "\n",
    "f(3)"
   ]
  },
  {
   "cell_type": "markdown",
   "id": "3ac16c57",
   "metadata": {
    "slideshow": {
     "slide_type": "subslide"
    }
   },
   "source": [
    "Try the following:\n",
    "- Drag the slider to time-travel the code execution.\n",
    "- Click any lines with code to toggle breakpoints, and click `Next >` (`< Prev`) to go the the next (previous) breakpoint.\n",
    "- Click the `Edit the code` link to edit the code.\n",
    "- Click the `Permalink` button to generate a url of the code, and copy and paste the url to a new browser window to run the visualization there.\n",
    "- Click the `Live Edit` button to live edit the code in a new browser window, where your changes to the code are immediately visualized. You can also time-travel and generate a permalink there."
   ]
  },
  {
   "cell_type": "markdown",
   "id": "220badc9",
   "metadata": {
    "slideshow": {
     "slide_type": "subslide"
    }
   },
   "source": [
    "Run the following cell to see additional options available to the cell magic."
   ]
  },
  {
   "cell_type": "code",
   "execution_count": null,
   "id": "c3f87039",
   "metadata": {},
   "outputs": [],
   "source": [
    "%%optlite?"
   ]
  },
  {
   "cell_type": "markdown",
   "id": "47f8e5cb",
   "metadata": {
    "slideshow": {
     "slide_type": "subslide"
    }
   },
   "source": [
    "If you're struggling to understand or debug a piece of code, you can use OPTLite to share a link of the code with others. You can create a permalink like this:\n",
    "\n",
    "> <https://dive4dec.github.io/optlite/#code=def%20f%28n%29%3A%20%23%20definition%20of%20a%20function%0A%20%20%20%20return%20n%20*%20f%28n%20-%201%29%20if%20n%20%3E%200%20else%201%0A%0A%0Af%283%29&mode=edit&origin=opt-frontend.js&rawInputLstJSON=%5B%5D>\n",
    "\n",
    "If you change `mode=edit` in the query string to `mode=display`, the visualization will start automatically:\n",
    "\n",
    "> <https://dive4dec.github.io/optlite/#code=def%20f%28n%29%3A%20%23%20definition%20of%20a%20function%0A%20%20%20%20return%20n%20*%20f%28n%20-%201%29%20if%20n%20%3E%200%20else%201%0A%0A%0Af%283%29&mode=display&origin=opt-frontend.js&rawInputLstJSON=%5B%5D>\n",
    "\n",
    "To automatically enter live editing mode, specify `live.html` in the path:\n",
    "\n",
    "> <https://dive4dec.github.io/optlite/live.html#code=def%20f%28n%29%3A%20%23%20definition%20of%20a%20function%0A%20%20%20%20return%20n%20*%20f%28n%20-%201%29%20if%20n%20%3E%200%20else%201%0A%0A%0Af%283%29&mode=edit&origin=opt-frontend.js&rawInputLstJSON=%5B%5D>"
   ]
  },
  {
   "cell_type": "markdown",
   "id": "18342e11",
   "metadata": {
    "slideshow": {
     "slide_type": "subslide"
    }
   },
   "source": [
    ":::{exercise} optlite\n",
    ":label: ex:optlite\n",
    "\n",
    "Give a permalink that visualize the Hello World program immediately without the need to click `Visualize` button. \n",
    ":::"
   ]
  },
  {
   "cell_type": "markdown",
   "id": "b3a04ce3",
   "metadata": {
    "deletable": false,
    "nbgrader": {
     "cell_type": "markdown",
     "checksum": "00ffa460cbcab4ef7055cc1ad9ffbe85",
     "grade": true,
     "grade_id": "optlite",
     "locked": false,
     "points": 1,
     "schema_version": 3,
     "solution": true,
     "task": false
    }
   },
   "source": [
    "YOUR ANSWER HERE"
   ]
  },
  {
   "cell_type": "markdown",
   "id": "123538b5",
   "metadata": {},
   "source": [
    "::::{note}\n",
    "\n",
    "OPTLite is a serverless setup that allows you to run the popular learning tool, [Online Python Tutor](https://pythontutor.com/), locally on your browser without any advertisements or restrictions on your code. We developed [OPTLite](https://github.com/dive4dec/optlite) to enable offline use once the page is loaded. \n",
    "\n",
    "::::"
   ]
  },
  {
   "cell_type": "markdown",
   "id": "3e1d32b5",
   "metadata": {},
   "source": [
    "## Glossary"
   ]
  },
  {
   "cell_type": "markdown",
   "id": "18523899",
   "metadata": {},
   "source": [
    ":::{glossary}\n",
    "breakpoint\n",
    ": A designated point in a program's code where execution will pause, allowing the programmer to examine the program's state and behavior at that point. Breakpoints are often used in conjunction with a debugger to help identify and resolve errors or bugs in a program.\n",
    "\n",
    "bug\n",
    ": An error or defect in a software program that causes it to behave unexpectedly or not according to its intended purpose. Bugs can range from minor issues to major problems that can cause crashes or data loss.\n",
    "\n",
    "callstack\n",
    ": A data structure that keeps track of the functions or procedures that have been called in a program, along with their parameters and return values. The callstack is used by the program to keep track of where it is in the execution process and to manage memory usage.\n",
    "\n",
    "console\n",
    ": A command-line interface or text-based window used for interacting with a program or operating system. The console allows users to enter commands and view output from the system or program.\n",
    "\n",
    "debugger\n",
    ": A tool or program used to identify and resolve errors or bugs in software code. Debuggers can be used to step through code, examine variables and data structures, and identify the source of errors in a program.\n",
    "\n",
    "flow control\n",
    ": The process of controlling the order in which a program executes its instructions. Flow control can be achieved through conditional statements, loops, and other control structures that allow the program to make decisions and repeat actions based on certain conditions.\n",
    ":::"
   ]
  }
 ],
 "metadata": {
  "kernelspec": {
   "display_name": "Python 3 (ipykernel)",
   "language": "python",
   "name": "python3"
  }
 },
 "nbformat": 4,
 "nbformat_minor": 5
}
