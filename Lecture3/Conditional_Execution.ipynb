{
 "cells": [
  {
   "cell_type": "markdown",
   "id": "066c623a",
   "metadata": {
    "slideshow": {
     "slide_type": "slide"
    }
   },
   "source": [
    "# Conditional Execution"
   ]
  },
  {
   "cell_type": "markdown",
   "id": "85170fbf",
   "metadata": {
    "slideshow": {
     "slide_type": "-"
    },
    "tags": [
     "remove-cell"
    ]
   },
   "source": [
    "CS1302 Introduction to Computer Programming\n",
    "___"
   ]
  },
  {
   "cell_type": "code",
   "execution_count": null,
   "id": "425feb59",
   "metadata": {
    "slideshow": {
     "slide_type": "fragment"
    },
    "tags": [
     "remove-cell"
    ]
   },
   "outputs": [],
   "source": [
    "import math\n",
    "\n",
    "from flowcharts import *\n",
    "from ipywidgets import interact\n",
    "\n",
    "%reload_ext divewidgets"
   ]
  },
  {
   "cell_type": "markdown",
   "id": "98120507",
   "metadata": {
    "slideshow": {
     "slide_type": "subslide"
    }
   },
   "source": [
    "## Motivation"
   ]
  },
  {
   "cell_type": "markdown",
   "id": "93a5bab7",
   "metadata": {
    "slideshow": {
     "slide_type": "fragment"
    }
   },
   "source": [
    "Conditional execution means running different pieces of code based on different conditions. Why do programmers need conditional executation?"
   ]
  },
  {
   "cell_type": "markdown",
   "id": "2df50a41",
   "metadata": {
    "slideshow": {
     "slide_type": "fragment"
    }
   },
   "source": [
    "For instance, when trying to compute `a/b`, `b` may be `0` and division by `0` is invalid."
   ]
  },
  {
   "cell_type": "code",
   "execution_count": null,
   "id": "3b8bb1e3",
   "metadata": {
    "slideshow": {
     "slide_type": "-"
    }
   },
   "outputs": [],
   "source": [
    "%%optlite -h 450\n",
    "def multiply_or_divide(a, b):\n",
    "    print(\"a:{}, b:{}, a*b:{}, a/b:{}\".format(a, b, a * b, a / b))\n",
    "\n",
    "\n",
    "multiply_or_divide(1, 2)\n",
    "multiply_or_divide(1, 0)"
   ]
  },
  {
   "cell_type": "markdown",
   "id": "8f09cdf2",
   "metadata": {},
   "source": [
    "Although division by 0 is invalid, multiplication remains valid but it is not printed due to the division error."
   ]
  },
  {
   "cell_type": "markdown",
   "id": "6c687d2b",
   "metadata": {
    "slideshow": {
     "slide_type": "subslide"
    }
   },
   "source": [
    "Can we skip only the division but not multiplication when `b` is equal to `0`?"
   ]
  },
  {
   "cell_type": "code",
   "execution_count": null,
   "id": "704500cb",
   "metadata": {
    "slideshow": {
     "slide_type": "fragment"
    }
   },
   "outputs": [],
   "source": [
    "def multiply_or_divide(a, b):\n",
    "    q = a / b if b else \"undefined\"\n",
    "    print(\"a:{}, b:{}, a*b:{}, a/b:{}\".format(a, b, a * b, q))\n",
    "\n",
    "\n",
    "multiply_or_divide(1, 2)\n",
    "multiply_or_divide(1, 0)  # multiplication is valid but not shown"
   ]
  },
  {
   "cell_type": "markdown",
   "id": "0f8944a8",
   "metadata": {
    "slideshow": {
     "slide_type": "fragment"
    }
   },
   "source": [
    "The above solution involves a *conditional expression* \n",
    "\n",
    "```python\n",
    "... if ... else ...\n",
    "```\n",
    "\n",
    "that specifies which code block should be executed under what condition."
   ]
  },
  {
   "cell_type": "markdown",
   "id": "db88c18c",
   "metadata": {
    "slideshow": {
     "slide_type": "subslide"
    }
   },
   "source": [
    "## Boolean expressions"
   ]
  },
  {
   "cell_type": "markdown",
   "id": "5bf8bee9",
   "metadata": {},
   "source": [
    "A condition in a Python program is a boolean expression which has a [boolean value](https://en.wikipedia.org/wiki/Boolean_data_type) true or false. The boolean values can also be entered literally as:"
   ]
  },
  {
   "cell_type": "code",
   "execution_count": null,
   "id": "8a6096f5",
   "metadata": {},
   "outputs": [],
   "source": [
    "True, False"
   ]
  },
  {
   "cell_type": "markdown",
   "id": "474ae573",
   "metadata": {},
   "source": [
    "::::{caution}\n",
    "\n",
    "Boolean expressions are named after [George Boole](https://en.wikipedia.org/wiki/George_Boole). In most programming languages, boolean values are typically represented by keywords that begin with a lowercase letter. In Python, boolean values are also keywords but they are capitalized:\n",
    "\n",
    "```python\n",
    "true = False  # invalid in many languages but not Python\n",
    "False = true  # valid in many languages but not Python\n",
    "```\n",
    "\n",
    "Similar to the keyword `None`, the capitalization signifies that the boolean values are constants.\n",
    "\n",
    "::::"
   ]
  },
  {
   "cell_type": "markdown",
   "id": "1d190663",
   "metadata": {
    "slideshow": {
     "slide_type": "subslide"
    }
   },
   "source": [
    "### Comparison Operators"
   ]
  },
  {
   "cell_type": "markdown",
   "id": "7fdb7a62",
   "metadata": {},
   "source": [
    "The comparison operation is a special boolean expression that returns `True` if the operands are equal, and `False` otherwise."
   ]
  },
  {
   "cell_type": "markdown",
   "id": "97452322",
   "metadata": {
    "slideshow": {
     "slide_type": "fragment"
    }
   },
   "source": [
    "**How to compare different values?**"
   ]
  },
  {
   "cell_type": "markdown",
   "id": "21b7f5b9",
   "metadata": {
    "slideshow": {
     "slide_type": "fragment"
    }
   },
   "source": [
    "Like the equality and inequality relationships in mathematics, Python also has binary [*comparison/relational operators*](https://docs.python.org/3/reference/expressions.html#comparisons):"
   ]
  },
  {
   "cell_type": "markdown",
   "id": "d1e735b3",
   "metadata": {
    "slideshow": {
     "slide_type": "-"
    }
   },
   "source": [
    "| Expression |  True iff  |\n",
    "| ---------: | :--------- |\n",
    "|   `x == y` | $x=y$.     |\n",
    "|    `x < y` | $x<y$.     |\n",
    "|   `x <= y` | $x\\leq y$. |\n",
    "|    `x > y` | $x>y$.     |\n",
    "|   `x >= y` | $x\\geq y$. |\n",
    "|   `x != y` | $x\\neq y$. |"
   ]
  },
  {
   "cell_type": "markdown",
   "id": "268139b7",
   "metadata": {
    "slideshow": {
     "slide_type": "fragment"
    }
   },
   "source": [
    "Explore these operators using the widgets below:"
   ]
  },
  {
   "cell_type": "code",
   "execution_count": null,
   "id": "9096c65d",
   "metadata": {
    "code_folding": [
     0
    ],
    "slideshow": {
     "slide_type": "-"
    }
   },
   "outputs": [],
   "source": [
    "comparison_operators = [\"==\", \"<\", \"<=\", \">\", \">=\", \"!=\"]\n",
    "\n",
    "\n",
    "@interact(operand1=\"10\", operator=comparison_operators, operand2=\"3\")\n",
    "def comparison(operand1, operator, operand2):\n",
    "    expression = f\"{operand1} {operator} {operand2}\"\n",
    "    value = eval(expression)\n",
    "    print(\n",
    "        f\"\"\"{'Expression:':>11} {expression}\\n{'Value:':>11} {value}\\n{'Type:':>11} {type(value)}\"\"\"\n",
    "    )"
   ]
  },
  {
   "cell_type": "markdown",
   "id": "0dbedac6",
   "metadata": {
    "slideshow": {
     "slide_type": "fragment"
    }
   },
   "source": [
    "::::{note}\n",
    "\n",
    "The equality operator `==` consists of *two equal signs*, different from the assignment operator `=`.\n",
    "\n",
    "::::"
   ]
  },
  {
   "cell_type": "markdown",
   "id": "29a7f0ff",
   "metadata": {
    "slideshow": {
     "slide_type": "subslide"
    }
   },
   "source": [
    "**What is the precedence of comparison operators?**"
   ]
  },
  {
   "cell_type": "markdown",
   "id": "a3cba671",
   "metadata": {
    "slideshow": {
     "slide_type": "fragment"
    }
   },
   "source": [
    "::::{important}\n",
    "\n",
    "All the comparison operators have the [same precedence](https://docs.python.org/3/reference/expressions.html?highlight=precedence#operator-precedence) lower than that of `+` and `-`.\n",
    "::::"
   ]
  },
  {
   "cell_type": "code",
   "execution_count": null,
   "id": "d5c75255",
   "metadata": {
    "slideshow": {
     "slide_type": "fragment"
    }
   },
   "outputs": [],
   "source": [
    "1 + 2 >= 3  # (1 + 2) >= 3"
   ]
  },
  {
   "cell_type": "markdown",
   "id": "1f8b9162",
   "metadata": {
    "slideshow": {
     "slide_type": "fragment"
    }
   },
   "source": [
    "Similar to the assignment operations, Python allows multiple comparison operations to be chained together:"
   ]
  },
  {
   "cell_type": "code",
   "execution_count": null,
   "id": "8630ccb4",
   "metadata": {
    "slideshow": {
     "slide_type": "-"
    }
   },
   "outputs": [],
   "source": [
    "2.0 == 2 > 1  # equivalent to (2.0 == 2) and (2 > 1)"
   ]
  },
  {
   "cell_type": "markdown",
   "id": "1b0adb47",
   "metadata": {
    "slideshow": {
     "slide_type": "subslide"
    }
   },
   "source": [
    "**What is the associativity?**"
   ]
  },
  {
   "cell_type": "markdown",
   "id": "5ddfac49",
   "metadata": {
    "slideshow": {
     "slide_type": "fragment"
    }
   },
   "source": [
    "::::{important}\n",
    "\n",
    "Comparison operations are [*non-associative*](https://en.wikipedia.org/wiki/Operator_associativity#Non-associative_operators).\n",
    "::::"
   ]
  },
  {
   "cell_type": "code",
   "execution_count": null,
   "id": "db5f7060",
   "metadata": {
    "slideshow": {
     "slide_type": "-"
    }
   },
   "outputs": [],
   "source": [
    "(2.0 == 2) > 1, 2.0 == (2 > 1)  # not the same as 2.0 == 2 > 1"
   ]
  },
  {
   "cell_type": "markdown",
   "id": "3ff012e8",
   "metadata": {
    "slideshow": {
     "slide_type": "subslide"
    }
   },
   "source": [
    "::::{exercise} associativity\n",
    ":label: ex:associativity\n",
    "\n",
    "Explain why the following boolean expressions have different values.\n",
    "\n",
    "::::"
   ]
  },
  {
   "cell_type": "code",
   "execution_count": null,
   "id": "1ecabe3e",
   "metadata": {
    "slideshow": {
     "slide_type": "-"
    }
   },
   "outputs": [],
   "source": [
    "1 <= 2 < 3 != 4, (1 <= 2) < (3 != 4)"
   ]
  },
  {
   "cell_type": "markdown",
   "id": "f9677095",
   "metadata": {
    "deletable": false,
    "nbgrader": {
     "cell_type": "markdown",
     "checksum": "4a4992e3ff7d2b69137b4244b922db4a",
     "grade": true,
     "grade_id": "chained_relational_operator",
     "locked": false,
     "points": 0,
     "schema_version": 3,
     "solution": true,
     "task": false
    },
    "slideshow": {
     "slide_type": "-"
    }
   },
   "source": [
    "YOUR ANSWER HERE"
   ]
  },
  {
   "cell_type": "markdown",
   "id": "fec2370d",
   "metadata": {
    "slideshow": {
     "slide_type": "subslide"
    }
   },
   "source": [
    "::::{exercise} comparison operators\n",
    ":label: ex:comparison\n",
    "\n",
    "The comparison operators can be applied to different data types, as illustrated below.  \n",
    "Explain the meaning of the operators in each of the following expressions.\n",
    "\n",
    "::::"
   ]
  },
  {
   "cell_type": "code",
   "execution_count": null,
   "id": "4b425042",
   "metadata": {
    "code_folding": [
     0
    ],
    "slideshow": {
     "slide_type": "-"
    }
   },
   "outputs": [],
   "source": [
    "# Comparisons beyond numbers\n",
    "@interact(\n",
    "    expression=[\n",
    "        \"10 == 10.\",\n",
    "        '\"A\" == \"A\"',\n",
    "        '\"A\" == \"A \"',\n",
    "        '\"A\" != \"a\"',\n",
    "        '\"A\" > \"a\"',\n",
    "        '\"aBcd\" < \"abd\"',\n",
    "        '\"A\" != 64',\n",
    "        '\"A\" < 64',\n",
    "    ]\n",
    ")\n",
    "def relational_expression(expression):\n",
    "    print(eval(expression))"
   ]
  },
  {
   "cell_type": "markdown",
   "id": "7dd1d7f3",
   "metadata": {
    "deletable": false,
    "nbgrader": {
     "cell_type": "markdown",
     "checksum": "88dd5fd1da72d43cdf23d2cf6db07c8d",
     "grade": true,
     "grade_id": "relational_expression",
     "locked": false,
     "points": 0,
     "schema_version": 3,
     "solution": true,
     "task": false
    },
    "slideshow": {
     "slide_type": "-"
    }
   },
   "source": [
    "YOUR ANSWER HERE"
   ]
  },
  {
   "cell_type": "markdown",
   "id": "2b7b5de2",
   "metadata": {
    "slideshow": {
     "slide_type": "subslide"
    }
   },
   "source": [
    "**Is `!` the same as the `not` operator?**"
   ]
  },
  {
   "cell_type": "markdown",
   "id": "d3099562",
   "metadata": {
    "slideshow": {
     "slide_type": "fragment"
    }
   },
   "source": [
    "Different from C or javascript:  \n",
    "\n",
    "- We can write `1 != 2` as `not 1 == 2` but not `!(1 == 2)` because\n",
    "- `!` is not a logical operator. It is used to call a [system shell command](https://ipython.readthedocs.io/en/stable/interactive/tutorial.html?highlight=system%20call#system-shell-commands) in IPython."
   ]
  },
  {
   "cell_type": "code",
   "execution_count": null,
   "id": "8e7a8a88",
   "metadata": {},
   "outputs": [],
   "source": [
    "%%javascript\n",
    "element.append(1 != 2,', ', !(1 == 2))"
   ]
  },
  {
   "cell_type": "code",
   "execution_count": null,
   "id": "a5853c8d",
   "metadata": {
    "slideshow": {
     "slide_type": "fragment"
    }
   },
   "outputs": [],
   "source": [
    "!(1 == 2)"
   ]
  },
  {
   "cell_type": "code",
   "execution_count": null,
   "id": "9c679e39",
   "metadata": {
    "slideshow": {
     "slide_type": "-"
    }
   },
   "outputs": [],
   "source": [
    "!ls  # a bash command that lists files in the current directory"
   ]
  },
  {
   "cell_type": "markdown",
   "id": "662e190f",
   "metadata": {
    "slideshow": {
     "slide_type": "subslide"
    }
   },
   "source": [
    "**How to compare floating point numbers?**"
   ]
  },
  {
   "cell_type": "code",
   "execution_count": null,
   "id": "caf275f5",
   "metadata": {
    "slideshow": {
     "slide_type": "fragment"
    }
   },
   "outputs": [],
   "source": [
    "x = 10\n",
    "y = (x ** (1 / 3)) ** 3\n",
    "x == y"
   ]
  },
  {
   "cell_type": "markdown",
   "id": "8841e938",
   "metadata": {
    "slideshow": {
     "slide_type": "fragment"
    }
   },
   "source": [
    "Why False? Shouldn't $(x^{\\frac13})^3=x$?"
   ]
  },
  {
   "cell_type": "markdown",
   "id": "39ff9dc9",
   "metadata": {
    "slideshow": {
     "slide_type": "fragment"
    }
   },
   "source": [
    "::::{caution}\n",
    "\n",
    "- Floating point numbers have finite precisions and so  \n",
    "- we should instead check whether the numbers are close enough.\n",
    "\n",
    "::::"
   ]
  },
  {
   "cell_type": "markdown",
   "id": "bebf29d1",
   "metadata": {
    "slideshow": {
     "slide_type": "subslide"
    }
   },
   "source": [
    "One method of comparing floating point numbers is:"
   ]
  },
  {
   "cell_type": "code",
   "execution_count": null,
   "id": "8e0c3d36",
   "metadata": {},
   "outputs": [],
   "source": [
    "abs_tol = 1e-9\n",
    "y - abs_tol <= x <= y + abs_tol"
   ]
  },
  {
   "cell_type": "markdown",
   "id": "beac50d8",
   "metadata": {},
   "source": [
    "where `abs_tol`, often denoted as $\\delta_{\\text{abs}}$, is a positive number called the *absolute tolerance*."
   ]
  },
  {
   "cell_type": "markdown",
   "id": "9edb6bf4",
   "metadata": {},
   "source": [
    "**Why call it absolute tolerance?**"
   ]
  },
  {
   "cell_type": "markdown",
   "id": "69698234",
   "metadata": {},
   "source": [
    "Note that the test remains unchanged if we swap `x` and `y`:"
   ]
  },
  {
   "cell_type": "code",
   "execution_count": null,
   "id": "32c01863",
   "metadata": {},
   "outputs": [],
   "source": [
    "abs_tol = 1e-9\n",
    "x - abs_tol <= y <= x + abs_tol"
   ]
  },
  {
   "cell_type": "markdown",
   "id": "0a3354b8",
   "metadata": {},
   "source": [
    "Using the absolute function `abs`, we can also rewrite the comparison as follows:"
   ]
  },
  {
   "cell_type": "code",
   "execution_count": null,
   "id": "3de6d80c",
   "metadata": {
    "slideshow": {
     "slide_type": "fragment"
    }
   },
   "outputs": [],
   "source": [
    "abs_tol = 1e-9\n",
    "abs(x - y) <= abs_tol"
   ]
  },
  {
   "cell_type": "markdown",
   "id": "70265676",
   "metadata": {},
   "source": [
    "::::{note}\n",
    "\n",
    "The comparison can be concisely written as\n",
    "\n",
    "$$x=y\\pm \\delta_{\\text{abs}},$$\n",
    "\n",
    "or more explicitly,\n",
    "\n",
    "$$\\lvert x-y\\rvert \\leq \\delta_{\\text{abs}}.$$\n",
    "\n",
    "In words, the comparison does not tolerate an absolute difference between $x$ and $y$ larger than $\\delta_{\\text{abs}}$.\n",
    "\n",
    "::::"
   ]
  },
  {
   "cell_type": "markdown",
   "id": "c48ccc42",
   "metadata": {
    "slideshow": {
     "slide_type": "subslide"
    }
   },
   "source": [
    "**Is an absolute tolerance of `1e-9` good enough?**"
   ]
  },
  {
   "cell_type": "markdown",
   "id": "4a4ba9a8",
   "metadata": {
    "slideshow": {
     "slide_type": "fragment"
    }
   },
   "source": [
    "What if we set `x = 1e10` instead of `10`?"
   ]
  },
  {
   "cell_type": "code",
   "execution_count": null,
   "id": "8f440a88",
   "metadata": {
    "slideshow": {
     "slide_type": "fragment"
    }
   },
   "outputs": [],
   "source": [
    "x = 1e10\n",
    "y = (x ** (1 / 3)) ** 3\n",
    "\n",
    "abs_tol = 1e-9\n",
    "abs(x - y) <= abs_tol"
   ]
  },
  {
   "cell_type": "markdown",
   "id": "45e24460",
   "metadata": {},
   "source": [
    "Why does the same absolute tolerance fails to tolerate the different between `x` and `y`?"
   ]
  },
  {
   "cell_type": "markdown",
   "id": "9b2196e1",
   "metadata": {
    "slideshow": {
     "slide_type": "fragment"
    }
   },
   "source": [
    "Floating point numbers \"float\" at different scales."
   ]
  },
  {
   "cell_type": "markdown",
   "id": "19c0d5c5",
   "metadata": {},
   "source": [
    "A better way is to use the [`isclose`](https://docs.python.org/3/library/math.html#math.isclose) function from `math` module."
   ]
  },
  {
   "cell_type": "code",
   "execution_count": null,
   "id": "03a6360a",
   "metadata": {
    "slideshow": {
     "slide_type": "fragment"
    }
   },
   "outputs": [],
   "source": [
    "math.isclose(x, y)"
   ]
  },
  {
   "cell_type": "markdown",
   "id": "34eb3cb6",
   "metadata": {
    "slideshow": {
     "slide_type": "subslide"
    }
   },
   "source": [
    "**How does `isclose` work?**"
   ]
  },
  {
   "cell_type": "markdown",
   "id": "64b31bd0",
   "metadata": {},
   "source": [
    "For example, we can check whether $x$ is within a certain percentage of $y$:"
   ]
  },
  {
   "cell_type": "code",
   "execution_count": null,
   "id": "a0eb8efe",
   "metadata": {},
   "outputs": [],
   "source": [
    "rel_tol = 1e-9\n",
    "y * (1 - rel_tol) <= x <= y * (1 + rel_tol)"
   ]
  },
  {
   "cell_type": "markdown",
   "id": "38356603",
   "metadata": {},
   "source": [
    "i.e., for some positive number $\\delta_{\\text{rel}}$ called the *relative tolerance*,\n",
    "\n",
    "$$x=y \\pm \\delta_{\\text{rel}} \\lvert y\\rvert,$$\n",
    "\n",
    "or equivalently,\n",
    "\n",
    "$$\\frac{\\lvert x-y\\rvert}{\\lvert y\\rvert} \\leq \\delta_{\\text{rel}}.$$"
   ]
  },
  {
   "cell_type": "markdown",
   "id": "4213e71c",
   "metadata": {},
   "source": [
    "To make the test symmetric between `x` and `y`, the relative tolerance is applied as follows\n",
    "\n",
    "$$\\frac{\\lvert x-y\\rvert}{\\max\\Set{\\lvert x\\rvert,\\lvert y\\rvert}} \\leq  \\delta_{\\text{rel}}.$$"
   ]
  },
  {
   "cell_type": "markdown",
   "id": "7da32b2b",
   "metadata": {
    "slideshow": {
     "slide_type": "fragment"
    }
   },
   "source": [
    "::::{exercise} relative tolerance\n",
    "\n",
    "Write the boolean expression that implements the above inequality. You can use the function `max(a, b)` to find the maximum of `a` and `b`.\n",
    "\n",
    "::::"
   ]
  },
  {
   "cell_type": "code",
   "execution_count": null,
   "id": "647094bd",
   "metadata": {
    "deletable": false,
    "nbgrader": {
     "cell_type": "code",
     "checksum": "2877d77baa3be313c5074e3ceb77fbb6",
     "grade": false,
     "grade_id": "rel_tol",
     "locked": false,
     "schema_version": 3,
     "solution": true,
     "task": false
    },
    "slideshow": {
     "slide_type": "-"
    }
   },
   "outputs": [],
   "source": [
    "rel_tol = 1e-9\n",
    "x = 1e10\n",
    "y = (x ** (1 / 3)) ** 3\n",
    "# YOUR CODE HERE\n",
    "raise NotImplementedError()"
   ]
  },
  {
   "cell_type": "markdown",
   "id": "34ae1e41",
   "metadata": {},
   "source": [
    "**What if $x$ and $y$ are both very close to 0?**"
   ]
  },
  {
   "cell_type": "code",
   "execution_count": null,
   "id": "3a933c1c",
   "metadata": {},
   "outputs": [],
   "source": [
    "x = 1e-15\n",
    "y = 0\n",
    "\n",
    "rel_tol = 1e-9\n",
    "y * (1 - rel_tol) <= x <= y * (1 + rel_tol)"
   ]
  },
  {
   "cell_type": "markdown",
   "id": "2096e160",
   "metadata": {},
   "source": [
    "If we want to tolerate such difference, we need to resort to the absolute tolerance. **Why?**"
   ]
  },
  {
   "cell_type": "code",
   "execution_count": null,
   "id": "aec60ebd",
   "metadata": {},
   "outputs": [],
   "source": [
    "abs_tol = 1e-9\n",
    "abs(x - y) <= abs_tol"
   ]
  },
  {
   "cell_type": "markdown",
   "id": "20e53d71",
   "metadata": {
    "slideshow": {
     "slide_type": "fragment"
    }
   },
   "source": [
    "::::{note}\n",
    "\n",
    "To combine both tolerances in one test, `math.isclose(x,y)` implements\n",
    "\n",
    "$$ \\lvert x - y\\rvert \\leq \\max\\{\\delta_{\\text{rel}} \\max\\{\\lvert x\\rvert, \\lvert y\\rvert\\},\\delta_{\\text{abs}}\\}$$\n",
    "with the default\n",
    "- *relative tolerance* $\\delta_{\\text{rel}}$ equal to `1e-9`, and\n",
    "- absolute tolerance $\\delta_{\\text{abs}}$ equal to `0.0`.\n",
    "::::"
   ]
  },
  {
   "cell_type": "code",
   "execution_count": null,
   "id": "1de7488c",
   "metadata": {},
   "outputs": [],
   "source": [
    "math.isclose(x, y), math.isclose(x, y, abs_tol=1e-9)"
   ]
  },
  {
   "cell_type": "markdown",
   "id": "9a9f6db8",
   "metadata": {
    "slideshow": {
     "slide_type": "fragment"
    }
   },
   "source": [
    "::::{exercise} `isclose` implementation\n",
    ":label: ex:isclose\n",
    "\n",
    "Write your own boolean expression that implements `isclose`. You can use the function `max(a, b)` to find the maximum of `a` and `b`.\n",
    "\n",
    "::::"
   ]
  },
  {
   "cell_type": "code",
   "execution_count": null,
   "id": "80d019f2",
   "metadata": {
    "deletable": false,
    "nbgrader": {
     "cell_type": "code",
     "checksum": "26fb75fdc22c760359fd66b8688d80cc",
     "grade": false,
     "grade_id": "isclose",
     "locked": false,
     "schema_version": 3,
     "solution": true,
     "task": false
    },
    "slideshow": {
     "slide_type": "-"
    }
   },
   "outputs": [],
   "source": [
    "rel_tol, abs_tol = 1e-9, 0.0\n",
    "x = 1e-15\n",
    "y = 0\n",
    "# YOUR CODE HERE\n",
    "raise NotImplementedError()"
   ]
  },
  {
   "cell_type": "markdown",
   "id": "74fbca89",
   "metadata": {
    "slideshow": {
     "slide_type": "slide"
    }
   },
   "source": [
    "### Boolean Operations"
   ]
  },
  {
   "cell_type": "markdown",
   "id": "11b70ef0",
   "metadata": {
    "slideshow": {
     "slide_type": "fragment"
    }
   },
   "source": [
    "Since chained comparisons are non-associative, it follows a different evaluation rule than arithmetical operators."
   ]
  },
  {
   "cell_type": "markdown",
   "id": "5a992c71",
   "metadata": {
    "slideshow": {
     "slide_type": "fragment"
    }
   },
   "source": [
    "E.g., `1 <= 2 < 3 != 4` is evaluated as follows:"
   ]
  },
  {
   "cell_type": "code",
   "execution_count": null,
   "id": "6828269c",
   "metadata": {
    "slideshow": {
     "slide_type": "-"
    }
   },
   "outputs": [],
   "source": [
    "1 <= 2 and 2 < 3 and 3 != 4"
   ]
  },
  {
   "cell_type": "markdown",
   "id": "200b700c",
   "metadata": {
    "slideshow": {
     "slide_type": "fragment"
    }
   },
   "source": [
    "The above is called a *compound boolean expression*, which is formed using the *boolean/logical operator* `and`."
   ]
  },
  {
   "cell_type": "markdown",
   "id": "668e1d7d",
   "metadata": {
    "slideshow": {
     "slide_type": "subslide"
    }
   },
   "source": [
    "**Why use boolean operators?**"
   ]
  },
  {
   "cell_type": "markdown",
   "id": "5a642e22",
   "metadata": {
    "slideshow": {
     "slide_type": "fragment"
    }
   },
   "source": [
    "What if we want to check whether a number is either $< 0$ or $\\geq 100$?  \n",
    "Can we achieve this only by chaining the comparison operators or applying the logical `and`?"
   ]
  },
  {
   "cell_type": "code",
   "execution_count": null,
   "id": "3ebe5e39",
   "metadata": {
    "code_folding": [],
    "slideshow": {
     "slide_type": "-"
    }
   },
   "outputs": [],
   "source": [
    "# Check if a number is outside a range.\n",
    "@interact(x=\"15\")\n",
    "def check_out_of_range(x):\n",
    "    x_ = float(x)\n",
    "    is_out_of_range = x_ < 0 or x_ >= 100\n",
    "    print(\"Out of range [0,100):\", is_out_of_range)"
   ]
  },
  {
   "cell_type": "markdown",
   "id": "f5bc2edb",
   "metadata": {
    "slideshow": {
     "slide_type": "fragment"
    }
   },
   "source": [
    "- `and` alone is not [functionally complete](https://en.wikipedia.org/wiki/Functional_completeness),  i.e., not enough to give all possible boolean functions. \n",
    "- In addition to `and`, we can also use `or` and `not`."
   ]
  },
  {
   "cell_type": "markdown",
   "id": "4422a0f5",
   "metadata": {
    "slideshow": {
     "slide_type": "fragment"
    }
   },
   "source": [
    "|   `x`   |   `y`   | `x and y` | `x or y` | `not x` |\n",
    "| :-----: | :-----: | :-------: | :------: | :-----: |\n",
    "| `True`  | `True`  |  `True`   |  `True`  | `False` |\n",
    "| `True`  | `False` |  `False`  |  `True`  | `False` |\n",
    "| `False` | `True`  |  `False`  |  `True`  | `True`  |\n",
    "| `False` | `False` |  `False`  | `False`  | `True`  |"
   ]
  },
  {
   "cell_type": "markdown",
   "id": "f39713ea",
   "metadata": {
    "slideshow": {
     "slide_type": "fragment"
    }
   },
   "source": [
    "The above table is called a *truth table*. It enumerates all possible input and output combinations for each boolean operator."
   ]
  },
  {
   "cell_type": "markdown",
   "id": "551eaa24",
   "metadata": {
    "slideshow": {
     "slide_type": "subslide"
    }
   },
   "source": [
    "::::{card}\n",
    ":header: How are chained logical operators evaluated?<br>What are the precedence and associativity for the logical operators?**\n",
    "\n",
    "- All binary boolean operators are left associative.  \n",
    "- [Precedence](https://docs.python.org/3/reference/expressions.html?highlight=precedence#operator-precedence): `comparison operators` > `not` > `and` > `or`\n",
    "\n",
    "::::"
   ]
  },
  {
   "cell_type": "markdown",
   "id": "6a447640",
   "metadata": {
    "slideshow": {
     "slide_type": "subslide"
    }
   },
   "source": [
    "::::{exercise} compound boolean expressions\n",
    ":label: ex:compound\n",
    "\n",
    "Explain what the values of the following two compound boolean expressions are:\n",
    "- Expression A: `True or False and True`\n",
    "- Expression B: `True and False and True`\n",
    "- Expression C: `True or True and False`\n",
    "::::"
   ]
  },
  {
   "cell_type": "markdown",
   "id": "f486a311",
   "metadata": {
    "deletable": false,
    "nbgrader": {
     "cell_type": "markdown",
     "checksum": "42450998afd0f94e7b203857d0335ed1",
     "grade": true,
     "grade_id": "compound-boolean",
     "locked": false,
     "points": 0,
     "schema_version": 3,
     "solution": true,
     "task": false
    },
    "slideshow": {
     "slide_type": "-"
    }
   },
   "source": [
    "YOUR ANSWER HERE"
   ]
  },
  {
   "cell_type": "markdown",
   "id": "f920d20e",
   "metadata": {
    "slideshow": {
     "slide_type": "subslide"
    }
   },
   "source": [
    "Instead of following the precedence and associativity, however, a compound boolean expression uses a [short-circuit evaluation](https://docs.python.org/3/reference/expressions.html?highlight=precedence#boolean-operations)."
   ]
  },
  {
   "cell_type": "markdown",
   "id": "7f24566d",
   "metadata": {
    "slideshow": {
     "slide_type": "fragment"
    }
   },
   "source": [
    "To understand this, we will use the following function to evaluate a boolean expression verbosely.  \n",
    "(You may also use [Thonny](https://thonny.org/) for a step-by-step evaluations of the following examples.)"
   ]
  },
  {
   "cell_type": "code",
   "execution_count": null,
   "id": "0923a285",
   "metadata": {
    "slideshow": {
     "slide_type": "-"
    }
   },
   "outputs": [],
   "source": [
    "def verbose(id, boolean):\n",
    "    \"\"\"Identify evaluated boolean expressions.\"\"\"\n",
    "    print(id, \"evaluated:\", boolean)\n",
    "    return boolean"
   ]
  },
  {
   "cell_type": "code",
   "execution_count": null,
   "id": "c5ab2668",
   "metadata": {
    "slideshow": {
     "slide_type": "-"
    }
   },
   "outputs": [],
   "source": [
    "verbose(\n",
    "    \"A\", verbose(1, True) or verbose(2, False) and verbose(3, True)\n",
    ")  # True or (False and True)"
   ]
  },
  {
   "cell_type": "markdown",
   "id": "43ac3dd0",
   "metadata": {
    "slideshow": {
     "slide_type": "subslide"
    }
   },
   "source": [
    "**Why expression 2 and 3 are not evaluated?**"
   ]
  },
  {
   "cell_type": "markdown",
   "id": "15f3b0ee",
   "metadata": {
    "slideshow": {
     "slide_type": "fragment"
    }
   },
   "source": [
    "Because True or ... must be True (why?) so Python does not look further. From the [documentation](https://docs.python.org/3/reference/expressions.html?highlight=precedence#boolean-operations):"
   ]
  },
  {
   "cell_type": "markdown",
   "id": "ce2dda15",
   "metadata": {
    "slideshow": {
     "slide_type": "fragment"
    }
   },
   "source": [
    "::::{card}\n",
    ":header: Short-circuit evaluation of `or`\n",
    "\n",
    "The expression `x or y` first evaluates `x`;  \n",
    "if `x` is true, its value is returned;  \n",
    "otherwise, `y` is evaluated and the resulting value is returned.\n",
    "::::"
   ]
  },
  {
   "cell_type": "markdown",
   "id": "09232216",
   "metadata": {
    "slideshow": {
     "slide_type": "fragment"
    }
   },
   "source": [
    "::::{note}\n",
    "\n",
    "When evaluating `True or False and True`,\n",
    "\n",
    "- even though `or` has lower precedence than `and`, the short-circuit evaluation for `or` is performed first.\n",
    "- The `and` operation is skipped entirely.\n",
    "\n",
    "::::"
   ]
  },
  {
   "cell_type": "code",
   "execution_count": null,
   "id": "a39489d5",
   "metadata": {
    "slideshow": {
     "slide_type": "subslide"
    }
   },
   "outputs": [],
   "source": [
    "verbose(\n",
    "    \"B\", verbose(4, True) and verbose(5, False) and verbose(6, True)\n",
    ")  # (True and False) and True"
   ]
  },
  {
   "cell_type": "markdown",
   "id": "412c006c",
   "metadata": {
    "slideshow": {
     "slide_type": "subslide"
    }
   },
   "source": [
    "**Why expression 6 is not evaluated?**"
   ]
  },
  {
   "cell_type": "markdown",
   "id": "3ac5ef66",
   "metadata": {
    "slideshow": {
     "slide_type": "fragment"
    }
   },
   "source": [
    "`True and False and ...` must be `False` so Python does not look further."
   ]
  },
  {
   "cell_type": "markdown",
   "id": "9310924d",
   "metadata": {
    "slideshow": {
     "slide_type": "fragment"
    }
   },
   "source": [
    "::::{card}\n",
    ":header: Short-circuit evaluation of `and`\n",
    "\n",
    "The expression `x and y` first evaluates `x`;  \n",
    "if `x` is false, its value is returned;  \n",
    "otherwise, `y` is evaluated and the resulting value is returned.\n",
    "::::"
   ]
  },
  {
   "cell_type": "markdown",
   "id": "8ee35489",
   "metadata": {
    "slideshow": {
     "slide_type": "subslide"
    }
   },
   "source": [
    "Interesting, Python allows logical operators to be applied to non-boolean operands. From the [documentation](https://docs.python.org/3/reference/expressions.html?highlight=precedence#boolean-operations):"
   ]
  },
  {
   "cell_type": "markdown",
   "id": "68dac0a0",
   "metadata": {
    "slideshow": {
     "slide_type": "fragment"
    }
   },
   "source": [
    "::::{card}\n",
    ":header: All expressions can be boolean\n",
    "\n",
    "In the context of Boolean operations, and also when expressions are used by control flow statements, the following values are interpreted as false:  \n",
    "- `False`\n",
    "- `None`\n",
    "- Numeric zero of all types\n",
    "- Empty strings and containers (including strings, tuples, lists, dictionaries, sets and frozensets)\n",
    "\n",
    "All other values are interpreted as true.\n",
    "\n",
    "::::"
   ]
  },
  {
   "cell_type": "markdown",
   "id": "9293b3df",
   "metadata": {
    "slideshow": {
     "slide_type": "subslide"
    }
   },
   "source": [
    "::::{exercise} short-circuit evaluation\n",
    ":label: ex:short-circuit\n",
    "\n",
    "How does the following code work?\n",
    "\n",
    "::::"
   ]
  },
  {
   "cell_type": "code",
   "execution_count": null,
   "id": "ec310612",
   "metadata": {},
   "outputs": [],
   "source": [
    "print(\"You have entered\", input() or \"nothing\")"
   ]
  },
  {
   "cell_type": "markdown",
   "id": "cb76350e",
   "metadata": {
    "deletable": false,
    "nbgrader": {
     "cell_type": "markdown",
     "checksum": "c17fc86ed2bc2b546ee55df234859d0b",
     "grade": true,
     "grade_id": "or",
     "locked": false,
     "points": 0,
     "schema_version": 3,
     "solution": true,
     "task": false
    },
    "slideshow": {
     "slide_type": "-"
    }
   },
   "source": [
    "YOUR ANSWER HERE"
   ]
  },
  {
   "cell_type": "markdown",
   "id": "565c3eaa",
   "metadata": {
    "slideshow": {
     "slide_type": "subslide"
    }
   },
   "source": [
    "::::{exercise} chain\n",
    ":label: ex:chain\n",
    "\n",
    "Let's play a game to test your understanding of boolean expressions. Run the following program and choose your input so that 1, 2, 3 are each printed in a separate line as follows:\n",
    "```bash\n",
    "1\n",
    "2\n",
    "3\n",
    "```\n",
    "\n",
    "::::"
   ]
  },
  {
   "cell_type": "code",
   "execution_count": null,
   "id": "78455b75",
   "metadata": {},
   "outputs": [],
   "source": [
    "input(1) or input(2) and input(3)"
   ]
  },
  {
   "cell_type": "markdown",
   "id": "7afe5118",
   "metadata": {
    "deletable": false,
    "nbgrader": {
     "cell_type": "markdown",
     "checksum": "11f679f9c34c55af4d6b737241d3d8e4",
     "grade": true,
     "grade_id": "short_circuit_eval_game",
     "locked": false,
     "points": 0,
     "schema_version": 3,
     "solution": true,
     "task": false
    },
    "slideshow": {
     "slide_type": "-"
    }
   },
   "source": [
    "YOUR ANSWER HERE"
   ]
  },
  {
   "cell_type": "markdown",
   "id": "b60e9f2d",
   "metadata": {
    "slideshow": {
     "slide_type": "fragment"
    }
   },
   "source": [
    "::::{caution}\n",
    "\n",
    "Is an empty string `\"\"` equal to `False`? \n",
    "\n",
    "Try `\"\" == False`.\n",
    "\n",
    "- An empty string is regarded as false in a boolean operation but\n",
    "- a *comparison operation is not a boolean operation*, even though it forms a boolean expression.\n",
    "\n",
    "Try:\n",
    "\n",
    "```python\n",
    "0 == False and 1 == True\n",
    "```\n",
    "\n",
    "::::"
   ]
  },
  {
   "cell_type": "markdown",
   "id": "fe7ed63b",
   "metadata": {
    "slideshow": {
     "slide_type": "slide"
    }
   },
   "source": [
    "## Conditional Constructs"
   ]
  },
  {
   "cell_type": "markdown",
   "id": "cade7d7e",
   "metadata": {
    "slideshow": {
     "slide_type": "fragment"
    }
   },
   "source": [
    "Consider writing a program that sorts values in *ascending* order.  \n",
    "A *sorting algorithm* refers to the procedure of sorting values in order."
   ]
  },
  {
   "cell_type": "markdown",
   "id": "6cc747da",
   "metadata": {
    "slideshow": {
     "slide_type": "subslide"
    }
   },
   "source": [
    "### If-Then Construct"
   ]
  },
  {
   "cell_type": "markdown",
   "id": "2cf35556",
   "metadata": {
    "slideshow": {
     "slide_type": "subslide"
    }
   },
   "source": [
    "**How to sort two values?**"
   ]
  },
  {
   "cell_type": "markdown",
   "id": "4eb26b14",
   "metadata": {
    "slideshow": {
     "slide_type": "fragment"
    }
   },
   "source": [
    "Given two values are stored as `x` and `y`, we want to \n",
    "- `print(x,y)` if `x <= y`, and\n",
    "- `print(y,x)` if `y < x`."
   ]
  },
  {
   "cell_type": "markdown",
   "id": "7066d2fc",
   "metadata": {
    "slideshow": {
     "slide_type": "subslide"
    }
   },
   "source": [
    "Such a program flow is often represented by a flowchart like the following:"
   ]
  },
  {
   "cell_type": "code",
   "execution_count": null,
   "id": "8a511a17",
   "metadata": {},
   "outputs": [],
   "source": [
    "sort_two_values_fc1"
   ]
  },
  {
   "cell_type": "markdown",
   "id": "82b70e13",
   "metadata": {},
   "source": [
    "**How to read the flowchart?**"
   ]
  },
  {
   "cell_type": "markdown",
   "id": "60ec317a",
   "metadata": {},
   "source": [
    "A flowchart uses arrows to connects a set of [annotated blocks][bb]. The rules were first specified by ANSI and later adopted in [ISO 5807][iso].\n",
    "\n",
    "[bb]: https://en.wikipedia.org/wiki/Flowchart#Building_blocks\n",
    "[iso]: https://webstore.ansi.org/Standards/ISO/ISO58071985"
   ]
  },
  {
   "cell_type": "markdown",
   "id": "f6c43edb",
   "metadata": {},
   "source": [
    "**Why use a program flowchart?**"
   ]
  },
  {
   "cell_type": "markdown",
   "id": "4e7a7ee0",
   "metadata": {},
   "source": [
    "A program flowchart is a powerful way of describing an algorithm quickly. Unlike a text-based programming language:\n",
    "- The rules governing the program flow can be shown explicitly by arrows.\n",
    "- The annotated graphical blocks can convey the meaning faster using visual clues."
   ]
  },
  {
   "cell_type": "markdown",
   "id": "e2fd5979",
   "metadata": {},
   "source": [
    "**How to implements the flowchart in python?**"
   ]
  },
  {
   "cell_type": "markdown",
   "id": "ef8d2492",
   "metadata": {
    "slideshow": {
     "slide_type": "fragment"
    }
   },
   "source": [
    "Python provides the [`if` statement](https://docs.python.org/3/reference/compound_stmts.html#the-if-statement) to implement the [*control flow*](https://en.wikipedia.org/wiki/Control_flow) specified by the diamonds."
   ]
  },
  {
   "cell_type": "code",
   "execution_count": null,
   "id": "a8189ba8",
   "metadata": {
    "code_folding": [
     8
    ],
    "slideshow": {
     "slide_type": "-"
    }
   },
   "outputs": [],
   "source": [
    "# Sort two values using if statement\n",
    "def sort_two_values(x, y):\n",
    "    if x <= y:\n",
    "        print(x, y)\n",
    "    if y < x:\n",
    "        print(y, x)\n",
    "\n",
    "\n",
    "@interact(x=\"1\", y=\"0\")\n",
    "def sort_two_values_app(x, y):\n",
    "    sort_two_values(eval(x), eval(y))"
   ]
  },
  {
   "cell_type": "markdown",
   "id": "c8a4b8f6",
   "metadata": {
    "slideshow": {
     "slide_type": "subslide"
    }
   },
   "source": [
    "We can visualize the execution as follows:"
   ]
  },
  {
   "cell_type": "code",
   "execution_count": null,
   "id": "c31bad7e",
   "metadata": {
    "slideshow": {
     "slide_type": "-"
    }
   },
   "outputs": [],
   "source": [
    "%%optlite -h 450\n",
    "def sort_two_values(x, y):\n",
    "    if x <= y:\n",
    "        print(x, y)\n",
    "    if y < x:\n",
    "        print(y, x)\n",
    "\n",
    "\n",
    "sort_two_values(1, 0)\n",
    "sort_two_values(1, 2)"
   ]
  },
  {
   "cell_type": "markdown",
   "id": "f4a8f6ba",
   "metadata": {
    "slideshow": {
     "slide_type": "fragment"
    }
   },
   "source": [
    "::::{note}\n",
    "\n",
    "Python uses indentation to indicate code blocks or *suite*: \n",
    "- `print(x, y)` (Line 5) is indented to the right of `if x <= y:` (Line 4) to indicate it is the body of the if statement.\n",
    "- For convenience, `if y < x: print(y, x)` (Line 6) is a one-liner for an `if` statement that only has one line in its block.\n",
    "- Both `if` statements (Line 4-6) are indented to the right of `def sort_two_values(x,y):` (Line 3) to indicate that they are part of the body of the function `sort_two_values`.\n",
    "\n",
    "::::"
   ]
  },
  {
   "cell_type": "markdown",
   "id": "aa93ae39",
   "metadata": {
    "slideshow": {
     "slide_type": "subslide"
    }
   },
   "source": [
    "**How to indent?**"
   ]
  },
  {
   "cell_type": "markdown",
   "id": "d5efdc93",
   "metadata": {
    "slideshow": {
     "slide_type": "fragment"
    }
   },
   "source": [
    "- The [style guide](https://www.python.org/dev/peps/pep-0008/#indentation) recommends using 4 spaces for each indentation.  \n",
    "- In IPython, you can simply type the `tab` key and IPython will likely enter the correct number of spaces for you."
   ]
  },
  {
   "cell_type": "markdown",
   "id": "1ff7f421",
   "metadata": {
    "slideshow": {
     "slide_type": "subslide"
    }
   },
   "source": [
    "**What if you want to leave a block empty?**"
   ]
  },
  {
   "cell_type": "markdown",
   "id": "cef20742",
   "metadata": {
    "slideshow": {
     "slide_type": "fragment"
    }
   },
   "source": [
    "In programming, it is often useful to delay detailed implementations until we have written an overall skeleton.  \n",
    "To leave a block empty, Python uses the keyword [`pass`](https://docs.python.org/3/tutorial/controlflow.html#pass-statements)."
   ]
  },
  {
   "cell_type": "code",
   "execution_count": null,
   "id": "b660e645",
   "metadata": {
    "slideshow": {
     "slide_type": "-"
    }
   },
   "outputs": [],
   "source": [
    "# write a code skeleton\n",
    "def sort_two_values(x, y):\n",
    "    pass\n",
    "    # print the smaller value first followed by the larger one\n",
    "\n",
    "\n",
    "sort_two_values(1, 0)\n",
    "sort_two_values(1, 2)"
   ]
  },
  {
   "cell_type": "markdown",
   "id": "71abbe5a",
   "metadata": {
    "slideshow": {
     "slide_type": "fragment"
    }
   },
   "source": [
    "Without `pass`, the code will fail to run, preventing you from checking other parts of the code."
   ]
  },
  {
   "cell_type": "code",
   "execution_count": null,
   "id": "264639f7",
   "metadata": {
    "code_folding": [],
    "slideshow": {
     "slide_type": "fragment"
    }
   },
   "outputs": [],
   "source": [
    "# You can add more details to the skeleton step-by-step\n",
    "def sort_two_values(x, y):\n",
    "    if x <= y:\n",
    "        pass\n",
    "        # print x before y\n",
    "    if y < x:\n",
    "        pass  # print y before x\n",
    "\n",
    "\n",
    "sort_two_values(1, 0)\n",
    "sort_two_values(1, 2)"
   ]
  },
  {
   "cell_type": "markdown",
   "id": "e0838087",
   "metadata": {},
   "source": [
    "::::{exercise} chain using `if`-statement\n",
    ":label: ex:chain-if\n",
    "\n",
    "Re-implement the following *without any logical operators except `not`*.\n",
    "\n",
    ":::{code-block} python\n",
    ":name: code:chain\n",
    ":caption: Chaining inputs\n",
    "\n",
    "input(1) or input(2) and input(3)\n",
    "\n",
    ":::\n",
    "\n",
    ":::{hint}\n",
    ":class: dropdown\n",
    "\n",
    "Consider the solution template:\n",
    "```python\n",
    "_ = input(1)\n",
    "if ...:\n",
    "    _ = ...\n",
    "    if ...:\n",
    "        _ = ...\n",
    "_\n",
    "```\n",
    ":::\n",
    "\n",
    "::::"
   ]
  },
  {
   "cell_type": "code",
   "execution_count": null,
   "id": "cf5a82fc",
   "metadata": {
    "deletable": false,
    "nbgrader": {
     "cell_type": "code",
     "checksum": "dfd3200868817a278dbcc31b3a629d60",
     "grade": false,
     "grade_id": "short_circuit_eval_to_conditional",
     "locked": false,
     "schema_version": 3,
     "solution": true,
     "task": false
    },
    "slideshow": {
     "slide_type": "fragment"
    },
    "tags": [
     "remove-output"
    ]
   },
   "outputs": [],
   "source": [
    "# YOUR CODE HERE\n",
    "raise NotImplementedError()"
   ]
  },
  {
   "cell_type": "markdown",
   "id": "d6e4992f",
   "metadata": {
    "slideshow": {
     "slide_type": "slide"
    }
   },
   "source": [
    "### If-Then-Else Construct"
   ]
  },
  {
   "cell_type": "markdown",
   "id": "27455421",
   "metadata": {
    "slideshow": {
     "slide_type": "fragment"
    }
   },
   "source": [
    "The sorting algorithm is not efficient enough. Why not?  \n",
    "Hint: `(x <= y) and not (y < x)` is a *tautology*, i.e., always true."
   ]
  },
  {
   "cell_type": "markdown",
   "id": "5f1511e1",
   "metadata": {
    "slideshow": {
     "slide_type": "fragment"
    }
   },
   "source": [
    "To improve the efficient, we should implement the following program flow."
   ]
  },
  {
   "cell_type": "code",
   "execution_count": null,
   "id": "d9c4f085",
   "metadata": {},
   "outputs": [],
   "source": [
    "sort_two_values_fc2"
   ]
  },
  {
   "cell_type": "markdown",
   "id": "17d8ea5a",
   "metadata": {
    "slideshow": {
     "slide_type": "fragment"
    }
   },
   "source": [
    "This can be done by the `else` clause of the [`if` statement](https://docs.python.org/3/tutorial/controlflow.html#if-statements)."
   ]
  },
  {
   "cell_type": "code",
   "execution_count": null,
   "id": "63dce8c7",
   "metadata": {
    "slideshow": {
     "slide_type": "fragment"
    }
   },
   "outputs": [],
   "source": [
    "%%optlite -h 450\n",
    "def sort_two_values(x, y):\n",
    "    if x <= y:\n",
    "        print(x, y)\n",
    "    else:\n",
    "        print(y, x)\n",
    "\n",
    "\n",
    "sort_two_values(1, 0)\n",
    "sort_two_values(1, 2)"
   ]
  },
  {
   "cell_type": "markdown",
   "id": "a91c7262",
   "metadata": {
    "slideshow": {
     "slide_type": "subslide"
    }
   },
   "source": [
    "We can also use a [*conditional expression*](https://docs.python.org/3/reference/expressions.html#conditional-expressions) to shorten the code."
   ]
  },
  {
   "cell_type": "code",
   "execution_count": null,
   "id": "a6d7d8b9",
   "metadata": {
    "code_folding": [
     5
    ],
    "slideshow": {
     "slide_type": "-"
    }
   },
   "outputs": [],
   "source": [
    "def sort_two_values(x, y):\n",
    "    print((\"{0} {1}\" if x <= y else \"{1} {0}\").format(x, y))\n",
    "\n",
    "\n",
    "@interact(x=\"1\", y=\"0\")\n",
    "def sort_two_values_app(x, y):\n",
    "    sort_two_values(eval(x), eval(y))"
   ]
  },
  {
   "cell_type": "markdown",
   "id": "9f83baef",
   "metadata": {
    "slideshow": {
     "slide_type": "subslide"
    }
   },
   "source": [
    "::::{exercise}\n",
    ":label: ex:conditional-expression\n",
    "\n",
    "Explain why the followings have syntax errors.\n",
    "\n",
    "```python\n",
    "1 if True\n",
    "x = 1 if True else x = 0\n",
    "```\n",
    "\n",
    "::::"
   ]
  },
  {
   "cell_type": "markdown",
   "id": "ed6808f5",
   "metadata": {
    "deletable": false,
    "nbgrader": {
     "cell_type": "markdown",
     "checksum": "97d8552bc2253459c70cc948a673e981",
     "grade": true,
     "grade_id": "conditional-expression",
     "locked": false,
     "points": 0,
     "schema_version": 3,
     "solution": true,
     "task": false
    },
    "slideshow": {
     "slide_type": "-"
    }
   },
   "source": [
    "YOUR ANSWER HERE"
   ]
  },
  {
   "cell_type": "markdown",
   "id": "615a441a",
   "metadata": {},
   "source": [
    "::::{exercise} Chain using conditional expressions\n",
    ":label: ex:chain-conditional-expr\n",
    "\n",
    "Re-implement [](#code:chain) without any logical operators.\n",
    "\n",
    "::::"
   ]
  },
  {
   "cell_type": "code",
   "execution_count": null,
   "id": "a2ce6847",
   "metadata": {
    "deletable": false,
    "nbgrader": {
     "cell_type": "code",
     "checksum": "c2ae90fe16e6e4a1f1a03f0aec5f41bc",
     "grade": false,
     "grade_id": "short_circuit_eval_to_conditional_exp",
     "locked": false,
     "schema_version": 3,
     "solution": true,
     "task": false
    },
    "slideshow": {
     "slide_type": "fragment"
    },
    "tags": [
     "remove-output"
    ]
   },
   "outputs": [],
   "source": [
    "# YOUR CODE HERE\n",
    "raise NotImplementedError()"
   ]
  },
  {
   "cell_type": "markdown",
   "id": "90c5483f",
   "metadata": {
    "slideshow": {
     "slide_type": "slide"
    }
   },
   "source": [
    "### Nested Conditionals"
   ]
  },
  {
   "cell_type": "markdown",
   "id": "f5a72920",
   "metadata": {
    "slideshow": {
     "slide_type": "subslide"
    }
   },
   "source": [
    "Consider sorting three values instead of two. A feasible algorithm is as follows:"
   ]
  },
  {
   "cell_type": "code",
   "execution_count": null,
   "id": "bda02e18",
   "metadata": {},
   "outputs": [],
   "source": [
    "sort_three_values_fc"
   ]
  },
  {
   "cell_type": "markdown",
   "id": "127af98e",
   "metadata": {
    "slideshow": {
     "slide_type": "fragment"
    }
   },
   "source": [
    "We can implement the flow using *nested conditional constructs*:"
   ]
  },
  {
   "cell_type": "code",
   "execution_count": null,
   "id": "02870e04",
   "metadata": {
    "code_folding": [],
    "slideshow": {
     "slide_type": "-"
    }
   },
   "outputs": [],
   "source": [
    "def sort_three_values(x, y, z):\n",
    "    if x <= y <= z:\n",
    "        print(x, y, z)\n",
    "    else:\n",
    "        if x <= z <= y:\n",
    "            print(x, z, y)\n",
    "        else:\n",
    "            if y <= x <= z:\n",
    "                print(y, x, z)\n",
    "            else:\n",
    "                if y <= z <= x:\n",
    "                    print(y, z, x)\n",
    "                else:\n",
    "                    if z <= x <= y:\n",
    "                        print(z, x, y)\n",
    "                    else:\n",
    "                        print(z, y, x)\n",
    "\n",
    "\n",
    "def test_sort_three_values():\n",
    "    sort_three_values(0, 1, 2)\n",
    "    sort_three_values(0, 2, 1)\n",
    "    sort_three_values(1, 0, 2)\n",
    "    sort_three_values(1, 2, 0)\n",
    "    sort_three_values(2, 0, 1)\n",
    "    sort_three_values(2, 1, 0)\n",
    "\n",
    "\n",
    "test_sort_three_values()"
   ]
  },
  {
   "cell_type": "markdown",
   "id": "da549c18",
   "metadata": {
    "slideshow": {
     "slide_type": "slide"
    }
   },
   "source": [
    "Imagine what would happen if we have to sort many values.  \n",
    "To avoid an excessively long line due to the indentation, Python provides the `elif` keyword that combines `else` and `if`."
   ]
  },
  {
   "cell_type": "code",
   "execution_count": null,
   "id": "e6af91bd",
   "metadata": {
    "slideshow": {
     "slide_type": "fragment"
    }
   },
   "outputs": [],
   "source": [
    "def sort_three_values(x, y, z):\n",
    "    if x <= y <= z:\n",
    "        print(x, y, z)\n",
    "    elif x <= z <= y:\n",
    "        print(x, z, y)\n",
    "    elif y <= x <= z:\n",
    "        print(y, x, z)\n",
    "    elif y <= z <= x:\n",
    "        print(y, z, x)\n",
    "    elif z <= x <= y:\n",
    "        print(z, x, y)\n",
    "    else:\n",
    "        print(z, y, x)\n",
    "\n",
    "\n",
    "test_sort_three_values()"
   ]
  },
  {
   "cell_type": "markdown",
   "id": "ca7477cb",
   "metadata": {
    "slideshow": {
     "slide_type": "subslide"
    }
   },
   "source": [
    "::::{exercise}\n",
    "\n",
    "The above sorting algorithm is inefficient because some conditions may be checked more than once. Improve the program to eliminate duplicate checks. \n",
    "\n",
    ":::{hint}\n",
    ":class: dropdown\n",
    "Do not use chained comparison operators or compound boolean expressions.\n",
    ":::\n",
    "\n",
    "::::"
   ]
  },
  {
   "cell_type": "code",
   "execution_count": null,
   "id": "009eb6c2",
   "metadata": {
    "deletable": false,
    "nbgrader": {
     "cell_type": "code",
     "checksum": "23707b82ce28a5adb9bdde220156aea2",
     "grade": false,
     "grade_id": "efficient-sort_three_values",
     "locked": false,
     "schema_version": 3,
     "solution": true,
     "task": false
    },
    "slideshow": {
     "slide_type": "-"
    }
   },
   "outputs": [],
   "source": [
    "def sort_three_values(x, y, z):\n",
    "    if x <= y:\n",
    "        if y <= z:\n",
    "            print(x, y, z)\n",
    "        elif x <= z:\n",
    "            print(x, z, y)\n",
    "        else:\n",
    "            print(z, x, y)\n",
    "    # YOUR CODE HERE\n",
    "    raise NotImplementedError()\n",
    "\n",
    "\n",
    "sort_three_values(10, 17, 14)"
   ]
  }
 ],
 "metadata": {
  "kernelspec": {
   "display_name": "Python 3 (ipykernel)",
   "language": "python",
   "name": "python3"
  }
 },
 "nbformat": 4,
 "nbformat_minor": 5
}
